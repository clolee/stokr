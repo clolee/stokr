{
 "cells": [
  {
   "cell_type": "code",
   "execution_count": 1,
   "metadata": {
    "collapsed": false
   },
   "outputs": [
    {
     "name": "stdout",
     "output_type": "stream",
     "text": [
      "[유상증자 관련 공시]\n",
      "공시일시 : 2016-05-10 17:51:00\n",
      "공시내용 : (유가)신성솔라에너지 - 유상증자또는주식관련사채등의청약결과(자율공시)\n",
      "상세링크 : http://dart.fss.or.kr/api/link.jsp?rcpNo=20160510800606\n",
      "[유상증자 관련 공시]\n",
      "공시일시 : 2016-05-10 17:23:00\n",
      "공시내용 : (기타)케이밸리 - 특수관계인의유상증자참여\n",
      "상세링크 : http://dart.fss.or.kr/api/link.jsp?rcpNo=20160510002490\n",
      "[유상증자 관련 공시]\n",
      "공시일시 : 2016-05-10 17:23:00\n",
      "공시내용 : (기타)한강씨엠 - 특수관계인의유상증자참여\n",
      "상세링크 : http://dart.fss.or.kr/api/link.jsp?rcpNo=20160510002482\n",
      "[유상증자 관련 공시]\n",
      "공시일시 : 2016-05-10 17:21:00\n",
      "공시내용 : (기타)케이밸리 - 유상증자결정\n",
      "상세링크 : http://dart.fss.or.kr/api/link.jsp?rcpNo=20160510002463\n"
     ]
    }
   ],
   "source": [
    "import requests\n",
    "import time\n",
    "import bs4 # beautifulsoup\n",
    "# user define package import\n",
    "import sys\n",
    "sys.path.append(\"/home/ubuntu/workspace/favis\")\n",
    "from msgbot.favisbot import favisbot\n",
    "\n",
    "bot = favisbot()\n",
    "\n",
    "'''@param gmtstr'''\n",
    "def gmtstr_to_kststr(gmtstr, gmtstr_format, kststr_format):\n",
    "    # convert kst (gmt + 9 hour)\n",
    "    dt = time.mktime(time.strptime(gmtstr, gmtstr_format)) + (60 * 60 * 9)\n",
    "    return time.strftime(kststr_format,time.localtime(dt))\n",
    "\n",
    "# DART realtime official notice rss feed url\n",
    "url = 'http://dart.fss.or.kr/api/todayRSS.xml'\n",
    "\n",
    "data = requests.get(url)\n",
    "data = bs4.BeautifulSoup(data.text, 'lxml')\n",
    "# extract item list\n",
    "notices = data.findAll(\"item\")\n",
    "\n",
    "for notice in notices:\n",
    "    title = notice.find('title').string\n",
    "    link =  notice.find('guid').string\n",
    "    regdate = gmtstr_to_kststr(notice.find('dc:date').string, '%Y-%m-%dT%H:%M:%SZ', '%Y-%m-%d %H:%M:%S')\n",
    "    \n",
    "    search_keywords = ['증자','유상']\n",
    "    if any(sub in title for sub in search_keywords):\n",
    "        print('[유상증자 관련 공시]'\n",
    "                     +'\\n공시일시 : ' + regdate\n",
    "                     +\"\\n공시내용 : \"+title\n",
    "                     +\"\\n상세링크 : \"+link)\n",
    "        \n",
    "        bot.whisper('plain','[유상증자 관련 공시]'\n",
    "                      +'\\n공시일시 : ' + regdate\n",
    "                      +\"\\n공시내용 : \"+title\n",
    "                      +\"\\n상세링크 : \"+link)"
   ]
  }
 ],
 "metadata": {
  "kernelspec": {
   "display_name": "Python 3",
   "language": "python",
   "name": "python3"
  },
  "language_info": {
   "codemirror_mode": {
    "name": "ipython",
    "version": 3
   },
   "file_extension": ".py",
   "mimetype": "text/x-python",
   "name": "python",
   "nbconvert_exporter": "python",
   "pygments_lexer": "ipython3",
   "version": "3.4.3"
  }
 },
 "nbformat": 4,
 "nbformat_minor": 0
}
