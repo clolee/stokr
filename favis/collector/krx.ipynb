{
 "cells": [
  {
   "cell_type": "code",
   "execution_count": 6,
   "metadata": {
    "collapsed": false
   },
   "outputs": [
    {
     "ename": "PandasError",
     "evalue": "DataFrame constructor not properly called!",
     "output_type": "error",
     "traceback": [
      "\u001b[1;31m---------------------------------------------------------------------------\u001b[0m",
      "\u001b[1;31mPandasError\u001b[0m                               Traceback (most recent call last)",
      "\u001b[1;32m<ipython-input-6-b8fef243e729>\u001b[0m in \u001b[0;36m<module>\u001b[1;34m()\u001b[0m\n\u001b[0;32m     28\u001b[0m \u001b[1;33m\u001b[0m\u001b[0m\n\u001b[0;32m     29\u001b[0m \u001b[0mr\u001b[0m \u001b[1;33m=\u001b[0m \u001b[0mrequests\u001b[0m\u001b[1;33m.\u001b[0m\u001b[0mpost\u001b[0m\u001b[1;33m(\u001b[0m\u001b[0mdown_url\u001b[0m\u001b[1;33m,\u001b[0m \u001b[0mdown_data\u001b[0m\u001b[1;33m)\u001b[0m\u001b[1;33m\u001b[0m\u001b[0m\n\u001b[1;32m---> 30\u001b[1;33m \u001b[0mDataFrame\u001b[0m\u001b[1;33m(\u001b[0m\u001b[0mr\u001b[0m\u001b[1;33m.\u001b[0m\u001b[0mtext\u001b[0m\u001b[1;33m)\u001b[0m\u001b[1;33m\u001b[0m\u001b[0m\n\u001b[0m\u001b[0;32m     31\u001b[0m \u001b[1;31m#with open(\"marcap_data_\" + reqdate +\".csv\", 'wt') as f:\u001b[0m\u001b[1;33m\u001b[0m\u001b[1;33m\u001b[0m\u001b[0m\n\u001b[0;32m     32\u001b[0m \u001b[1;31m#    f.write(r.text)\u001b[0m\u001b[1;33m\u001b[0m\u001b[1;33m\u001b[0m\u001b[0m\n",
      "\u001b[1;32m/usr/local/lib/python3.4/dist-packages/pandas/core/frame.py\u001b[0m in \u001b[0;36m__init__\u001b[1;34m(self, data, index, columns, dtype, copy)\u001b[0m\n\u001b[0;32m    300\u001b[0m                                          copy=False)\n\u001b[0;32m    301\u001b[0m             \u001b[1;32melse\u001b[0m\u001b[1;33m:\u001b[0m\u001b[1;33m\u001b[0m\u001b[0m\n\u001b[1;32m--> 302\u001b[1;33m                 \u001b[1;32mraise\u001b[0m \u001b[0mPandasError\u001b[0m\u001b[1;33m(\u001b[0m\u001b[1;34m'DataFrame constructor not properly called!'\u001b[0m\u001b[1;33m)\u001b[0m\u001b[1;33m\u001b[0m\u001b[0m\n\u001b[0m\u001b[0;32m    303\u001b[0m \u001b[1;33m\u001b[0m\u001b[0m\n\u001b[0;32m    304\u001b[0m         \u001b[0mNDFrame\u001b[0m\u001b[1;33m.\u001b[0m\u001b[0m__init__\u001b[0m\u001b[1;33m(\u001b[0m\u001b[0mself\u001b[0m\u001b[1;33m,\u001b[0m \u001b[0mmgr\u001b[0m\u001b[1;33m,\u001b[0m \u001b[0mfastpath\u001b[0m\u001b[1;33m=\u001b[0m\u001b[1;32mTrue\u001b[0m\u001b[1;33m)\u001b[0m\u001b[1;33m\u001b[0m\u001b[0m\n",
      "\u001b[1;31mPandasError\u001b[0m: DataFrame constructor not properly called!"
     ]
    }
   ],
   "source": [
    "import requests\n",
    "import datetime\n",
    "from pandas import DataFrame\n",
    "\n",
    "reqdate = datetime.datetime(2016, 4, 22)\n",
    "file_prefix = \"marcap_data_\"\n",
    "\n",
    "# STEP 01: Generate OTP\n",
    "gen_otp_url = 'http://marketdata.krx.co.kr/contents/COM/GenerateOTP.jspx'\n",
    "gen_otp_data = {\n",
    "    'name':'fileDown',\n",
    "    'filetype':'csv',\n",
    "    'url':'MKD/04/0404/04040200/mkd04040200_01',\n",
    "    'market_gubun':'ALL', # ''ALL':전체, STK': 코스피\n",
    "    'indx_ind_cd':'',  # '': 전체, ''1001':코스피, 1028' :코스피 200\n",
    "    'sect_tp_cd':'',\n",
    "    'schdate':reqdate,\n",
    "    'pagePath':'/contents/MKD/04/0404/04040200/MKD04040200.jsp',\n",
    "}\n",
    "    \n",
    "r = requests.post(gen_otp_url, gen_otp_data)\n",
    "code = r.content\n",
    "\n",
    "# STEP 02: download\n",
    "down_url = 'http://file.krx.co.kr/download.jspx'\n",
    "down_data = {\n",
    "    'code': code,\n",
    "}\n",
    "\n",
    "r = requests.post(down_url, down_data)\n",
    "r.text\n",
    "#DataFrame(r.text)\n",
    "#with open(\"marcap_data_\" + reqdate +\".csv\", 'wt') as f:\n",
    "#    f.write(r.text)\n",
    "\n",
    "print (\"end...\")"
   ]
  },
  {
   "cell_type": "code",
   "execution_count": 4,
   "metadata": {
    "collapsed": false
   },
   "outputs": [
    {
     "name": "stdout",
     "output_type": "stream",
     "text": [
      "﻿순위,종목코드,종목명,현재가,대비,등락률,거래량,거래대금,시가총액(백만원),시가총액비중(%),상장주식수(천주),외국인 보유주식수,외국인 지분율(%),총카운트\r\n",
      "1,005930,삼성전자,\"1,275,000\",\"9,000\",\"0.7\",\"134,054\",\"170,954\",\"184,963,405\",\"12.59\",\"145,069,337\",,,2165\r\n",
      "2,015760,한국전력,\"59,000\",\"300\",\"0.5\",\"594,755\",\"34,966\",\"37,875,881\",\"2.58\",\"641,964,077\",,,\r\n",
      "3,005380,현대차,\"148,500\",\"2,500\",\"1.7\",\"361,212\",\"53,468\",\"32,711,057\",\"2.23\",\"220,276,479\",,,\r\n",
      "4,028260,삼성물산,\"140,000\",\"2,500\",\"1.8\",\"328,292\",\"45,764\",\"26,556,606\",\"1.81\",\"189,690,043\",,,\r\n",
      "5,090430,아모레퍼시픽,\"399,000\",\"2,000\",\"0.5\",\"64,859\",\"25,826\",\"23,324,938\",\"1.59\",\"58,458,490\",,,\r\n",
      "6,032830,삼성생명,\"115,500\",\"1,500\",\"1.3\",\"202,044\",\"23,133\",\"23,100,000\",\"1.57\",\"200,000,000\",,,\r\n",
      "7,012330,현대모비스,\"236,000\",\"30\",\"0.0\",\"104,788\",\"24,678\",\"22,973,152\",\"1.56\",\"97,343,863\",,,\r\n",
      "8,005935,삼성전자우,\"1,060,000\",\"10,000\",\"1.0\",\"27,526\",\"29,090\",\"22,889,033\",\"1.56\",\"21,593,427\",,,\r\n",
      "9,035420,NAVER,\"670,000\",\"6,000\",\"0.9\",\"55,658\",\"37,139\",\"22,084,995\",\"1.50\",\"32,962,679\",,,\r\n"
     ]
    }
   ],
   "source": [
    "! head marcap_data.csv"
   ]
  },
  {
   "cell_type": "code",
   "execution_count": null,
   "metadata": {
    "collapsed": true
   },
   "outputs": [],
   "source": []
  }
 ],
 "metadata": {
  "kernelspec": {
   "display_name": "Python 3",
   "language": "python",
   "name": "python3"
  },
  "language_info": {
   "codemirror_mode": {
    "name": "ipython",
    "version": 3
   },
   "file_extension": ".py",
   "mimetype": "text/x-python",
   "name": "python",
   "nbconvert_exporter": "python",
   "pygments_lexer": "ipython3",
   "version": "3.4.3"
  }
 },
 "nbformat": 4,
 "nbformat_minor": 0
}
