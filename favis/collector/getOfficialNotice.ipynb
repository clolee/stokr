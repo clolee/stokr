{
 "cells": [
  {
   "cell_type": "code",
   "execution_count": 2,
   "metadata": {
    "collapsed": true
   },
   "outputs": [],
   "source": [
    "import requests\n",
    "import datetime, time\n",
    "import pandas as pd\n",
    "from pandas import DataFrame\n",
    "import sqlite3\n",
    "import bs4 \n",
    "# user define package import\n",
    "import sys\n",
    "sys.path.append(\"/home/ubuntu/workspace/favis\")\n",
    "from msgbot.favisbot import favisbot\n",
    "import util.krx_util as util"
   ]
  },
  {
   "cell_type": "code",
   "execution_count": 15,
   "metadata": {
    "collapsed": false
   },
   "outputs": [
    {
     "name": "stdout",
     "output_type": "stream",
     "text": [
      "http://dart.fss.or.kr/dsac001/mainY.do?selectDate=20160510&page=1\n",
      "101\n",
      "http://dart.fss.or.kr/dsac001/mainY.do?selectDate=20160510&page=2\n",
      "101\n"
     ]
    }
   ],
   "source": [
    "today = datetime.datetime.now().strftime('%Y%m%d')\n",
    "totalpage = 2\n",
    "page = 1\n",
    "\n",
    "for i in range(1, 3):\n",
    "    url = \"http://dart.fss.or.kr/dsac001/mainY.do?selectDate=\" + today + \"&page=\" + str(i)\n",
    "    print(url)\n",
    "    data = requests.get(url)\n",
    "    data = bs4.BeautifulSoup(data.text, \"html5lib\")\n",
    "    #articles = data.findAll(\"table\", attrs={'class':'view'})\n",
    "    notices = data.findAll(\"tr\")\n",
    "    header = notices[0]\n",
    "    print(len(notices))\n",
    "\n",
    "    datalist = []\n",
    "    for i in range(1,len(notices)):\n",
    "        tds = notices[i].findAll(\"td\")\n",
    "        time = tds[0].text.strip()\n",
    "        link = 'http://dart.fss.or.kr' + tds[2].find('a')['href']\n",
    "        title = tds[2].find('a').text.strip()\n",
    "\n",
    "        company = tds[3].text.strip()\n",
    "        regdate = tds[4].text.strip()\n",
    "\n",
    "    #    print('%s,%s,%s,%s,%s,%s' % (today, time, title, link, company, regdate))\n",
    "        datalist.append((today, time, title, link, company, regdate))\n",
    "\n",
    "    try:\n",
    "        con = sqlite3.connect('officialnotice.db')\n",
    "\n",
    "        with con:\n",
    "            cur = con.cursor()\n",
    "            cur.execute('create table if not exists official_notice ( date TEXT, time TEXT, title TEXT, link TEXT, compnay TEXT, regdate TEXT)')\n",
    "            #cur.execute('CREATE UNIQUE INDEX data_idx ON official_notice (date, time, link)')\n",
    "\n",
    "            cur.executemany(\"INSERT OR REPLACE INTO  official_notice VALUES (?, ?, ?, ?, ?, ?)\", datalist)\n",
    "            con.commit()\n",
    "    except sqlite3.Error as e:\n",
    "        if con:\n",
    "            con.rollback()\n",
    "        print (\"error %s\" % e.args[0])\n",
    "\n",
    "    finally:\n",
    "        if con:\n",
    "            con.close()        "
   ]
  },
  {
   "cell_type": "code",
   "execution_count": 16,
   "metadata": {
    "collapsed": false
   },
   "outputs": [
    {
     "name": "stdout",
     "output_type": "stream",
     "text": [
      "20160510|17:51|유상증자또는주식관련사채등의청약결과(자율공시)|http://dart.fss.or.kr/dsaf001/main.do?rcpNo=20160510800606|신성솔라에너지|2016.05.10 \n",
      "20160510|16:46|[기재정정]주요사항보고서(유상증자결정)|http://dart.fss.or.kr/dsaf001/main.do?rcpNo=20160510002165|한진칼|2016.05.10 \n",
      "20160510|16:31|유상증자또는주식관련사채등의발행결과(자율공시)|http://dart.fss.or.kr/dsaf001/main.do?rcpNo=20160510800475|청호컴넷|2016.05.10 \n",
      "20160510|16:30|유상증자또는주식관련사채등의발행결과(자율공시)|http://dart.fss.or.kr/dsaf001/main.do?rcpNo=20160510800471|청호컴넷|2016.05.10 \n"
     ]
    }
   ],
   "source": [
    "#-*- coding: utf-8 -*-\n",
    "bot = favisbot()\n",
    "\n",
    "try:\n",
    "    con = sqlite3.connect('officialnotice.db')\n",
    "\n",
    "    with con:\n",
    "        cur = con.cursor()\n",
    "        cur.execute(\"select * from official_notice where title like '%증자%' or title like '%배정%'\")\n",
    "\n",
    "        rows = cur.fetchall()\n",
    "        for row in rows:\n",
    "            print (\"%s|%s|%s|%s|%s|%s \" %  (row[0], row[1], row[2], row[3], row[4], row[5]) )\n",
    "            bot.whisper('plain','[유상증자 관련 공시]'\n",
    "                        +'\\n공시일시: ' + row[0]+\" \"+row[1]\n",
    "                        +\"\\n회사: \"+row[4]\n",
    "                        +\"\\n공시내용: \"+row[2]\n",
    "                        +\"\\n상세링크: \"+row[3])\n",
    "\n",
    "except sqlite3.Error as e:\n",
    "    if con:\n",
    "        con.rollback()\n",
    "    print (\"error %s\" % e.args[0])\n",
    "\n",
    "finally:\n",
    "    if con:\n",
    "        con.close()\n"
   ]
  },
  {
   "cell_type": "code",
   "execution_count": null,
   "metadata": {
    "collapsed": true
   },
   "outputs": [],
   "source": []
  }
 ],
 "metadata": {
  "kernelspec": {
   "display_name": "Python 3",
   "language": "python",
   "name": "python3"
  },
  "language_info": {
   "codemirror_mode": {
    "name": "ipython",
    "version": 3
   },
   "file_extension": ".py",
   "mimetype": "text/x-python",
   "name": "python",
   "nbconvert_exporter": "python",
   "pygments_lexer": "ipython3",
   "version": "3.4.3"
  }
 },
 "nbformat": 4,
 "nbformat_minor": 0
}
