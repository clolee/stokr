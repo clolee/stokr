{
 "cells": [
  {
   "cell_type": "markdown",
   "metadata": {},
   "source": [
    "# Git으로 소스관리 하기\n",
    "\n",
    "\n",
    "1. github에 계정 및 repository 만들기\n",
    "2. 소스를 관리할 곳에 git 설치하기\n",
    "Ubuntu에 Git 설치는 아래의 두줄만 하면 끝 \n",
    "sudo\n",
    "   \n",
    "   \n",
    "\n",
    "3. git 설정 및 key 등록\n",
    "   > git config --color.ui \"auto\"\n",
    "   > git config --list\n",
    "\n",
    "4. github의 repository와 연동하기\n",
    "   > git clone https://github.com/clolee/stokr.git\n",
    "\n",
    "5. 소스를 git에 저장하기\n",
    "6. git에 있는 소스를 내려받기\n",
    "7. \n",
    "\n",
    "> Block quote.  \n",
    "> *With* **some** `markdown`."
   ]
  },
  {
   "cell_type": "code",
   "execution_count": null,
   "metadata": {
    "collapsed": true
   },
   "outputs": [],
   "source": []
  },
  {
   "cell_type": "code",
   "execution_count": null,
   "metadata": {
    "collapsed": true
   },
   "outputs": [],
   "source": []
  }
 ],
 "metadata": {
  "kernelspec": {
   "display_name": "Python 3",
   "language": "python",
   "name": "python3"
  },
  "language_info": {
   "codemirror_mode": {
    "name": "ipython",
    "version": 3
   },
   "file_extension": ".py",
   "mimetype": "text/x-python",
   "name": "python",
   "nbconvert_exporter": "python",
   "pygments_lexer": "ipython3",
   "version": "3.4.3"
  }
 },
 "nbformat": 4,
 "nbformat_minor": 0
}
