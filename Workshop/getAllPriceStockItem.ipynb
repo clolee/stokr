{
 "cells": [
  {
   "cell_type": "markdown",
   "metadata": {},
   "source": [
    "### #상장기업의 시가총액 데이터 분석 Workshop"
   ]
  },
  {
   "cell_type": "markdown",
   "metadata": {},
   "source": [
    "- 년도별 특정일자의 시가총액순 전체 종목리스트 가져오기"
   ]
  },
  {
   "cell_type": "code",
   "execution_count": 26,
   "metadata": {
    "collapsed": false
   },
   "outputs": [
    {
     "name": "stdout",
     "output_type": "stream",
     "text": [
      "start...\n"
     ]
    },
    {
     "ename": "TypeError",
     "evalue": "'str' does not support the buffer interface",
     "output_type": "error",
     "traceback": [
      "\u001b[1;31m---------------------------------------------------------------------------\u001b[0m",
      "\u001b[1;31mTypeError\u001b[0m                                 Traceback (most recent call last)",
      "\u001b[1;32m<ipython-input-26-0db0addb91eb>\u001b[0m in \u001b[0;36m<module>\u001b[1;34m()\u001b[0m\n\u001b[0;32m     32\u001b[0m     \u001b[1;32mwith\u001b[0m \u001b[0mopen\u001b[0m\u001b[1;33m(\u001b[0m\u001b[0mdirpath\u001b[0m \u001b[1;33m+\u001b[0m \u001b[0mfilename\u001b[0m \u001b[1;33m+\u001b[0m \u001b[0mstr\u001b[0m\u001b[1;33m(\u001b[0m\u001b[0myear\u001b[0m\u001b[1;33m)\u001b[0m\u001b[1;33m+\u001b[0m\u001b[1;34m\".csv\"\u001b[0m\u001b[1;33m,\u001b[0m \u001b[1;34m'wb'\u001b[0m\u001b[1;33m)\u001b[0m \u001b[1;32mas\u001b[0m \u001b[0mf\u001b[0m\u001b[1;33m:\u001b[0m\u001b[1;33m\u001b[0m\u001b[0m\n\u001b[0;32m     33\u001b[0m         \u001b[1;31m#f.write(r.content.decode('utf-8'))\u001b[0m\u001b[1;33m\u001b[0m\u001b[1;33m\u001b[0m\u001b[0m\n\u001b[1;32m---> 34\u001b[1;33m         \u001b[0mf\u001b[0m\u001b[1;33m.\u001b[0m\u001b[0mwrite\u001b[0m\u001b[1;33m(\u001b[0m\u001b[0mr\u001b[0m\u001b[1;33m.\u001b[0m\u001b[0mreplace\u001b[0m\u001b[1;33m(\u001b[0m\u001b[1;34m\"\\\"\"\u001b[0m\u001b[1;33m,\u001b[0m \u001b[1;34m\"\"\u001b[0m\u001b[1;33m)\u001b[0m\u001b[1;33m)\u001b[0m\u001b[1;33m\u001b[0m\u001b[0m\n\u001b[0m\u001b[0;32m     35\u001b[0m         \u001b[0mf\u001b[0m\u001b[1;33m.\u001b[0m\u001b[0mclose\u001b[0m\u001b[1;33m(\u001b[0m\u001b[1;33m)\u001b[0m\u001b[1;33m\u001b[0m\u001b[0m\n\u001b[0;32m     36\u001b[0m \u001b[1;33m\u001b[0m\u001b[0m\n",
      "\u001b[1;31mTypeError\u001b[0m: 'str' does not support the buffer interface"
     ]
    }
   ],
   "source": [
    "import urllib.request\n",
    "import requests\n",
    "import time\n",
    "import random\n",
    "\n",
    "# path and filename for saving download file\n",
    "dirpath=\"./dat/\" \n",
    "filename = \"mycap-\"\n",
    "\n",
    "# base url for making download signature\n",
    "url = \"http://marketdata.krx.co.kr/contents/COM/GenerateOTP.jspx?name=fileDown&filetype=csv\" \\\n",
    "      \"&url=MKD/04/0404/04040200/mkd04040200_01&market_gubun=ALL&indx_ind_cd=&sect_tp_cd=\" \\\n",
    "      \"&pagePath=%2Fcontents%2FMKD%2F04%2F0404%2F04040200%2FMKD04040200.jsp&schdate=\"\n",
    "# base url for downloading file\n",
    "download_url = \"http://file.krx.co.kr/download.jspx\"\n",
    "\n",
    "# set the terms of search\n",
    "from_year = 2014\n",
    "to_year=2016\n",
    "date = \"1201\"\n",
    "\n",
    "print (\"start...\")\n",
    "for year in range(from_year, to_year + 1):\n",
    "    search_date = str(year)+date\n",
    "    req_url = url + search_date\n",
    "    \n",
    "    download_signautre = urllib.request.urlopen(req_url).read()\n",
    "    formdata = {'code':download_signautre}\n",
    "\n",
    "    r = requests.post(download_url, formdata)\n",
    "\n",
    "    r = r.content.decode('utf-8')\n",
    "    #print (r.replace(\"\\\"\", \"\"))\n",
    "    with open(dirpath + filename + str(year)+\".csv\", 'wb') as f:\n",
    "        #f.write(r.content.decode('utf-8'))\n",
    "        f.write(r.replace(\"\\\"\", \"\"))\n",
    "        f.close()\n",
    "    \n",
    "    # sleep few seconds\n",
    "    #time.sleep(random.randint(1,10))\n",
    "    print (search_date + \" OK \", str(time.ctime()) + \" UTC\")\n",
    "\n",
    "print (\"end...\")"
   ]
  },
  {
   "cell_type": "code",
   "execution_count": null,
   "metadata": {
    "collapsed": true
   },
   "outputs": [],
   "source": []
  }
 ],
 "metadata": {
  "kernelspec": {
   "display_name": "Python 3",
   "language": "python",
   "name": "python3"
  },
  "language_info": {
   "codemirror_mode": {
    "name": "ipython",
    "version": 3
   },
   "file_extension": ".py",
   "mimetype": "text/x-python",
   "name": "python",
   "nbconvert_exporter": "python",
   "pygments_lexer": "ipython3",
   "version": "3.4.3"
  }
 },
 "nbformat": 4,
 "nbformat_minor": 0
}
