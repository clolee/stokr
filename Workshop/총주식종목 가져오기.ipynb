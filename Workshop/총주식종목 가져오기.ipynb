{
 "cells": [
  {
   "cell_type": "code",
   "execution_count": 7,
   "metadata": {
    "collapsed": false
   },
   "outputs": [
    {
     "name": "stdout",
     "output_type": "stream",
     "text": [
      "start...\n",
      "20140329 OK  Tue Mar 29 08:44:30 2016 UTC\n",
      "20150329 OK  Tue Mar 29 08:44:35 2016 UTC\n",
      "20160329 OK  Tue Mar 29 08:44:47 2016 UTC\n",
      "end...\n"
     ]
    }
   ],
   "source": [
    "import urllib.request\n",
    "import requests\n",
    "import time\n",
    "import random\n",
    "\n",
    "# path and filename for saving download file\n",
    "dirpath=\"./dat/\" \n",
    "filename = \"totalamount_\"\n",
    "\n",
    "# base url for making download signature\n",
    "url = \"http://marketdata.krx.co.kr/contents/COM/GenerateOTP.jspx?name=fileDown&filetype=csv\" \\\n",
    "      \"&url=MKD/04/0404/04040200/mkd04040200_01&market_gubun=ALL&indx_ind_cd=&sect_tp_cd=\" \\\n",
    "      \"&pagePath=%2Fcontents%2FMKD%2F04%2F0404%2F04040200%2FMKD04040200.jsp&schdate=\"\n",
    "# base url for downloading file\n",
    "download_url = \"http://file.krx.co.kr/download.jspx\"\n",
    "\n",
    "# set the terms of search\n",
    "from_year = 2014\n",
    "to_year=2016\n",
    "date = \"0329\"\n",
    "\n",
    "print (\"start...\")\n",
    "for year in range(from_year, to_year + 1):\n",
    "    search_date = str(year)+date\n",
    "    req_url = url + search_date\n",
    "    \n",
    "    download_signautre = urllib.request.urlopen(req_url).read()\n",
    "    formdata = {'code':download_signautre}\n",
    "\n",
    "    r = requests.post(download_url, formdata)\n",
    "\n",
    "    with open(dirpath + filename +search_date+\".csv\", 'wb') as f:\n",
    "        f.write(r.content)\n",
    "        f.close()\n",
    "    \n",
    "    # sleep few seconds\n",
    "    time.sleep(random.randint(1,10))\n",
    "    print (search_date + \" OK \", str(time.ctime()) + \" UTC\")\n",
    "\n",
    "print (\"end...\")"
   ]
  },
  {
   "cell_type": "code",
   "execution_count": null,
   "metadata": {
    "collapsed": true
   },
   "outputs": [],
   "source": []
  }
 ],
 "metadata": {
  "kernelspec": {
   "display_name": "Python 3",
   "language": "python",
   "name": "python3"
  },
  "language_info": {
   "codemirror_mode": {
    "name": "ipython",
    "version": 3
   },
   "file_extension": ".py",
   "mimetype": "text/x-python",
   "name": "python",
   "nbconvert_exporter": "python",
   "pygments_lexer": "ipython3",
   "version": "3.4.3"
  }
 },
 "nbformat": 4,
 "nbformat_minor": 0
}
