{
 "cells": [
  {
   "cell_type": "code",
   "execution_count": 72,
   "metadata": {
    "collapsed": false
   },
   "outputs": [
    {
     "name": "stdout",
     "output_type": "stream",
     "text": [
      "이거 계약 파기 ?나요??\n",
      "<span class=\"tah p11\">251</span>\n",
      "end...\n"
     ]
    }
   ],
   "source": [
    "import requests\n",
    "import bs4 \n",
    "\n",
    "stock_no = \"018260\"\n",
    "naver_url = \"http://finance.naver.com/item/board.nhn?code=\" + stock_no\n",
    "detail_base_url = \"http://finance.naver.com/\"\n",
    "\n",
    "def getDetails(detail_url):\n",
    "    data = requests.get(detail_base_url + detail_url)\n",
    "    data = bs4.BeautifulSoup(data.text, \"html5lib\")\n",
    "    articles = data.findAll(\"div\", attrs={'class':'view_se'})\n",
    "    \n",
    "    return articles[0].text.replace('\\t','').replace('\\n','')\n",
    "\n",
    "\n",
    "def getList(url, page):\n",
    "    results = []\n",
    "    data = requests.get(url + \"&page=\" + str(page))\n",
    "    data = bs4.BeautifulSoup(data.text, \"html5lib\")\n",
    "    articles = data.findAll(\"table\", attrs={'class':'type2'})\n",
    "\n",
    "    for article in articles:\n",
    "        titles = article.findAll(\"td\", attrs={'class':'title'} )\n",
    "        for title in titles:\n",
    "            detail_url = title.a['href']\n",
    "            result = {'title':title.a.text.replace('\\t','').replace('\\n',''), 'detail':getDetails(detail_url) }\n",
    "            results.append(result)\n",
    "    return results\n",
    "\n",
    "#print (getList(naver_url, 2))\n",
    "url = \"http://finance.naver.com//item/board_read.nhn?code=018260&nid=44657408&st=&sw=&page=2\"\n",
    "data = requests.get(url)\n",
    "data = bs4.BeautifulSoup(data.text, \"html5lib\")\n",
    "articles = data.findAll(\"table\", attrs={'class':'view'})\n",
    "print(articles[0].strong.text)\n",
    "print(articles[0].span)\n",
    "\n",
    "print (\"end...\")"
   ]
  },
  {
   "cell_type": "code",
   "execution_count": null,
   "metadata": {
    "collapsed": true
   },
   "outputs": [],
   "source": []
  }
 ],
 "metadata": {
  "kernelspec": {
   "display_name": "Python 3",
   "language": "python",
   "name": "python3"
  },
  "language_info": {
   "codemirror_mode": {
    "name": "ipython",
    "version": 3
   },
   "file_extension": ".py",
   "mimetype": "text/x-python",
   "name": "python",
   "nbconvert_exporter": "python",
   "pygments_lexer": "ipython3",
   "version": "3.4.3"
  }
 },
 "nbformat": 4,
 "nbformat_minor": 0
}
