{
 "cells": [
  {
   "cell_type": "markdown",
   "metadata": {
    "slideshow": {
     "slide_type": "slide"
    }
   },
   "source": [
    "# D3 노트\n",
    "\n",
    "<img src=\"https://goo.gl/Rdvp6Q\" style=\"float:left\"/>"
   ]
  },
  {
   "cell_type": "markdown",
   "metadata": {
    "slideshow": {
     "slide_type": "fragment"
    }
   },
   "source": [
    "#### 이승준 http://fb.com/plusjune"
   ]
  },
  {
   "cell_type": "markdown",
   "metadata": {
    "slideshow": {
     "slide_type": "subslide"
    }
   },
   "source": [
    "# 주피터 노트북에 d3js 로드\n",
    "* HTML페이지: &lt;script src=\"http://d3js.org/d3.v3.min.js\" charset=\"utf-8\"&gt;&lt;/script&gt;\n",
    "* 주피터노트북: require.config()"
   ]
  },
  {
   "cell_type": "code",
   "execution_count": 7,
   "metadata": {
    "collapsed": false,
    "slideshow": {
     "slide_type": "fragment"
    }
   },
   "outputs": [
    {
     "data": {
      "application/javascript": [
       "\n",
       "require.config({\n",
       "  paths: {\n",
       "    d3: \"http://d3js.org/d3.v3.min\"\n",
       "  }\n",
       "});"
      ],
      "text/plain": [
       "<IPython.core.display.Javascript object>"
      ]
     },
     "metadata": {},
     "output_type": "display_data"
    }
   ],
   "source": [
    "%%javascript\n",
    "\n",
    "require.config({\n",
    "  paths: {\n",
    "    d3: \"https://d3js.org/d3.v3.min\"\n",
    "  }\n",
    "});"
   ]
  },
  {
   "cell_type": "code",
   "execution_count": 8,
   "metadata": {
    "collapsed": false,
    "slideshow": {
     "slide_type": "skip"
    }
   },
   "outputs": [
    {
     "data": {
      "application/javascript": [
       "\n",
       "d3.select(\"body\").append(\"div\").text(\"주피터 노트북에 d3js 로드\");"
      ],
      "text/plain": [
       "<IPython.core.display.Javascript object>"
      ]
     },
     "metadata": {},
     "output_type": "display_data"
    }
   ],
   "source": [
    "%%javascript\n",
    "\n",
    "d3.select(\"body\").append(\"div\").text(\"주피터 노트북에 d3js 로드\");"
   ]
  },
  {
   "cell_type": "markdown",
   "metadata": {
    "slideshow": {
     "slide_type": "skip"
    }
   },
   "source": [
    "## STEP 1"
   ]
  },
  {
   "cell_type": "code",
   "execution_count": 6,
   "metadata": {
    "collapsed": false,
    "slideshow": {
     "slide_type": "notes"
    }
   },
   "outputs": [
    {
     "data": {
      "text/html": [
       "\n",
       "<svg id=\"chart01\">\n",
       "    <rect x=\"10\" y=\"30\" width=\"100\" height=\"80\" />\n",
       "</svg>"
      ],
      "text/plain": [
       "<IPython.core.display.HTML object>"
      ]
     },
     "metadata": {},
     "output_type": "display_data"
    }
   ],
   "source": [
    "%%html\n",
    "\n",
    "<svg id=\"chart01\">\n",
    "    <rect x=\"10\" y=\"30\" width=\"100\" height=\"80\" />\n",
    "</svg>\n"
   ]
  },
  {
   "cell_type": "markdown",
   "metadata": {},
   "source": [
    "## 웹서버 준비\n",
    "\n",
    "sudo python -m http.server 8080\n",
    "\n",
    "아래와 같이 접속\n",
    "\n",
    "http://finpy-XXXXXXX.nitrousapp.com:8080/"
   ]
  },
  {
   "cell_type": "markdown",
   "metadata": {
    "collapsed": false
   },
   "source": [
    "## STEP 1: SVG로 사각형 그리기\n",
    "\n",
    "<svg id=\"chart1\">\n",
    "    <rect x=\"10\" y=\"30\" width=\"100\" height=\"80\" /> ",
    " \n",
    "</svg>\n",
    "<script src=\"chart1.js\"></script>\n",
    "\n",
    "\n",
    "## STEP 2: d3.js로 사각형 그리기\n",
    "\n",
    "d3.select(\"#chart1\").append(\"rect\")\n",
    "\n",
    "* html 코드의 &lt;svg>&lt;/svg&gt; 아래에 다음과 같이 &lt;rect&gt; 요소가 추가 됨.\n",
    "* developer tools 로 확인.\n",
    "* 하지만 rect는 속성이 없어서 화면에 그려지지 않음.\n",
    "\n",
    "\n",
    "## SETP 3: &lt;rect&gt;에 속성 추가\n",
    "\n",
    "d3.select(\"#chart1\").append(\"rect\").attr(\"x\", 10).attr(\"y\", 30).attr(\"width\", 100).attr(\"height\", 80)\n",
    "\n",
    "\n",
    "## SETP 4: 데이터셋 추가 \n",
    "var date_set= [300, 130, 5, 60, 240]\n",
    "\n",
    "\n",
    "d3.js 에서 제공하는 메소드 사용\n",
    "* sellectAll(): select multiple elements from the current document.\n",
    "* data(): get or set data for a group of elements, while computing a relational join.\n",
    "* enter(): returns placeholders for missing elements.\n",
    "\n",
    "\n",
    "## SETP 5: 데이터에 맞게 bar의 길이 수정, 애니메이션 추가\n",
    "* tricky part: attr() 메서드에 function(d, i) 형태로 데이터 전달 → data iterator\n",
    "* d: 실제 데이터\n",
    "* i: 데이터의 인덱스\n",
    "* 사용 예: .attr(\"width\", function(d, i) { return d }) function(d, i)\n",
    "\n",
    "bar의 y 값 조정\n",
    "\n",
    "* hint: index * 간격 (e.g., 25)\n",
    ".attr(\"y\", function(d, i) { return i * 25 })\n",
    "\n",
    "애니메이션 (그리는 속도 설정)\n",
    "* delay(): 대기시간\n",
    "* duration(): 요소를 그리는 시간\n",
    "\n",
    ".attr(\"width\", \"0px\")\n",
    ".transition()\n",
    ".delay(function(d, i){ return i * 500; })\n",
    ".duration(2500)\n",
    ".attr(\"width\", function(d, i) { return d })"
   ]
  },
  {
   "cell_type": "markdown",
   "metadata": {},
   "source": [
    "## 묶어서 보기"
   ]
  },
  {
   "cell_type": "code",
   "execution_count": 7,
   "metadata": {
    "collapsed": false,
    "scrolled": true
   },
   "outputs": [
    {
     "data": {
      "text/html": [
       "\n",
       "<html>\n",
       "<head>\n",
       "<meta charset=\"utf-8\">\n",
       "<title>My first D3 visualization</title>\n",
       "<script src=\"http://d3js.org/d3.v3.min.js\" charset=\"utf-8\"></script>\n",
       "<style>\n",
       "    #chart02 rect {\n",
       "       stroke: black;\n",
       "       stroke-width: 1px;\n",
       "       fill: rgb(255, 255, 0);\n",
       "    }\n",
       "\n",
       "    svg {\n",
       "        width: 320px;\n",
       "        height: 100px;\n",
       "        border: 1px solid black;\n",
       "    }\n",
       "</style>\n",
       "</head>\n",
       "<body>\n",
       "    <h1>my first d3 visualization</h1>\n",
       "    <svg id=\"chart02\">\n",
       "    </svg>\n",
       "    <script>\n",
       "        // bar graph를 위한 dataset\n",
       "        var dataSet = [300, 130, 5, 60, 240]\n",
       "\n",
       "        // visualization code\n",
       "        d3.select(\"#chart02\")\n",
       "        .selectAll(\"rect\")\n",
       "        .data(dataSet)\n",
       "        .enter()\n",
       "        .append(\"rect\")\n",
       "        .attr(\"x\", 0)\n",
       "        .attr(\"y\", function(d, i) { return i * 25 })\n",
       "        .attr(\"height\", 20)\n",
       "        .attr(\"width\", \"0px\")\n",
       "        .transition()\n",
       "        .delay(function(d, i) { return i * 500; })  // 0.5 초 마다 그리도록 대기 시간을 설정\n",
       "        .duration(2500) // 2.5초에 걸쳐 애니메이션\n",
       "        .attr(\"width\", function(d, i) { return d })\n",
       "    </script>\n",
       "</body>\n",
       "</html>\n"
      ],
      "text/plain": [
       "<IPython.core.display.HTML object>"
      ]
     },
     "metadata": {},
     "output_type": "display_data"
    }
   ],
   "source": [
    "%%html\n",
    "\n",
    "<html>\n",
    "<head>\n",
    "<meta charset=\"utf-8\">\n",
    "<title>My first D3 visualization</title>\n",
    "<script src=\"http://d3js.org/d3.v3.min.js\" charset=\"utf-8\"></script>\n",
    "<style>\n",
    "    #chart02 rect {\n",
    "       stroke: black;\n",
    "       stroke-width: 1px;\n",
    "       fill: rgb(255, 255, 0);\n",
    "    }\n",
    "\n",
    "    svg {\n",
    "        width: 320px;\n",
    "        height: 100px;\n",
    "        border: 1px solid black;\n",
    "    }\n",
    "</style>\n",
    "</head>\n",
    "<body>\n",
    "    <h1>my first d3 visualization</h1>\n",
    "    <svg id=\"chart02\">\n",
    "    </svg>\n",
    "    <script>\n",
    "        // bar graph를 위한 dataset\n",
    "        var dataSet = [300, 130, 5, 60, 240]\n",
    "\n",
    "        // visualization code\n",
    "        d3.select(\"#chart02\")\n",
    "        .selectAll(\"rect\")\n",
    "        .data(dataSet)\n",
    "        .enter()\n",
    "        .append(\"rect\")\n",
    "        .attr(\"x\", 0)\n",
    "        .attr(\"y\", function(d, i) { return i * 25 })\n",
    "        .attr(\"height\", 20)\n",
    "        .attr(\"width\", \"0px\")\n",
    "        .transition()\n",
    "        .delay(function(d, i) { return i * 500; })  // 0.5 초 마다 그리도록 대기 시간을 설정\n",
    "        .duration(2500) // 2.5초에 걸쳐 애니메이션\n",
    "        .attr(\"width\", function(d, i) { return d })\n",
    "    </script>\n",
    "</body>\n",
    "</html>\n",
    "\n"
   ]
  },
  {
   "cell_type": "markdown",
   "metadata": {},
   "source": [
    "## 일반적인 골격\n",
    "\n",
    "### 1) index.html"
   ]
  },
  {
   "cell_type": "code",
   "execution_count": null,
   "metadata": {
    "collapsed": false
   },
   "outputs": [],
   "source": [
    "<html>\n",
    "<head>\n",
    "  <meta charset=\"utf-8\">\n",
    "  <title>D3.js GetStarted</title>\n",
    "  <link rel=\"stylesheet\" href=\"style.css\"/>\n",
    "</head>\n",
    "<body>\n",
    "\n",
    "<script src=\"http://d3js.org/d3.v3.min.js\" charset=\"utf-8\"></script>\n",
    "<script src=\"app.js\"></script>\n",
    "</body>\n",
    "</html>"
   ]
  },
  {
   "cell_type": "markdown",
   "metadata": {},
   "source": [
    "### 2) style.css"
   ]
  },
  {
   "cell_type": "code",
   "execution_count": 68,
   "metadata": {
    "collapsed": true
   },
   "outputs": [
    {
     "ename": "IndentationError",
     "evalue": "unexpected indent (<ipython-input-68-87d03fe7e77b>, line 2)",
     "output_type": "error",
     "traceback": [
      "\u001b[1;36m  File \u001b[1;32m\"<ipython-input-68-87d03fe7e77b>\"\u001b[1;36m, line \u001b[1;32m2\u001b[0m\n\u001b[1;33m    stroke: black;\u001b[0m\n\u001b[1;37m    ^\u001b[0m\n\u001b[1;31mIndentationError\u001b[0m\u001b[1;31m:\u001b[0m unexpected indent\n"
     ]
    }
   ],
   "source": [
    "#chart02 rect {\n",
    "   stroke: black;\n",
    "   stroke-width: 1px;\n",
    "   fill: rgb(255, 255, 0);\n",
    "}\n",
    "\n",
    "svg {\n",
    "    width: 320px;\n",
    "    height: 100px;\n",
    "    border: 1px solid black;\n",
    "}"
   ]
  },
  {
   "cell_type": "markdown",
   "metadata": {},
   "source": [
    "### 3) app.js"
   ]
  },
  {
   "cell_type": "code",
   "execution_count": 12,
   "metadata": {
    "collapsed": false
   },
   "outputs": [
    {
     "data": {
      "application/javascript": [
       "element.append(\"<div id='chart1'></div>\");"
      ],
      "text/plain": [
       "<IPython.core.display.Javascript object>"
      ]
     },
     "metadata": {},
     "output_type": "display_data"
    }
   ],
   "source": [
    "%%javascript\n",
    "\n",
    "var dataSet = [300, 130, 5, 60, 240]\n",
    "\n",
    "// visualization code\n",
    "d3.select(\"#chart02\")\n",
    ".selectAll(\"rect\")\n",
    "// ..."
   ]
  }
 ],
 "metadata": {
  "kernelspec": {
   "display_name": "Python 3",
   "language": "python",
   "name": "python3"
  },
  "language_info": {
   "codemirror_mode": {
    "name": "ipython",
    "version": 3
   },
   "file_extension": ".py",
   "mimetype": "text/x-python",
   "name": "python",
   "nbconvert_exporter": "python",
   "pygments_lexer": "ipython3",
   "version": "3.4.3"
  }
 },
 "nbformat": 4,
 "nbformat_minor": 0
}
