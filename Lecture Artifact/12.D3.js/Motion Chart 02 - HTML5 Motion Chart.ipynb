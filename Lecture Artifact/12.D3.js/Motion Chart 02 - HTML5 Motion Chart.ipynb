{
 "cells": [
  {
   "cell_type": "markdown",
   "metadata": {},
   "source": [
    "# Motion Charts 02 - HTML5 MotionCharts\n",
    "\n",
    "SOCR HTML5 MotionCharts\n",
    "\n",
    "#### 이승준 http://fb.com/plusjune\n"
   ]
  },
  {
   "cell_type": "markdown",
   "metadata": {},
   "source": [
    "# HTML5 MotionCharts\n",
    "* Statistics Online Computational Resource: SOCR\n",
    "* http://socr.ucla.edu/htmls/HTML5/MotionChart/"
   ]
  },
  {
   "cell_type": "code",
   "execution_count": 1,
   "metadata": {
    "collapsed": true
   },
   "outputs": [],
   "source": [
    "%matplotlib inline\n",
    "from IPython.display import IFrame, display, display_html"
   ]
  },
  {
   "cell_type": "markdown",
   "metadata": {},
   "source": [
    "## 설치\n",
    "* sudo pip install motionchart\n",
    "* sudo pip install pyperclip"
   ]
  },
  {
   "cell_type": "markdown",
   "metadata": {},
   "source": [
    "## Import modules"
   ]
  },
  {
   "cell_type": "code",
   "execution_count": 2,
   "metadata": {
    "collapsed": false
   },
   "outputs": [],
   "source": [
    "from motionchart.motionchart import MotionChart, MotionChartDemo\n",
    "import webbrowser\n",
    "import pandas as pd\n",
    "import pyperclip"
   ]
  },
  {
   "cell_type": "markdown",
   "metadata": {},
   "source": [
    "## 100대 광고주 (2012년, 2013년)\n",
    "* https://gist.github.com/plusjune/184a03c19ebfb55fcd70\n",
    "* shorten: https://goo.gl/NXFWVI\n"
   ]
  },
  {
   "cell_type": "code",
   "execution_count": 3,
   "metadata": {
    "collapsed": false
   },
   "outputs": [
    {
     "data": {
      "text/html": [
       "<div>\n",
       "<table border=\"1\" class=\"dataframe\">\n",
       "  <thead>\n",
       "    <tr style=\"text-align: right;\">\n",
       "      <th></th>\n",
       "      <th>month</th>\n",
       "      <th>corp</th>\n",
       "      <th>tv</th>\n",
       "      <th>radio</th>\n",
       "      <th>newspaper</th>\n",
       "      <th>magazine</th>\n",
       "      <th>mon-sum</th>\n",
       "      <th>mon-rank</th>\n",
       "    </tr>\n",
       "  </thead>\n",
       "  <tbody>\n",
       "    <tr>\n",
       "      <th>0</th>\n",
       "      <td>2012-02</td>\n",
       "      <td>(주)대명레저산업</td>\n",
       "      <td>0</td>\n",
       "      <td>0</td>\n",
       "      <td>891260</td>\n",
       "      <td>88000</td>\n",
       "      <td>979260</td>\n",
       "      <td>75</td>\n",
       "    </tr>\n",
       "    <tr>\n",
       "      <th>1</th>\n",
       "      <td>2012-06</td>\n",
       "      <td>(주)대명레저산업</td>\n",
       "      <td>484103</td>\n",
       "      <td>0</td>\n",
       "      <td>788072</td>\n",
       "      <td>97250</td>\n",
       "      <td>1369425</td>\n",
       "      <td>74</td>\n",
       "    </tr>\n",
       "    <tr>\n",
       "      <th>2</th>\n",
       "      <td>2012-07</td>\n",
       "      <td>(주)대명레저산업</td>\n",
       "      <td>862823</td>\n",
       "      <td>0</td>\n",
       "      <td>1260625</td>\n",
       "      <td>84600</td>\n",
       "      <td>2208048</td>\n",
       "      <td>34</td>\n",
       "    </tr>\n",
       "    <tr>\n",
       "      <th>3</th>\n",
       "      <td>2012-08</td>\n",
       "      <td>(주)대방건설</td>\n",
       "      <td>212123</td>\n",
       "      <td>0</td>\n",
       "      <td>1036991</td>\n",
       "      <td>0</td>\n",
       "      <td>1249114</td>\n",
       "      <td>82</td>\n",
       "    </tr>\n",
       "    <tr>\n",
       "      <th>4</th>\n",
       "      <td>2012-09</td>\n",
       "      <td>(주)밀레</td>\n",
       "      <td>1223829</td>\n",
       "      <td>101779</td>\n",
       "      <td>381333</td>\n",
       "      <td>27750</td>\n",
       "      <td>1734691</td>\n",
       "      <td>51</td>\n",
       "    </tr>\n",
       "    <tr>\n",
       "      <th>5</th>\n",
       "      <td>2012-10</td>\n",
       "      <td>(주)밀레</td>\n",
       "      <td>1223829</td>\n",
       "      <td>101779</td>\n",
       "      <td>381333</td>\n",
       "      <td>27750</td>\n",
       "      <td>1734691</td>\n",
       "      <td>51</td>\n",
       "    </tr>\n",
       "    <tr>\n",
       "      <th>6</th>\n",
       "      <td>2012-11</td>\n",
       "      <td>(주)밀레</td>\n",
       "      <td>940695</td>\n",
       "      <td>130612</td>\n",
       "      <td>249754</td>\n",
       "      <td>30550</td>\n",
       "      <td>1351611</td>\n",
       "      <td>77</td>\n",
       "    </tr>\n",
       "    <tr>\n",
       "      <th>7</th>\n",
       "      <td>2012-12</td>\n",
       "      <td>(주)밀레</td>\n",
       "      <td>932722</td>\n",
       "      <td>120693</td>\n",
       "      <td>308121</td>\n",
       "      <td>28750</td>\n",
       "      <td>1390286</td>\n",
       "      <td>67</td>\n",
       "    </tr>\n",
       "    <tr>\n",
       "      <th>8</th>\n",
       "      <td>2013-04</td>\n",
       "      <td>(주)밀레</td>\n",
       "      <td>678541</td>\n",
       "      <td>0</td>\n",
       "      <td>371873</td>\n",
       "      <td>37250</td>\n",
       "      <td>1087665</td>\n",
       "      <td>96</td>\n",
       "    </tr>\n",
       "    <tr>\n",
       "      <th>9</th>\n",
       "      <td>2013-05</td>\n",
       "      <td>(주)밀레</td>\n",
       "      <td>662763</td>\n",
       "      <td>0</td>\n",
       "      <td>586635</td>\n",
       "      <td>27250</td>\n",
       "      <td>1276648</td>\n",
       "      <td>88</td>\n",
       "    </tr>\n",
       "    <tr>\n",
       "      <th>10</th>\n",
       "      <td>2012-01</td>\n",
       "      <td>(주)팔도</td>\n",
       "      <td>901670</td>\n",
       "      <td>0</td>\n",
       "      <td>0</td>\n",
       "      <td>0</td>\n",
       "      <td>901670</td>\n",
       "      <td>90</td>\n",
       "    </tr>\n",
       "    <tr>\n",
       "      <th>11</th>\n",
       "      <td>2012-02</td>\n",
       "      <td>(주)팔도</td>\n",
       "      <td>853693</td>\n",
       "      <td>0</td>\n",
       "      <td>0</td>\n",
       "      <td>0</td>\n",
       "      <td>853693</td>\n",
       "      <td>90</td>\n",
       "    </tr>\n",
       "    <tr>\n",
       "      <th>12</th>\n",
       "      <td>2013-02</td>\n",
       "      <td>(주)팔도</td>\n",
       "      <td>833903</td>\n",
       "      <td>0</td>\n",
       "      <td>0</td>\n",
       "      <td>0</td>\n",
       "      <td>833903</td>\n",
       "      <td>87</td>\n",
       "    </tr>\n",
       "    <tr>\n",
       "      <th>13</th>\n",
       "      <td>2012-02</td>\n",
       "      <td>20세기폭스사</td>\n",
       "      <td>980950</td>\n",
       "      <td>0</td>\n",
       "      <td>202650</td>\n",
       "      <td>54300</td>\n",
       "      <td>1237900</td>\n",
       "      <td>57</td>\n",
       "    </tr>\n",
       "    <tr>\n",
       "      <th>14</th>\n",
       "      <td>2013-02</td>\n",
       "      <td>20세기폭스사</td>\n",
       "      <td>737001</td>\n",
       "      <td>0</td>\n",
       "      <td>162886</td>\n",
       "      <td>25000</td>\n",
       "      <td>924887</td>\n",
       "      <td>78</td>\n",
       "    </tr>\n",
       "    <tr>\n",
       "      <th>15</th>\n",
       "      <td>2012-11</td>\n",
       "      <td>경동나비엔</td>\n",
       "      <td>1260617</td>\n",
       "      <td>129435</td>\n",
       "      <td>0</td>\n",
       "      <td>0</td>\n",
       "      <td>1390052</td>\n",
       "      <td>75</td>\n",
       "    </tr>\n",
       "    <tr>\n",
       "      <th>16</th>\n",
       "      <td>2012-12</td>\n",
       "      <td>경동나비엔</td>\n",
       "      <td>975638</td>\n",
       "      <td>116206</td>\n",
       "      <td>0</td>\n",
       "      <td>0</td>\n",
       "      <td>1091844</td>\n",
       "      <td>88</td>\n",
       "    </tr>\n",
       "    <tr>\n",
       "      <th>17</th>\n",
       "      <td>2013-01</td>\n",
       "      <td>경동나비엔</td>\n",
       "      <td>1351426</td>\n",
       "      <td>68990</td>\n",
       "      <td>0</td>\n",
       "      <td>0</td>\n",
       "      <td>1420416</td>\n",
       "      <td>51</td>\n",
       "    </tr>\n",
       "    <tr>\n",
       "      <th>18</th>\n",
       "      <td>2012-04</td>\n",
       "      <td>광동제약</td>\n",
       "      <td>1585595</td>\n",
       "      <td>51177</td>\n",
       "      <td>379938</td>\n",
       "      <td>0</td>\n",
       "      <td>2016710</td>\n",
       "      <td>41</td>\n",
       "    </tr>\n",
       "    <tr>\n",
       "      <th>19</th>\n",
       "      <td>2012-05</td>\n",
       "      <td>광동제약</td>\n",
       "      <td>1303959</td>\n",
       "      <td>56822</td>\n",
       "      <td>405297</td>\n",
       "      <td>0</td>\n",
       "      <td>1766078</td>\n",
       "      <td>55</td>\n",
       "    </tr>\n",
       "  </tbody>\n",
       "</table>\n",
       "</div>"
      ],
      "text/plain": [
       "      month       corp       tv   radio  newspaper  magazine  mon-sum  \\\n",
       "0   2012-02  (주)대명레저산업        0       0     891260     88000   979260   \n",
       "1   2012-06  (주)대명레저산업   484103       0     788072     97250  1369425   \n",
       "2   2012-07  (주)대명레저산업   862823       0    1260625     84600  2208048   \n",
       "3   2012-08    (주)대방건설   212123       0    1036991         0  1249114   \n",
       "4   2012-09      (주)밀레  1223829  101779     381333     27750  1734691   \n",
       "5   2012-10      (주)밀레  1223829  101779     381333     27750  1734691   \n",
       "6   2012-11      (주)밀레   940695  130612     249754     30550  1351611   \n",
       "7   2012-12      (주)밀레   932722  120693     308121     28750  1390286   \n",
       "8   2013-04      (주)밀레   678541       0     371873     37250  1087665   \n",
       "9   2013-05      (주)밀레   662763       0     586635     27250  1276648   \n",
       "10  2012-01      (주)팔도   901670       0          0         0   901670   \n",
       "11  2012-02      (주)팔도   853693       0          0         0   853693   \n",
       "12  2013-02      (주)팔도   833903       0          0         0   833903   \n",
       "13  2012-02    20세기폭스사   980950       0     202650     54300  1237900   \n",
       "14  2013-02    20세기폭스사   737001       0     162886     25000   924887   \n",
       "15  2012-11      경동나비엔  1260617  129435          0         0  1390052   \n",
       "16  2012-12      경동나비엔   975638  116206          0         0  1091844   \n",
       "17  2013-01      경동나비엔  1351426   68990          0         0  1420416   \n",
       "18  2012-04       광동제약  1585595   51177     379938         0  2016710   \n",
       "19  2012-05       광동제약  1303959   56822     405297         0  1766078   \n",
       "\n",
       "    mon-rank  \n",
       "0         75  \n",
       "1         74  \n",
       "2         34  \n",
       "3         82  \n",
       "4         51  \n",
       "5         51  \n",
       "6         77  \n",
       "7         67  \n",
       "8         96  \n",
       "9         88  \n",
       "10        90  \n",
       "11        90  \n",
       "12        87  \n",
       "13        57  \n",
       "14        78  \n",
       "15        75  \n",
       "16        88  \n",
       "17        51  \n",
       "18        41  \n",
       "19        55  "
      ]
     },
     "execution_count": 3,
     "metadata": {},
     "output_type": "execute_result"
    }
   ],
   "source": [
    "url = \"https://goo.gl/NXFWVI\"\n",
    "df = pd.read_csv(url)\n",
    "df.head(20)"
   ]
  },
  {
   "cell_type": "markdown",
   "metadata": {},
   "source": [
    "## MotionChart 생성"
   ]
  },
  {
   "cell_type": "code",
   "execution_count": 4,
   "metadata": {
    "collapsed": false
   },
   "outputs": [
    {
     "data": {
      "text/html": [
       "\n",
       "        <iframe\n",
       "            width=\"900\"\n",
       "            height=\"700\"\n",
       "            src=\"mc_temp.html\"\n",
       "            frameborder=\"0\"\n",
       "            allowfullscreen\n",
       "        ></iframe>\n",
       "        "
      ],
      "text/plain": [
       "<IPython.lib.display.IFrame at 0x7f52a8fad5f8>"
      ]
     },
     "metadata": {},
     "output_type": "display_data"
    }
   ],
   "source": [
    "mc = MotionChart(df = df)\n",
    "\n",
    "mc.to_notebook()\n",
    "mc.to_file('ad_motion_chart_01.html')"
   ]
  },
  {
   "cell_type": "code",
   "execution_count": 5,
   "metadata": {
    "collapsed": false
   },
   "outputs": [
    {
     "data": {
      "text/html": [
       "\n",
       "        <iframe\n",
       "            width=\"900\"\n",
       "            height=\"700\"\n",
       "            src=\"mc_temp.html\"\n",
       "            frameborder=\"0\"\n",
       "            allowfullscreen\n",
       "        ></iframe>\n",
       "        "
      ],
      "text/plain": [
       "<IPython.lib.display.IFrame at 0x7f52a8fadf98>"
      ]
     },
     "metadata": {},
     "output_type": "display_data"
    }
   ],
   "source": [
    "dfx = df.loc[df['corp'].isin(['명인제약', '삼진제약', '롯데칠성음료', '롯데제과'])]\n",
    "\n",
    "mc = MotionChart(df = dfx, title = \"100대 광고주\",\n",
    "              key = 'month',\n",
    "              x = 'tv',\n",
    "              y = 'radio',\n",
    "              size = 'mon-sum',\n",
    "              color = 'corp',\n",
    "              category = 'corp')\n",
    "\n",
    "mc.to_notebook()\n",
    "mc.to_file('ad_motion_chart_02.html')"
   ]
  },
  {
   "cell_type": "markdown",
   "metadata": {},
   "source": [
    "### 2. To send the object to the Jupyter Notebook, to a browser, to the clipboard  and to a html file"
   ]
  },
  {
   "cell_type": "code",
   "execution_count": null,
   "metadata": {
    "collapsed": false
   },
   "outputs": [
    {
     "data": {
      "text/html": [
       "\n",
       "        <iframe\n",
       "            width=\"900\"\n",
       "            height=\"700\"\n",
       "            src=\"mc_temp.html\"\n",
       "            frameborder=\"0\"\n",
       "            allowfullscreen\n",
       "        ></iframe>\n",
       "        "
      ],
      "text/plain": [
       "<IPython.lib.display.IFrame at 0x7f52c42b0da0>"
      ]
     },
     "metadata": {},
     "output_type": "display_data"
    }
   ],
   "source": [
    "mc.to_notebook()\n",
    "mc.to_browser()\n",
    "mc.to_file('ad_motion_chart.html')"
   ]
  },
  {
   "cell_type": "markdown",
   "metadata": {},
   "source": [
    "## 옵션"
   ]
  },
  {
   "cell_type": "code",
   "execution_count": null,
   "metadata": {
    "collapsed": false
   },
   "outputs": [],
   "source": [
    "mc = MotionChart( df = df, \n",
    "                  title = \"Motion Chart\",\n",
    "                  url = \"http://socr.ucla.edu/htmls/HTML5/MotionChart\",\n",
    "                  key = 1,\n",
    "                  x = 2,\n",
    "                  y = 3,\n",
    "                  size = 4, \n",
    "                  color = 5,\n",
    "                  category = 1,\n",
    "                  xscale='linear',\n",
    "                  yscale='linear',\n",
    "                  play = 'true',\n",
    "                  loop = 'false',\n",
    "                  width = 800,\n",
    "                  height = 600,\n",
    "                  varLabels=None\n",
    "                )"
   ]
  },
  {
   "cell_type": "code",
   "execution_count": null,
   "metadata": {
    "collapsed": true
   },
   "outputs": [],
   "source": []
  }
 ],
 "metadata": {
  "kernelspec": {
   "display_name": "Python 3",
   "language": "python",
   "name": "python3"
  },
  "language_info": {
   "codemirror_mode": {
    "name": "ipython",
    "version": 3
   },
   "file_extension": ".py",
   "mimetype": "text/x-python",
   "name": "python",
   "nbconvert_exporter": "python",
   "pygments_lexer": "ipython3",
   "version": "3.4.3"
  }
 },
 "nbformat": 4,
 "nbformat_minor": 0
}
