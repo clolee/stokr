{
 "cells": [
  {
   "cell_type": "markdown",
   "metadata": {
    "slideshow": {
     "slide_type": "slide"
    }
   },
   "source": [
    "# 실습: pandas 02 DataFrame"
   ]
  },
  {
   "cell_type": "markdown",
   "metadata": {
    "slideshow": {
     "slide_type": "slide"
    }
   },
   "source": [
    "# DataFrame\n",
    "* 다양한 데이터를 포함할 수 있는 2차원 자료구조\n",
    "* 간단한게 시리즈(Series) 객체를 딕셔너리\n",
    "* 스프레드시트와 시트와 유사"
   ]
  },
  {
   "cell_type": "markdown",
   "metadata": {
    "slideshow": {
     "slide_type": "slide"
    }
   },
   "source": [
    "# 예제 데이터\n",
    "KT와 SKT의 2013년 상반기 광고비 지출 (단위, 천원)\n",
    "\n",
    "\n",
    "|  월   | KT | SKT |\n",
    "| ----- | ----- | --- |\n",
    "| 1월   | 7039177|   5277359|\n",
    "| 2월   | 6960795|   9523039|\n",
    "| 3월   | 6438333|   8420870|\n",
    "| 4월   | 5024973|   8114839|\n",
    "| 5월   | 7327214|   10809910|\n",
    "| 6월   | 5891620|   8650904|\n"
   ]
  },
  {
   "cell_type": "code",
   "execution_count": 2,
   "metadata": {
    "collapsed": false,
    "slideshow": {
     "slide_type": "slide"
    }
   },
   "outputs": [],
   "source": [
    "import pandas as pd\n",
    "import numpy as np\n",
    "from pandas import DataFrame"
   ]
  },
  {
   "cell_type": "markdown",
   "metadata": {
    "slideshow": {
     "slide_type": "slide"
    }
   },
   "source": [
    "# DataFame 생성\n",
    "배열, 리스트, 튜플, ndarray 등으로 부터 생성"
   ]
  },
  {
   "cell_type": "code",
   "execution_count": 5,
   "metadata": {
    "collapsed": false,
    "slideshow": {
     "slide_type": "slide"
    }
   },
   "outputs": [],
   "source": [
    "month = ['Jan', 'Feb', 'Mar', 'Apr', 'May', 'Jun']\n",
    "exp_kt = [7039177, 6960795, 6438333, 5024973, 7327214, 5891620]\n",
    "exp_skt = [5277359, 9523039, 8420870, 8114839, 10809910, 8650904]"
   ]
  },
  {
   "cell_type": "code",
   "execution_count": 4,
   "metadata": {
    "collapsed": false,
    "slideshow": {
     "slide_type": "fragment"
    }
   },
   "outputs": [
    {
     "data": {
      "text/html": [
       "<div>\n",
       "<table border=\"1\" class=\"dataframe\">\n",
       "  <thead>\n",
       "    <tr style=\"text-align: right;\">\n",
       "      <th></th>\n",
       "      <th>kt</th>\n",
       "      <th>month</th>\n",
       "      <th>skt</th>\n",
       "    </tr>\n",
       "  </thead>\n",
       "  <tbody>\n",
       "    <tr>\n",
       "      <th>0</th>\n",
       "      <td>7039177</td>\n",
       "      <td>Jan</td>\n",
       "      <td>5277359</td>\n",
       "    </tr>\n",
       "    <tr>\n",
       "      <th>1</th>\n",
       "      <td>6960795</td>\n",
       "      <td>Feb</td>\n",
       "      <td>9523039</td>\n",
       "    </tr>\n",
       "    <tr>\n",
       "      <th>2</th>\n",
       "      <td>6438333</td>\n",
       "      <td>Mar</td>\n",
       "      <td>8420870</td>\n",
       "    </tr>\n",
       "    <tr>\n",
       "      <th>3</th>\n",
       "      <td>5024973</td>\n",
       "      <td>Apr</td>\n",
       "      <td>8114839</td>\n",
       "    </tr>\n",
       "    <tr>\n",
       "      <th>4</th>\n",
       "      <td>7327214</td>\n",
       "      <td>May</td>\n",
       "      <td>10809910</td>\n",
       "    </tr>\n",
       "    <tr>\n",
       "      <th>5</th>\n",
       "      <td>5891620</td>\n",
       "      <td>Jun</td>\n",
       "      <td>8650904</td>\n",
       "    </tr>\n",
       "  </tbody>\n",
       "</table>\n",
       "</div>"
      ],
      "text/plain": [
       "        kt month       skt\n",
       "0  7039177   Jan   5277359\n",
       "1  6960795   Feb   9523039\n",
       "2  6438333   Mar   8420870\n",
       "3  5024973   Apr   8114839\n",
       "4  7327214   May  10809910\n",
       "5  5891620   Jun   8650904"
      ]
     },
     "execution_count": 4,
     "metadata": {},
     "output_type": "execute_result"
    }
   ],
   "source": [
    "data = {'month': month, 'kt': exp_kt, 'skt': exp_skt}\n",
    "df = DataFrame(data)\n",
    "df"
   ]
  },
  {
   "cell_type": "markdown",
   "metadata": {
    "slideshow": {
     "slide_type": "slide"
    }
   },
   "source": [
    "# 컬럼 순서 바꾸기"
   ]
  },
  {
   "cell_type": "code",
   "execution_count": 4,
   "metadata": {
    "collapsed": false,
    "slideshow": {
     "slide_type": "fragment"
    }
   },
   "outputs": [
    {
     "data": {
      "text/html": [
       "<div>\n",
       "<table border=\"1\" class=\"dataframe\">\n",
       "  <thead>\n",
       "    <tr style=\"text-align: right;\">\n",
       "      <th></th>\n",
       "      <th>month</th>\n",
       "      <th>kt</th>\n",
       "      <th>skt</th>\n",
       "    </tr>\n",
       "  </thead>\n",
       "  <tbody>\n",
       "    <tr>\n",
       "      <th>0</th>\n",
       "      <td>Jan</td>\n",
       "      <td>7039177</td>\n",
       "      <td>5277359</td>\n",
       "    </tr>\n",
       "    <tr>\n",
       "      <th>1</th>\n",
       "      <td>Feb</td>\n",
       "      <td>6960795</td>\n",
       "      <td>9523039</td>\n",
       "    </tr>\n",
       "    <tr>\n",
       "      <th>2</th>\n",
       "      <td>Mar</td>\n",
       "      <td>6438333</td>\n",
       "      <td>8420870</td>\n",
       "    </tr>\n",
       "    <tr>\n",
       "      <th>3</th>\n",
       "      <td>Apr</td>\n",
       "      <td>5024973</td>\n",
       "      <td>8114839</td>\n",
       "    </tr>\n",
       "    <tr>\n",
       "      <th>4</th>\n",
       "      <td>May</td>\n",
       "      <td>7327214</td>\n",
       "      <td>10809910</td>\n",
       "    </tr>\n",
       "    <tr>\n",
       "      <th>5</th>\n",
       "      <td>Jun</td>\n",
       "      <td>5891620</td>\n",
       "      <td>8650904</td>\n",
       "    </tr>\n",
       "  </tbody>\n",
       "</table>\n",
       "</div>"
      ],
      "text/plain": [
       "  month       kt       skt\n",
       "0   Jan  7039177   5277359\n",
       "1   Feb  6960795   9523039\n",
       "2   Mar  6438333   8420870\n",
       "3   Apr  5024973   8114839\n",
       "4   May  7327214  10809910\n",
       "5   Jun  5891620   8650904"
      ]
     },
     "execution_count": 4,
     "metadata": {},
     "output_type": "execute_result"
    }
   ],
   "source": [
    "data = {'month': month, 'kt': exp_kt, 'skt': exp_skt}\n",
    "df = DataFrame(data, columns=['month', 'kt', 'skt'])\n",
    "df"
   ]
  },
  {
   "cell_type": "code",
   "execution_count": 5,
   "metadata": {
    "collapsed": false,
    "slideshow": {
     "slide_type": "fragment"
    }
   },
   "outputs": [
    {
     "data": {
      "text/plain": [
       "Int64Index([0, 1, 2, 3, 4, 5], dtype='int64')"
      ]
     },
     "execution_count": 5,
     "metadata": {},
     "output_type": "execute_result"
    }
   ],
   "source": [
    "df.index"
   ]
  },
  {
   "cell_type": "code",
   "execution_count": 6,
   "metadata": {
    "collapsed": false,
    "slideshow": {
     "slide_type": "fragment"
    }
   },
   "outputs": [
    {
     "data": {
      "text/plain": [
       "array([['Jan', 7039177, 5277359],\n",
       "       ['Feb', 6960795, 9523039],\n",
       "       ['Mar', 6438333, 8420870],\n",
       "       ['Apr', 5024973, 8114839],\n",
       "       ['May', 7327214, 10809910],\n",
       "       ['Jun', 5891620, 8650904]], dtype=object)"
      ]
     },
     "execution_count": 6,
     "metadata": {},
     "output_type": "execute_result"
    }
   ],
   "source": [
    "# 값\n",
    "df.values"
   ]
  },
  {
   "cell_type": "code",
   "execution_count": 7,
   "metadata": {
    "collapsed": false,
    "slideshow": {
     "slide_type": "fragment"
    }
   },
   "outputs": [
    {
     "data": {
      "text/plain": [
       "Index(['month', 'kt', 'skt'], dtype='object')"
      ]
     },
     "execution_count": 7,
     "metadata": {},
     "output_type": "execute_result"
    }
   ],
   "source": [
    "# 컬럼\n",
    "df.columns"
   ]
  },
  {
   "cell_type": "markdown",
   "metadata": {
    "slideshow": {
     "slide_type": "slide"
    }
   },
   "source": [
    "# 컬럼 접근"
   ]
  },
  {
   "cell_type": "code",
   "execution_count": 6,
   "metadata": {
    "collapsed": false,
    "slideshow": {
     "slide_type": "fragment"
    }
   },
   "outputs": [
    {
     "data": {
      "text/plain": [
       "0    7039177\n",
       "1    6960795\n",
       "2    6438333\n",
       "3    5024973\n",
       "4    7327214\n",
       "5    5891620\n",
       "Name: kt, dtype: int64"
      ]
     },
     "execution_count": 6,
     "metadata": {},
     "output_type": "execute_result"
    }
   ],
   "source": [
    "df.month\n",
    "df.kt # df['kt']"
   ]
  },
  {
   "cell_type": "markdown",
   "metadata": {},
   "source": [
    "# 컬럼 추가"
   ]
  },
  {
   "cell_type": "code",
   "execution_count": 7,
   "metadata": {
    "collapsed": false,
    "slideshow": {
     "slide_type": "slide"
    }
   },
   "outputs": [
    {
     "data": {
      "text/html": [
       "<div>\n",
       "<table border=\"1\" class=\"dataframe\">\n",
       "  <thead>\n",
       "    <tr style=\"text-align: right;\">\n",
       "      <th></th>\n",
       "      <th>kt</th>\n",
       "      <th>month</th>\n",
       "      <th>skt</th>\n",
       "      <th>etc</th>\n",
       "    </tr>\n",
       "  </thead>\n",
       "  <tbody>\n",
       "    <tr>\n",
       "      <th>0</th>\n",
       "      <td>7039177</td>\n",
       "      <td>Jan</td>\n",
       "      <td>5277359</td>\n",
       "      <td>100</td>\n",
       "    </tr>\n",
       "    <tr>\n",
       "      <th>1</th>\n",
       "      <td>6960795</td>\n",
       "      <td>Feb</td>\n",
       "      <td>9523039</td>\n",
       "      <td>100</td>\n",
       "    </tr>\n",
       "    <tr>\n",
       "      <th>2</th>\n",
       "      <td>6438333</td>\n",
       "      <td>Mar</td>\n",
       "      <td>8420870</td>\n",
       "      <td>100</td>\n",
       "    </tr>\n",
       "    <tr>\n",
       "      <th>3</th>\n",
       "      <td>5024973</td>\n",
       "      <td>Apr</td>\n",
       "      <td>8114839</td>\n",
       "      <td>100</td>\n",
       "    </tr>\n",
       "    <tr>\n",
       "      <th>4</th>\n",
       "      <td>7327214</td>\n",
       "      <td>May</td>\n",
       "      <td>10809910</td>\n",
       "      <td>100</td>\n",
       "    </tr>\n",
       "    <tr>\n",
       "      <th>5</th>\n",
       "      <td>5891620</td>\n",
       "      <td>Jun</td>\n",
       "      <td>8650904</td>\n",
       "      <td>100</td>\n",
       "    </tr>\n",
       "  </tbody>\n",
       "</table>\n",
       "</div>"
      ],
      "text/plain": [
       "        kt month       skt  etc\n",
       "0  7039177   Jan   5277359  100\n",
       "1  6960795   Feb   9523039  100\n",
       "2  6438333   Mar   8420870  100\n",
       "3  5024973   Apr   8114839  100\n",
       "4  7327214   May  10809910  100\n",
       "5  5891620   Jun   8650904  100"
      ]
     },
     "execution_count": 7,
     "metadata": {},
     "output_type": "execute_result"
    }
   ],
   "source": [
    "df['etc'] = 100\n",
    "df"
   ]
  },
  {
   "cell_type": "markdown",
   "metadata": {
    "slideshow": {
     "slide_type": "slide"
    }
   },
   "source": [
    "# 컬럼간 연산"
   ]
  },
  {
   "cell_type": "code",
   "execution_count": 8,
   "metadata": {
    "collapsed": false,
    "slideshow": {
     "slide_type": "fragment"
    }
   },
   "outputs": [
    {
     "data": {
      "text/html": [
       "<div>\n",
       "<table border=\"1\" class=\"dataframe\">\n",
       "  <thead>\n",
       "    <tr style=\"text-align: right;\">\n",
       "      <th></th>\n",
       "      <th>kt</th>\n",
       "      <th>month</th>\n",
       "      <th>skt</th>\n",
       "      <th>etc</th>\n",
       "    </tr>\n",
       "  </thead>\n",
       "  <tbody>\n",
       "    <tr>\n",
       "      <th>0</th>\n",
       "      <td>7039177</td>\n",
       "      <td>Jan</td>\n",
       "      <td>5277359</td>\n",
       "      <td>110</td>\n",
       "    </tr>\n",
       "    <tr>\n",
       "      <th>1</th>\n",
       "      <td>6960795</td>\n",
       "      <td>Feb</td>\n",
       "      <td>9523039</td>\n",
       "      <td>110</td>\n",
       "    </tr>\n",
       "    <tr>\n",
       "      <th>2</th>\n",
       "      <td>6438333</td>\n",
       "      <td>Mar</td>\n",
       "      <td>8420870</td>\n",
       "      <td>110</td>\n",
       "    </tr>\n",
       "    <tr>\n",
       "      <th>3</th>\n",
       "      <td>5024973</td>\n",
       "      <td>Apr</td>\n",
       "      <td>8114839</td>\n",
       "      <td>110</td>\n",
       "    </tr>\n",
       "    <tr>\n",
       "      <th>4</th>\n",
       "      <td>7327214</td>\n",
       "      <td>May</td>\n",
       "      <td>10809910</td>\n",
       "      <td>110</td>\n",
       "    </tr>\n",
       "    <tr>\n",
       "      <th>5</th>\n",
       "      <td>5891620</td>\n",
       "      <td>Jun</td>\n",
       "      <td>8650904</td>\n",
       "      <td>110</td>\n",
       "    </tr>\n",
       "  </tbody>\n",
       "</table>\n",
       "</div>"
      ],
      "text/plain": [
       "        kt month       skt  etc\n",
       "0  7039177   Jan   5277359  110\n",
       "1  6960795   Feb   9523039  110\n",
       "2  6438333   Mar   8420870  110\n",
       "3  5024973   Apr   8114839  110\n",
       "4  7327214   May  10809910  110\n",
       "5  5891620   Jun   8650904  110"
      ]
     },
     "execution_count": 8,
     "metadata": {},
     "output_type": "execute_result"
    }
   ],
   "source": [
    "df['etc'] = df['etc'] + 10\n",
    "df"
   ]
  },
  {
   "cell_type": "markdown",
   "metadata": {
    "slideshow": {
     "slide_type": "slide"
    }
   },
   "source": [
    "# 컬럼 단위 데이터 변경\n",
    "단위 '천원', 100000로 나누어 억원'으로 단위 변경"
   ]
  },
  {
   "cell_type": "code",
   "execution_count": 11,
   "metadata": {
    "collapsed": false,
    "slideshow": {
     "slide_type": "fragment"
    }
   },
   "outputs": [
    {
     "data": {
      "text/html": [
       "<div>\n",
       "<table border=\"1\" class=\"dataframe\">\n",
       "  <thead>\n",
       "    <tr style=\"text-align: right;\">\n",
       "      <th></th>\n",
       "      <th>month</th>\n",
       "      <th>kt</th>\n",
       "      <th>skt</th>\n",
       "      <th>etc</th>\n",
       "    </tr>\n",
       "  </thead>\n",
       "  <tbody>\n",
       "    <tr>\n",
       "      <th>0</th>\n",
       "      <td>Jan</td>\n",
       "      <td>70.39177</td>\n",
       "      <td>52.77359</td>\n",
       "      <td>110</td>\n",
       "    </tr>\n",
       "    <tr>\n",
       "      <th>1</th>\n",
       "      <td>Feb</td>\n",
       "      <td>69.60795</td>\n",
       "      <td>95.23039</td>\n",
       "      <td>110</td>\n",
       "    </tr>\n",
       "    <tr>\n",
       "      <th>2</th>\n",
       "      <td>Mar</td>\n",
       "      <td>64.38333</td>\n",
       "      <td>84.20870</td>\n",
       "      <td>110</td>\n",
       "    </tr>\n",
       "    <tr>\n",
       "      <th>3</th>\n",
       "      <td>Apr</td>\n",
       "      <td>50.24973</td>\n",
       "      <td>81.14839</td>\n",
       "      <td>110</td>\n",
       "    </tr>\n",
       "    <tr>\n",
       "      <th>4</th>\n",
       "      <td>May</td>\n",
       "      <td>73.27214</td>\n",
       "      <td>108.09910</td>\n",
       "      <td>110</td>\n",
       "    </tr>\n",
       "    <tr>\n",
       "      <th>5</th>\n",
       "      <td>Jun</td>\n",
       "      <td>58.91620</td>\n",
       "      <td>86.50904</td>\n",
       "      <td>110</td>\n",
       "    </tr>\n",
       "  </tbody>\n",
       "</table>\n",
       "</div>"
      ],
      "text/plain": [
       "  month        kt        skt  etc\n",
       "0   Jan  70.39177   52.77359  110\n",
       "1   Feb  69.60795   95.23039  110\n",
       "2   Mar  64.38333   84.20870  110\n",
       "3   Apr  50.24973   81.14839  110\n",
       "4   May  73.27214  108.09910  110\n",
       "5   Jun  58.91620   86.50904  110"
      ]
     },
     "execution_count": 11,
     "metadata": {},
     "output_type": "execute_result"
    }
   ],
   "source": [
    "df['kt'] =  df['kt'] / 100000.\n",
    "df['skt'] =  df['skt'] / 100000.\n",
    "df"
   ]
  },
  {
   "cell_type": "markdown",
   "metadata": {
    "slideshow": {
     "slide_type": "slide"
    }
   },
   "source": [
    "# 컬럼간 연산"
   ]
  },
  {
   "cell_type": "code",
   "execution_count": 11,
   "metadata": {
    "collapsed": false,
    "slideshow": {
     "slide_type": "fragment"
    }
   },
   "outputs": [
    {
     "data": {
      "text/html": [
       "<div>\n",
       "<table border=\"1\" class=\"dataframe\">\n",
       "  <thead>\n",
       "    <tr style=\"text-align: right;\">\n",
       "      <th></th>\n",
       "      <th>kt</th>\n",
       "      <th>month</th>\n",
       "      <th>skt</th>\n",
       "      <th>etc</th>\n",
       "      <th>sum</th>\n",
       "    </tr>\n",
       "  </thead>\n",
       "  <tbody>\n",
       "    <tr>\n",
       "      <th>0</th>\n",
       "      <td>7039177</td>\n",
       "      <td>Jan</td>\n",
       "      <td>5277359</td>\n",
       "      <td>110</td>\n",
       "      <td>12316536</td>\n",
       "    </tr>\n",
       "    <tr>\n",
       "      <th>1</th>\n",
       "      <td>6960795</td>\n",
       "      <td>Feb</td>\n",
       "      <td>9523039</td>\n",
       "      <td>110</td>\n",
       "      <td>16483834</td>\n",
       "    </tr>\n",
       "    <tr>\n",
       "      <th>2</th>\n",
       "      <td>6438333</td>\n",
       "      <td>Mar</td>\n",
       "      <td>8420870</td>\n",
       "      <td>110</td>\n",
       "      <td>14859203</td>\n",
       "    </tr>\n",
       "    <tr>\n",
       "      <th>3</th>\n",
       "      <td>5024973</td>\n",
       "      <td>Apr</td>\n",
       "      <td>8114839</td>\n",
       "      <td>110</td>\n",
       "      <td>13139812</td>\n",
       "    </tr>\n",
       "    <tr>\n",
       "      <th>4</th>\n",
       "      <td>7327214</td>\n",
       "      <td>May</td>\n",
       "      <td>10809910</td>\n",
       "      <td>110</td>\n",
       "      <td>18137124</td>\n",
       "    </tr>\n",
       "    <tr>\n",
       "      <th>5</th>\n",
       "      <td>5891620</td>\n",
       "      <td>Jun</td>\n",
       "      <td>8650904</td>\n",
       "      <td>110</td>\n",
       "      <td>14542524</td>\n",
       "    </tr>\n",
       "  </tbody>\n",
       "</table>\n",
       "</div>"
      ],
      "text/plain": [
       "        kt month       skt  etc       sum\n",
       "0  7039177   Jan   5277359  110  12316536\n",
       "1  6960795   Feb   9523039  110  16483834\n",
       "2  6438333   Mar   8420870  110  14859203\n",
       "3  5024973   Apr   8114839  110  13139812\n",
       "4  7327214   May  10809910  110  18137124\n",
       "5  5891620   Jun   8650904  110  14542524"
      ]
     },
     "execution_count": 11,
     "metadata": {},
     "output_type": "execute_result"
    }
   ],
   "source": [
    "df['sum'] = np.round(df['kt'] + df['skt'], 1)\n",
    "df"
   ]
  },
  {
   "cell_type": "markdown",
   "metadata": {
    "slideshow": {
     "slide_type": "slide"
    }
   },
   "source": [
    "# 컬럼삭제"
   ]
  },
  {
   "cell_type": "code",
   "execution_count": 12,
   "metadata": {
    "collapsed": false,
    "slideshow": {
     "slide_type": "fragment"
    }
   },
   "outputs": [
    {
     "data": {
      "text/html": [
       "<div>\n",
       "<table border=\"1\" class=\"dataframe\">\n",
       "  <thead>\n",
       "    <tr style=\"text-align: right;\">\n",
       "      <th></th>\n",
       "      <th>kt</th>\n",
       "      <th>month</th>\n",
       "      <th>skt</th>\n",
       "      <th>sum</th>\n",
       "    </tr>\n",
       "  </thead>\n",
       "  <tbody>\n",
       "    <tr>\n",
       "      <th>0</th>\n",
       "      <td>7039177</td>\n",
       "      <td>Jan</td>\n",
       "      <td>5277359</td>\n",
       "      <td>12316536</td>\n",
       "    </tr>\n",
       "    <tr>\n",
       "      <th>1</th>\n",
       "      <td>6960795</td>\n",
       "      <td>Feb</td>\n",
       "      <td>9523039</td>\n",
       "      <td>16483834</td>\n",
       "    </tr>\n",
       "    <tr>\n",
       "      <th>2</th>\n",
       "      <td>6438333</td>\n",
       "      <td>Mar</td>\n",
       "      <td>8420870</td>\n",
       "      <td>14859203</td>\n",
       "    </tr>\n",
       "    <tr>\n",
       "      <th>3</th>\n",
       "      <td>5024973</td>\n",
       "      <td>Apr</td>\n",
       "      <td>8114839</td>\n",
       "      <td>13139812</td>\n",
       "    </tr>\n",
       "    <tr>\n",
       "      <th>4</th>\n",
       "      <td>7327214</td>\n",
       "      <td>May</td>\n",
       "      <td>10809910</td>\n",
       "      <td>18137124</td>\n",
       "    </tr>\n",
       "    <tr>\n",
       "      <th>5</th>\n",
       "      <td>5891620</td>\n",
       "      <td>Jun</td>\n",
       "      <td>8650904</td>\n",
       "      <td>14542524</td>\n",
       "    </tr>\n",
       "  </tbody>\n",
       "</table>\n",
       "</div>"
      ],
      "text/plain": [
       "        kt month       skt       sum\n",
       "0  7039177   Jan   5277359  12316536\n",
       "1  6960795   Feb   9523039  16483834\n",
       "2  6438333   Mar   8420870  14859203\n",
       "3  5024973   Apr   8114839  13139812\n",
       "4  7327214   May  10809910  18137124\n",
       "5  5891620   Jun   8650904  14542524"
      ]
     },
     "execution_count": 12,
     "metadata": {},
     "output_type": "execute_result"
    }
   ],
   "source": [
    "del df['etc']\n",
    "df"
   ]
  },
  {
   "cell_type": "markdown",
   "metadata": {},
   "source": [
    "# 로우 삭제는 drop을 사용"
   ]
  },
  {
   "cell_type": "code",
   "execution_count": 13,
   "metadata": {
    "collapsed": false,
    "slideshow": {
     "slide_type": "subslide"
    }
   },
   "outputs": [
    {
     "data": {
      "text/html": [
       "<div>\n",
       "<table border=\"1\" class=\"dataframe\">\n",
       "  <thead>\n",
       "    <tr style=\"text-align: right;\">\n",
       "      <th></th>\n",
       "      <th>kt</th>\n",
       "      <th>month</th>\n",
       "      <th>skt</th>\n",
       "      <th>sum</th>\n",
       "    </tr>\n",
       "  </thead>\n",
       "  <tbody>\n",
       "    <tr>\n",
       "      <th>0</th>\n",
       "      <td>7039177</td>\n",
       "      <td>Jan</td>\n",
       "      <td>5277359</td>\n",
       "      <td>12316536</td>\n",
       "    </tr>\n",
       "    <tr>\n",
       "      <th>1</th>\n",
       "      <td>6960795</td>\n",
       "      <td>Feb</td>\n",
       "      <td>9523039</td>\n",
       "      <td>16483834</td>\n",
       "    </tr>\n",
       "    <tr>\n",
       "      <th>2</th>\n",
       "      <td>6438333</td>\n",
       "      <td>Mar</td>\n",
       "      <td>8420870</td>\n",
       "      <td>14859203</td>\n",
       "    </tr>\n",
       "    <tr>\n",
       "      <th>3</th>\n",
       "      <td>5024973</td>\n",
       "      <td>Apr</td>\n",
       "      <td>8114839</td>\n",
       "      <td>13139812</td>\n",
       "    </tr>\n",
       "  </tbody>\n",
       "</table>\n",
       "</div>"
      ],
      "text/plain": [
       "        kt month      skt       sum\n",
       "0  7039177   Jan  5277359  12316536\n",
       "1  6960795   Feb  9523039  16483834\n",
       "2  6438333   Mar  8420870  14859203\n",
       "3  5024973   Apr  8114839  13139812"
      ]
     },
     "execution_count": 13,
     "metadata": {},
     "output_type": "execute_result"
    }
   ],
   "source": [
    "r_df = df.drop([4,5])\n",
    "r_df"
   ]
  },
  {
   "cell_type": "markdown",
   "metadata": {},
   "source": [
    "# 컬럼 삭제는 drop 사용, 축 지정"
   ]
  },
  {
   "cell_type": "code",
   "execution_count": 14,
   "metadata": {
    "collapsed": false
   },
   "outputs": [
    {
     "data": {
      "text/html": [
       "<div>\n",
       "<table border=\"1\" class=\"dataframe\">\n",
       "  <thead>\n",
       "    <tr style=\"text-align: right;\">\n",
       "      <th></th>\n",
       "      <th>kt</th>\n",
       "      <th>month</th>\n",
       "      <th>skt</th>\n",
       "    </tr>\n",
       "  </thead>\n",
       "  <tbody>\n",
       "    <tr>\n",
       "      <th>0</th>\n",
       "      <td>7039177</td>\n",
       "      <td>Jan</td>\n",
       "      <td>5277359</td>\n",
       "    </tr>\n",
       "    <tr>\n",
       "      <th>1</th>\n",
       "      <td>6960795</td>\n",
       "      <td>Feb</td>\n",
       "      <td>9523039</td>\n",
       "    </tr>\n",
       "    <tr>\n",
       "      <th>2</th>\n",
       "      <td>6438333</td>\n",
       "      <td>Mar</td>\n",
       "      <td>8420870</td>\n",
       "    </tr>\n",
       "    <tr>\n",
       "      <th>3</th>\n",
       "      <td>5024973</td>\n",
       "      <td>Apr</td>\n",
       "      <td>8114839</td>\n",
       "    </tr>\n",
       "    <tr>\n",
       "      <th>4</th>\n",
       "      <td>7327214</td>\n",
       "      <td>May</td>\n",
       "      <td>10809910</td>\n",
       "    </tr>\n",
       "    <tr>\n",
       "      <th>5</th>\n",
       "      <td>5891620</td>\n",
       "      <td>Jun</td>\n",
       "      <td>8650904</td>\n",
       "    </tr>\n",
       "  </tbody>\n",
       "</table>\n",
       "</div>"
      ],
      "text/plain": [
       "        kt month       skt\n",
       "0  7039177   Jan   5277359\n",
       "1  6960795   Feb   9523039\n",
       "2  6438333   Mar   8420870\n",
       "3  5024973   Apr   8114839\n",
       "4  7327214   May  10809910\n",
       "5  5891620   Jun   8650904"
      ]
     },
     "execution_count": 14,
     "metadata": {},
     "output_type": "execute_result"
    }
   ],
   "source": [
    "r_df = df.drop(['sum'], axis=1)\n",
    "r_df"
   ]
  },
  {
   "cell_type": "markdown",
   "metadata": {
    "slideshow": {
     "slide_type": "slide"
    }
   },
   "source": [
    "## DataFame 복사"
   ]
  },
  {
   "cell_type": "code",
   "execution_count": 18,
   "metadata": {
    "collapsed": false,
    "slideshow": {
     "slide_type": "fragment"
    }
   },
   "outputs": [],
   "source": [
    "df2 = df.copy()"
   ]
  },
  {
   "cell_type": "markdown",
   "metadata": {
    "slideshow": {
     "slide_type": "slide"
    }
   },
   "source": [
    "## ix\n",
    "* data.ix[rows]  rows 부분의 로우 선택\n",
    "* data.ix[:, cols]  cols 부분의 컬럼 선택\n",
    "* data.ix[rows, cols]  rows와 cols에 대항하는 로우와 컬럼 선택\n"
   ]
  },
  {
   "cell_type": "code",
   "execution_count": 16,
   "metadata": {
    "collapsed": false,
    "slideshow": {
     "slide_type": "fragment"
    }
   },
   "outputs": [
    {
     "data": {
      "text/html": [
       "<div>\n",
       "<table border=\"1\" class=\"dataframe\">\n",
       "  <thead>\n",
       "    <tr style=\"text-align: right;\">\n",
       "      <th></th>\n",
       "      <th>kt</th>\n",
       "      <th>month</th>\n",
       "      <th>skt</th>\n",
       "      <th>sum</th>\n",
       "    </tr>\n",
       "  </thead>\n",
       "  <tbody>\n",
       "    <tr>\n",
       "      <th>0</th>\n",
       "      <td>7039177</td>\n",
       "      <td>Jan</td>\n",
       "      <td>5277359</td>\n",
       "      <td>12316536</td>\n",
       "    </tr>\n",
       "    <tr>\n",
       "      <th>1</th>\n",
       "      <td>6960795</td>\n",
       "      <td>Feb</td>\n",
       "      <td>9523039</td>\n",
       "      <td>16483834</td>\n",
       "    </tr>\n",
       "    <tr>\n",
       "      <th>2</th>\n",
       "      <td>6438333</td>\n",
       "      <td>Mar</td>\n",
       "      <td>8420870</td>\n",
       "      <td>14859203</td>\n",
       "    </tr>\n",
       "    <tr>\n",
       "      <th>3</th>\n",
       "      <td>5024973</td>\n",
       "      <td>Apr</td>\n",
       "      <td>8114839</td>\n",
       "      <td>13139812</td>\n",
       "    </tr>\n",
       "    <tr>\n",
       "      <th>4</th>\n",
       "      <td>7327214</td>\n",
       "      <td>May</td>\n",
       "      <td>10809910</td>\n",
       "      <td>18137124</td>\n",
       "    </tr>\n",
       "    <tr>\n",
       "      <th>5</th>\n",
       "      <td>5891620</td>\n",
       "      <td>Jun</td>\n",
       "      <td>8650904</td>\n",
       "      <td>14542524</td>\n",
       "    </tr>\n",
       "  </tbody>\n",
       "</table>\n",
       "</div>"
      ],
      "text/plain": [
       "        kt month       skt       sum\n",
       "0  7039177   Jan   5277359  12316536\n",
       "1  6960795   Feb   9523039  16483834\n",
       "2  6438333   Mar   8420870  14859203\n",
       "3  5024973   Apr   8114839  13139812\n",
       "4  7327214   May  10809910  18137124\n",
       "5  5891620   Jun   8650904  14542524"
      ]
     },
     "execution_count": 16,
     "metadata": {},
     "output_type": "execute_result"
    }
   ],
   "source": [
    "df"
   ]
  },
  {
   "cell_type": "code",
   "execution_count": 15,
   "metadata": {
    "collapsed": false,
    "slideshow": {
     "slide_type": "fragment"
    }
   },
   "outputs": [
    {
     "data": {
      "text/plain": [
       "kt        6438333\n",
       "month         Mar\n",
       "skt       8420870\n",
       "sum      14859203\n",
       "Name: 2, dtype: object"
      ]
     },
     "execution_count": 15,
     "metadata": {},
     "output_type": "execute_result"
    }
   ],
   "source": [
    "df.ix[2] # 인덱스 2 로우"
   ]
  },
  {
   "cell_type": "code",
   "execution_count": 21,
   "metadata": {
    "collapsed": false,
    "slideshow": {
     "slide_type": "subslide"
    }
   },
   "outputs": [
    {
     "data": {
      "text/html": [
       "<div>\n",
       "<table border=\"1\" class=\"dataframe\">\n",
       "  <thead>\n",
       "    <tr style=\"text-align: right;\">\n",
       "      <th></th>\n",
       "      <th>month</th>\n",
       "      <th>kt</th>\n",
       "      <th>skt</th>\n",
       "      <th>sum</th>\n",
       "    </tr>\n",
       "  </thead>\n",
       "  <tbody>\n",
       "    <tr>\n",
       "      <th>3</th>\n",
       "      <td>Apr</td>\n",
       "      <td>50.24973</td>\n",
       "      <td>81.14839</td>\n",
       "      <td>131.4</td>\n",
       "    </tr>\n",
       "    <tr>\n",
       "      <th>4</th>\n",
       "      <td>May</td>\n",
       "      <td>73.27214</td>\n",
       "      <td>108.09910</td>\n",
       "      <td>181.4</td>\n",
       "    </tr>\n",
       "  </tbody>\n",
       "</table>\n",
       "</div>"
      ],
      "text/plain": [
       "  month        kt        skt    sum\n",
       "3   Apr  50.24973   81.14839  131.4\n",
       "4   May  73.27214  108.09910  181.4"
      ]
     },
     "execution_count": 21,
     "metadata": {},
     "output_type": "execute_result"
    }
   ],
   "source": [
    "df[3:5] # row 3~4"
   ]
  },
  {
   "cell_type": "code",
   "execution_count": 22,
   "metadata": {
    "collapsed": false,
    "slideshow": {
     "slide_type": "fragment"
    }
   },
   "outputs": [
    {
     "data": {
      "text/html": [
       "<div>\n",
       "<table border=\"1\" class=\"dataframe\">\n",
       "  <thead>\n",
       "    <tr style=\"text-align: right;\">\n",
       "      <th></th>\n",
       "      <th>month</th>\n",
       "      <th>kt</th>\n",
       "      <th>skt</th>\n",
       "      <th>sum</th>\n",
       "    </tr>\n",
       "  </thead>\n",
       "  <tbody>\n",
       "    <tr>\n",
       "      <th>3</th>\n",
       "      <td>Apr</td>\n",
       "      <td>50.24973</td>\n",
       "      <td>81.14839</td>\n",
       "      <td>131.4</td>\n",
       "    </tr>\n",
       "    <tr>\n",
       "      <th>4</th>\n",
       "      <td>May</td>\n",
       "      <td>73.27214</td>\n",
       "      <td>108.09910</td>\n",
       "      <td>181.4</td>\n",
       "    </tr>\n",
       "    <tr>\n",
       "      <th>5</th>\n",
       "      <td>Jun</td>\n",
       "      <td>58.91620</td>\n",
       "      <td>86.50904</td>\n",
       "      <td>145.4</td>\n",
       "    </tr>\n",
       "  </tbody>\n",
       "</table>\n",
       "</div>"
      ],
      "text/plain": [
       "  month        kt        skt    sum\n",
       "3   Apr  50.24973   81.14839  131.4\n",
       "4   May  73.27214  108.09910  181.4\n",
       "5   Jun  58.91620   86.50904  145.4"
      ]
     },
     "execution_count": 22,
     "metadata": {},
     "output_type": "execute_result"
    }
   ],
   "source": [
    "df.ix[3:5] # row 3~5"
   ]
  },
  {
   "cell_type": "code",
   "execution_count": 23,
   "metadata": {
    "collapsed": false,
    "slideshow": {
     "slide_type": "slide"
    }
   },
   "outputs": [
    {
     "data": {
      "text/html": [
       "<div>\n",
       "<table border=\"1\" class=\"dataframe\">\n",
       "  <thead>\n",
       "    <tr style=\"text-align: right;\">\n",
       "      <th></th>\n",
       "      <th>skt</th>\n",
       "      <th>sum</th>\n",
       "    </tr>\n",
       "  </thead>\n",
       "  <tbody>\n",
       "    <tr>\n",
       "      <th>0</th>\n",
       "      <td>52.77359</td>\n",
       "      <td>123.2</td>\n",
       "    </tr>\n",
       "    <tr>\n",
       "      <th>1</th>\n",
       "      <td>95.23039</td>\n",
       "      <td>164.8</td>\n",
       "    </tr>\n",
       "    <tr>\n",
       "      <th>2</th>\n",
       "      <td>84.20870</td>\n",
       "      <td>148.6</td>\n",
       "    </tr>\n",
       "    <tr>\n",
       "      <th>3</th>\n",
       "      <td>81.14839</td>\n",
       "      <td>131.4</td>\n",
       "    </tr>\n",
       "    <tr>\n",
       "      <th>4</th>\n",
       "      <td>108.09910</td>\n",
       "      <td>181.4</td>\n",
       "    </tr>\n",
       "    <tr>\n",
       "      <th>5</th>\n",
       "      <td>86.50904</td>\n",
       "      <td>145.4</td>\n",
       "    </tr>\n",
       "  </tbody>\n",
       "</table>\n",
       "</div>"
      ],
      "text/plain": [
       "         skt    sum\n",
       "0   52.77359  123.2\n",
       "1   95.23039  164.8\n",
       "2   84.20870  148.6\n",
       "3   81.14839  131.4\n",
       "4  108.09910  181.4\n",
       "5   86.50904  145.4"
      ]
     },
     "execution_count": 23,
     "metadata": {},
     "output_type": "execute_result"
    }
   ],
   "source": [
    "df.ix[:, 'skt':'sum'] # 컬럼 'skt'~'sum' 선택 "
   ]
  },
  {
   "cell_type": "code",
   "execution_count": 24,
   "metadata": {
    "collapsed": false,
    "slideshow": {
     "slide_type": "fragment"
    }
   },
   "outputs": [
    {
     "data": {
      "text/html": [
       "<div>\n",
       "<table border=\"1\" class=\"dataframe\">\n",
       "  <thead>\n",
       "    <tr style=\"text-align: right;\">\n",
       "      <th></th>\n",
       "      <th>kt</th>\n",
       "      <th>sum</th>\n",
       "    </tr>\n",
       "  </thead>\n",
       "  <tbody>\n",
       "    <tr>\n",
       "      <th>0</th>\n",
       "      <td>70.39177</td>\n",
       "      <td>123.2</td>\n",
       "    </tr>\n",
       "    <tr>\n",
       "      <th>1</th>\n",
       "      <td>69.60795</td>\n",
       "      <td>164.8</td>\n",
       "    </tr>\n",
       "    <tr>\n",
       "      <th>2</th>\n",
       "      <td>64.38333</td>\n",
       "      <td>148.6</td>\n",
       "    </tr>\n",
       "  </tbody>\n",
       "</table>\n",
       "</div>"
      ],
      "text/plain": [
       "         kt    sum\n",
       "0  70.39177  123.2\n",
       "1  69.60795  164.8\n",
       "2  64.38333  148.6"
      ]
     },
     "execution_count": 24,
     "metadata": {},
     "output_type": "execute_result"
    }
   ],
   "source": [
    "df.ix[:2, ['kt','sum']] # 로우 처음부터~2까지, 컬럼  'kt','sum'  선택"
   ]
  },
  {
   "cell_type": "markdown",
   "metadata": {
    "slideshow": {
     "slide_type": "slide"
    }
   },
   "source": [
    "## 불린 인덱스"
   ]
  },
  {
   "cell_type": "code",
   "execution_count": 25,
   "metadata": {
    "collapsed": false,
    "slideshow": {
     "slide_type": "fragment"
    }
   },
   "outputs": [
    {
     "data": {
      "text/html": [
       "<div>\n",
       "<table border=\"1\" class=\"dataframe\">\n",
       "  <thead>\n",
       "    <tr style=\"text-align: right;\">\n",
       "      <th></th>\n",
       "      <th>month</th>\n",
       "      <th>kt</th>\n",
       "      <th>skt</th>\n",
       "      <th>sum</th>\n",
       "    </tr>\n",
       "  </thead>\n",
       "  <tbody>\n",
       "    <tr>\n",
       "      <th>1</th>\n",
       "      <td>Feb</td>\n",
       "      <td>69.60795</td>\n",
       "      <td>95.23039</td>\n",
       "      <td>164.8</td>\n",
       "    </tr>\n",
       "    <tr>\n",
       "      <th>4</th>\n",
       "      <td>May</td>\n",
       "      <td>73.27214</td>\n",
       "      <td>108.09910</td>\n",
       "      <td>181.4</td>\n",
       "    </tr>\n",
       "  </tbody>\n",
       "</table>\n",
       "</div>"
      ],
      "text/plain": [
       "  month        kt        skt    sum\n",
       "1   Feb  69.60795   95.23039  164.8\n",
       "4   May  73.27214  108.09910  181.4"
      ]
     },
     "execution_count": 25,
     "metadata": {},
     "output_type": "execute_result"
    }
   ],
   "source": [
    "df[df.skt > 90]"
   ]
  },
  {
   "cell_type": "markdown",
   "metadata": {
    "slideshow": {
     "slide_type": "slide"
    }
   },
   "source": [
    "## 다수의 불린 인덱스\n",
    "* 두개 이상의 컬럼에 대한 조건으로 인덱싱을 할 때는 '&'(AND), '|'(OR), '^'(XOR)연산을 쓸 수 있다. \n",
    "* 괄호로 묶어주어야 한다."
   ]
  },
  {
   "cell_type": "code",
   "execution_count": 19,
   "metadata": {
    "collapsed": false,
    "slideshow": {
     "slide_type": "fragment"
    }
   },
   "outputs": [
    {
     "data": {
      "text/html": [
       "<div>\n",
       "<table border=\"1\" class=\"dataframe\">\n",
       "  <thead>\n",
       "    <tr style=\"text-align: right;\">\n",
       "      <th></th>\n",
       "      <th>kt</th>\n",
       "      <th>month</th>\n",
       "      <th>skt</th>\n",
       "      <th>sum</th>\n",
       "    </tr>\n",
       "  </thead>\n",
       "  <tbody>\n",
       "    <tr>\n",
       "      <th>0</th>\n",
       "      <td>7039177</td>\n",
       "      <td>Jan</td>\n",
       "      <td>5277359</td>\n",
       "      <td>12316536</td>\n",
       "    </tr>\n",
       "    <tr>\n",
       "      <th>1</th>\n",
       "      <td>6960795</td>\n",
       "      <td>Feb</td>\n",
       "      <td>9523039</td>\n",
       "      <td>16483834</td>\n",
       "    </tr>\n",
       "    <tr>\n",
       "      <th>2</th>\n",
       "      <td>6438333</td>\n",
       "      <td>Mar</td>\n",
       "      <td>8420870</td>\n",
       "      <td>14859203</td>\n",
       "    </tr>\n",
       "    <tr>\n",
       "      <th>3</th>\n",
       "      <td>5024973</td>\n",
       "      <td>Apr</td>\n",
       "      <td>8114839</td>\n",
       "      <td>13139812</td>\n",
       "    </tr>\n",
       "    <tr>\n",
       "      <th>4</th>\n",
       "      <td>7327214</td>\n",
       "      <td>May</td>\n",
       "      <td>10809910</td>\n",
       "      <td>18137124</td>\n",
       "    </tr>\n",
       "    <tr>\n",
       "      <th>5</th>\n",
       "      <td>5891620</td>\n",
       "      <td>Jun</td>\n",
       "      <td>8650904</td>\n",
       "      <td>14542524</td>\n",
       "    </tr>\n",
       "  </tbody>\n",
       "</table>\n",
       "</div>"
      ],
      "text/plain": [
       "        kt month       skt       sum\n",
       "0  7039177   Jan   5277359  12316536\n",
       "1  6960795   Feb   9523039  16483834\n",
       "2  6438333   Mar   8420870  14859203\n",
       "3  5024973   Apr   8114839  13139812\n",
       "4  7327214   May  10809910  18137124\n",
       "5  5891620   Jun   8650904  14542524"
      ]
     },
     "execution_count": 19,
     "metadata": {},
     "output_type": "execute_result"
    }
   ],
   "source": [
    "df[(df.skt > 50) & (df.kt > 70)]"
   ]
  },
  {
   "cell_type": "code",
   "execution_count": 27,
   "metadata": {
    "collapsed": false,
    "slideshow": {
     "slide_type": "subslide"
    }
   },
   "outputs": [
    {
     "data": {
      "text/html": [
       "<div>\n",
       "<table border=\"1\" class=\"dataframe\">\n",
       "  <thead>\n",
       "    <tr style=\"text-align: right;\">\n",
       "      <th></th>\n",
       "      <th>month</th>\n",
       "      <th>kt</th>\n",
       "      <th>skt</th>\n",
       "      <th>sum</th>\n",
       "    </tr>\n",
       "  </thead>\n",
       "  <tbody>\n",
       "    <tr>\n",
       "      <th>0</th>\n",
       "      <td>Jan</td>\n",
       "      <td>70.39177</td>\n",
       "      <td>52.77359</td>\n",
       "      <td>123.2</td>\n",
       "    </tr>\n",
       "    <tr>\n",
       "      <th>1</th>\n",
       "      <td>Feb</td>\n",
       "      <td>69.60795</td>\n",
       "      <td>95.23039</td>\n",
       "      <td>164.8</td>\n",
       "    </tr>\n",
       "    <tr>\n",
       "      <th>4</th>\n",
       "      <td>May</td>\n",
       "      <td>73.27214</td>\n",
       "      <td>108.09910</td>\n",
       "      <td>181.4</td>\n",
       "    </tr>\n",
       "  </tbody>\n",
       "</table>\n",
       "</div>"
      ],
      "text/plain": [
       "  month        kt        skt    sum\n",
       "0   Jan  70.39177   52.77359  123.2\n",
       "1   Feb  69.60795   95.23039  164.8\n",
       "4   May  73.27214  108.09910  181.4"
      ]
     },
     "execution_count": 27,
     "metadata": {},
     "output_type": "execute_result"
    }
   ],
   "source": [
    "df[(df.skt > 90) | (df.kt > 70)]"
   ]
  },
  {
   "cell_type": "markdown",
   "metadata": {
    "slideshow": {
     "slide_type": "slide"
    }
   },
   "source": [
    "## 인덱스\n",
    "* 인덱스는 로우, 컬럼의 이름과 정보를 저장하는 객체\n",
    "* 색인은 변경할 수 없다 (공유), immutable\n",
    "* 종류: Index, Int64Index, MultiIndex (다중), DatetimeIndex (날짜시간), PeriodIndex (기간)\n",
    "\n"
   ]
  },
  {
   "cell_type": "markdown",
   "metadata": {
    "slideshow": {
     "slide_type": "slide"
    }
   },
   "source": [
    "## 소트"
   ]
  },
  {
   "cell_type": "code",
   "execution_count": 28,
   "metadata": {
    "collapsed": false,
    "slideshow": {
     "slide_type": "fragment"
    }
   },
   "outputs": [
    {
     "data": {
      "text/html": [
       "<div>\n",
       "<table border=\"1\" class=\"dataframe\">\n",
       "  <thead>\n",
       "    <tr style=\"text-align: right;\">\n",
       "      <th></th>\n",
       "      <th>month</th>\n",
       "      <th>kt</th>\n",
       "      <th>skt</th>\n",
       "      <th>sum</th>\n",
       "    </tr>\n",
       "  </thead>\n",
       "  <tbody>\n",
       "    <tr>\n",
       "      <th>5</th>\n",
       "      <td>Jun</td>\n",
       "      <td>58.91620</td>\n",
       "      <td>86.50904</td>\n",
       "      <td>145.4</td>\n",
       "    </tr>\n",
       "    <tr>\n",
       "      <th>4</th>\n",
       "      <td>May</td>\n",
       "      <td>73.27214</td>\n",
       "      <td>108.09910</td>\n",
       "      <td>181.4</td>\n",
       "    </tr>\n",
       "    <tr>\n",
       "      <th>3</th>\n",
       "      <td>Apr</td>\n",
       "      <td>50.24973</td>\n",
       "      <td>81.14839</td>\n",
       "      <td>131.4</td>\n",
       "    </tr>\n",
       "    <tr>\n",
       "      <th>2</th>\n",
       "      <td>Mar</td>\n",
       "      <td>64.38333</td>\n",
       "      <td>84.20870</td>\n",
       "      <td>148.6</td>\n",
       "    </tr>\n",
       "    <tr>\n",
       "      <th>1</th>\n",
       "      <td>Feb</td>\n",
       "      <td>69.60795</td>\n",
       "      <td>95.23039</td>\n",
       "      <td>164.8</td>\n",
       "    </tr>\n",
       "    <tr>\n",
       "      <th>0</th>\n",
       "      <td>Jan</td>\n",
       "      <td>70.39177</td>\n",
       "      <td>52.77359</td>\n",
       "      <td>123.2</td>\n",
       "    </tr>\n",
       "  </tbody>\n",
       "</table>\n",
       "</div>"
      ],
      "text/plain": [
       "  month        kt        skt    sum\n",
       "5   Jun  58.91620   86.50904  145.4\n",
       "4   May  73.27214  108.09910  181.4\n",
       "3   Apr  50.24973   81.14839  131.4\n",
       "2   Mar  64.38333   84.20870  148.6\n",
       "1   Feb  69.60795   95.23039  164.8\n",
       "0   Jan  70.39177   52.77359  123.2"
      ]
     },
     "execution_count": 28,
     "metadata": {},
     "output_type": "execute_result"
    }
   ],
   "source": [
    "# 인덱스로 소트 (내림차순)\n",
    "df.sort_index(ascending=False) "
   ]
  },
  {
   "cell_type": "code",
   "execution_count": 29,
   "metadata": {
    "collapsed": false,
    "slideshow": {
     "slide_type": "subslide"
    }
   },
   "outputs": [
    {
     "data": {
      "text/html": [
       "<div>\n",
       "<table border=\"1\" class=\"dataframe\">\n",
       "  <thead>\n",
       "    <tr style=\"text-align: right;\">\n",
       "      <th></th>\n",
       "      <th>kt</th>\n",
       "      <th>month</th>\n",
       "      <th>skt</th>\n",
       "      <th>sum</th>\n",
       "    </tr>\n",
       "  </thead>\n",
       "  <tbody>\n",
       "    <tr>\n",
       "      <th>0</th>\n",
       "      <td>70.39177</td>\n",
       "      <td>Jan</td>\n",
       "      <td>52.77359</td>\n",
       "      <td>123.2</td>\n",
       "    </tr>\n",
       "    <tr>\n",
       "      <th>1</th>\n",
       "      <td>69.60795</td>\n",
       "      <td>Feb</td>\n",
       "      <td>95.23039</td>\n",
       "      <td>164.8</td>\n",
       "    </tr>\n",
       "    <tr>\n",
       "      <th>2</th>\n",
       "      <td>64.38333</td>\n",
       "      <td>Mar</td>\n",
       "      <td>84.20870</td>\n",
       "      <td>148.6</td>\n",
       "    </tr>\n",
       "    <tr>\n",
       "      <th>3</th>\n",
       "      <td>50.24973</td>\n",
       "      <td>Apr</td>\n",
       "      <td>81.14839</td>\n",
       "      <td>131.4</td>\n",
       "    </tr>\n",
       "    <tr>\n",
       "      <th>4</th>\n",
       "      <td>73.27214</td>\n",
       "      <td>May</td>\n",
       "      <td>108.09910</td>\n",
       "      <td>181.4</td>\n",
       "    </tr>\n",
       "    <tr>\n",
       "      <th>5</th>\n",
       "      <td>58.91620</td>\n",
       "      <td>Jun</td>\n",
       "      <td>86.50904</td>\n",
       "      <td>145.4</td>\n",
       "    </tr>\n",
       "  </tbody>\n",
       "</table>\n",
       "</div>"
      ],
      "text/plain": [
       "         kt month        skt    sum\n",
       "0  70.39177   Jan   52.77359  123.2\n",
       "1  69.60795   Feb   95.23039  164.8\n",
       "2  64.38333   Mar   84.20870  148.6\n",
       "3  50.24973   Apr   81.14839  131.4\n",
       "4  73.27214   May  108.09910  181.4\n",
       "5  58.91620   Jun   86.50904  145.4"
      ]
     },
     "execution_count": 29,
     "metadata": {},
     "output_type": "execute_result"
    }
   ],
   "source": [
    "# 컬럼으로 소트 (오름차순)\n",
    "df.sort_index(axis=1, ascending=True) \n"
   ]
  },
  {
   "cell_type": "code",
   "execution_count": 30,
   "metadata": {
    "collapsed": false,
    "slideshow": {
     "slide_type": "subslide"
    }
   },
   "outputs": [
    {
     "data": {
      "text/html": [
       "<div>\n",
       "<table border=\"1\" class=\"dataframe\">\n",
       "  <thead>\n",
       "    <tr style=\"text-align: right;\">\n",
       "      <th></th>\n",
       "      <th>month</th>\n",
       "      <th>kt</th>\n",
       "      <th>skt</th>\n",
       "      <th>sum</th>\n",
       "    </tr>\n",
       "  </thead>\n",
       "  <tbody>\n",
       "    <tr>\n",
       "      <th>4</th>\n",
       "      <td>May</td>\n",
       "      <td>73.27214</td>\n",
       "      <td>108.09910</td>\n",
       "      <td>181.4</td>\n",
       "    </tr>\n",
       "    <tr>\n",
       "      <th>1</th>\n",
       "      <td>Feb</td>\n",
       "      <td>69.60795</td>\n",
       "      <td>95.23039</td>\n",
       "      <td>164.8</td>\n",
       "    </tr>\n",
       "    <tr>\n",
       "      <th>5</th>\n",
       "      <td>Jun</td>\n",
       "      <td>58.91620</td>\n",
       "      <td>86.50904</td>\n",
       "      <td>145.4</td>\n",
       "    </tr>\n",
       "    <tr>\n",
       "      <th>2</th>\n",
       "      <td>Mar</td>\n",
       "      <td>64.38333</td>\n",
       "      <td>84.20870</td>\n",
       "      <td>148.6</td>\n",
       "    </tr>\n",
       "    <tr>\n",
       "      <th>3</th>\n",
       "      <td>Apr</td>\n",
       "      <td>50.24973</td>\n",
       "      <td>81.14839</td>\n",
       "      <td>131.4</td>\n",
       "    </tr>\n",
       "    <tr>\n",
       "      <th>0</th>\n",
       "      <td>Jan</td>\n",
       "      <td>70.39177</td>\n",
       "      <td>52.77359</td>\n",
       "      <td>123.2</td>\n",
       "    </tr>\n",
       "  </tbody>\n",
       "</table>\n",
       "</div>"
      ],
      "text/plain": [
       "  month        kt        skt    sum\n",
       "4   May  73.27214  108.09910  181.4\n",
       "1   Feb  69.60795   95.23039  164.8\n",
       "5   Jun  58.91620   86.50904  145.4\n",
       "2   Mar  64.38333   84.20870  148.6\n",
       "3   Apr  50.24973   81.14839  131.4\n",
       "0   Jan  70.39177   52.77359  123.2"
      ]
     },
     "execution_count": 30,
     "metadata": {},
     "output_type": "execute_result"
    }
   ],
   "source": [
    "# skt 컬럼으로 (내림차순), skt광고비 지출은 5월, 2월, 6월 순\n",
    "df.sort_values(by='skt', ascending=False) \n"
   ]
  },
  {
   "cell_type": "markdown",
   "metadata": {},
   "source": [
    "# 재인덱스"
   ]
  },
  {
   "cell_type": "code",
   "execution_count": 20,
   "metadata": {
    "collapsed": false,
    "slideshow": {
     "slide_type": "slide"
    }
   },
   "outputs": [
    {
     "data": {
      "text/html": [
       "<div>\n",
       "<table border=\"1\" class=\"dataframe\">\n",
       "  <thead>\n",
       "    <tr style=\"text-align: right;\">\n",
       "      <th></th>\n",
       "      <th>kt</th>\n",
       "      <th>month</th>\n",
       "      <th>skt</th>\n",
       "      <th>sum</th>\n",
       "    </tr>\n",
       "  </thead>\n",
       "  <tbody>\n",
       "    <tr>\n",
       "      <th>0</th>\n",
       "      <td>7039177</td>\n",
       "      <td>Jan</td>\n",
       "      <td>5277359</td>\n",
       "      <td>12316536</td>\n",
       "    </tr>\n",
       "    <tr>\n",
       "      <th>1</th>\n",
       "      <td>6960795</td>\n",
       "      <td>Feb</td>\n",
       "      <td>9523039</td>\n",
       "      <td>16483834</td>\n",
       "    </tr>\n",
       "    <tr>\n",
       "      <th>2</th>\n",
       "      <td>6438333</td>\n",
       "      <td>Mar</td>\n",
       "      <td>8420870</td>\n",
       "      <td>14859203</td>\n",
       "    </tr>\n",
       "    <tr>\n",
       "      <th>3</th>\n",
       "      <td>5024973</td>\n",
       "      <td>Apr</td>\n",
       "      <td>8114839</td>\n",
       "      <td>13139812</td>\n",
       "    </tr>\n",
       "    <tr>\n",
       "      <th>4</th>\n",
       "      <td>7327214</td>\n",
       "      <td>May</td>\n",
       "      <td>10809910</td>\n",
       "      <td>18137124</td>\n",
       "    </tr>\n",
       "    <tr>\n",
       "      <th>5</th>\n",
       "      <td>5891620</td>\n",
       "      <td>Jun</td>\n",
       "      <td>8650904</td>\n",
       "      <td>14542524</td>\n",
       "    </tr>\n",
       "  </tbody>\n",
       "</table>\n",
       "</div>"
      ],
      "text/plain": [
       "        kt month       skt       sum\n",
       "0  7039177   Jan   5277359  12316536\n",
       "1  6960795   Feb   9523039  16483834\n",
       "2  6438333   Mar   8420870  14859203\n",
       "3  5024973   Apr   8114839  13139812\n",
       "4  7327214   May  10809910  18137124\n",
       "5  5891620   Jun   8650904  14542524"
      ]
     },
     "execution_count": 20,
     "metadata": {},
     "output_type": "execute_result"
    }
   ],
   "source": [
    "dfm = df.reindex(df.index)\n",
    "dfm"
   ]
  },
  {
   "cell_type": "markdown",
   "metadata": {
    "slideshow": {
     "slide_type": "slide"
    }
   },
   "source": [
    "## 축 변환\n",
    "* 컬럼과 인덱스 축 바꾸기\n",
    "* 엑셀의 피벗(pivot)"
   ]
  },
  {
   "cell_type": "code",
   "execution_count": 21,
   "metadata": {
    "collapsed": false,
    "slideshow": {
     "slide_type": "fragment"
    }
   },
   "outputs": [
    {
     "data": {
      "text/html": [
       "<div>\n",
       "<table border=\"1\" class=\"dataframe\">\n",
       "  <thead>\n",
       "    <tr style=\"text-align: right;\">\n",
       "      <th></th>\n",
       "      <th>0</th>\n",
       "      <th>1</th>\n",
       "      <th>2</th>\n",
       "      <th>3</th>\n",
       "      <th>4</th>\n",
       "      <th>5</th>\n",
       "    </tr>\n",
       "  </thead>\n",
       "  <tbody>\n",
       "    <tr>\n",
       "      <th>kt</th>\n",
       "      <td>7039177</td>\n",
       "      <td>6960795</td>\n",
       "      <td>6438333</td>\n",
       "      <td>5024973</td>\n",
       "      <td>7327214</td>\n",
       "      <td>5891620</td>\n",
       "    </tr>\n",
       "    <tr>\n",
       "      <th>month</th>\n",
       "      <td>Jan</td>\n",
       "      <td>Feb</td>\n",
       "      <td>Mar</td>\n",
       "      <td>Apr</td>\n",
       "      <td>May</td>\n",
       "      <td>Jun</td>\n",
       "    </tr>\n",
       "    <tr>\n",
       "      <th>skt</th>\n",
       "      <td>5277359</td>\n",
       "      <td>9523039</td>\n",
       "      <td>8420870</td>\n",
       "      <td>8114839</td>\n",
       "      <td>10809910</td>\n",
       "      <td>8650904</td>\n",
       "    </tr>\n",
       "    <tr>\n",
       "      <th>sum</th>\n",
       "      <td>12316536</td>\n",
       "      <td>16483834</td>\n",
       "      <td>14859203</td>\n",
       "      <td>13139812</td>\n",
       "      <td>18137124</td>\n",
       "      <td>14542524</td>\n",
       "    </tr>\n",
       "  </tbody>\n",
       "</table>\n",
       "</div>"
      ],
      "text/plain": [
       "              0         1         2         3         4         5\n",
       "kt      7039177   6960795   6438333   5024973   7327214   5891620\n",
       "month       Jan       Feb       Mar       Apr       May       Jun\n",
       "skt     5277359   9523039   8420870   8114839  10809910   8650904\n",
       "sum    12316536  16483834  14859203  13139812  18137124  14542524"
      ]
     },
     "execution_count": 21,
     "metadata": {},
     "output_type": "execute_result"
    }
   ],
   "source": [
    "df.T"
   ]
  }
 ],
 "metadata": {
  "celltoolbar": "Slideshow",
  "kernelspec": {
   "display_name": "Python 3",
   "language": "python",
   "name": "python3"
  },
  "language_info": {
   "codemirror_mode": {
    "name": "ipython",
    "version": 3
   },
   "file_extension": ".py",
   "mimetype": "text/x-python",
   "name": "python",
   "nbconvert_exporter": "python",
   "pygments_lexer": "ipython3",
   "version": "3.4.3"
  }
 },
 "nbformat": 4,
 "nbformat_minor": 0
}
