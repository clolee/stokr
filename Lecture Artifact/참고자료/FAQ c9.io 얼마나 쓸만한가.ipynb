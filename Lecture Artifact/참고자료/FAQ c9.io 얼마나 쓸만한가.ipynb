{
 "cells": [
  {
   "cell_type": "markdown",
   "metadata": {},
   "source": [
    "# [FAQ] c9.io 얼마나 쓸만한가"
   ]
  },
  {
   "cell_type": "markdown",
   "metadata": {},
   "source": [
    "## 활동 상태는 얼마나 유지되나"
   ]
  },
  {
   "cell_type": "markdown",
   "metadata": {},
   "source": [
    "c9.io 를 닫은 상태로 2시간이 지나면, 프로세스가 내려 간다. jupyter 노트북 서버가 바로 프로세스(process)다. \n",
    "다시 c9.io 를 열었을 때 다음과 같은 명령으로 jupyter 노트북 서버를 다시 시작하면 된다."
   ]
  },
  {
   "cell_type": "markdown",
   "metadata": {},
   "source": [
    "**$ jupyter notebook --ip=0.0.0.0 --port=8080 --no-browser**"
   ]
  },
  {
   "cell_type": "markdown",
   "metadata": {},
   "source": [
    "추가로 설명을 덧붙이자면,\n",
    "* c9.io IDE를 닫은 상태로 2시간이 지나면, 프로세스(띄워놓은 프로그램)이 내려간다.\n",
    "* c9.io IDE를 닫은 상태로 7일이 지나면  절전모드(hibernated)가 된다. 다시 접속했을 때 절전모드에서 켜지는 시간이 4분 정도 소요 된다. (PC를 켜는 것과 같은 과정을 거친다)"
   ]
  },
  {
   "cell_type": "markdown",
   "metadata": {},
   "source": [
    "IDE (메뉴, 편집기, 명령라인이 있는 화면)가 열려 있는 상태면 활동상태(active)는 계속 유지된다. active 상태란 사용자가 사용중인 상태를 말한다.\n",
    "설치한 프로그램과 저장된 내용은 영구 보존된다."
   ]
  },
  {
   "cell_type": "markdown",
   "metadata": {},
   "source": [
    "## 유료와 무료 계정의 차이점"
   ]
  },
  {
   "cell_type": "markdown",
   "metadata": {},
   "source": [
    "### 유료 ($19/월)\n",
    "* Workspace: Public 무제한, private 무제한\n",
    "* 2.5GB 메모리, 10GB 디스크 / Workspace\n",
    "* SSH 가능\n",
    "\n",
    "### 무료\n",
    "* Workspace: Public 무제한, private 1개\n",
    "* 1GB 메모리, 5GB 디스크 / Workspace \n",
    "* SSH 불가\n",
    "\n",
    "Workspace는 간단히 말해 가상기계 1대를 말한다. \n",
    "SSH는 원격에서 접속하여 명령라인 사용하는 기능을 말한다 (안전하게 사용하는 telnet 명령이라고 보면 되겠다)\n",
    "주로 웹기반 IDE에서 명령라인을 사용하므로 SSH를 사용해야 할 경우는 사실상 거의 없다."
   ]
  },
  {
   "cell_type": "markdown",
   "metadata": {},
   "source": [
    "## 결론\n",
    "무료 계정으로도 충분히 그리고 계속 쓸 만하다. 실험용, 테스트용, 학습용으로는 무료 계정으로도 충분하다."
   ]
  },
  {
   "cell_type": "markdown",
   "metadata": {},
   "source": [
    "## 사용 팁\n",
    "* 항상 켜놓을 수 있는 인터넷 PC으로 IDE를 열어두시면 active 거의 지속 유지 된다"
   ]
  },
  {
   "cell_type": "markdown",
   "metadata": {},
   "source": [
    "## 참고\n",
    "* https://docs.c9.io/docs/inactive-workspaces\n",
    "* https://docs.c9.io/docs/picking-a-plan"
   ]
  }
 ],
 "metadata": {
  "kernelspec": {
   "display_name": "Python 3",
   "language": "python",
   "name": "python3"
  },
  "language_info": {
   "codemirror_mode": {
    "name": "ipython",
    "version": 3
   },
   "file_extension": ".py",
   "mimetype": "text/x-python",
   "name": "python",
   "nbconvert_exporter": "python",
   "pygments_lexer": "ipython3",
   "version": "3.4.3"
  }
 },
 "nbformat": 4,
 "nbformat_minor": 0
}
