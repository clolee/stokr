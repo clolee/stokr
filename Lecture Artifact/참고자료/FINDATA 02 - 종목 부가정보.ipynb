{
 "cells": [
  {
   "cell_type": "markdown",
   "metadata": {},
   "source": [
    "# FINDATA 02 - 종목 부가정보\n",
    "\n",
    "(stock_desc 테이블)\n",
    "\n",
    "#### 이승준 http://fb.com/plusjune\n"
   ]
  },
  {
   "cell_type": "code",
   "execution_count": 41,
   "metadata": {
    "collapsed": true
   },
   "outputs": [],
   "source": [
    "import pandas as pd\n",
    "from IPython.display import display"
   ]
  },
  {
   "cell_type": "code",
   "execution_count": 42,
   "metadata": {
    "collapsed": true
   },
   "outputs": [],
   "source": [
    "import sqlite3\n",
    "conn = sqlite3.connect('findata.db')"
   ]
  },
  {
   "cell_type": "code",
   "execution_count": 44,
   "metadata": {
    "collapsed": false
   },
   "outputs": [
    {
     "data": {
      "text/html": [
       "<div>\n",
       "<table border=\"1\" class=\"dataframe\">\n",
       "  <thead>\n",
       "    <tr style=\"text-align: right;\">\n",
       "      <th></th>\n",
       "      <th>name</th>\n",
       "      <th>sector_code</th>\n",
       "      <th>sector</th>\n",
       "    </tr>\n",
       "    <tr>\n",
       "      <th>code</th>\n",
       "      <th></th>\n",
       "      <th></th>\n",
       "      <th></th>\n",
       "    </tr>\n",
       "  </thead>\n",
       "  <tbody>\n",
       "    <tr>\n",
       "      <th>060310</th>\n",
       "      <td>3S</td>\n",
       "      <td>032602</td>\n",
       "      <td>전자부품 제조업</td>\n",
       "    </tr>\n",
       "    <tr>\n",
       "      <th>095570</th>\n",
       "      <td>AJ네트웍스</td>\n",
       "      <td>126903</td>\n",
       "      <td>산업용 기계 및 장비 임대업</td>\n",
       "    </tr>\n",
       "    <tr>\n",
       "      <th>068400</th>\n",
       "      <td>AJ렌터카</td>\n",
       "      <td>126901</td>\n",
       "      <td>운송장비 임대업</td>\n",
       "    </tr>\n",
       "    <tr>\n",
       "      <th>006840</th>\n",
       "      <td>AK홀딩스</td>\n",
       "      <td>137105</td>\n",
       "      <td>회사본부, 지주회사 및 경영컨설팅 서비스업</td>\n",
       "    </tr>\n",
       "    <tr>\n",
       "      <th>054620</th>\n",
       "      <td>AP시스템</td>\n",
       "      <td>032902</td>\n",
       "      <td>특수 목적용 기계 제조업</td>\n",
       "    </tr>\n",
       "  </tbody>\n",
       "</table>\n",
       "</div>"
      ],
      "text/plain": [
       "          name sector_code                   sector\n",
       "code                                               \n",
       "060310      3S      032602                 전자부품 제조업\n",
       "095570  AJ네트웍스      126903          산업용 기계 및 장비 임대업\n",
       "068400   AJ렌터카      126901                 운송장비 임대업\n",
       "006840   AK홀딩스      137105  회사본부, 지주회사 및 경영컨설팅 서비스업\n",
       "054620   AP시스템      032902            특수 목적용 기계 제조업"
      ]
     },
     "execution_count": 44,
     "metadata": {},
     "output_type": "execute_result"
    }
   ],
   "source": [
    "# 테이블  읽기\n",
    "df_master = pd.read_sql_query('SELECT * FROM stock_master', conn, index_col='code')\n",
    "df_master.head()"
   ]
  },
  {
   "cell_type": "markdown",
   "metadata": {},
   "source": [
    "# 태그 검색\n",
    "\n",
    "* dt 태그를 검색 class='line-left'"
   ]
  },
  {
   "cell_type": "code",
   "execution_count": 45,
   "metadata": {
    "collapsed": false
   },
   "outputs": [
    {
     "data": {
      "text/plain": [
       "<dt class=\" line-left\"><a href=\"../company/c1020001.aspx?cmp_cd=005930&amp;cn=\">기업개요</a></dt>"
      ]
     },
     "metadata": {},
     "output_type": "display_data"
    },
    {
     "data": {
      "text/plain": [
       "<dt class=\" line-left\"><a href=\"../company/c1030001.aspx?cmp_cd=005930&amp;cn=\">재무분석</a></dt>"
      ]
     },
     "metadata": {},
     "output_type": "display_data"
    },
    {
     "data": {
      "text/plain": [
       "<dt class=\" line-left\"><a href=\"../company/c1040001.aspx?cmp_cd=005930&amp;cn=\">투자지표</a></dt>"
      ]
     },
     "metadata": {},
     "output_type": "display_data"
    },
    {
     "data": {
      "text/plain": [
       "<dt class=\" line-left\"><a href=\"../company/c1050001.aspx?cmp_cd=005930&amp;cn=\">컨센서스</a></dt>"
      ]
     },
     "metadata": {},
     "output_type": "display_data"
    },
    {
     "data": {
      "text/plain": [
       "<dt class=\" line-left\"><a href=\"../company/c1060001.aspx?cmp_cd=005930&amp;cn=\">업종분석</a></dt>"
      ]
     },
     "metadata": {},
     "output_type": "display_data"
    },
    {
     "data": {
      "text/plain": [
       "<dt class=\" line-left\"><a href=\"../company/c1090001.aspx?cmp_cd=005930&amp;cn=\">섹터분석</a></dt>"
      ]
     },
     "metadata": {},
     "output_type": "display_data"
    },
    {
     "data": {
      "text/plain": [
       "<dt class=\" line-left\"><a href=\"../company/c1070001.aspx?cmp_cd=005930&amp;cn=\">지분현황</a></dt>"
      ]
     },
     "metadata": {},
     "output_type": "display_data"
    },
    {
     "data": {
      "text/plain": [
       "<dt class=\"line-left\">Samsung Electronics</dt>"
      ]
     },
     "metadata": {},
     "output_type": "display_data"
    },
    {
     "data": {
      "text/plain": [
       "<dt class=\"line-left\">KOSPI : 전기전자</dt>"
      ]
     },
     "metadata": {},
     "output_type": "display_data"
    },
    {
     "data": {
      "text/plain": [
       "<dt class=\"line-left\">WICS : 반도체와반도체장비</dt>"
      ]
     },
     "metadata": {},
     "output_type": "display_data"
    },
    {
     "data": {
      "text/plain": [
       "<dt class=\"line-left\">BPS <b class=\"num\">1,185,738</b></dt>"
      ]
     },
     "metadata": {},
     "output_type": "display_data"
    },
    {
     "data": {
      "text/plain": [
       "<dt class=\"line-left\">PER <b class=\"num\">11.74</b></dt>"
      ]
     },
     "metadata": {},
     "output_type": "display_data"
    },
    {
     "data": {
      "text/plain": [
       "<dt class=\"line-left\">업종PER <b class=\"num\">9.29</b></dt>"
      ]
     },
     "metadata": {},
     "output_type": "display_data"
    },
    {
     "data": {
      "text/plain": [
       "<dt class=\"line-left\">PBR <b class=\"num\">1.09</b></dt>"
      ]
     },
     "metadata": {},
     "output_type": "display_data"
    },
    {
     "data": {
      "text/plain": [
       "<dt class=\"line-left\">배당수익률 <b class=\"num\">1.63%</b></dt>"
      ]
     },
     "metadata": {},
     "output_type": "display_data"
    },
    {
     "data": {
      "text/plain": [
       "None"
      ]
     },
     "metadata": {},
     "output_type": "display_data"
    }
   ],
   "source": [
    "import requests\n",
    "from bs4 import BeautifulSoup\n",
    "\n",
    "def get_func_templ(code):\n",
    "    url = 'http://companyinfo.stock.naver.com/v1/company/c1010001.aspx?cmp_cd=' + code\n",
    "    r = requests.get(url)\n",
    "    soup = BeautifulSoup(r.text, \"lxml\")\n",
    "\n",
    "    for s in soup.findAll('dt', {'class':'line-left'}):\n",
    "        display( s )\n",
    "\n",
    "display (get_func_templ('005930'))"
   ]
  },
  {
   "cell_type": "markdown",
   "metadata": {},
   "source": [
    "# 네이버 스크래핑 테스트"
   ]
  },
  {
   "cell_type": "code",
   "execution_count": 46,
   "metadata": {
    "collapsed": false
   },
   "outputs": [
    {
     "data": {
      "text/plain": [
       "'전기전자'"
      ]
     },
     "metadata": {},
     "output_type": "display_data"
    },
    {
     "data": {
      "text/plain": [
       "'제약'"
      ]
     },
     "metadata": {},
     "output_type": "display_data"
    }
   ],
   "source": [
    "import requests\n",
    "import time\n",
    "from bs4 import BeautifulSoup\n",
    "\n",
    "def get_sector(code):\n",
    "    url = 'http://companyinfo.stock.naver.com/v1/company/c1010001.aspx?cmp_cd=' + code\n",
    "    r = requests.get(url)\n",
    "    soup = BeautifulSoup(r.text,\"lxml\")\n",
    "    sector = \"\"\n",
    "\n",
    "    # find KRX sector\n",
    "    for s in soup.findAll('dt', {'class':'line-left'}):\n",
    "        if s.text.find('KOSPI :') >= 0:\n",
    "            sector = s.text.split(' : ')[1]\n",
    "        elif s.text.find('KOSDAQ :') >= 0:\n",
    "            sector = s.text.split(' : ')[1]\n",
    "\n",
    "    return sector\n",
    "\n",
    "display (get_sector('005930'))\n",
    "display (get_sector('068270'))"
   ]
  },
  {
   "cell_type": "markdown",
   "metadata": {},
   "source": [
    "# 포탈 종목 정보\n",
    "* sector, wics, name_en\n",
    "* desc, desc_date"
   ]
  },
  {
   "cell_type": "code",
   "execution_count": 47,
   "metadata": {
    "collapsed": false,
    "scrolled": true
   },
   "outputs": [
    {
     "data": {
      "text/plain": [
       "('KOSPI', '반도체와반도체장비', 'Samsung Electronics')"
      ]
     },
     "metadata": {},
     "output_type": "display_data"
    },
    {
     "data": {
      "text/plain": [
       "('1969년 설립되어, 본사를 거점으로 한국 및 CE, IM 부문 산하 해외 9개 지역총괄과 DS 부문 산하 해외 5개 지역총괄의 생산, 판매법인 등 159개의 동종업종을 영위하는 종속기업으로 구성된 글로벌 전자기업임. 주요사업은 제품의 특성에 따라 CE부문(TV,냉장고,세탁기 등)과 IM부문(스마트폰 등 HHP,네트워크시스템 등), DS부문(DRAM, NAND Flash, 모바일AP, LCD패널 등) 3개의 부문으로 나누어짐. IM부문은 프리미엄 브랜드 갤럭시(GALAXY)를 필두로 보급형 휴대폰까지 풀라인업을 유지하면서 S시리즈, Note 등의 Flagship스마트폰의 성공을 바탕으로 글로벌 스마트폰 1위 위상을 유지. 반도체 사업은 DRAM, NAND Flash 제품 등 초미세 공정 기술을 적용하여 경쟁사 대비 차별성 있는 제품의 생산과 원가 경쟁력을 지속적으로 확보하여 전세계 메모리 시장의 선두 자리를 지속적으로 유지. 매출구성은 IM 51.6%, 반도체 23.71%, CE 23.37%, DP 13.7% 등으로 구분',\n",
       " '2016-04-23')"
      ]
     },
     "metadata": {},
     "output_type": "display_data"
    },
    {
     "data": {
      "text/plain": [
       "('KOSDAQ', '미분류', 'IBKS No.2 Special Purpose Acquisition Company')"
      ]
     },
     "metadata": {},
     "output_type": "display_data"
    },
    {
     "data": {
      "text/plain": [
       "(' ', '2016-05-08')"
      ]
     },
     "metadata": {},
     "output_type": "display_data"
    }
   ],
   "source": [
    "import requests\n",
    "import time\n",
    "import json\n",
    "from bs4 import BeautifulSoup\n",
    "\n",
    "# sector, wics, name_en\n",
    "def get_sector(code):\n",
    "    name_en, sector, wics, market = 'nan', 'nan', 'nan', 'nan'\n",
    "    url = 'http://companyinfo.stock.naver.com/v1/company/c1010001.aspx?cmp_cd=' + code\n",
    "    r = requests.get(url)\n",
    "    soup = BeautifulSoup(r.text,\"lxml\")\n",
    "    td = soup.find('td', {'class':'cmp-table-cell td0101'})\n",
    "    if td == None:\n",
    "        return sector, wics, name_en\n",
    "        \n",
    "    dts = td.findAll('dt')\n",
    "\n",
    "    # dts[1], name_en\n",
    "    name_en = dts[1].text\n",
    "    \n",
    "    # dts[2], sector\n",
    "    s = dts[2]\n",
    "    if s.text.find('KOSPI :') >= 0:\n",
    "        market = 'KOSPI'\n",
    "        sector = s.text.split(' : ')[1]\n",
    "    elif dts[2].text.find('KOSDAQ :') >= 0:\n",
    "        market = 'KOSDAQ'\n",
    "        sector = s.text.split(' : ')[1]\n",
    "            \n",
    "    # dts[3], wics\n",
    "    s = dts[3]\n",
    "    if s.text.find('WICS :') >= 0:\n",
    "        wics = s.text.split(' : ')[1]\n",
    "\n",
    "    return market, wics, name_en\n",
    "\n",
    "\n",
    "# desc, desc_date\n",
    "def get_desc(code):\n",
    "    url = 'http://companyinfo.stock.naver.com/v1/company/cmpcomment.aspx'\n",
    " \n",
    "    cmt_text = ' '\n",
    "    cmt_date = time.strftime(\"%Y-%m-%d\")\n",
    " \n",
    "    if code[-1] == '5': # pre_order\n",
    "        code = code[0:-1] + '0'\n",
    "    if code[-1] == '7': # pre_order\n",
    "        code = code[0:-1] + '0'\n",
    " \n",
    "    headers = {'Host':'companyinfo.stock.naver.com'}\n",
    "    r = requests.post(url, data={'cmp_cd': code}, headers=headers)\n",
    "    if r.text == \"\":\n",
    "        return (cmt_text, cmt_date)\n",
    " \n",
    "    j = json.loads(r.text)\n",
    "    cmt_date = j['dt'].replace('.', '-')\n",
    "    cmts = j['data'][0]\n",
    "    cmts = [cmts['COMMENT_1'], cmts['COMMENT_2'], cmts['COMMENT_3'],  cmts['COMMENT_4'], cmts['COMMENT_5'] ]\n",
    "    cmt_text = '. '.join(cmts)\n",
    "    return (cmt_text, cmt_date)\n",
    "\n",
    "\n",
    "display( get_sector('005930') )\n",
    "display( get_desc('005930'))\n",
    "\n",
    "display (get_sector('204840'))\n",
    "display (get_desc('204840'))\n"
   ]
  },
  {
   "cell_type": "code",
   "execution_count": 48,
   "metadata": {
    "collapsed": false
   },
   "outputs": [
    {
     "data": {
      "text/html": [
       "<div>\n",
       "<table border=\"1\" class=\"dataframe\">\n",
       "  <thead>\n",
       "    <tr style=\"text-align: right;\">\n",
       "      <th></th>\n",
       "      <th>code</th>\n",
       "      <th>name</th>\n",
       "      <th>telephone</th>\n",
       "      <th>address</th>\n",
       "      <th>market</th>\n",
       "      <th>wics</th>\n",
       "      <th>name_en</th>\n",
       "      <th>desc</th>\n",
       "      <th>desc_date</th>\n",
       "    </tr>\n",
       "  </thead>\n",
       "  <tbody>\n",
       "    <tr>\n",
       "      <th>0</th>\n",
       "      <td>060310</td>\n",
       "      <td>3S</td>\n",
       "      <td>02-896-9474</td>\n",
       "      <td>서울특별시 금천구  시흥대로71길 30-1</td>\n",
       "      <td></td>\n",
       "      <td></td>\n",
       "      <td></td>\n",
       "      <td></td>\n",
       "      <td></td>\n",
       "    </tr>\n",
       "    <tr>\n",
       "      <th>1</th>\n",
       "      <td>095570</td>\n",
       "      <td>AJ네트웍스</td>\n",
       "      <td>02-6240-0800</td>\n",
       "      <td>서울특별시 송파구 정의로8길 9 (문정동,AJ빌딩)</td>\n",
       "      <td></td>\n",
       "      <td></td>\n",
       "      <td></td>\n",
       "      <td></td>\n",
       "      <td></td>\n",
       "    </tr>\n",
       "    <tr>\n",
       "      <th>2</th>\n",
       "      <td>068400</td>\n",
       "      <td>AJ렌터카</td>\n",
       "      <td>1544-1600</td>\n",
       "      <td>서울특별시 구로구  서부샛길 822</td>\n",
       "      <td></td>\n",
       "      <td></td>\n",
       "      <td></td>\n",
       "      <td></td>\n",
       "      <td></td>\n",
       "    </tr>\n",
       "    <tr>\n",
       "      <th>3</th>\n",
       "      <td>006840</td>\n",
       "      <td>AK홀딩스</td>\n",
       "      <td>02-6923-2921</td>\n",
       "      <td>서울특별시 구로구 구로중앙로 152(구로동)</td>\n",
       "      <td></td>\n",
       "      <td></td>\n",
       "      <td></td>\n",
       "      <td></td>\n",
       "      <td></td>\n",
       "    </tr>\n",
       "    <tr>\n",
       "      <th>4</th>\n",
       "      <td>054620</td>\n",
       "      <td>AP시스템</td>\n",
       "      <td>031-379-2700</td>\n",
       "      <td>경기도 화성시 동탄면 동탄산단8길 15-5</td>\n",
       "      <td></td>\n",
       "      <td></td>\n",
       "      <td></td>\n",
       "      <td></td>\n",
       "      <td></td>\n",
       "    </tr>\n",
       "  </tbody>\n",
       "</table>\n",
       "</div>"
      ],
      "text/plain": [
       "     code    name     telephone                       address market wics  \\\n",
       "0  060310      3S   02-896-9474      서울특별시 금천구  시흥대로71길 30-1                \n",
       "1  095570  AJ네트웍스  02-6240-0800  서울특별시 송파구 정의로8길 9 (문정동,AJ빌딩)               \n",
       "2  068400   AJ렌터카     1544-1600          서울특별시 구로구  서부샛길 822                \n",
       "3  006840   AK홀딩스  02-6923-2921     서울특별시 구로구 구로중앙로 152(구로동)                \n",
       "4  054620   AP시스템  031-379-2700      경기도 화성시 동탄면 동탄산단8길 15-5                \n",
       "\n",
       "  name_en desc desc_date  \n",
       "0                         \n",
       "1                         \n",
       "2                         \n",
       "3                         \n",
       "4                         "
      ]
     },
     "execution_count": 48,
     "metadata": {},
     "output_type": "execute_result"
    }
   ],
   "source": [
    "# 테이블  읽기\n",
    "df_desc = pd.read_sql_query('SELECT * FROM stock_desc', conn)\n",
    "df_desc.head()"
   ]
  },
  {
   "cell_type": "code",
   "execution_count": null,
   "metadata": {
    "collapsed": false
   },
   "outputs": [],
   "source": [
    "# df_desc\n",
    "# name, telephone, address, market, code, wics, name_en, desc, desc_date, corp_type, market_cap, update_date\n",
    "\n",
    "cur = conn.cursor()\n",
    "\n",
    "for idx, row in df_desc.iterrows():\n",
    "    if row['wics'] == '':\n",
    "        print('sector', row['code'])\n",
    "        market, wics, name_en = get_sector(row['code'])\n",
    "        cur.execute('UPDATE stock_desc SET market=?, wics=?, name_en=? WHERE code=?', (market, wics, name_en, row['code']) )\n",
    "        conn.commit()\n",
    "\n",
    "    if row['desc_date'] == '':\n",
    "        print('desc', row['code'])\n",
    "        desc, desc_date = get_desc(row['code'])\n",
    "        cur.execute('UPDATE stock_desc SET desc=?, desc_date=? WHERE code=?', (desc, desc_date, row['code']) )\n",
    "        conn.commit()\n"
   ]
  },
  {
   "cell_type": "code",
   "execution_count": 50,
   "metadata": {
    "collapsed": false
   },
   "outputs": [
    {
     "name": "stdout",
     "output_type": "stream",
     "text": [
      "('060310', '3S', '02-896-9474', '서울특별시 금천구  시흥대로71길 30-1 ', 'KOSDAQ', '반도체와반도체장비', '3S Korea', '동사는 1991년 설립되어 2002년 코스닥시장에 상장. 반도체웨이퍼 캐리어박스와 냉동공조용 열량계, 환경시험설비 전문업체임. 웨이퍼 캐리어 사업은 국제규격인 SEMI Standard를 충족시키는 300mm 웨이퍼용 FOSB를 개발하여 2009년 10월부터 국내외 웨이퍼사와 반도체 칩메이커사에 공급 중. 450mm 웨이퍼캐리어 시장 선점을 위하여 2013년 6월 미국의 Entegris사와 한국 내 450mm 웨이퍼 캐리어 판매를 위한 파트너쉽 계약을 체결. 환경장치사업은 냉동공조용 설비 칼로리메타, 환경구현장치 등을 주력제품으로 생산하며 삼성전자, LG전자, 위니아만도, 한라공조 등에 납품하고 있음. 매출구성은 칼로리메타 외 56.89%, 웨이퍼캐리어 41.98%, 냉동부품 외 1.14% 등으로 구성', '2016-04-26')\n",
      "('095570', 'AJ네트웍스', '02-6240-0800', '서울특별시 송파구 정의로8길 9 (문정동,AJ빌딩)', 'KOSPI', '도로와철도운송', 'AJ Networks', '2000년 2월 설립되었으며 2013년 12월 지배회사인 아주엘앤에프홀딩스(주)를 흡수 합병하였고, 자회사 등의 업무지원 사업을 영위하는 지주부문과 동사의 주요사업을 영위하는 사업부문으로 조직을 개편함. 주요 사업으로 파렛트, OA기기, 정보통신기기(계측기), 고소장비 등의 장단기 대여와 판매 및 유통사업을 영위하고 있음. 렌탈 산업에 특화된 AJ그룹의 지주사로 AJ렌터카(자동차), AJ토탈(냉장/냉동창고), AJ파크(주차장) 등의 자회사를 보유함. 현재는 OA기기와 더불어 모바일렌탈(통신서비스포함), 고소장비 정비기술과 파렛트 현장 영업력으로 시너지효과를 발휘 할 수 있는 포크리프트 렌탈사업에 진출하였음. 매출구성은 파렛트부문 39.36%, IT부문 46.05%, 고소장비부문 11.86%, 해외사업본부 외 0.18%, 기타부문 2.54% 등으로 구분', '2016-04-23')\n",
      "('068400', 'AJ렌터카', '1544-1600', '서울특별시 구로구  서부샛길 822 ', 'KOSPI', '도로와철도운송', 'AJ Rent A Car', '동사는 1988년 브이아이피렌터카로 설립되어 자동차대여, 자동차운송 및 자동차정비사업 등을 시작. 주요 사업으로는 자동차 대여사업(렌탈)을 영위. 동사는 승용 자동차 임대업의 단일 사업부문을 영위. 동사는 현재 업계시장 점유율 2위이며, 고객 서비스 만족도, 재무건전성 등 질적인 부분에서의 차별화에 역량을 집중하고 있음. 렌터카 시장은 장기렌터카와 단기렌터카의 시장으로 양분되며, 단기렌터카 시장은 정부차원의 관광산업 육성책으로 인하여 관광지를 중심으로 한 단기렌탈 수요가 꾸준히 증가하고 있음. 동사는 TV, 라디오 광고 및 온라인 광고 등을 지속적으로 추진 중이며, 시기별 특성에 맞춘 Sales promotion을 통해 당사의 브랜드 인지도 제고 및 신규고객 유치 활동을 하고 있음. 매출구성은 차량렌탈 60.52%, 렌탈,리스자산 매각 19.27%, 기타 17.40%, 용역매출 등 2.81% 등으로 구분', '2016-04-21')\n",
      "('006840', 'AK홀딩스', '02-6923-2921', '서울특별시 구로구 구로중앙로 152(구로동) ', 'KOSPI', '화학', 'AK Holdings, Inc.', '동사는 2012년 인적 분할을 통해 지주회사로 전환되었으며, 2014년 12월 애경유화, 에이케이켐텍, 애경화학, 애경산업, 제주항공, 에이케이에스앤디, 에이엠플러스자산개발을 공정거래법상 자회사로 두고 있음. 영업수익은 배당금 수익, 계열회사들로부터 애경, Aekyung, AK 등 상표권 사용에 대한 대가로 취득하는 상표권 수익, 계열회사에게 제공하는 용역서비스에 대한 대가로 취득하는 경영자문수수료 등으로 구분. 기존 바이오 디젤의 부산물로서 생산되는 Crude 글리세린을 생산, 판매하며 보다 높은 부가가치의 정제 글리세린을 생산할 수 있는 생산 설비에 투자 진행. 지주회사 행위 제한 유예기간인 2014년 8월 말까지 자회사 및 손자회사 지분의 체계적이고 효율적인 정리를 통해 그룹 지배구조의 투명성을 높여 기업가치를 제고시키고자 함. 매출구성은 배당수익 67.49%, 상표권수익 15.97%, 경영자문수수료 16.54% 등으로 구분', '2016-04-28')\n",
      "('054620', 'AP시스템', '031-379-2700', '경기도 화성시 동탄면 동탄산단8길 15-5 ', 'KOSDAQ', '디스플레이장비및부품', 'Advanced Process Systems', '동사는 1994년 9월 15일 반도체장비, LCD장비, 컨트롤 기기와 소프트웨어 제조 목적으로 설립. 이후 (주)앤콤정보시스템 등 3개사 합병. 2009년 3월 20일 (주)에이피시시스템으로 상호변경. 동사의 주요사업은 장비사업으로 AMOLED장비 제조, 반도체장비 제조, LCD장비 제조, 레이저응용장비 제조 사업 등을 영위하고 있음. 삼성디스플레이는 양산을 위한 4세대 이상의 AMOLED 제조 장비로 동사에서 제작하는 결정화 장비인 ELA 장비를 채택하고 있음. 동사의 AM-OLED용 장비에 대한 수요가 급증할 것으로 예상됨. 동사의 부설연구소는 현재 Bump sputter 개발 중으로 반도체용 장비(스퍼터) 국산화를 시도 중. 매출구성은 장비사업 100.00%으로 구성', '2016-04-14')\n"
     ]
    }
   ],
   "source": [
    "cursor = conn.execute(\"SELECT * from stock_desc limit 5\")\n",
    "for row in cursor:\n",
    "    print (row)"
   ]
  },
  {
   "cell_type": "code",
   "execution_count": 51,
   "metadata": {
    "collapsed": false
   },
   "outputs": [
    {
     "data": {
      "text/html": [
       "<div>\n",
       "<table border=\"1\" class=\"dataframe\">\n",
       "  <thead>\n",
       "    <tr style=\"text-align: right;\">\n",
       "      <th></th>\n",
       "      <th>code</th>\n",
       "      <th>name</th>\n",
       "      <th>telephone</th>\n",
       "      <th>address</th>\n",
       "      <th>market</th>\n",
       "      <th>wics</th>\n",
       "      <th>name_en</th>\n",
       "      <th>desc</th>\n",
       "      <th>desc_date</th>\n",
       "    </tr>\n",
       "  </thead>\n",
       "  <tbody>\n",
       "    <tr>\n",
       "      <th>2045</th>\n",
       "      <td>010240</td>\n",
       "      <td>흥국</td>\n",
       "      <td>041-546-7771</td>\n",
       "      <td>충청남도 아산시 둔포면 아산밸리로 357</td>\n",
       "      <td></td>\n",
       "      <td></td>\n",
       "      <td></td>\n",
       "      <td></td>\n",
       "      <td></td>\n",
       "    </tr>\n",
       "    <tr>\n",
       "      <th>2046</th>\n",
       "      <td>189980</td>\n",
       "      <td>흥국에프엔비</td>\n",
       "      <td>043-882-5666</td>\n",
       "      <td>충청북도 음성군 삼성면 하이텍산단로 116-23 &amp;nbsp</td>\n",
       "      <td></td>\n",
       "      <td></td>\n",
       "      <td></td>\n",
       "      <td></td>\n",
       "      <td></td>\n",
       "    </tr>\n",
       "    <tr>\n",
       "      <th>2047</th>\n",
       "      <td>000540</td>\n",
       "      <td>흥국화재</td>\n",
       "      <td>02-2002-6000</td>\n",
       "      <td>서울특별시 종로구 새문안로 68</td>\n",
       "      <td></td>\n",
       "      <td></td>\n",
       "      <td></td>\n",
       "      <td></td>\n",
       "      <td></td>\n",
       "    </tr>\n",
       "    <tr>\n",
       "      <th>2048</th>\n",
       "      <td>003280</td>\n",
       "      <td>흥아해운</td>\n",
       "      <td>02-3449-3000</td>\n",
       "      <td>서울특별시 송파구  새말로5길 21 흥아해운 빌딩</td>\n",
       "      <td></td>\n",
       "      <td></td>\n",
       "      <td></td>\n",
       "      <td></td>\n",
       "      <td></td>\n",
       "    </tr>\n",
       "    <tr>\n",
       "      <th>2049</th>\n",
       "      <td>037440</td>\n",
       "      <td>희림</td>\n",
       "      <td>02-3410-9219</td>\n",
       "      <td>서울특별시 강동구 상일로6길 39-</td>\n",
       "      <td></td>\n",
       "      <td></td>\n",
       "      <td></td>\n",
       "      <td></td>\n",
       "      <td></td>\n",
       "    </tr>\n",
       "  </tbody>\n",
       "</table>\n",
       "</div>"
      ],
      "text/plain": [
       "        code    name     telephone                           address market  \\\n",
       "2045  010240      흥국  041-546-7771           충청남도 아산시 둔포면 아산밸리로 357           \n",
       "2046  189980  흥국에프엔비  043-882-5666  충청북도 음성군 삼성면 하이텍산단로 116-23 &nbsp          \n",
       "2047  000540    흥국화재  02-2002-6000                서울특별시 종로구 새문안로 68           \n",
       "2048  003280    흥아해운  02-3449-3000       서울특별시 송파구  새말로5길 21 흥아해운 빌딩          \n",
       "2049  037440      희림  02-3410-9219              서울특별시 강동구 상일로6길 39-           \n",
       "\n",
       "     wics name_en desc desc_date  \n",
       "2045                              \n",
       "2046                              \n",
       "2047                              \n",
       "2048                              \n",
       "2049                              "
      ]
     },
     "execution_count": 51,
     "metadata": {},
     "output_type": "execute_result"
    }
   ],
   "source": [
    "# 테이블  읽기\n",
    "df = pd.read_sql_query('SELECT * FROM stock_desc', conn)\n",
    "df.tail()"
   ]
  },
  {
   "cell_type": "markdown",
   "metadata": {},
   "source": [
    "# 전체 코드"
   ]
  },
  {
   "cell_type": "code",
   "execution_count": null,
   "metadata": {
    "collapsed": true
   },
   "outputs": [],
   "source": [
    "# stock_desc.py\n",
    "# name, telephone, address, market, code, wics, name_en, desc, desc_date, corp_type, market_cap, update_date\n",
    "\n",
    "import pandas as pd\n",
    "import requests\n",
    "import time\n",
    "import json\n",
    "from bs4 import BeautifulSoup\n",
    "import sqlite3\n",
    "\n",
    "\n",
    "# sector, wics, name_en\n",
    "def get_sector(code):\n",
    "    name_en, sector, wics, market = 'nan', 'nan', 'nan', 'nan'\n",
    "    url = 'http://companyinfo.stock.naver.com/v1/company/c1010001.aspx?cmp_cd=' + code\n",
    "    r = requests.get(url)\n",
    "    soup = BeautifulSoup(r.text,\"lxml\")\n",
    "    td = soup.find('td', {'class':'cmp-table-cell td0101'})\n",
    "    if td == None:\n",
    "        return sector, wics, name_en\n",
    "        \n",
    "    dts = td.findAll('dt')\n",
    "\n",
    "    # dts[1], name_en\n",
    "    name_en = dts[1].text\n",
    "    \n",
    "    # dts[2], sector\n",
    "    s = dts[2]\n",
    "    if s.text.find('KOSPI :') >= 0:\n",
    "        market = 'KOSPI'\n",
    "        sector = s.text.split(' : ')[1]\n",
    "    elif dts[2].text.find('KOSDAQ :') >= 0:\n",
    "        market = 'KOSDAQ'\n",
    "        sector = s.text.split(' : ')[1]\n",
    "            \n",
    "    # dts[3], wics\n",
    "    s = dts[3]\n",
    "    if s.text.find('WICS :') >= 0:\n",
    "        wics = s.text.split(' : ')[1]\n",
    "\n",
    "    return market, wics, name_en\n",
    "\n",
    "\n",
    "# desc, desc_date\n",
    "def get_desc(code):\n",
    "    url = 'http://companyinfo.stock.naver.com/v1/company/cmpcomment.aspx'\n",
    " \n",
    "    cmt_text = ' '\n",
    "    cmt_date = time.strftime(\"%Y-%m-%d\")\n",
    " \n",
    "    if code[-1] == '5': # pre_order\n",
    "        code = code[0:-1] + '0'\n",
    "    if code[-1] == '7': # pre_order\n",
    "        code = code[0:-1] + '0'\n",
    " \n",
    "    headers = {'Host':'companyinfo.stock.naver.com'}\n",
    "    r = requests.post(url, data={'cmp_cd': code}, headers=headers)\n",
    "    if r.text == \"\":\n",
    "        return (cmt_text, cmt_date)\n",
    " \n",
    "    j = json.loads(r.text)\n",
    "    cmt_date = j['dt'].replace('.', '-')\n",
    "    cmts = j['data'][0]\n",
    "    cmts = [cmts['COMMENT_1'], cmts['COMMENT_2'], cmts['COMMENT_3'],  cmts['COMMENT_4'], cmts['COMMENT_5'] ]\n",
    "    cmt_text = '. '.join(cmts)\n",
    "    return (cmt_text, cmt_date)\n",
    "    \n",
    "    \n",
    "if __name__ == \"__main__\":\n",
    "    conn = sqlite3.connect('findata.db')\n",
    "    cur = conn.cursor()\n",
    "\n",
    "    df_desc = pd.read_sql_query('SELECT * FROM stock_desc', conn)\n",
    "\n",
    "    for idx, row in df_desc.iterrows():\n",
    "        if row['wics'] == '':\n",
    "            print('sector', row['code'], row['name'])\n",
    "            market, wics, name_en = get_sector(row['code'])\n",
    "            print (market, wics, name_en)\n",
    "            cur.execute('UPDATE stock_desc SET market=?, wics=?, name_en=? WHERE code=?', (market, wics, name_en, row['code']) )\n",
    "            conn.commit()\n",
    "    \n",
    "        if row['desc_date'] == '':\n",
    "            desc, desc_date = get_desc(row['code'])\n",
    "            print (desc, desc_date)\n",
    "            cur.execute('UPDATE stock_desc SET desc=?, desc_date=? WHERE code=?', (desc, desc_date, row['code']) )\n",
    "            conn.commit()\n",
    "        print()\n",
    "        \n",
    "    conn.close()\n"
   ]
  }
 ],
 "metadata": {
  "kernelspec": {
   "display_name": "Python 3",
   "language": "python",
   "name": "python3"
  },
  "language_info": {
   "codemirror_mode": {
    "name": "ipython",
    "version": 3
   },
   "file_extension": ".py",
   "mimetype": "text/x-python",
   "name": "python",
   "nbconvert_exporter": "python",
   "pygments_lexer": "ipython3",
   "version": "3.4.3"
  }
 },
 "nbformat": 4,
 "nbformat_minor": 0
}
