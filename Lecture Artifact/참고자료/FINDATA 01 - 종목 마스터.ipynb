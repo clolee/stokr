{
 "cells": [
  {
   "cell_type": "markdown",
   "metadata": {},
   "source": [
    "# FINDATA 01 - 종목 마스터\n",
    "\n",
    "(stock_master 테이블)\n",
    "\n",
    "#### 이승준 http://fb.com/plusjune"
   ]
  },
  {
   "cell_type": "markdown",
   "metadata": {},
   "source": [
    "# 상장회사검색\n",
    "\n",
    "* 거래소 상장회사검색 http://marketdata.krx.co.kr/contents/MKD/04/0406/04060100/MKD04060100.jsp\n",
    "* 거래소 csv 읽기 에러: csv로 다운로드 하는 경우 주소 등의 컬럼에 '\\n' 데이터가 포함\n",
    "* 엑셀로 다운로드: xlrd (엑셀 입출력 패키지)를 설치\n",
    "\n",
    "```\n",
    "$ sudo pip install xlrd\n",
    "```\n",
    "\n",
    "* KRX 01 종목코드 전체 https://gist.github.com/48486c12915d197714bc"
   ]
  },
  {
   "cell_type": "code",
   "execution_count": 206,
   "metadata": {
    "collapsed": false
   },
   "outputs": [],
   "source": [
    "import requests\n",
    "import pandas as pd\n",
    "import io\n",
    "\n",
    "def get_krx_stock_master():\n",
    "    # STEP 01: Generate OTP\n",
    "    gen_otp_url = 'http://marketdata.krx.co.kr/contents/COM/GenerateOTP.jspx'\n",
    "    gen_otp_data = {\n",
    "        'name':'fileDown',\n",
    "        'filetype':'xls',\n",
    "        'url':'MKD/04/0406/04060100/mkd04060100_01',\n",
    "        'market_gubun':'ALL', # ''ALL':전체, STK': 코스피\n",
    "        'isu_cdnm':'전체',\n",
    "        'isu_cd':'',\n",
    "        'isu_nm':'',\n",
    "        'isu_srt_cd':'',\n",
    "        'sort_type':'A',\n",
    "        'std_ind_cd':'01',\n",
    "        'par_pr':'',\n",
    "        'cpta_scl':'',\n",
    "        'sttl_trm':'',\n",
    "        'lst_stk_vl':'1',\n",
    "        'in_lst_stk_vl':'',\n",
    "        'in_lst_stk_vl2':'',\n",
    "        'cpt':'1',\n",
    "        'in_cpt':'',\n",
    "        'in_cpt2':'',\n",
    "        'pagePath':'/contents/MKD/04/0406/04060100/MKD04060100.jsp',\n",
    "    }\n",
    "\n",
    "    r = requests.post(gen_otp_url, gen_otp_data)\n",
    "    code = r.content\n",
    "\n",
    "    # STEP 02: download\n",
    "    down_url = 'http://file.krx.co.kr/download.jspx'\n",
    "    down_data = {\n",
    "        'code': code,\n",
    "    }\n",
    "\n",
    "    r = requests.post(down_url, down_data)\n",
    "    f = io.BytesIO(r.content)\n",
    "    \n",
    "    usecols = ['종목코드', '기업명', '업종코드', '업종', '대표전화', '주소']\n",
    "    df = pd.read_excel(f, converters={'종목코드': str, '업종코드': str}, usecols=usecols)\n",
    "    df.columns = ['code', 'name', 'sector_code', 'sector', 'telephone', 'address']\n",
    "    return df"
   ]
  },
  {
   "cell_type": "code",
   "execution_count": 207,
   "metadata": {
    "collapsed": false
   },
   "outputs": [
    {
     "data": {
      "text/html": [
       "<div>\n",
       "<table border=\"1\" class=\"dataframe\">\n",
       "  <thead>\n",
       "    <tr style=\"text-align: right;\">\n",
       "      <th></th>\n",
       "      <th>code</th>\n",
       "      <th>name</th>\n",
       "      <th>sector_code</th>\n",
       "      <th>sector</th>\n",
       "      <th>telephone</th>\n",
       "      <th>address</th>\n",
       "    </tr>\n",
       "  </thead>\n",
       "  <tbody>\n",
       "    <tr>\n",
       "      <th>0</th>\n",
       "      <td>060310</td>\n",
       "      <td>3S</td>\n",
       "      <td>032602</td>\n",
       "      <td>전자부품 제조업</td>\n",
       "      <td>02-896-9474</td>\n",
       "      <td>서울특별시 금천구  시흥대로71길 30-1</td>\n",
       "    </tr>\n",
       "    <tr>\n",
       "      <th>1</th>\n",
       "      <td>095570</td>\n",
       "      <td>AJ네트웍스</td>\n",
       "      <td>126903</td>\n",
       "      <td>산업용 기계 및 장비 임대업</td>\n",
       "      <td>02-6240-0800</td>\n",
       "      <td>서울특별시 송파구 정의로8길 9 (문정동,AJ빌딩)</td>\n",
       "    </tr>\n",
       "    <tr>\n",
       "      <th>2</th>\n",
       "      <td>068400</td>\n",
       "      <td>AJ렌터카</td>\n",
       "      <td>126901</td>\n",
       "      <td>운송장비 임대업</td>\n",
       "      <td>1544-1600</td>\n",
       "      <td>서울특별시 구로구  서부샛길 822</td>\n",
       "    </tr>\n",
       "    <tr>\n",
       "      <th>3</th>\n",
       "      <td>006840</td>\n",
       "      <td>AK홀딩스</td>\n",
       "      <td>137105</td>\n",
       "      <td>회사본부, 지주회사 및 경영컨설팅 서비스업</td>\n",
       "      <td>02-6923-2921</td>\n",
       "      <td>서울특별시 구로구 구로중앙로 152(구로동)</td>\n",
       "    </tr>\n",
       "    <tr>\n",
       "      <th>4</th>\n",
       "      <td>054620</td>\n",
       "      <td>AP시스템</td>\n",
       "      <td>032902</td>\n",
       "      <td>특수 목적용 기계 제조업</td>\n",
       "      <td>031-379-2700</td>\n",
       "      <td>경기도 화성시 동탄면 동탄산단8길 15-5</td>\n",
       "    </tr>\n",
       "  </tbody>\n",
       "</table>\n",
       "</div>"
      ],
      "text/plain": [
       "     code    name sector_code                   sector     telephone  \\\n",
       "0  060310      3S      032602                 전자부품 제조업   02-896-9474   \n",
       "1  095570  AJ네트웍스      126903          산업용 기계 및 장비 임대업  02-6240-0800   \n",
       "2  068400   AJ렌터카      126901                 운송장비 임대업     1544-1600   \n",
       "3  006840   AK홀딩스      137105  회사본부, 지주회사 및 경영컨설팅 서비스업  02-6923-2921   \n",
       "4  054620   AP시스템      032902            특수 목적용 기계 제조업  031-379-2700   \n",
       "\n",
       "                        address  \n",
       "0      서울특별시 금천구  시흥대로71길 30-1   \n",
       "1  서울특별시 송파구 정의로8길 9 (문정동,AJ빌딩)  \n",
       "2          서울특별시 구로구  서부샛길 822   \n",
       "3     서울특별시 구로구 구로중앙로 152(구로동)   \n",
       "4      경기도 화성시 동탄면 동탄산단8길 15-5   "
      ]
     },
     "execution_count": 207,
     "metadata": {},
     "output_type": "execute_result"
    }
   ],
   "source": [
    "df = get_krx_stock_master()\n",
    "df.head()"
   ]
  },
  {
   "cell_type": "code",
   "execution_count": 213,
   "metadata": {
    "collapsed": true
   },
   "outputs": [],
   "source": [
    "import sqlite3\n",
    "conn = sqlite3.connect('findata.db')"
   ]
  },
  {
   "cell_type": "code",
   "execution_count": 214,
   "metadata": {
    "collapsed": false
   },
   "outputs": [],
   "source": [
    "# stock_master 테이블  쓰기\n",
    "\n",
    "df_master = df[['code', 'name', 'sector_code', 'sector']]\n",
    "df_master.to_sql('stock_master', conn, if_exists='replace', index=False)"
   ]
  },
  {
   "cell_type": "code",
   "execution_count": 215,
   "metadata": {
    "collapsed": false
   },
   "outputs": [],
   "source": [
    "# stock_desc 테이블  쓰기\n",
    "df_desc = df[['code', 'name', 'telephone', 'address']].copy()\n",
    "df_desc['market'] = ''\n",
    "df_desc['wics'] = ''\n",
    "df_desc['name_en'] = ''\n",
    "df_desc['desc'] = ''\n",
    "df_desc['desc_date'] = ''\n",
    "\n",
    "df_desc.to_sql('stock_desc', conn, if_exists='replace', index=False)"
   ]
  },
  {
   "cell_type": "markdown",
   "metadata": {},
   "source": [
    "# 데이터 확인"
   ]
  },
  {
   "cell_type": "code",
   "execution_count": 216,
   "metadata": {
    "collapsed": false
   },
   "outputs": [
    {
     "data": {
      "text/html": [
       "<div>\n",
       "<table border=\"1\" class=\"dataframe\">\n",
       "  <thead>\n",
       "    <tr style=\"text-align: right;\">\n",
       "      <th></th>\n",
       "      <th>code</th>\n",
       "      <th>name</th>\n",
       "      <th>sector_code</th>\n",
       "      <th>sector</th>\n",
       "    </tr>\n",
       "  </thead>\n",
       "  <tbody>\n",
       "    <tr>\n",
       "      <th>0</th>\n",
       "      <td>060310</td>\n",
       "      <td>3S</td>\n",
       "      <td>032602</td>\n",
       "      <td>전자부품 제조업</td>\n",
       "    </tr>\n",
       "    <tr>\n",
       "      <th>1</th>\n",
       "      <td>095570</td>\n",
       "      <td>AJ네트웍스</td>\n",
       "      <td>126903</td>\n",
       "      <td>산업용 기계 및 장비 임대업</td>\n",
       "    </tr>\n",
       "    <tr>\n",
       "      <th>2</th>\n",
       "      <td>068400</td>\n",
       "      <td>AJ렌터카</td>\n",
       "      <td>126901</td>\n",
       "      <td>운송장비 임대업</td>\n",
       "    </tr>\n",
       "    <tr>\n",
       "      <th>3</th>\n",
       "      <td>006840</td>\n",
       "      <td>AK홀딩스</td>\n",
       "      <td>137105</td>\n",
       "      <td>회사본부, 지주회사 및 경영컨설팅 서비스업</td>\n",
       "    </tr>\n",
       "    <tr>\n",
       "      <th>4</th>\n",
       "      <td>054620</td>\n",
       "      <td>AP시스템</td>\n",
       "      <td>032902</td>\n",
       "      <td>특수 목적용 기계 제조업</td>\n",
       "    </tr>\n",
       "  </tbody>\n",
       "</table>\n",
       "</div>"
      ],
      "text/plain": [
       "     code    name sector_code                   sector\n",
       "0  060310      3S      032602                 전자부품 제조업\n",
       "1  095570  AJ네트웍스      126903          산업용 기계 및 장비 임대업\n",
       "2  068400   AJ렌터카      126901                 운송장비 임대업\n",
       "3  006840   AK홀딩스      137105  회사본부, 지주회사 및 경영컨설팅 서비스업\n",
       "4  054620   AP시스템      032902            특수 목적용 기계 제조업"
      ]
     },
     "execution_count": 216,
     "metadata": {},
     "output_type": "execute_result"
    }
   ],
   "source": [
    "# 테이블  읽기\n",
    "df = pd.read_sql_query('SELECT * FROM stock_master limit 5', conn)\n",
    "df.head()"
   ]
  },
  {
   "cell_type": "code",
   "execution_count": 217,
   "metadata": {
    "collapsed": false
   },
   "outputs": [
    {
     "data": {
      "text/html": [
       "<div>\n",
       "<table border=\"1\" class=\"dataframe\">\n",
       "  <thead>\n",
       "    <tr style=\"text-align: right;\">\n",
       "      <th></th>\n",
       "      <th>code</th>\n",
       "      <th>name</th>\n",
       "      <th>telephone</th>\n",
       "      <th>address</th>\n",
       "      <th>market</th>\n",
       "      <th>wics</th>\n",
       "      <th>name_en</th>\n",
       "      <th>desc</th>\n",
       "      <th>desc_date</th>\n",
       "    </tr>\n",
       "  </thead>\n",
       "  <tbody>\n",
       "    <tr>\n",
       "      <th>0</th>\n",
       "      <td>060310</td>\n",
       "      <td>3S</td>\n",
       "      <td>02-896-9474</td>\n",
       "      <td>서울특별시 금천구  시흥대로71길 30-1</td>\n",
       "      <td></td>\n",
       "      <td></td>\n",
       "      <td></td>\n",
       "      <td></td>\n",
       "      <td></td>\n",
       "    </tr>\n",
       "    <tr>\n",
       "      <th>1</th>\n",
       "      <td>095570</td>\n",
       "      <td>AJ네트웍스</td>\n",
       "      <td>02-6240-0800</td>\n",
       "      <td>서울특별시 송파구 정의로8길 9 (문정동,AJ빌딩)</td>\n",
       "      <td></td>\n",
       "      <td></td>\n",
       "      <td></td>\n",
       "      <td></td>\n",
       "      <td></td>\n",
       "    </tr>\n",
       "    <tr>\n",
       "      <th>2</th>\n",
       "      <td>068400</td>\n",
       "      <td>AJ렌터카</td>\n",
       "      <td>1544-1600</td>\n",
       "      <td>서울특별시 구로구  서부샛길 822</td>\n",
       "      <td></td>\n",
       "      <td></td>\n",
       "      <td></td>\n",
       "      <td></td>\n",
       "      <td></td>\n",
       "    </tr>\n",
       "    <tr>\n",
       "      <th>3</th>\n",
       "      <td>006840</td>\n",
       "      <td>AK홀딩스</td>\n",
       "      <td>02-6923-2921</td>\n",
       "      <td>서울특별시 구로구 구로중앙로 152(구로동)</td>\n",
       "      <td></td>\n",
       "      <td></td>\n",
       "      <td></td>\n",
       "      <td></td>\n",
       "      <td></td>\n",
       "    </tr>\n",
       "    <tr>\n",
       "      <th>4</th>\n",
       "      <td>054620</td>\n",
       "      <td>AP시스템</td>\n",
       "      <td>031-379-2700</td>\n",
       "      <td>경기도 화성시 동탄면 동탄산단8길 15-5</td>\n",
       "      <td></td>\n",
       "      <td></td>\n",
       "      <td></td>\n",
       "      <td></td>\n",
       "      <td></td>\n",
       "    </tr>\n",
       "  </tbody>\n",
       "</table>\n",
       "</div>"
      ],
      "text/plain": [
       "     code    name     telephone                       address market wics  \\\n",
       "0  060310      3S   02-896-9474      서울특별시 금천구  시흥대로71길 30-1                \n",
       "1  095570  AJ네트웍스  02-6240-0800  서울특별시 송파구 정의로8길 9 (문정동,AJ빌딩)               \n",
       "2  068400   AJ렌터카     1544-1600          서울특별시 구로구  서부샛길 822                \n",
       "3  006840   AK홀딩스  02-6923-2921     서울특별시 구로구 구로중앙로 152(구로동)                \n",
       "4  054620   AP시스템  031-379-2700      경기도 화성시 동탄면 동탄산단8길 15-5                \n",
       "\n",
       "  name_en desc desc_date  \n",
       "0                         \n",
       "1                         \n",
       "2                         \n",
       "3                         \n",
       "4                         "
      ]
     },
     "execution_count": 217,
     "metadata": {},
     "output_type": "execute_result"
    }
   ],
   "source": [
    "# 테이블  읽기\n",
    "df = pd.read_sql_query('SELECT * FROM stock_desc limit 5', conn)\n",
    "df.head()"
   ]
  },
  {
   "cell_type": "code",
   "execution_count": 218,
   "metadata": {
    "collapsed": false
   },
   "outputs": [
    {
     "data": {
      "text/html": [
       "<div>\n",
       "<table border=\"1\" class=\"dataframe\">\n",
       "  <thead>\n",
       "    <tr style=\"text-align: right;\">\n",
       "      <th></th>\n",
       "      <th>code</th>\n",
       "      <th>name</th>\n",
       "      <th>address</th>\n",
       "    </tr>\n",
       "  </thead>\n",
       "  <tbody>\n",
       "    <tr>\n",
       "      <th>0</th>\n",
       "      <td>060310</td>\n",
       "      <td>3S</td>\n",
       "      <td>서울특별시 금천구  시흥대로71길 30-1</td>\n",
       "    </tr>\n",
       "    <tr>\n",
       "      <th>1</th>\n",
       "      <td>095570</td>\n",
       "      <td>AJ네트웍스</td>\n",
       "      <td>서울특별시 송파구 정의로8길 9 (문정동,AJ빌딩)</td>\n",
       "    </tr>\n",
       "    <tr>\n",
       "      <th>2</th>\n",
       "      <td>068400</td>\n",
       "      <td>AJ렌터카</td>\n",
       "      <td>서울특별시 구로구  서부샛길 822</td>\n",
       "    </tr>\n",
       "    <tr>\n",
       "      <th>3</th>\n",
       "      <td>006840</td>\n",
       "      <td>AK홀딩스</td>\n",
       "      <td>서울특별시 구로구 구로중앙로 152(구로동)</td>\n",
       "    </tr>\n",
       "    <tr>\n",
       "      <th>4</th>\n",
       "      <td>054620</td>\n",
       "      <td>AP시스템</td>\n",
       "      <td>경기도 화성시 동탄면 동탄산단8길 15-5</td>\n",
       "    </tr>\n",
       "  </tbody>\n",
       "</table>\n",
       "</div>"
      ],
      "text/plain": [
       "     code    name                       address\n",
       "0  060310      3S      서울특별시 금천구  시흥대로71길 30-1 \n",
       "1  095570  AJ네트웍스  서울특별시 송파구 정의로8길 9 (문정동,AJ빌딩)\n",
       "2  068400   AJ렌터카          서울특별시 구로구  서부샛길 822 \n",
       "3  006840   AK홀딩스     서울특별시 구로구 구로중앙로 152(구로동) \n",
       "4  054620   AP시스템      경기도 화성시 동탄면 동탄산단8길 15-5 "
      ]
     },
     "execution_count": 218,
     "metadata": {},
     "output_type": "execute_result"
    }
   ],
   "source": [
    "df = pd.read_sql_query(\n",
    "    'SELECT m.code, m.name, d.address '\n",
    "    'FROM stock_master AS m ' \n",
    "    'INNER JOIN  stock_desc AS d '\n",
    "    'ON m.code = d.code', \n",
    "    conn)\n",
    "\n",
    "df.head()"
   ]
  },
  {
   "cell_type": "code",
   "execution_count": 219,
   "metadata": {
    "collapsed": true
   },
   "outputs": [],
   "source": [
    "conn.close()"
   ]
  }
 ],
 "metadata": {
  "kernelspec": {
   "display_name": "Python 3",
   "language": "python",
   "name": "python3"
  },
  "language_info": {
   "codemirror_mode": {
    "name": "ipython",
    "version": 3
   },
   "file_extension": ".py",
   "mimetype": "text/x-python",
   "name": "python",
   "nbconvert_exporter": "python",
   "pygments_lexer": "ipython3",
   "version": "3.4.3"
  }
 },
 "nbformat": 4,
 "nbformat_minor": 0
}
