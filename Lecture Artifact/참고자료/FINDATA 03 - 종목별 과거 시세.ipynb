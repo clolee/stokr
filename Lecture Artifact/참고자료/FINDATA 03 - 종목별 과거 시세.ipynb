{
 "cells": [
  {
   "cell_type": "markdown",
   "metadata": {},
   "source": [
    "# FINDATA 03 - 종목별 과거 시세\n",
    "\n",
    "#### 이승준 http://fb.com/plusjune"
   ]
  },
  {
   "cell_type": "markdown",
   "metadata": {},
   "source": [
    "# 네이버 파이낸스 크롤링\n",
    "\n",
    "* http://finance.naver.com\n",
    "* http://finance.naver.com/item/sise_day.nhn?code=105560&page=1"
   ]
  },
  {
   "cell_type": "markdown",
   "metadata": {},
   "source": [
    "# 대표적인 두가지 방법\n",
    "1. pd.read_html()\n",
    "1. BeautifulSoup, requests"
   ]
  },
  {
   "cell_type": "markdown",
   "metadata": {},
   "source": [
    "# DataFrame으로 읽기"
   ]
  },
  {
   "cell_type": "code",
   "execution_count": 1,
   "metadata": {
    "collapsed": true
   },
   "outputs": [],
   "source": [
    "import pandas as pd\n",
    "\n",
    "url = 'http://finance.naver.com/item/sise_day.nhn?code=105560&page=1'\n",
    "dfs = pd.read_html(url)"
   ]
  },
  {
   "cell_type": "code",
   "execution_count": 2,
   "metadata": {
    "collapsed": false
   },
   "outputs": [
    {
     "data": {
      "text/plain": [
       "2"
      ]
     },
     "execution_count": 2,
     "metadata": {},
     "output_type": "execute_result"
    }
   ],
   "source": [
    "len(dfs)"
   ]
  },
  {
   "cell_type": "code",
   "execution_count": 3,
   "metadata": {
    "collapsed": false
   },
   "outputs": [
    {
     "data": {
      "text/html": [
       "<div>\n",
       "<table border=\"1\" class=\"dataframe\">\n",
       "  <thead>\n",
       "    <tr style=\"text-align: right;\">\n",
       "      <th></th>\n",
       "      <th>0</th>\n",
       "      <th>1</th>\n",
       "      <th>2</th>\n",
       "      <th>3</th>\n",
       "      <th>4</th>\n",
       "      <th>5</th>\n",
       "      <th>6</th>\n",
       "    </tr>\n",
       "  </thead>\n",
       "  <tbody>\n",
       "    <tr>\n",
       "      <th>0</th>\n",
       "      <td>날짜</td>\n",
       "      <td>종가</td>\n",
       "      <td>전일비</td>\n",
       "      <td>시가</td>\n",
       "      <td>고가</td>\n",
       "      <td>저가</td>\n",
       "      <td>거래량</td>\n",
       "    </tr>\n",
       "    <tr>\n",
       "      <th>1</th>\n",
       "      <td>2016.05.04</td>\n",
       "      <td>33500</td>\n",
       "      <td>450</td>\n",
       "      <td>33650</td>\n",
       "      <td>33900</td>\n",
       "      <td>33150</td>\n",
       "      <td>987759</td>\n",
       "    </tr>\n",
       "    <tr>\n",
       "      <th>2</th>\n",
       "      <td>2016.05.03</td>\n",
       "      <td>33950</td>\n",
       "      <td>150</td>\n",
       "      <td>34100</td>\n",
       "      <td>34550</td>\n",
       "      <td>33750</td>\n",
       "      <td>962139</td>\n",
       "    </tr>\n",
       "    <tr>\n",
       "      <th>3</th>\n",
       "      <td>2016.05.02</td>\n",
       "      <td>34100</td>\n",
       "      <td>700</td>\n",
       "      <td>34400</td>\n",
       "      <td>34750</td>\n",
       "      <td>34000</td>\n",
       "      <td>900767</td>\n",
       "    </tr>\n",
       "    <tr>\n",
       "      <th>4</th>\n",
       "      <td>2016.04.29</td>\n",
       "      <td>34800</td>\n",
       "      <td>450</td>\n",
       "      <td>35250</td>\n",
       "      <td>35250</td>\n",
       "      <td>34350</td>\n",
       "      <td>1009891</td>\n",
       "    </tr>\n",
       "    <tr>\n",
       "      <th>5</th>\n",
       "      <td>2016.04.28</td>\n",
       "      <td>35250</td>\n",
       "      <td>400</td>\n",
       "      <td>36050</td>\n",
       "      <td>36050</td>\n",
       "      <td>34950</td>\n",
       "      <td>1059990</td>\n",
       "    </tr>\n",
       "    <tr>\n",
       "      <th>6</th>\n",
       "      <td>2016.04.27</td>\n",
       "      <td>35650</td>\n",
       "      <td>50</td>\n",
       "      <td>35300</td>\n",
       "      <td>36250</td>\n",
       "      <td>35200</td>\n",
       "      <td>1207171</td>\n",
       "    </tr>\n",
       "    <tr>\n",
       "      <th>7</th>\n",
       "      <td>2016.04.26</td>\n",
       "      <td>35700</td>\n",
       "      <td>800</td>\n",
       "      <td>35900</td>\n",
       "      <td>36200</td>\n",
       "      <td>35500</td>\n",
       "      <td>1101442</td>\n",
       "    </tr>\n",
       "    <tr>\n",
       "      <th>8</th>\n",
       "      <td>2016.04.25</td>\n",
       "      <td>36500</td>\n",
       "      <td>600</td>\n",
       "      <td>35900</td>\n",
       "      <td>36600</td>\n",
       "      <td>35550</td>\n",
       "      <td>1110006</td>\n",
       "    </tr>\n",
       "    <tr>\n",
       "      <th>9</th>\n",
       "      <td>2016.04.22</td>\n",
       "      <td>35900</td>\n",
       "      <td>500</td>\n",
       "      <td>35550</td>\n",
       "      <td>36150</td>\n",
       "      <td>35350</td>\n",
       "      <td>1645260</td>\n",
       "    </tr>\n",
       "    <tr>\n",
       "      <th>10</th>\n",
       "      <td>2016.04.21</td>\n",
       "      <td>35400</td>\n",
       "      <td>600</td>\n",
       "      <td>35000</td>\n",
       "      <td>35450</td>\n",
       "      <td>34850</td>\n",
       "      <td>966479</td>\n",
       "    </tr>\n",
       "  </tbody>\n",
       "</table>\n",
       "</div>"
      ],
      "text/plain": [
       "             0      1    2      3      4      5        6\n",
       "0           날짜     종가  전일비     시가     고가     저가      거래량\n",
       "1   2016.05.04  33500  450  33650  33900  33150   987759\n",
       "2   2016.05.03  33950  150  34100  34550  33750   962139\n",
       "3   2016.05.02  34100  700  34400  34750  34000   900767\n",
       "4   2016.04.29  34800  450  35250  35250  34350  1009891\n",
       "5   2016.04.28  35250  400  36050  36050  34950  1059990\n",
       "6   2016.04.27  35650   50  35300  36250  35200  1207171\n",
       "7   2016.04.26  35700  800  35900  36200  35500  1101442\n",
       "8   2016.04.25  36500  600  35900  36600  35550  1110006\n",
       "9   2016.04.22  35900  500  35550  36150  35350  1645260\n",
       "10  2016.04.21  35400  600  35000  35450  34850   966479"
      ]
     },
     "execution_count": 3,
     "metadata": {},
     "output_type": "execute_result"
    }
   ],
   "source": [
    "df_price = dfs[0]\n",
    "df_price"
   ]
  },
  {
   "cell_type": "code",
   "execution_count": 4,
   "metadata": {
    "collapsed": false
   },
   "outputs": [
    {
     "data": {
      "text/plain": [
       "0    object\n",
       "1    object\n",
       "2    object\n",
       "3    object\n",
       "4    object\n",
       "5    object\n",
       "6    object\n",
       "dtype: object"
      ]
     },
     "execution_count": 4,
     "metadata": {},
     "output_type": "execute_result"
    }
   ],
   "source": [
    "df_price.dtypes"
   ]
  },
  {
   "cell_type": "code",
   "execution_count": 5,
   "metadata": {
    "collapsed": false
   },
   "outputs": [
    {
     "data": {
      "text/html": [
       "<div>\n",
       "<table border=\"1\" class=\"dataframe\">\n",
       "  <thead>\n",
       "    <tr style=\"text-align: right;\">\n",
       "      <th></th>\n",
       "      <th>date</th>\n",
       "      <th>close</th>\n",
       "      <th>change</th>\n",
       "      <th>open</th>\n",
       "      <th>high</th>\n",
       "      <th>low</th>\n",
       "      <th>volume</th>\n",
       "    </tr>\n",
       "  </thead>\n",
       "  <tbody>\n",
       "    <tr>\n",
       "      <th>1</th>\n",
       "      <td>2016-05-04</td>\n",
       "      <td>33500</td>\n",
       "      <td>450</td>\n",
       "      <td>33650</td>\n",
       "      <td>33900</td>\n",
       "      <td>33150</td>\n",
       "      <td>987759</td>\n",
       "    </tr>\n",
       "    <tr>\n",
       "      <th>2</th>\n",
       "      <td>2016-05-03</td>\n",
       "      <td>33950</td>\n",
       "      <td>150</td>\n",
       "      <td>34100</td>\n",
       "      <td>34550</td>\n",
       "      <td>33750</td>\n",
       "      <td>962139</td>\n",
       "    </tr>\n",
       "    <tr>\n",
       "      <th>3</th>\n",
       "      <td>2016-05-02</td>\n",
       "      <td>34100</td>\n",
       "      <td>700</td>\n",
       "      <td>34400</td>\n",
       "      <td>34750</td>\n",
       "      <td>34000</td>\n",
       "      <td>900767</td>\n",
       "    </tr>\n",
       "    <tr>\n",
       "      <th>4</th>\n",
       "      <td>2016-04-29</td>\n",
       "      <td>34800</td>\n",
       "      <td>450</td>\n",
       "      <td>35250</td>\n",
       "      <td>35250</td>\n",
       "      <td>34350</td>\n",
       "      <td>1009891</td>\n",
       "    </tr>\n",
       "    <tr>\n",
       "      <th>5</th>\n",
       "      <td>2016-04-28</td>\n",
       "      <td>35250</td>\n",
       "      <td>400</td>\n",
       "      <td>36050</td>\n",
       "      <td>36050</td>\n",
       "      <td>34950</td>\n",
       "      <td>1059990</td>\n",
       "    </tr>\n",
       "    <tr>\n",
       "      <th>6</th>\n",
       "      <td>2016-04-27</td>\n",
       "      <td>35650</td>\n",
       "      <td>50</td>\n",
       "      <td>35300</td>\n",
       "      <td>36250</td>\n",
       "      <td>35200</td>\n",
       "      <td>1207171</td>\n",
       "    </tr>\n",
       "    <tr>\n",
       "      <th>7</th>\n",
       "      <td>2016-04-26</td>\n",
       "      <td>35700</td>\n",
       "      <td>800</td>\n",
       "      <td>35900</td>\n",
       "      <td>36200</td>\n",
       "      <td>35500</td>\n",
       "      <td>1101442</td>\n",
       "    </tr>\n",
       "    <tr>\n",
       "      <th>8</th>\n",
       "      <td>2016-04-25</td>\n",
       "      <td>36500</td>\n",
       "      <td>600</td>\n",
       "      <td>35900</td>\n",
       "      <td>36600</td>\n",
       "      <td>35550</td>\n",
       "      <td>1110006</td>\n",
       "    </tr>\n",
       "    <tr>\n",
       "      <th>9</th>\n",
       "      <td>2016-04-22</td>\n",
       "      <td>35900</td>\n",
       "      <td>500</td>\n",
       "      <td>35550</td>\n",
       "      <td>36150</td>\n",
       "      <td>35350</td>\n",
       "      <td>1645260</td>\n",
       "    </tr>\n",
       "    <tr>\n",
       "      <th>10</th>\n",
       "      <td>2016-04-21</td>\n",
       "      <td>35400</td>\n",
       "      <td>600</td>\n",
       "      <td>35000</td>\n",
       "      <td>35450</td>\n",
       "      <td>34850</td>\n",
       "      <td>966479</td>\n",
       "    </tr>\n",
       "  </tbody>\n",
       "</table>\n",
       "</div>"
      ],
      "text/plain": [
       "         date  close  change   open   high    low   volume\n",
       "1  2016-05-04  33500     450  33650  33900  33150   987759\n",
       "2  2016-05-03  33950     150  34100  34550  33750   962139\n",
       "3  2016-05-02  34100     700  34400  34750  34000   900767\n",
       "4  2016-04-29  34800     450  35250  35250  34350  1009891\n",
       "5  2016-04-28  35250     400  36050  36050  34950  1059990\n",
       "6  2016-04-27  35650      50  35300  36250  35200  1207171\n",
       "7  2016-04-26  35700     800  35900  36200  35500  1101442\n",
       "8  2016-04-25  36500     600  35900  36600  35550  1110006\n",
       "9  2016-04-22  35900     500  35550  36150  35350  1645260\n",
       "10 2016-04-21  35400     600  35000  35450  34850   966479"
      ]
     },
     "execution_count": 5,
     "metadata": {},
     "output_type": "execute_result"
    }
   ],
   "source": [
    "df_price.columns = ['date', 'close', 'change', 'open', 'high', 'low', 'volume']\n",
    "df_price = df_price[1:] \n",
    "df_price = df_price.replace('\\.', '-', regex=True)\n",
    "df_price['date'] = pd.to_datetime(df_price['date'])\n",
    "\n",
    "int_cols = ['close', 'change', 'open', 'high', 'low', 'volume']\n",
    "df_price[int_cols] = df_price[int_cols].astype('int')\n",
    "df_price"
   ]
  },
  {
   "cell_type": "code",
   "execution_count": 6,
   "metadata": {
    "collapsed": false
   },
   "outputs": [
    {
     "data": {
      "text/plain": [
       "date      datetime64[ns]\n",
       "close              int64\n",
       "change             int64\n",
       "open               int64\n",
       "high               int64\n",
       "low                int64\n",
       "volume             int64\n",
       "dtype: object"
      ]
     },
     "execution_count": 6,
     "metadata": {},
     "output_type": "execute_result"
    }
   ],
   "source": [
    "df_price.dtypes"
   ]
  },
  {
   "cell_type": "markdown",
   "metadata": {},
   "source": [
    "# DB 테이블로 저장"
   ]
  },
  {
   "cell_type": "code",
   "execution_count": 7,
   "metadata": {
    "collapsed": true
   },
   "outputs": [],
   "source": [
    "import pandas as pd\n",
    "import sqlite3\n",
    "\n",
    "# KB금융(105560)\n",
    "\n",
    "url = 'http://finance.naver.com/item/sise_day.nhn?code=105560&page=1'\n",
    "dfs = pd.read_html(url)"
   ]
  },
  {
   "cell_type": "code",
   "execution_count": 8,
   "metadata": {
    "collapsed": false
   },
   "outputs": [],
   "source": [
    "conn = sqlite3.connect('findata.db')\n",
    "\n",
    "df_price.to_sql('test_table', conn, index=False, if_exists='replace')\n",
    "conn.close()"
   ]
  },
  {
   "cell_type": "code",
   "execution_count": 9,
   "metadata": {
    "collapsed": false
   },
   "outputs": [
    {
     "data": {
      "text/html": [
       "<div>\n",
       "<table border=\"1\" class=\"dataframe\">\n",
       "  <thead>\n",
       "    <tr style=\"text-align: right;\">\n",
       "      <th></th>\n",
       "      <th>date</th>\n",
       "      <th>close</th>\n",
       "      <th>change</th>\n",
       "      <th>open</th>\n",
       "      <th>high</th>\n",
       "      <th>low</th>\n",
       "      <th>volume</th>\n",
       "    </tr>\n",
       "  </thead>\n",
       "  <tbody>\n",
       "    <tr>\n",
       "      <th>0</th>\n",
       "      <td>2016-05-04</td>\n",
       "      <td>33500</td>\n",
       "      <td>450</td>\n",
       "      <td>33650</td>\n",
       "      <td>33900</td>\n",
       "      <td>33150</td>\n",
       "      <td>987759</td>\n",
       "    </tr>\n",
       "    <tr>\n",
       "      <th>1</th>\n",
       "      <td>2016-05-03</td>\n",
       "      <td>33950</td>\n",
       "      <td>150</td>\n",
       "      <td>34100</td>\n",
       "      <td>34550</td>\n",
       "      <td>33750</td>\n",
       "      <td>962139</td>\n",
       "    </tr>\n",
       "    <tr>\n",
       "      <th>2</th>\n",
       "      <td>2016-05-02</td>\n",
       "      <td>34100</td>\n",
       "      <td>700</td>\n",
       "      <td>34400</td>\n",
       "      <td>34750</td>\n",
       "      <td>34000</td>\n",
       "      <td>900767</td>\n",
       "    </tr>\n",
       "    <tr>\n",
       "      <th>3</th>\n",
       "      <td>2016-04-29</td>\n",
       "      <td>34800</td>\n",
       "      <td>450</td>\n",
       "      <td>35250</td>\n",
       "      <td>35250</td>\n",
       "      <td>34350</td>\n",
       "      <td>1009891</td>\n",
       "    </tr>\n",
       "    <tr>\n",
       "      <th>4</th>\n",
       "      <td>2016-04-28</td>\n",
       "      <td>35250</td>\n",
       "      <td>400</td>\n",
       "      <td>36050</td>\n",
       "      <td>36050</td>\n",
       "      <td>34950</td>\n",
       "      <td>1059990</td>\n",
       "    </tr>\n",
       "  </tbody>\n",
       "</table>\n",
       "</div>"
      ],
      "text/plain": [
       "        date  close  change   open   high    low   volume\n",
       "0 2016-05-04  33500     450  33650  33900  33150   987759\n",
       "1 2016-05-03  33950     150  34100  34550  33750   962139\n",
       "2 2016-05-02  34100     700  34400  34750  34000   900767\n",
       "3 2016-04-29  34800     450  35250  35250  34350  1009891\n",
       "4 2016-04-28  35250     400  36050  36050  34950  1059990"
      ]
     },
     "execution_count": 9,
     "metadata": {},
     "output_type": "execute_result"
    }
   ],
   "source": [
    "conn = sqlite3.connect('findata.db')\n",
    "\n",
    "df_price = pd.read_sql('select * from test_table', conn, parse_dates=['date'])\n",
    "df_price.head()"
   ]
  },
  {
   "cell_type": "code",
   "execution_count": 10,
   "metadata": {
    "collapsed": false
   },
   "outputs": [
    {
     "data": {
      "text/plain": [
       "date      datetime64[ns]\n",
       "close              int64\n",
       "change             int64\n",
       "open               int64\n",
       "high               int64\n",
       "low                int64\n",
       "volume             int64\n",
       "dtype: object"
      ]
     },
     "execution_count": 10,
     "metadata": {},
     "output_type": "execute_result"
    }
   ],
   "source": [
    "df_price.dtypes"
   ]
  },
  {
   "cell_type": "code",
   "execution_count": 11,
   "metadata": {
    "collapsed": true
   },
   "outputs": [],
   "source": [
    "conn.close()"
   ]
  },
  {
   "cell_type": "markdown",
   "metadata": {},
   "source": [
    "# 페이지 네비게이션\n",
    "http://finance.naver.com/item/sise_day.nhn?code=105560&page=1\n",
    "1. 마지막 페이지 숫자 알아내기\n",
    "1. requests, BeautifulSoup 사용"
   ]
  },
  {
   "cell_type": "code",
   "execution_count": 12,
   "metadata": {
    "collapsed": true
   },
   "outputs": [],
   "source": [
    "from bs4 import BeautifulSoup\n",
    "import requests"
   ]
  },
  {
   "cell_type": "code",
   "execution_count": 13,
   "metadata": {
    "collapsed": true
   },
   "outputs": [],
   "source": [
    "url = 'http://finance.naver.com/item/sise_day.nhn?code=105560&page=1'\n",
    "r = requests.get(url)\n",
    "soup = BeautifulSoup(r.text, \"lxml\")"
   ]
  },
  {
   "cell_type": "code",
   "execution_count": 14,
   "metadata": {
    "collapsed": false
   },
   "outputs": [
    {
     "data": {
      "text/plain": [
       "<td class=\"pgRR\">\n",
       "<a href=\"/item/sise_day.nhn?code=105560&amp;page=188\">맨뒤\n",
       "\t\t\t\t<img alt=\"\" border=\"0\" height=\"5\" src=\"http://static.naver.net/n/cmn/bu_pgarRR.gif\" width=\"8\"/>\n",
       "</a>\n",
       "</td>"
      ]
     },
     "execution_count": 14,
     "metadata": {},
     "output_type": "execute_result"
    }
   ],
   "source": [
    "td = soup.find('td', attrs={'class':'pgRR'})\n",
    "td"
   ]
  },
  {
   "cell_type": "code",
   "execution_count": 15,
   "metadata": {
    "collapsed": false
   },
   "outputs": [
    {
     "data": {
      "text/plain": [
       "188"
      ]
     },
     "execution_count": 15,
     "metadata": {},
     "output_type": "execute_result"
    }
   ],
   "source": [
    "td = soup.find('td', attrs={'class':'pgRR'})\n",
    "npage = int(td.a['href'].split('page=')[1])\n",
    "npage"
   ]
  },
  {
   "cell_type": "code",
   "execution_count": 16,
   "metadata": {
    "collapsed": false
   },
   "outputs": [],
   "source": [
    "from bs4 import BeautifulSoup\n",
    "import requests\n",
    "\n",
    "def get_last_page_num(code):\n",
    "    url = 'http://finance.naver.com/item/sise_day.nhn?code=%s&page=1' % (code)\n",
    "    r = requests.get(url)\n",
    "    soup = BeautifulSoup(r.text, \"lxml\")\n",
    "    td = soup.find('td', attrs={'class':'pgRR'})\n",
    "    npage = td.a['href'].split('page=')[1]\n",
    "    return int(npage)"
   ]
  },
  {
   "cell_type": "code",
   "execution_count": 17,
   "metadata": {
    "collapsed": false
   },
   "outputs": [
    {
     "data": {
      "text/plain": [
       "502"
      ]
     },
     "execution_count": 17,
     "metadata": {},
     "output_type": "execute_result"
    }
   ],
   "source": [
    "get_last_page_num('005930') # 삼성전자"
   ]
  },
  {
   "cell_type": "code",
   "execution_count": 18,
   "metadata": {
    "collapsed": false
   },
   "outputs": [
    {
     "data": {
      "text/plain": [
       "188"
      ]
     },
     "execution_count": 18,
     "metadata": {},
     "output_type": "execute_result"
    }
   ],
   "source": [
    "get_last_page_num('105560') # KB금융"
   ]
  },
  {
   "cell_type": "markdown",
   "metadata": {
    "collapsed": false
   },
   "source": [
    "# 페이지 전체 네비게이션"
   ]
  },
  {
   "cell_type": "code",
   "execution_count": 19,
   "metadata": {
    "collapsed": false
   },
   "outputs": [],
   "source": [
    "url_tmpl = 'http://finance.naver.com/item/sise_day.nhn?code=105560&page=%d'\n",
    "\n",
    "npages = get_last_page_num('105560')\n",
    "for p in range(1, npages + 1):\n",
    "    url = url_tmpl % p\n"
   ]
  },
  {
   "cell_type": "code",
   "execution_count": 20,
   "metadata": {
    "collapsed": false
   },
   "outputs": [
    {
     "data": {
      "text/html": [
       "<div>\n",
       "<table border=\"1\" class=\"dataframe\">\n",
       "  <thead>\n",
       "    <tr style=\"text-align: right;\">\n",
       "      <th></th>\n",
       "      <th>date</th>\n",
       "      <th>close</th>\n",
       "      <th>change</th>\n",
       "      <th>open</th>\n",
       "      <th>high</th>\n",
       "      <th>low</th>\n",
       "      <th>volume</th>\n",
       "      <th>code</th>\n",
       "    </tr>\n",
       "  </thead>\n",
       "  <tbody>\n",
       "    <tr>\n",
       "      <th>0</th>\n",
       "      <td>2016-05-04</td>\n",
       "      <td>33500</td>\n",
       "      <td>450</td>\n",
       "      <td>33650</td>\n",
       "      <td>33900</td>\n",
       "      <td>33150</td>\n",
       "      <td>987759</td>\n",
       "      <td>105560</td>\n",
       "    </tr>\n",
       "    <tr>\n",
       "      <th>1</th>\n",
       "      <td>2016-05-03</td>\n",
       "      <td>33950</td>\n",
       "      <td>150</td>\n",
       "      <td>34100</td>\n",
       "      <td>34550</td>\n",
       "      <td>33750</td>\n",
       "      <td>962139</td>\n",
       "      <td>105560</td>\n",
       "    </tr>\n",
       "    <tr>\n",
       "      <th>2</th>\n",
       "      <td>2016-05-02</td>\n",
       "      <td>34100</td>\n",
       "      <td>700</td>\n",
       "      <td>34400</td>\n",
       "      <td>34750</td>\n",
       "      <td>34000</td>\n",
       "      <td>900767</td>\n",
       "      <td>105560</td>\n",
       "    </tr>\n",
       "    <tr>\n",
       "      <th>3</th>\n",
       "      <td>2016-04-29</td>\n",
       "      <td>34800</td>\n",
       "      <td>450</td>\n",
       "      <td>35250</td>\n",
       "      <td>35250</td>\n",
       "      <td>34350</td>\n",
       "      <td>1009891</td>\n",
       "      <td>105560</td>\n",
       "    </tr>\n",
       "    <tr>\n",
       "      <th>4</th>\n",
       "      <td>2016-04-28</td>\n",
       "      <td>35250</td>\n",
       "      <td>400</td>\n",
       "      <td>36050</td>\n",
       "      <td>36050</td>\n",
       "      <td>34950</td>\n",
       "      <td>1059990</td>\n",
       "      <td>105560</td>\n",
       "    </tr>\n",
       "    <tr>\n",
       "      <th>5</th>\n",
       "      <td>2016-04-27</td>\n",
       "      <td>35650</td>\n",
       "      <td>50</td>\n",
       "      <td>35300</td>\n",
       "      <td>36250</td>\n",
       "      <td>35200</td>\n",
       "      <td>1207171</td>\n",
       "      <td>105560</td>\n",
       "    </tr>\n",
       "    <tr>\n",
       "      <th>6</th>\n",
       "      <td>2016-04-26</td>\n",
       "      <td>35700</td>\n",
       "      <td>800</td>\n",
       "      <td>35900</td>\n",
       "      <td>36200</td>\n",
       "      <td>35500</td>\n",
       "      <td>1101442</td>\n",
       "      <td>105560</td>\n",
       "    </tr>\n",
       "    <tr>\n",
       "      <th>7</th>\n",
       "      <td>2016-04-25</td>\n",
       "      <td>36500</td>\n",
       "      <td>600</td>\n",
       "      <td>35900</td>\n",
       "      <td>36600</td>\n",
       "      <td>35550</td>\n",
       "      <td>1110006</td>\n",
       "      <td>105560</td>\n",
       "    </tr>\n",
       "    <tr>\n",
       "      <th>8</th>\n",
       "      <td>2016-04-22</td>\n",
       "      <td>35900</td>\n",
       "      <td>500</td>\n",
       "      <td>35550</td>\n",
       "      <td>36150</td>\n",
       "      <td>35350</td>\n",
       "      <td>1645260</td>\n",
       "      <td>105560</td>\n",
       "    </tr>\n",
       "    <tr>\n",
       "      <th>9</th>\n",
       "      <td>2016-04-21</td>\n",
       "      <td>35400</td>\n",
       "      <td>600</td>\n",
       "      <td>35000</td>\n",
       "      <td>35450</td>\n",
       "      <td>34850</td>\n",
       "      <td>966479</td>\n",
       "      <td>105560</td>\n",
       "    </tr>\n",
       "  </tbody>\n",
       "</table>\n",
       "</div>"
      ],
      "text/plain": [
       "        date  close  change   open   high    low   volume    code\n",
       "0 2016-05-04  33500     450  33650  33900  33150   987759  105560\n",
       "1 2016-05-03  33950     150  34100  34550  33750   962139  105560\n",
       "2 2016-05-02  34100     700  34400  34750  34000   900767  105560\n",
       "3 2016-04-29  34800     450  35250  35250  34350  1009891  105560\n",
       "4 2016-04-28  35250     400  36050  36050  34950  1059990  105560\n",
       "5 2016-04-27  35650      50  35300  36250  35200  1207171  105560\n",
       "6 2016-04-26  35700     800  35900  36200  35500  1101442  105560\n",
       "7 2016-04-25  36500     600  35900  36600  35550  1110006  105560\n",
       "8 2016-04-22  35900     500  35550  36150  35350  1645260  105560\n",
       "9 2016-04-21  35400     600  35000  35450  34850   966479  105560"
      ]
     },
     "execution_count": 20,
     "metadata": {},
     "output_type": "execute_result"
    }
   ],
   "source": [
    "df_price['code'] = '105560'\n",
    "df_price"
   ]
  },
  {
   "cell_type": "markdown",
   "metadata": {},
   "source": [
    "# 전종목 과거 가격 데이터저장"
   ]
  },
  {
   "cell_type": "code",
   "execution_count": null,
   "metadata": {
    "collapsed": false
   },
   "outputs": [],
   "source": [
    "# stock_price 테이블 생성\n",
    "conn = sqlite3.connect('findata.db')\n",
    "\n",
    "sql = '''\n",
    "CREATE TABLE \"stock_price\" (    \n",
    "  \"date\" TIMESTAMP,\n",
    "  \"code\" TEXT,\n",
    "  \"close\" INTEGER,\n",
    "  \"change\" INTEGER,\n",
    "  \"open\" INTEGER,\n",
    "  \"high\" INTEGER, \n",
    "  \"low\" INTEGER,  \n",
    "  \"volume\" INTEGER\n",
    ");\n",
    "'''\n",
    "c = conn.cursor()\n",
    "c.execute(sql)\n",
    "conn.close()"
   ]
  },
  {
   "cell_type": "code",
   "execution_count": null,
   "metadata": {
    "collapsed": true
   },
   "outputs": [],
   "source": [
    "# stock_price 테이블 삭제\n",
    "conn = sqlite3.connect('findata.db')\n",
    "\n",
    "sql = 'DROP TABLE stock_price'\n",
    "c = conn.cursor()\n",
    "c.execute(sql)\n",
    "conn.close()"
   ]
  },
  {
   "cell_type": "code",
   "execution_count": 22,
   "metadata": {
    "collapsed": false
   },
   "outputs": [
    {
     "name": "stdout",
     "output_type": "stream",
     "text": [
      "188,187,186,185,184,183,182,181,180,179,178,177,176,175,174,173,172,171,170,169,168,167,166,165,164,163,162,161,160,159,158,157,156,155,154,153,152,151,150,149,148,147,146,145,144,143,142,141,140,139,138,137,136,135,134,133,132,131,130,129,128,127,126,125,124,123,122,121,120,119,118,117,116,115,114,113,112,111,110,109,108,107,106,105,104,103,102,101,100,99,98,97,96,95,94,93,92,91,90,89,88,87,86,85,84,83,82,81,80,79,78,77,76,75,74,73,72,71,70,69,68,67,66,65,64,63,62,61,60,59,58,57,56,55,54,53,52,51,50,49,48,47,46,45,44,43,42,41,40,39,38,37,36,35,34,33,32,31,30,29,28,27,26,25,24,23,22,21,20,19,18,17,16,15,14,13,12,11,10,9,8,7,6,5,4,3,2,1,"
     ]
    }
   ],
   "source": [
    "import sqlite3\n",
    "conn = sqlite3.connect('findata.db')\n",
    "\n",
    "code = '105560'\n",
    "\n",
    "url_tmpl = 'http://finance.naver.com/item/sise_day.nhn?code=%s&page=%d'\n",
    "\n",
    "npages = get_last_page_num(code)\n",
    "\n",
    "for p in range(npages, 0, -1):\n",
    "    url = url_tmpl % (code, p)\n",
    "    dfs = pd.read_html(url)\n",
    "    df_price = dfs[0]\n",
    "    df_price.columns = ['date', 'close', 'change', 'open', 'high', 'low', 'volume']\n",
    "    df_price = df_price[1:] \n",
    "    df_price = df_price.replace('\\.', '-', regex=True)\n",
    "    df_price['date'] = pd.to_datetime(df_price['date'])\n",
    "    int_cols = ['close', 'change', 'open', 'high', 'low', 'volume']\n",
    "    df_price[int_cols] = df_price[int_cols].astype('int')\n",
    "    df_price['code'] = code\n",
    "    df_price.to_sql('stock_price', conn, if_exists='append', index=False)\n",
    "    print('%d,' % p, end='')"
   ]
  },
  {
   "cell_type": "code",
   "execution_count": 23,
   "metadata": {
    "collapsed": false
   },
   "outputs": [],
   "source": [
    "import sqlite3\n",
    "conn = sqlite3.connect('findata.db')\n",
    "\n",
    "def stock_code_price_to_sql(code):\n",
    "    df_max = pd.read_sql('SELECT * FROM stock_price where code=\"%s\" ORDER BY date DESC LIMIT 1', conn)\n",
    "    \n",
    "    url_tmpl = 'http://finance.naver.com/item/sise_day.nhn?code=%s&page=%d'\n",
    "    npages = get_last_page_num(code)\n",
    "    for p in range(npages, 0, -1):\n",
    "        url = url_tmpl % (code, p)\n",
    "        dfs = pd.read_html(url)\n",
    "        df_price = dfs[0]\n",
    "        df_price.columns = ['date', 'close', 'change', 'open', 'high', 'low', 'volume']\n",
    "        df_price = df_price[1:] \n",
    "        df_price = df_price.replace('\\.', '-', regex=True)\n",
    "        df_price['date'] = pd.to_datetime(df_price['date'])\n",
    "        df_price[int_cols] = df_price[int_cols].astype('int', raise_on_error=False)\n",
    "        df_price['code'] = code\n",
    "        df_price.to_sql('stock_price', conn, if_exists='append', index=False)\n",
    "        print('%d,' % p, end='')\n",
    "    conn.close()\n",
    "    print()"
   ]
  },
  {
   "cell_type": "code",
   "execution_count": null,
   "metadata": {
    "collapsed": false
   },
   "outputs": [
    {
     "name": "stdout",
     "output_type": "stream",
     "text": [
      "188,187,186,185,184,183,182,181,180,179,178,177,176,175,174,173,172,171,170,169,168,167,166,165,164,163,162,161,160,"
     ]
    }
   ],
   "source": [
    "stock_code_price_to_sql('105560')"
   ]
  },
  {
   "cell_type": "code",
   "execution_count": null,
   "metadata": {
    "collapsed": true
   },
   "outputs": [],
   "source": [
    "conn.close()"
   ]
  },
  {
   "cell_type": "markdown",
   "metadata": {
    "collapsed": true
   },
   "source": [
    "# 데이터 확인"
   ]
  },
  {
   "cell_type": "code",
   "execution_count": 245,
   "metadata": {
    "collapsed": false
   },
   "outputs": [
    {
     "data": {
      "text/html": [
       "<div>\n",
       "<table border=\"1\" class=\"dataframe\">\n",
       "  <thead>\n",
       "    <tr style=\"text-align: right;\">\n",
       "      <th></th>\n",
       "      <th>date</th>\n",
       "      <th>code</th>\n",
       "      <th>close</th>\n",
       "      <th>change</th>\n",
       "      <th>open</th>\n",
       "      <th>high</th>\n",
       "      <th>low</th>\n",
       "      <th>volume</th>\n",
       "    </tr>\n",
       "  </thead>\n",
       "  <tbody>\n",
       "    <tr>\n",
       "      <th>0</th>\n",
       "      <td>2016-05-04 00:00:00</td>\n",
       "      <td>105560</td>\n",
       "      <td>33500</td>\n",
       "      <td>450</td>\n",
       "      <td>33650</td>\n",
       "      <td>33900</td>\n",
       "      <td>33150</td>\n",
       "      <td>987759</td>\n",
       "    </tr>\n",
       "    <tr>\n",
       "      <th>1</th>\n",
       "      <td>2016-05-03 00:00:00</td>\n",
       "      <td>105560</td>\n",
       "      <td>33950</td>\n",
       "      <td>150</td>\n",
       "      <td>34100</td>\n",
       "      <td>34550</td>\n",
       "      <td>33750</td>\n",
       "      <td>962139</td>\n",
       "    </tr>\n",
       "    <tr>\n",
       "      <th>2</th>\n",
       "      <td>2016-05-02 00:00:00</td>\n",
       "      <td>105560</td>\n",
       "      <td>34100</td>\n",
       "      <td>700</td>\n",
       "      <td>34400</td>\n",
       "      <td>34750</td>\n",
       "      <td>34000</td>\n",
       "      <td>900767</td>\n",
       "    </tr>\n",
       "    <tr>\n",
       "      <th>3</th>\n",
       "      <td>2016-04-29 00:00:00</td>\n",
       "      <td>105560</td>\n",
       "      <td>34800</td>\n",
       "      <td>450</td>\n",
       "      <td>35250</td>\n",
       "      <td>35250</td>\n",
       "      <td>34350</td>\n",
       "      <td>1009891</td>\n",
       "    </tr>\n",
       "    <tr>\n",
       "      <th>4</th>\n",
       "      <td>2016-04-28 00:00:00</td>\n",
       "      <td>105560</td>\n",
       "      <td>35250</td>\n",
       "      <td>400</td>\n",
       "      <td>36050</td>\n",
       "      <td>36050</td>\n",
       "      <td>34950</td>\n",
       "      <td>1059990</td>\n",
       "    </tr>\n",
       "  </tbody>\n",
       "</table>\n",
       "</div>"
      ],
      "text/plain": [
       "                  date    code  close  change   open   high    low   volume\n",
       "0  2016-05-04 00:00:00  105560  33500     450  33650  33900  33150   987759\n",
       "1  2016-05-03 00:00:00  105560  33950     150  34100  34550  33750   962139\n",
       "2  2016-05-02 00:00:00  105560  34100     700  34400  34750  34000   900767\n",
       "3  2016-04-29 00:00:00  105560  34800     450  35250  35250  34350  1009891\n",
       "4  2016-04-28 00:00:00  105560  35250     400  36050  36050  34950  1059990"
      ]
     },
     "execution_count": 245,
     "metadata": {},
     "output_type": "execute_result"
    }
   ],
   "source": [
    "%matplotlib inline\n",
    "\n",
    "import sqlite3\n",
    "conn = sqlite3.connect('findata.db')\n",
    "\n",
    "df_price = pd.read_sql('SELECT * FROM stock_price limit 30', conn)\n",
    "df_price.head()\n",
    "\n",
    "# 테이블  읽기\n",
    "df_price = pd.read_sql(\n",
    "    'SELECT * '\n",
    "    'FROM stock_price '\n",
    "    'WHERE code=\"079550\" and date BETWEEN \"2015-01-01\" AND \"2016-04-30\"', \n",
    "    conn,\n",
    "    index_col='date',)\n",
    "\n",
    "df_price['close'].plot(figsize=(14,4), grid=True)\n",
    "\n",
    "conn.close()"
   ]
  },
  {
   "cell_type": "markdown",
   "metadata": {},
   "source": [
    "# 전체 다운로드\n",
    "(주의: 전체 다운로드를 위해서는 4~5일 정도 소요됩니다)"
   ]
  },
  {
   "cell_type": "code",
   "execution_count": null,
   "metadata": {
    "collapsed": false
   },
   "outputs": [],
   "source": [
    "# 마스터(코드+종목명) 읽기\n",
    "conn = sqlite3.connect('findata.db')\n",
    "df_master = pd.read_sql('SELECT * FROM stock_master', conn)\n",
    "df_master.head()\n",
    "\n",
    "# 모든 종목에 대해 데이터 다운로드\n",
    "for inx, row in df_master.iterrows():\n",
    "    stock_code_price_to_sql(row['code'])\n",
    "    \n",
    "conn.close()"
   ]
  },
  {
   "cell_type": "markdown",
   "metadata": {},
   "source": [
    "# 코드 전체 (stock_price 테이블 만드는)\n",
    "* 다음 코드를 .py 파일로 저장한 뒤 실행하면 됩니다. \n",
    "* 만일 실행 중간에 중단된 경우, 다시 실행하면 마지막에 다운로드하지 못한 종목 부터 다시 시작 합니다.\n",
    "* '2016-05-04 00:00:00' 은 마지막 영업일로 지정해 주십시오."
   ]
  },
  {
   "cell_type": "code",
   "execution_count": null,
   "metadata": {
    "collapsed": true
   },
   "outputs": [],
   "source": [
    "# stock_price_to_sql.py\n",
    "\n",
    "import sqlite3\n",
    "import pandas as pd\n",
    "from datetime import datetime, timedelta\n",
    "from bs4 import BeautifulSoup\n",
    "import requests\n",
    "\n",
    "def get_last_page_num(code):\n",
    "    url = 'http://finance.naver.com/item/sise_day.nhn?code=%s&page=1' % (code)\n",
    "    r = requests.get(url)\n",
    "    soup = BeautifulSoup(r.text, \"lxml\")\n",
    "    td = soup.find('td', attrs={'class':'pgRR'})\n",
    "    npage = td.a['href'].split('page=')[1]\n",
    "    return int(npage)\n",
    "    \n",
    "def stock_code_price_to_sql(code):\n",
    "    conn = sqlite3.connect('findata.db')\n",
    "        \n",
    "    df_max = pd.read_sql('SELECT * FROM stock_price where code=\"%s\" ORDER BY date DESC LIMIT 1', conn)\n",
    "    \n",
    "    url_tmpl = 'http://finance.naver.com/item/sise_day.nhn?code=%s&page=%d'\n",
    "    npages = get_last_page_num(code)\n",
    "    for p in range(npages, 0, -1):\n",
    "        url = url_tmpl % (code, p)\n",
    "        dfs = pd.read_html(url)\n",
    "        df_price = dfs[0]\n",
    "        df_price.columns = ['date', 'close', 'change', 'open', 'high', 'low', 'volume']\n",
    "        df_price = df_price[1:] \n",
    "        df_price = df_price.replace('\\.', '-', regex=True)\n",
    "        df_price['date'] = pd.to_datetime(df_price['date'])\n",
    "        int_cols = ['close', 'change', 'open', 'high', 'low', 'volume']\n",
    "        df_price[int_cols] = df_price[int_cols].astype('int', raise_on_error=False)\n",
    "        df_price['code'] = code\n",
    "        df_price.to_sql('stock_price', conn, if_exists='append', index=False)\n",
    "        print('%d,' % p, end='', flush=True)\n",
    "    conn.close()\n",
    "    print()\n",
    "    \n",
    "if __name__ == \"__main__\":\n",
    "    conn = sqlite3.connect('findata.db')\n",
    "    df_master = pd.read_sql('SELECT * FROM stock_master', conn)\n",
    "    df_master.head()\n",
    "\n",
    "    for inx, row in df_master.iterrows():\n",
    "        conn = sqlite3.connect('findata.db')\n",
    "        df_max = pd.read_sql('SELECT MAX (date) AS \"maxdate\" FROM stock_price WHERE code=\"%s\"' % row['code'], conn)\n",
    "        conn.close()\n",
    "    \n",
    "        if df_max['maxdate'][0] and (df_max['maxdate'][0] >= '2016-05-04 00:00:00'):\n",
    "            print(row['code'], row['name'], 'UPDATED')\n",
    "            continue\n",
    "        print(row['code'], row['name'])\n",
    "        stock_code_price_to_sql(row['code'])\n",
    "    "
   ]
  }
 ],
 "metadata": {
  "kernelspec": {
   "display_name": "Python 3",
   "language": "python",
   "name": "python3"
  },
  "language_info": {
   "codemirror_mode": {
    "name": "ipython",
    "version": 3
   },
   "file_extension": ".py",
   "mimetype": "text/x-python",
   "name": "python",
   "nbconvert_exporter": "python",
   "pygments_lexer": "ipython3",
   "version": "3.4.3"
  }
 },
 "nbformat": 4,
 "nbformat_minor": 0
}
