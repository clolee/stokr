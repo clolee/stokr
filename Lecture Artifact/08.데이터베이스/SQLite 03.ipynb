{
 "cells": [
  {
   "cell_type": "markdown",
   "metadata": {
    "slideshow": {
     "slide_type": "slide"
    }
   },
   "source": [
    "# SQLite 03 - Query 연습"
   ]
  },
  {
   "cell_type": "code",
   "execution_count": 4,
   "metadata": {
    "collapsed": true,
    "slideshow": {
     "slide_type": "skip"
    }
   },
   "outputs": [],
   "source": [
    "%matplotlib inline\n",
    "from IPython.display import display, Image"
   ]
  },
  {
   "cell_type": "code",
   "execution_count": 5,
   "metadata": {
    "collapsed": true,
    "slideshow": {
     "slide_type": "slide"
    }
   },
   "outputs": [],
   "source": [
    "import pandas as pd\n",
    "import sqlite3\n",
    "\n",
    "con = sqlite3.connect('findb.db')"
   ]
  },
  {
   "cell_type": "code",
   "execution_count": 6,
   "metadata": {
    "collapsed": false,
    "slideshow": {
     "slide_type": "slide"
    }
   },
   "outputs": [
    {
     "data": {
      "text/plain": [
       "Index(['name', 'market', 'code', 'sector', 'sector_wics', 'name_en', 'desc',\n",
       "       'desc_date', 'corp_type', 'marcap', 'marcap_pct', 'update_date'],\n",
       "      dtype='object')"
      ]
     },
     "metadata": {},
     "output_type": "display_data"
    },
    {
     "data": {
      "text/plain": [
       "5"
      ]
     },
     "metadata": {},
     "output_type": "display_data"
    }
   ],
   "source": [
    "df = pd.read_sql_query(\n",
    "    'SELECT *'\n",
    "    'FROM master '\n",
    "    'ORDER BY -marcap ' \n",
    "    'LIMIT 5', con)\n",
    "\n",
    "display( df.columns )\n",
    "display( len(df) )"
   ]
  },
  {
   "cell_type": "code",
   "execution_count": 7,
   "metadata": {
    "collapsed": false,
    "slideshow": {
     "slide_type": "slide"
    }
   },
   "outputs": [
    {
     "data": {
      "text/html": [
       "<div>\n",
       "<table border=\"1\" class=\"dataframe\">\n",
       "  <thead>\n",
       "    <tr style=\"text-align: right;\">\n",
       "      <th></th>\n",
       "      <th>name</th>\n",
       "      <th>market</th>\n",
       "      <th>code</th>\n",
       "      <th>sector</th>\n",
       "      <th>sector_wics</th>\n",
       "      <th>name_en</th>\n",
       "      <th>desc</th>\n",
       "      <th>desc_date</th>\n",
       "      <th>corp_type</th>\n",
       "      <th>marcap</th>\n",
       "      <th>marcap_pct</th>\n",
       "      <th>update_date</th>\n",
       "    </tr>\n",
       "  </thead>\n",
       "  <tbody>\n",
       "    <tr>\n",
       "      <th>0</th>\n",
       "      <td>삼성전자</td>\n",
       "      <td>KOSPI</td>\n",
       "      <td>005930</td>\n",
       "      <td>전기전자</td>\n",
       "      <td>반도체와반도체장비</td>\n",
       "      <td>Samsung Electronics</td>\n",
       "      <td>본사를 거점으로 한국 및 CE, IM 부문 산하 해외 9개 지역총괄과 DS 부문 산...</td>\n",
       "      <td>2015-11-19</td>\n",
       "      <td></td>\n",
       "      <td>1668297.38</td>\n",
       "      <td>11.80</td>\n",
       "      <td>2016-01-31</td>\n",
       "    </tr>\n",
       "    <tr>\n",
       "      <th>1</th>\n",
       "      <td>한국전력</td>\n",
       "      <td>KOSPI</td>\n",
       "      <td>015760</td>\n",
       "      <td>전기가스</td>\n",
       "      <td>전기유틸리티</td>\n",
       "      <td>KEPCO</td>\n",
       "      <td>동사는 전력자원의 개발, 발전,송전,변전,배전 및 이와 관련되는 영업, 연구 및 기...</td>\n",
       "      <td>2015-12-11</td>\n",
       "      <td></td>\n",
       "      <td>337673.10</td>\n",
       "      <td>2.39</td>\n",
       "      <td>2016-01-31</td>\n",
       "    </tr>\n",
       "    <tr>\n",
       "      <th>2</th>\n",
       "      <td>현대차</td>\n",
       "      <td>KOSPI</td>\n",
       "      <td>005380</td>\n",
       "      <td>운수장비</td>\n",
       "      <td>자동차</td>\n",
       "      <td>Hyundai Motor</td>\n",
       "      <td>동사는 자동차 및 자동차부품을 제조 및 판매하는 국내 1위의 완성차 제조업체임. 공...</td>\n",
       "      <td>2015-10-08</td>\n",
       "      <td></td>\n",
       "      <td>292967.72</td>\n",
       "      <td>2.07</td>\n",
       "      <td>2016-01-31</td>\n",
       "    </tr>\n",
       "    <tr>\n",
       "      <th>3</th>\n",
       "      <td>삼성물산</td>\n",
       "      <td>KOSPI</td>\n",
       "      <td>028260</td>\n",
       "      <td>유통업</td>\n",
       "      <td>복합기업</td>\n",
       "      <td>Samsung C&amp;T Corporation</td>\n",
       "      <td>1963년 설립되었으며 건설업, 급식/식자재 유통사업, 에버랜드 운영 등 레저사업,...</td>\n",
       "      <td>2015-10-01</td>\n",
       "      <td></td>\n",
       "      <td>282638.16</td>\n",
       "      <td>2.00</td>\n",
       "      <td>2016-01-31</td>\n",
       "    </tr>\n",
       "    <tr>\n",
       "      <th>4</th>\n",
       "      <td>현대모비스</td>\n",
       "      <td>KOSPI</td>\n",
       "      <td>012330</td>\n",
       "      <td>운수장비</td>\n",
       "      <td>자동차부품</td>\n",
       "      <td>Hyundai Mobis</td>\n",
       "      <td>동사와 종속기업은 샤시모듈, 칵핏모듈, 프론트엔드모듈 등을 생산하여 계열사에 공급하...</td>\n",
       "      <td>2015-12-02</td>\n",
       "      <td></td>\n",
       "      <td>251633.89</td>\n",
       "      <td>1.78</td>\n",
       "      <td>2016-01-31</td>\n",
       "    </tr>\n",
       "  </tbody>\n",
       "</table>\n",
       "</div>"
      ],
      "text/plain": [
       "    name market    code sector sector_wics                  name_en  \\\n",
       "0   삼성전자  KOSPI  005930   전기전자   반도체와반도체장비      Samsung Electronics   \n",
       "1   한국전력  KOSPI  015760   전기가스      전기유틸리티                    KEPCO   \n",
       "2    현대차  KOSPI  005380   운수장비         자동차            Hyundai Motor   \n",
       "3   삼성물산  KOSPI  028260    유통업        복합기업  Samsung C&T Corporation   \n",
       "4  현대모비스  KOSPI  012330   운수장비       자동차부품            Hyundai Mobis   \n",
       "\n",
       "                                                desc   desc_date corp_type  \\\n",
       "0  본사를 거점으로 한국 및 CE, IM 부문 산하 해외 9개 지역총괄과 DS 부문 산...  2015-11-19             \n",
       "1  동사는 전력자원의 개발, 발전,송전,변전,배전 및 이와 관련되는 영업, 연구 및 기...  2015-12-11             \n",
       "2  동사는 자동차 및 자동차부품을 제조 및 판매하는 국내 1위의 완성차 제조업체임. 공...  2015-10-08             \n",
       "3  1963년 설립되었으며 건설업, 급식/식자재 유통사업, 에버랜드 운영 등 레저사업,...  2015-10-01             \n",
       "4  동사와 종속기업은 샤시모듈, 칵핏모듈, 프론트엔드모듈 등을 생산하여 계열사에 공급하...  2015-12-02             \n",
       "\n",
       "       marcap  marcap_pct update_date  \n",
       "0  1668297.38       11.80  2016-01-31  \n",
       "1   337673.10        2.39  2016-01-31  \n",
       "2   292967.72        2.07  2016-01-31  \n",
       "3   282638.16        2.00  2016-01-31  \n",
       "4   251633.89        1.78  2016-01-31  "
      ]
     },
     "execution_count": 7,
     "metadata": {},
     "output_type": "execute_result"
    }
   ],
   "source": [
    "df.head()"
   ]
  },
  {
   "cell_type": "code",
   "execution_count": 8,
   "metadata": {
    "collapsed": false,
    "slideshow": {
     "slide_type": "slide"
    }
   },
   "outputs": [
    {
     "data": {
      "text/html": [
       "<div>\n",
       "<table border=\"1\" class=\"dataframe\">\n",
       "  <thead>\n",
       "    <tr style=\"text-align: right;\">\n",
       "      <th></th>\n",
       "      <th>name</th>\n",
       "      <th>code</th>\n",
       "      <th>sector</th>\n",
       "      <th>marcap</th>\n",
       "    </tr>\n",
       "  </thead>\n",
       "  <tbody>\n",
       "    <tr>\n",
       "      <th>0</th>\n",
       "      <td>삼성전자</td>\n",
       "      <td>005930</td>\n",
       "      <td>전기전자</td>\n",
       "      <td>1668297.38</td>\n",
       "    </tr>\n",
       "    <tr>\n",
       "      <th>1</th>\n",
       "      <td>한국전력</td>\n",
       "      <td>015760</td>\n",
       "      <td>전기가스</td>\n",
       "      <td>337673.10</td>\n",
       "    </tr>\n",
       "    <tr>\n",
       "      <th>2</th>\n",
       "      <td>현대차</td>\n",
       "      <td>005380</td>\n",
       "      <td>운수장비</td>\n",
       "      <td>292967.72</td>\n",
       "    </tr>\n",
       "    <tr>\n",
       "      <th>3</th>\n",
       "      <td>삼성물산</td>\n",
       "      <td>028260</td>\n",
       "      <td>유통업</td>\n",
       "      <td>282638.16</td>\n",
       "    </tr>\n",
       "    <tr>\n",
       "      <th>4</th>\n",
       "      <td>현대모비스</td>\n",
       "      <td>012330</td>\n",
       "      <td>운수장비</td>\n",
       "      <td>251633.89</td>\n",
       "    </tr>\n",
       "  </tbody>\n",
       "</table>\n",
       "</div>"
      ],
      "text/plain": [
       "    name    code sector      marcap\n",
       "0   삼성전자  005930   전기전자  1668297.38\n",
       "1   한국전력  015760   전기가스   337673.10\n",
       "2    현대차  005380   운수장비   292967.72\n",
       "3   삼성물산  028260    유통업   282638.16\n",
       "4  현대모비스  012330   운수장비   251633.89"
      ]
     },
     "execution_count": 8,
     "metadata": {},
     "output_type": "execute_result"
    }
   ],
   "source": [
    "df[['name', 'code', 'sector', 'marcap']]"
   ]
  },
  {
   "cell_type": "code",
   "execution_count": 9,
   "metadata": {
    "collapsed": false,
    "slideshow": {
     "slide_type": "slide"
    }
   },
   "outputs": [],
   "source": [
    "df = pd.read_sql_query(\n",
    "    'SELECT *'\n",
    "    'FROM master ', con)\n",
    "\n",
    "df_desc = df[['code', 'desc']]\n",
    "df_desc = df_desc.set_index('code')\n",
    "df_desc\n",
    "df_desc.to_sql('stock_desc', con, index=True, if_exists='replace')"
   ]
  },
  {
   "cell_type": "code",
   "execution_count": 10,
   "metadata": {
    "collapsed": false,
    "slideshow": {
     "slide_type": "slide"
    }
   },
   "outputs": [
    {
     "data": {
      "text/plain": [
       "2150"
      ]
     },
     "metadata": {},
     "output_type": "display_data"
    },
    {
     "data": {
      "text/html": [
       "<div>\n",
       "<table border=\"1\" class=\"dataframe\">\n",
       "  <thead>\n",
       "    <tr style=\"text-align: right;\">\n",
       "      <th></th>\n",
       "      <th>desc</th>\n",
       "    </tr>\n",
       "    <tr>\n",
       "      <th>code</th>\n",
       "      <th></th>\n",
       "    </tr>\n",
       "  </thead>\n",
       "  <tbody>\n",
       "    <tr>\n",
       "      <th>060310</th>\n",
       "      <td>동사는 1991년 설립되어 2002년 코스닥시장에 상장. 반도체웨이퍼 캐리어박스와 ...</td>\n",
       "    </tr>\n",
       "    <tr>\n",
       "      <th>095570</th>\n",
       "      <td>2000년 2월 설립되었으며 2013년 12월 지배회사인 아주엘앤에프홀딩스(주)를 ...</td>\n",
       "    </tr>\n",
       "    <tr>\n",
       "      <th>068400</th>\n",
       "      <td>동사는 1988년 브이아이피렌터카로 설립되어 자동차대여, 자동차운송 및 자동차정비사...</td>\n",
       "    </tr>\n",
       "    <tr>\n",
       "      <th>006840</th>\n",
       "      <td>동사는 2012년 인적 분할을 통해 지주회사로 전환되었으며, 2014년 12월 애경...</td>\n",
       "    </tr>\n",
       "    <tr>\n",
       "      <th>054620</th>\n",
       "      <td>동사는 1994년 9월 15일 반도체장비, LCD장비, 컨트롤 기기와 소프트웨어 제...</td>\n",
       "    </tr>\n",
       "  </tbody>\n",
       "</table>\n",
       "</div>"
      ],
      "text/plain": [
       "                                                     desc\n",
       "code                                                     \n",
       "060310  동사는 1991년 설립되어 2002년 코스닥시장에 상장. 반도체웨이퍼 캐리어박스와 ...\n",
       "095570  2000년 2월 설립되었으며 2013년 12월 지배회사인 아주엘앤에프홀딩스(주)를 ...\n",
       "068400  동사는 1988년 브이아이피렌터카로 설립되어 자동차대여, 자동차운송 및 자동차정비사...\n",
       "006840  동사는 2012년 인적 분할을 통해 지주회사로 전환되었으며, 2014년 12월 애경...\n",
       "054620  동사는 1994년 9월 15일 반도체장비, LCD장비, 컨트롤 기기와 소프트웨어 제..."
      ]
     },
     "metadata": {},
     "output_type": "display_data"
    }
   ],
   "source": [
    "df = pd.read_sql(\n",
    "    'SELECT *'\n",
    "    'FROM stock_desc ', con, index_col='code' )\n",
    "\n",
    "display(len(df))\n",
    "display(df.head())"
   ]
  },
  {
   "cell_type": "markdown",
   "metadata": {
    "collapsed": false,
    "slideshow": {
     "slide_type": "slide"
    }
   },
   "source": [
    "```sql\n",
    "sqlite> .schema\n",
    "\n",
    "CREATE TABLE \"master\" (\n",
    "\"name\" TEXT,\n",
    "  \"market\" TEXT,\n",
    "  \"code\" TEXT,\n",
    "  \"sector\" TEXT,\n",
    "  \"sector_wics\" TEXT,\n",
    "  \"name_en\" TEXT,\n",
    "  \"desc\" TEXT,\n",
    "  \"desc_date\" TEXT,\n",
    "  \"corp_type\" TEXT,\n",
    "  \"marcap\" INTEGER,\n",
    "  \"marcap_pct\" REAL,\n",
    "  \"update_date\" TEXT\n",
    ");\n",
    "\n",
    "CREATE TABLE \"stock_desc\" (\n",
    "\"code\" TEXT,\n",
    "  \"desc\" TEXT\n",
    ");\n",
    "\n",
    "CREATE INDEX \"ix_stock_desc_code\"ON \"stock_desc\" (\"code\");\n",
    "```"
   ]
  },
  {
   "cell_type": "code",
   "execution_count": 11,
   "metadata": {
    "collapsed": false,
    "slideshow": {
     "slide_type": "slide"
    }
   },
   "outputs": [
    {
     "data": {
      "text/plain": [
       "5"
      ]
     },
     "metadata": {},
     "output_type": "display_data"
    },
    {
     "data": {
      "text/html": [
       "<div>\n",
       "<table border=\"1\" class=\"dataframe\">\n",
       "  <thead>\n",
       "    <tr style=\"text-align: right;\">\n",
       "      <th></th>\n",
       "      <th>market</th>\n",
       "      <th>code</th>\n",
       "      <th>name</th>\n",
       "      <th>sector</th>\n",
       "    </tr>\n",
       "  </thead>\n",
       "  <tbody>\n",
       "    <tr>\n",
       "      <th>0</th>\n",
       "      <td>KOSPI</td>\n",
       "      <td>005930</td>\n",
       "      <td>삼성전자</td>\n",
       "      <td>전기전자</td>\n",
       "    </tr>\n",
       "    <tr>\n",
       "      <th>1</th>\n",
       "      <td>KOSPI</td>\n",
       "      <td>015760</td>\n",
       "      <td>한국전력</td>\n",
       "      <td>전기가스</td>\n",
       "    </tr>\n",
       "    <tr>\n",
       "      <th>2</th>\n",
       "      <td>KOSPI</td>\n",
       "      <td>005380</td>\n",
       "      <td>현대차</td>\n",
       "      <td>운수장비</td>\n",
       "    </tr>\n",
       "    <tr>\n",
       "      <th>3</th>\n",
       "      <td>KOSPI</td>\n",
       "      <td>028260</td>\n",
       "      <td>삼성물산</td>\n",
       "      <td>유통업</td>\n",
       "    </tr>\n",
       "    <tr>\n",
       "      <th>4</th>\n",
       "      <td>KOSPI</td>\n",
       "      <td>012330</td>\n",
       "      <td>현대모비스</td>\n",
       "      <td>운수장비</td>\n",
       "    </tr>\n",
       "  </tbody>\n",
       "</table>\n",
       "</div>"
      ],
      "text/plain": [
       "  market    code   name sector\n",
       "0  KOSPI  005930   삼성전자   전기전자\n",
       "1  KOSPI  015760   한국전력   전기가스\n",
       "2  KOSPI  005380    현대차   운수장비\n",
       "3  KOSPI  028260   삼성물산    유통업\n",
       "4  KOSPI  012330  현대모비스   운수장비"
      ]
     },
     "metadata": {},
     "output_type": "display_data"
    }
   ],
   "source": [
    "df_ks = pd.read_sql(\n",
    "    'SELECT market, code, name, sector '\n",
    "    'FROM master '\n",
    "    'WHERE market=\"KOSPI\" '\n",
    "    'ORDER BY -marcap ' \n",
    "    'LIMIT 5', con)\n",
    "\n",
    "display(len(df_ks))\n",
    "display(df_ks)"
   ]
  },
  {
   "cell_type": "code",
   "execution_count": 12,
   "metadata": {
    "collapsed": false,
    "slideshow": {
     "slide_type": "slide"
    }
   },
   "outputs": [
    {
     "data": {
      "text/plain": [
       "5"
      ]
     },
     "metadata": {},
     "output_type": "display_data"
    },
    {
     "data": {
      "text/html": [
       "<div>\n",
       "<table border=\"1\" class=\"dataframe\">\n",
       "  <thead>\n",
       "    <tr style=\"text-align: right;\">\n",
       "      <th></th>\n",
       "      <th>market</th>\n",
       "      <th>code</th>\n",
       "      <th>name</th>\n",
       "      <th>sector</th>\n",
       "    </tr>\n",
       "  </thead>\n",
       "  <tbody>\n",
       "    <tr>\n",
       "      <th>0</th>\n",
       "      <td>KOSPI</td>\n",
       "      <td>005930</td>\n",
       "      <td>삼성전자</td>\n",
       "      <td>전기전자</td>\n",
       "    </tr>\n",
       "    <tr>\n",
       "      <th>1</th>\n",
       "      <td>KOSPI</td>\n",
       "      <td>015760</td>\n",
       "      <td>한국전력</td>\n",
       "      <td>전기가스</td>\n",
       "    </tr>\n",
       "    <tr>\n",
       "      <th>2</th>\n",
       "      <td>KOSPI</td>\n",
       "      <td>005380</td>\n",
       "      <td>현대차</td>\n",
       "      <td>운수장비</td>\n",
       "    </tr>\n",
       "    <tr>\n",
       "      <th>3</th>\n",
       "      <td>KOSPI</td>\n",
       "      <td>028260</td>\n",
       "      <td>삼성물산</td>\n",
       "      <td>유통업</td>\n",
       "    </tr>\n",
       "    <tr>\n",
       "      <th>4</th>\n",
       "      <td>KOSPI</td>\n",
       "      <td>012330</td>\n",
       "      <td>현대모비스</td>\n",
       "      <td>운수장비</td>\n",
       "    </tr>\n",
       "  </tbody>\n",
       "</table>\n",
       "</div>"
      ],
      "text/plain": [
       "  market    code   name sector\n",
       "0  KOSPI  005930   삼성전자   전기전자\n",
       "1  KOSPI  015760   한국전력   전기가스\n",
       "2  KOSPI  005380    현대차   운수장비\n",
       "3  KOSPI  028260   삼성물산    유통업\n",
       "4  KOSPI  012330  현대모비스   운수장비"
      ]
     },
     "metadata": {},
     "output_type": "display_data"
    }
   ],
   "source": [
    "df_kq = pd.read_sql(\n",
    "    'SELECT market, code, name, sector '\n",
    "    'FROM master '\n",
    "    'WHERE market=\"KOSDAQ\" '\n",
    "    'ORDER BY -marcap ' \n",
    "    'LIMIT 5', con)\n",
    "\n",
    "display(len(df_ks))\n",
    "display(df_ks)\n"
   ]
  }
 ],
 "metadata": {
  "kernelspec": {
   "display_name": "Python 3",
   "language": "python",
   "name": "python3"
  },
  "language_info": {
   "codemirror_mode": {
    "name": "ipython",
    "version": 3
   },
   "file_extension": ".py",
   "mimetype": "text/x-python",
   "name": "python",
   "nbconvert_exporter": "python",
   "pygments_lexer": "ipython3",
   "version": "3.4.3"
  }
 },
 "nbformat": 4,
 "nbformat_minor": 0
}
