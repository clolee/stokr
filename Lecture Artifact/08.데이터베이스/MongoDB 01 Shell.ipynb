{
 "cells": [
  {
   "cell_type": "markdown",
   "metadata": {
    "slideshow": {
     "slide_type": "slide"
    }
   },
   "source": [
    "# MongoDB 01 - Shell 사용법"
   ]
  },
  {
   "cell_type": "markdown",
   "metadata": {
    "slideshow": {
     "slide_type": "slide"
    }
   },
   "source": [
    "# 데이터 디렉토리 (사용자 권한)\n",
    "* (관리자가 아닌) 사용자 권한으로만 MongoDB를 실행하고자 하는 경우\n",
    "* 다음과 같이 데이터 디렉토리를 생성"
   ]
  },
  {
   "cell_type": "markdown",
   "metadata": {
    "slideshow": {
     "slide_type": "fragment"
    }
   },
   "source": [
    "```bash\n",
    "# 사용자 디렉토리에 'db' 폴더를 생성\n",
    "$ mkdir ~/db  \n",
    "```"
   ]
  },
  {
   "cell_type": "markdown",
   "metadata": {
    "slideshow": {
     "slide_type": "slide"
    }
   },
   "source": [
    "# MongoDB 데몬 시작과 종료"
   ]
  },
  {
   "cell_type": "markdown",
   "metadata": {
    "slideshow": {
     "slide_type": "fragment"
    }
   },
   "source": [
    "```bash\n",
    "# 시작: 데몬을 실행하면서 데이터 저장 경로를 지정\n",
    "$ mongod --dbpath ~/db --nojournal & \n",
    "\n",
    "# 종료: shutdown 옵션을 사용\n",
    "$ mongod --dbpath ~/db -shutdown\n",
    "```"
   ]
  },
  {
   "cell_type": "markdown",
   "metadata": {
    "slideshow": {
     "slide_type": "slide"
    }
   },
   "source": [
    "# 간단한 읽기 쓰기\n",
    "* 다음은 MongoDB shell 를 실행하여 간단한 읽기 쓰기를 테스트 해본 것이다.\n",
    "* MongoDB shell의 기본 문법은 JavaScript 문법을 기반으로 하고 있다."
   ]
  },
  {
   "cell_type": "markdown",
   "metadata": {
    "slideshow": {
     "slide_type": "slide"
    }
   },
   "source": [
    "```javascript\n",
    "$ mongo\n",
    "MongoDB shell version: 2.4.9\n",
    "connecting to: test\n",
    "Thu Sep 25 14:58:01.018 [initandlisten] connection accepted from 127.0.0.1:40734 #1 (1 connection now open)\n",
    "> // 현재 데이터베이스 확인\n",
    "> db\n",
    "test\n",
    "> // 도큐먼트 준비하고 저장\n",
    "> doc = { \"Ticker\": \"AAPL\", \"Company\":\"Apple Inc.\"}\n",
    "{ \"Ticker\" : \"AAPL\", \"Company\" : \"Apple Inc.\" }\n",
    "> db.test.save(doc)\n",
    "> db.test.save({\"Ticker\": \"GOOG\", \"Company\":\"Google Inc.\"})\n",
    "> // 도큐먼트 목록\n",
    "> db.test.find()\n",
    "{ \"_id\" : ObjectId(\"54279898c8a18f846c9cdf1f\"), \"Ticker\" : \"AAPL\", \"Company\" : \"Apple Inc.\" }\n",
    "{ \"_id\" : ObjectId(\"542798b9c8a18f846c9cdf20\"), \"Ticker\" : \"GOOG\", \"Company\" : \"Google Inc.\" }\n",
    "> // 도큐먼트 삭제\n",
    "> db.test.remove({ \"Ticker\": \"AAPL\", \"Company\":\"Apple Inc.\"})\n",
    "> // 도큐먼트 목록\n",
    "> db.test.find()\n",
    "{ \"_id\" : ObjectId(\"542798b9c8a18f846c9cdf20\"), \"Ticker\" : \"GOOG\", \"Company\" : \"Google Inc.\" }\n",
    "> \n",
    "```"
   ]
  },
  {
   "cell_type": "markdown",
   "metadata": {
    "slideshow": {
     "slide_type": "fragment"
    }
   },
   "source": [
    "기본적으로 \"test\"라는 이름을 가진 컬랙션이 생성되어 있다. 여기서 도큐먼트란 JSON 도큐먼트를 말한다.\n",
    "\n",
    "* save(): 도큐먼트를 저장한다. \n",
    "* find(): 컬랙션을 검색한다. (인자를 지정하지 않으면 컬랙션내 모든 도큐먼트를 보여준다)\n",
    "* remvoe(): 도큐먼트를 삭제한다.\n",
    "\n"
   ]
  },
  {
   "cell_type": "markdown",
   "metadata": {
    "slideshow": {
     "slide_type": "slide"
    }
   },
   "source": [
    "# 데이터베이스, 컬렉션, 도큐먼트\n",
    "MongoDB내의 데이터베이스 목록이나 데이터베이스 내의 컬랙션 목록을 살펴보려면 다음과 같이 한다.  "
   ]
  },
  {
   "cell_type": "markdown",
   "metadata": {
    "slideshow": {
     "slide_type": "fragment"
    }
   },
   "source": [
    "```javascript\n",
    "> // 데이터베이스 목록 (\"show dbs\" 라고 쓸수도 있다)\n",
    "> show databases\n",
    "> // 데이터베이스 내의 컬랙션 목록\n",
    "> show collections\n",
    "```"
   ]
  },
  {
   "cell_type": "markdown",
   "metadata": {
    "slideshow": {
     "slide_type": "slide"
    }
   },
   "source": [
    "# use\n",
    "db는 현재 사용중인 데이터베이스를 가르킨다. 사용하는 데이터베이스를 바꾸려면 use 명령을 쓴다."
   ]
  },
  {
   "cell_type": "markdown",
   "metadata": {
    "slideshow": {
     "slide_type": "fragment"
    }
   },
   "source": [
    "```javascript\n",
    "> // 기본 데이터베이스 지정\n",
    "> use stocks \n",
    "switched to db stocks\n",
    "> // 기본 데이터베이스 지정 확인\n",
    "> db  \n",
    "stocks\n",
    "```"
   ]
  },
  {
   "cell_type": "markdown",
   "metadata": {
    "slideshow": {
     "slide_type": "slide"
    }
   },
   "source": [
    "거의 사용할 일이 없지만, 데이터베이스 전체를 삭제하려면 db.dropDatabase() 명령을 쓴다.\n",
    "처음 테스트 삼아 데이터를 넣었다가 전체를 삭제할 때 사용하기도 한다.\n",
    "\n",
    "```javascript\n",
    "> db  \n",
    "stocks\n",
    "> // 데이터 베이스 전체 삭제\n",
    "> db.dropDatabase()\n",
    "Sat Sep 27 16:59:12.040 [conn7] dropDatabase stocks starting\n",
    "Sat Sep 27 16:59:12.041 [conn7] removeJournalFiles\n",
    "Sat Sep 27 16:59:12.071 [conn7] dropDatabase stocks finished\n",
    "{ \"dropped\" : \"stocks\", \"ok\" : 1 }\n",
    "```"
   ]
  },
  {
   "cell_type": "markdown",
   "metadata": {
    "slideshow": {
     "slide_type": "slide"
    }
   },
   "source": [
    "## insert(), save(), update()의 차이"
   ]
  },
  {
   "cell_type": "markdown",
   "metadata": {
    "slideshow": {
     "slide_type": "fragment"
    }
   },
   "source": [
    " insert()와 save()는 둘 다 도큐먼트를 컬랙션에 저장하는 메서드이지만 다소 차이가 있다. 차이점을 살펴보기 위해 우선 간단한 데이터를  준비해보자."
   ]
  },
  {
   "cell_type": "markdown",
   "metadata": {},
   "source": [
    "```javascript\n",
    "> db.dropDatabase()\n",
    "> db\n",
    "test\n",
    "> db.test.save({ \"Ticker\": \"AAPL\"})\n",
    "> db.test.save({\"Ticker\": \"GOOG\"})\n",
    "> db.test.find()\n",
    "{ \"_id\" : ObjectId(\"5427a56dc8a18f846c9cdf24\"), \"Ticker\" : \"AAPL\" }\n",
    "{ \"_id\" : ObjectId(\"5427a572c8a18f846c9cdf25\"), \"Ticker\" : \"GOOG\" }\n",
    "```"
   ]
  },
  {
   "cell_type": "markdown",
   "metadata": {
    "slideshow": {
     "slide_type": "slide"
    }
   },
   "source": [
    "동일한  \"_id\"를 지정하여 insert()해보고, save()도 해보자."
   ]
  },
  {
   "cell_type": "markdown",
   "metadata": {
    "slideshow": {
     "slide_type": "fragment"
    }
   },
   "source": [
    "```javascript\n",
    "> db.test.insert({\"_id\":ObjectId(\"5427a56dc8a18f846c9cdf24\"), \"Ticker\":\"AAPL\", \"Company\" : \"Apple Inc.\"})\n",
    "E11000 duplicate key error index: test.test.$_id_  dup key: { : ObjectId('5427a56dc8a18f846c9cdf24') }\n",
    "> \n",
    "```"
   ]
  },
  {
   "cell_type": "markdown",
   "metadata": {
    "slideshow": {
     "slide_type": "slide"
    }
   },
   "source": [
    "# insert()\n",
    "\n",
    "insert()에서는 키(\\_id)가 중복되었다고 에러를 낸다. <br/>\n",
    "insert() 도큐먼트를 최초 삽입할때 사용하며, 키(\\_id)가 중복되지 않아야 한다. <br/>\n",
    "만일 키(\\_id)를 지정하지 않으면 insert()로 저장하면 자동으로 고유한 키값이 생성된다."
   ]
  },
  {
   "cell_type": "markdown",
   "metadata": {
    "slideshow": {
     "slide_type": "fragment"
    }
   },
   "source": [
    "```javascript\n",
    "> db.test.save({\"_id\":ObjectId(\"5427a56dc8a18f846c9cdf24\"), \"Ticker\":\"AAPL\", \"Company\" : \"Apple Inc.\"})\n",
    "> db.test.find()\n",
    "{ \"_id\" : ObjectId(\"5427a572c8a18f846c9cdf25\"), \"Ticker\" : \"GOOG\" }\n",
    "{ \"_id\" : ObjectId(\"5427a56dc8a18f846c9cdf24\"), \"Ticker\" : \"AAPL\", \"Company\" : \"Apple Inc.\" }\n",
    "> \n",
    "\n",
    "```"
   ]
  },
  {
   "cell_type": "markdown",
   "metadata": {
    "slideshow": {
     "slide_type": "slide"
    }
   },
   "source": [
    "# save()\n",
    "save()는 도큐먼트 전체를 다시 저장한다. <br/>\n",
    "즉, 덮어쓰기를 한다. 새로운 속성(\"Sector\")과 값(\"Consumer Goods\")을 추가하여 save() 하면, 새로운 속성과 함께 도큐먼트 저장된다. "
   ]
  },
  {
   "cell_type": "markdown",
   "metadata": {
    "slideshow": {
     "slide_type": "fragment"
    }
   },
   "source": [
    "```javascript\n",
    "> db.test.save({\"_id\":ObjectId(\"5427a56dc8a18f846c9cdf24\"), \"Ticker\":\"AAPL\", \"Industry\":\"Electronic Equipment\"})\n",
    "> db.test.find()\n",
    "{ \"_id\" : ObjectId(\"5427a572c8a18f846c9cdf25\"), \"Ticker\" : \"GOOG\" }\n",
    "{ \"_id\" : ObjectId(\"5427a56dc8a18f846c9cdf24\"), \"Ticker\" : \"AAPL\", \"Industry\" : \"Electronic Equipment\" }\n",
    "> \n",
    "```"
   ]
  },
  {
   "cell_type": "markdown",
   "metadata": {
    "slideshow": {
     "slide_type": "fragment"
    }
   },
   "source": [
    "위 예를 살펴보면 save()한 후에 이전 도큐먼트에 있었던 \"Company\":\"Apple Inc.\" 속성은 삭제 된 것을 확인할 수 있다. <br/>\n",
    "다시말해, save()는 도큐먼트를 새로운 도큐먼트를 덮어쓴다."
   ]
  },
  {
   "cell_type": "markdown",
   "metadata": {
    "slideshow": {
     "slide_type": "slide"
    }
   },
   "source": [
    "# update()\n",
    "update()는 조건에 맞는 도큐먼트를 찾아 필드별로 수정하는 기능을 한다. 부분 업데이를 하므로 save()에 비해 훨씬 빠르게 동작한다."
   ]
  },
  {
   "cell_type": "markdown",
   "metadata": {
    "slideshow": {
     "slide_type": "fragment"
    }
   },
   "source": [
    "```javascript\n",
    "> db.test.update({\"Ticker\":\"GOOG\"}, {$set: {\"Sector\":\"Technology\"}})\n",
    "> db.test.find()\n",
    "{ \"_id\" : ObjectId(\"5427a56dc8a18f846c9cdf24\"), \"Ticker\" : \"AAPL\", \"Industry\" : \"Electronic Equipment\" }\n",
    "{ \"Sector\" : \"Technology\", \"Ticker\" : \"GOOG\", \"_id\" : ObjectId(\"5427a572c8a18f846c9cdf25\") }\n",
    "> \n",
    "```"
   ]
  },
  {
   "cell_type": "markdown",
   "metadata": {
    "slideshow": {
     "slide_type": "slide"
    }
   },
   "source": [
    "# 요약\n",
    "\n",
    "주로 다음 세가지 메서드를 이용하여 도큐먼트 조작을 한다.\n",
    "\n",
    "* insert() - 새로운 도큐먼트를 추가한다. (동일한 id로 추가할 수 없다)\n",
    "* save() - 지정한 id를 가진 도큐먼트를 전체를 덮어쓴다\n",
    "* update() - 특정 필드만 업데이트 한다.\n",
    "\n",
    "도큐먼트를 추가할 때 insert() 혹은 save()를 쓸 수 있으며, 이 두 메서드의 차이를 이해하고 써야 한다.\n",
    "도큐먼트를 수정할 때는 update()를 사용하여 수정이 필요한 특정 필드만 업데이트하는 것이 효과적이다."
   ]
  }
 ],
 "metadata": {
  "kernelspec": {
   "display_name": "Python 3",
   "language": "python",
   "name": "python3"
  },
  "language_info": {
   "codemirror_mode": {
    "name": "ipython",
    "version": 3
   },
   "file_extension": ".py",
   "mimetype": "text/x-python",
   "name": "python",
   "nbconvert_exporter": "python",
   "pygments_lexer": "ipython3",
   "version": "3.4.3"
  }
 },
 "nbformat": 4,
 "nbformat_minor": 0
}
