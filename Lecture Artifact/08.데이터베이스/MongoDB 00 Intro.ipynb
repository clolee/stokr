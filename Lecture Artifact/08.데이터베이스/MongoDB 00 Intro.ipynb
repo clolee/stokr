{
 "cells": [
  {
   "cell_type": "markdown",
   "metadata": {
    "slideshow": {
     "slide_type": "slide"
    }
   },
   "source": [
    "# MongoDB 00 - Intro"
   ]
  },
  {
   "cell_type": "markdown",
   "metadata": {
    "slideshow": {
     "slide_type": "slide"
    }
   },
   "source": [
    "# MongoDB\n",
    "http://www.mongodb.org MongoDB 공식웹사이트\n",
    "* Cross-platform Document-oriented database\n",
    "* 오픈소스 NoSQL 데이터베이스. 10gen 에서 개발\n",
    "* Mongo이라는 이름은 Humongous 에서 따온말\n",
    "* NoSQL 중에서 가장 널리 사용되는 인기있는 제품\n"
   ]
  },
  {
   "cell_type": "markdown",
   "metadata": {
    "collapsed": false,
    "slideshow": {
     "slide_type": "slide"
    }
   },
   "source": [
    "# 특징\n",
    "* 도큐먼트 지향 데이터 베이스: 분산 확장을 쉽게 할 수 있다. (관계 형 DB 대비)\n",
    "* 스키마가 없어 높은 유연성을 제공 한다.\n",
    "* 손쉬운 확장 가능\n",
    "* MongoDB만의 독특한 기능 제공[색인, 저장 자바스크립트, 집계….]\n",
    "* 간편한 관리: MongoDB의 관리 철학은 서버 스스로 가능한 많은 설정을 알아서 !"
   ]
  },
  {
   "cell_type": "markdown",
   "metadata": {
    "slideshow": {
     "slide_type": "slide"
    }
   },
   "source": [
    "# JSON (JavaScript Object Notation)\n",
    "* http://www.json.org\n",
    "* lightweight data-interchange format\n",
    "* based on a subset of the JavaScript Programming Language\n",
    "* Standard ECMA-262"
   ]
  },
  {
   "cell_type": "markdown",
   "metadata": {
    "slideshow": {
     "slide_type": "slide"
    }
   },
   "source": [
    "# JSON 특징\n",
    "* JavaScript 객체 표현 문자열\n",
    "* JavaScript에 의해 쉽게 인터프리팅\n",
    "* name/value 쌍을 포함하여 복잡한 복합 구조를 표현할 수 있다."
   ]
  },
  {
   "cell_type": "markdown",
   "metadata": {
    "slideshow": {
     "slide_type": "slide"
    }
   },
   "source": [
    "# MongoDB 문서(document)\n",
    "* 데이터의 기본단위 (관계형 DB의 row와 유사)\n",
    "* 정렬된 키와 연결된 값의 집합으로 이루어져 있다.\n",
    "* Key는 문자열, 값은 여러 데이터형 중 하나 혹은 내장문서.\n",
    "* key는 중복될 수 없다."
   ]
  },
  {
   "cell_type": "markdown",
   "metadata": {
    "slideshow": {
     "slide_type": "fragment"
    }
   },
   "source": [
    "# MongoDB 구성\n",
    "* 콜렉션 = 스키마가 없는 테이블 (문서의 모음)\n",
    "* 단일 인스턴스는 여러 독립적인 DB를 호스팅 할 수 있고 각 데이터 베이스는 자체적인 컬렉션들과 권한을 가진다\n",
    "* 인스턴스 관리와 데이터 조작에 유용한 단순하지만 강력한 자바스크립트 쉘 제공"
   ]
  },
  {
   "cell_type": "markdown",
   "metadata": {
    "slideshow": {
     "slide_type": "slide"
    }
   },
   "source": [
    "# MongoDB 서브 컬렉션\n",
    "*  컬렉션을 체계화 하기 위해 사용, 상위 컬렉션과는 아무 관계 없이 사용가능"
   ]
  },
  {
   "cell_type": "markdown",
   "metadata": {
    "slideshow": {
     "slide_type": "fragment"
    }
   },
   "source": [
    "# MongoDB 데이터 베이스\n",
    "*  여러 컬렉션을 모아 논 것\n",
    "*  한 애플리케이션의 데이터는 동일한 데이터 베이스에 저장 하는게 좋다"
   ]
  },
  {
   "cell_type": "markdown",
   "metadata": {
    "slideshow": {
     "slide_type": "slide"
    }
   },
   "source": [
    "# SQL비교"
   ]
  },
  {
   "cell_type": "markdown",
   "metadata": {
    "slideshow": {
     "slide_type": "fragment"
    }
   },
   "source": [
    "MySQL | MongoDB\n",
    "-- | --\n",
    "테이블(table) |  컬렉션(collection)\n",
    "로우(row) | 도큐먼트(document)\n",
    "컬럼(column) | 필드(field)\n"
   ]
  },
  {
   "cell_type": "markdown",
   "metadata": {
    "slideshow": {
     "slide_type": "fragment"
    }
   },
   "source": [
    "Operation | MySQL | MongoDB\n",
    ":--: | -- | --\n",
    "조회 | SELECT * FROM users | db.users.find() \n",
    "추가 | INSERT INTO <br/>users (user_id, age, status) <br/> VALUES <br/>(\"bcd001\", 45, \"A\") | db.users.insert({ <br/> user_id: \"bcd001\", <br/> age: 45, <br/> status: \"A\" <br/>})\n",
    "갱신 | UPDATE users <br/> SET status = \"C\" <br/> WHERE age > 25 | db.users.update( <br/> { age: { \\$gt: 25 } }, <br/> { \\$set: { status: \"C\" } }, <br/> { multi: true } <br/>)"
   ]
  },
  {
   "cell_type": "markdown",
   "metadata": {
    "slideshow": {
     "slide_type": "slide"
    }
   },
   "source": [
    "# 설치\n",
    "\n",
    "```bash\n",
    "# 1. Import the public key\n",
    "sudo apt-key adv --keyserver hkp://keyserver.ubuntu.com:80 --recv EA312927\n",
    "\n",
    "# 2. Create a list file for MongoDB (Ubuntu 14.04)\n",
    "echo \"deb http://repo.mongodb.org/apt/ubuntu trusty/mongodb-org/3.2 multiverse\" | sudo tee /etc/apt/sources.list.d/mongodb-org-3.2.list\n",
    "\n",
    "# 3. Reload local package database\n",
    "sudo apt-get update\n",
    "\n",
    "# 4. Install the MongoDB packages\n",
    "sudo apt-get install -y mongodb-org\n",
    "```"
   ]
  },
  {
   "cell_type": "markdown",
   "metadata": {
    "slideshow": {
     "slide_type": "slide"
    }
   },
   "source": [
    "# 시작과 종료\n",
    "\n",
    "```bash\n",
    "# 시작\n",
    "mongod --dbpath ~/db --nojournal & \n",
    "\n",
    "# 종료\n",
    "mongod --dbpath ~/db -shutdown\n",
    "```"
   ]
  },
  {
   "cell_type": "markdown",
   "metadata": {
    "slideshow": {
     "slide_type": "slide"
    }
   },
   "source": [
    "# MongoDB 쉘\n",
    "\n",
    "* 관리 기능 수행\n",
    "* 실행 중인 인스턴스 살펴봄\n",
    "* 간단한 기능 실험 용도"
   ]
  },
  {
   "cell_type": "markdown",
   "metadata": {
    "slideshow": {
     "slide_type": "slide"
    }
   },
   "source": [
    "# 간단한 읽기 쓰기\n",
    "\n",
    "* 쉘 실행\n",
    "* 저장(save: id가 같은 경우 덮어쓰기)\n",
    "\n",
    "```JavaScript\n",
    "$ mongo\n",
    "MongoDB shell version: 3.2.0\n",
    "connecting to: test\n",
    "> db\n",
    "test\n",
    "> db.test\n",
    "test.test\n",
    "> db.test.save({'msg1':'hello,mongodb'})\n",
    "> db.test.save({'msg2':'hello,world'})\n",
    "> db.test.find()\n",
    "{ \"_id\" : ObjectId(\"5423b59358d90c7b9e50990e\"), \"msg1\" : \"hello,mongodb\" }\n",
    "{ \"_id\" : ObjectId(\"5423b59c58d90c7b9e50990f\"), \"msg2\" : \"hello,world\" }\n",
    "> db.test.remove({\"msg1\" : \"hello,mongodb\"})\n",
    "> db.test.find()\n",
    "{ \"_id\" : ObjectId(\"5423b59c58d90c7b9e50990f\"), \"msg2\" : \"hello,world\" }\n",
    "```\n"
   ]
  },
  {
   "cell_type": "markdown",
   "metadata": {
    "slideshow": {
     "slide_type": "slide"
    }
   },
   "source": [
    "# 생성, 조회\n",
    "\n",
    "* 추가 (insert: id가 같은 경우 에러)\n",
    "*  조회 (find: 모든 결과 다, findOne: 하나만 보여줌)\n",
    "\n",
    "```JavaScript\n",
    "> post = {\"title\" : \"My Blog Post\",\"date\":new Date()}\n",
    "{ \"title\" : \"My Blog Post\", \"date\" : ISODate(\"2011-08-10T05:26:43.500Z\") }\n",
    "> db.blog.insert(post)\n",
    "> db.blog.find()\n",
    "{ \"_id\" : ObjectId(\"4e4216d8d3d01fd7eb9bedbe\"), \"title\" : \"My Blog Post\", \"date\" : ISODate(\"2011-08-\n",
    "10T05:26:43.500Z\") }\n",
    "{ \"_id\" : ObjectId(\"4e421798d3d01fd7eb9bedbf\"), \"title\" : \"First Class\", \"date\" : ISODate(\"2011-08-\n",
    "10T05:26:43.500Z\") }\n",
    "> db.blog.findOne()\n",
    "\"_id\" : ObjectId(\"4e4216d8d3d01fd7eb9bedbe\"),\n",
    "\"title\" : \"My Blog Post\",\n",
    "\"date\" : ISODate(\"2011-08-10T05:26:43.500Z\")\n",
    "```                                                                                      "
   ]
  },
  {
   "cell_type": "markdown",
   "metadata": {
    "slideshow": {
     "slide_type": "slide"
    }
   },
   "source": [
    "# 갱신, 삭제\n",
    "\n",
    "* 갱신 (update: 지정한 필드만 업데이트)\n",
    "* 삭제 (remove)\n",
    "\n",
    "```JavaScript\n",
    "> post.comments = []\n",
    "> post\n",
    "\"title\" : \"My Blog Post\",\n",
    "\"date\" : ISODate(\"2011-08-10T05:26:43.500Z\"),\n",
    "\"comments\" : [ ]\n",
    "> db.blog.update({title:\"My Blog Post\"}, post)\n",
    "> db.blog.findOne()\n",
    "\"_id\" : ObjectId(\"4e421798d3d01fd7eb9bedbf\"),\n",
    "\"title\" : \"First Class\",\n",
    "\"date\" : ISODate(\"2011-08-10T05:26:43.500Z\")\n",
    "> db.blog.remove({title:\"My Blog Post\"}, post)\n",
    "```\n"
   ]
  },
  {
   "cell_type": "markdown",
   "metadata": {
    "slideshow": {
     "slide_type": "slide"
    }
   },
   "source": [
    "# 파이썬 인터페이스 (PyMongo)\n",
    "* sudo pip install pymongo\n"
   ]
  },
  {
   "cell_type": "markdown",
   "metadata": {
    "slideshow": {
     "slide_type": "slide"
    }
   },
   "source": [
    "# 연결\n",
    "\n",
    "```Python\n",
    "# connection 생성\n",
    "from pymongo import MongoClient\n",
    "client = MongoClient()\n",
    "# 호스트와 포트를 지정\n",
    "# client = MongoClient('localhost', 27017)\n",
    "# client = MongoClient('mongodb://localhost:27017/')\n",
    "# 데이터베이스에 연결\n",
    "db = client.stocks\n",
    "# 혹은, 딕셔너리 형식으로 데이터베이스를 지정할 수 도 있다.\n",
    "db = client ['stocks']\n",
    "```\n"
   ]
  },
  {
   "cell_type": "markdown",
   "metadata": {
    "slideshow": {
     "slide_type": "slide"
    }
   },
   "source": [
    "# 데이터 추가\n",
    "\n",
    "```Python\n",
    "# 데이터 추가(save)\n",
    "db.stock.save({\"code\": \"005930.KS\"})\n",
    "# 명시적으로 삽입(insert)\n",
    "db.stock.insert({\"code\": \"005380.KS\",\"name\":\"현대차\"})\n",
    "```\n"
   ]
  },
  {
   "cell_type": "markdown",
   "metadata": {
    "slideshow": {
     "slide_type": "slide"
    }
   },
   "source": [
    "# 개수 세기\n",
    "\n",
    "```Python\n",
    "stock = db.stock\n",
    "stock.count()\n",
    "```"
   ]
  },
  {
   "cell_type": "markdown",
   "metadata": {
    "slideshow": {
     "slide_type": "slide"
    }
   },
   "source": [
    "# 조회\n",
    "\n",
    "```Python\n",
    "# 찾기(find)\n",
    "db.stock.find() # 컬랙션 전체\n",
    "# 전체 출력하기\n",
    "for s in db.stock.find():\n",
    "print(s)\n",
    "# 조건에 해당하는 도큐먼트\n",
    "for s in db.stock.find({\"code\":\"005930.KS\"}):\n",
    "print(s)\n",
    "```\n"
   ]
  },
  {
   "cell_type": "markdown",
   "metadata": {
    "slideshow": {
     "slide_type": "slide"
    }
   },
   "source": [
    "# 다양한 검색 방법\n",
    "\n",
    "\n",
    "```Python\n",
    "# Query by example - pass in a dict\n",
    "db.stock.find({\"marcap\": 60})\n",
    "# 연산자 $gt, $gte, $lt, $lte, $ne, $nin,\n",
    "# $regex, $exists, $not, $or\n",
    "db.stock.find({\"marcap\": {\"$gte\": 60, \"$lte\": 70})\n",
    "# 소트: 1 오름차순(ascending), -1 내림차순(descending)\n",
    "db.stock.find().sort({\"code\": 1})\n",
    "# 페이징 Paginating\n",
    "db.stock.find().skip(5).limit(5)\n",
    "```               \n",
    "               "
   ]
  },
  {
   "cell_type": "markdown",
   "metadata": {
    "slideshow": {
     "slide_type": "slide"
    }
   },
   "source": [
    "# 최근 것 찾기\n",
    "\n",
    "```Python\n",
    "# 'datetime'에 인덱스가 있어야\n",
    "code = '005930'\n",
    "x = db.news.find({'code': code}).sort('datetime', pymongo.DESCENDING).limit(1)\n",
    "print x[0]['datetime'], x[0]['title']\n",
    "print x[1]['datetime'], x[1]['title']\n",
    "print x[2]['datetime'], x[2]['title']\n",
    "code = '005930'\n",
    "x = db.news.find_one({'code': code}, sort=[('datetime', pymongo.DESCENDING)])\n",
    "print x['datetime'], x['title']\n",
    "```"
   ]
  },
  {
   "cell_type": "markdown",
   "metadata": {
    "slideshow": {
     "slide_type": "slide"
    }
   },
   "source": [
    "# 날짜 시간 사이 검색\n",
    "\n",
    "```Python\n",
    "from_date = datetime.datetime(2014, 10, 1)\n",
    "to_date = datetime.datetime(2014, 10, 30)\n",
    "to_date = datetime.datetime.today()\n",
    "for x in db.news.find({'code':'005930', 'datetime': {'$gte': from_date, '$lte': to_date}}):\n",
    "print x['datetime'], x['title']\n",
    "```"
   ]
  },
  {
   "cell_type": "markdown",
   "metadata": {
    "slideshow": {
     "slide_type": "slide"
    }
   },
   "source": [
    "# 업데이트\n",
    "\n",
    "```Python\n",
    "# 업데이트 (변경되므로 조심)\n",
    "db.stock.update({\"_id\": 123},{\"score\": 80})\n",
    "# 일괄 업데이트\n",
    "db.stock.update({}, {\"$set\": {\"score\": 80})\n",
    "# Multi flag to update more than one\n",
    "db.stock.update({}, {\"$set\": {\"x\":\"y\"}, multi=True)\n",
    "# Upserts (update + insert, 있으면 변경, 없으면 추가)\n",
    "db.stock.update({\"_id\": 123},{\"score\": 80}, upsert=True)\n",
    "```              "
   ]
  },
  {
   "cell_type": "markdown",
   "metadata": {
    "slideshow": {
     "slide_type": "slide"
    }
   },
   "source": [
    "# 인덱스\n",
    "\n",
    "```Python\n",
    "# Single field indexes\n",
    "db.scores.ensure_index('score')\n",
    "# Compound indexes\n",
    "db.scores.ensure_index([\n",
    "('score', pymongo.ASCENDING),\n",
    "('name', pymongo.DESCENDING)] )\n",
    "# Geo indexes\n",
    "db.places.create_index([(\"loc\", GEO2D)])\n",
    "```"
   ]
  },
  {
   "cell_type": "markdown",
   "metadata": {
    "slideshow": {
     "slide_type": "slide"
    }
   },
   "source": [
    "# Reviwe \n",
    "\n",
    "* MongoDB 다큐먼트 DB (RDB와 차이가 크다)\n",
    "*  JSON 표현 기반\n",
    "*  비교적 간편하며, Python의 자료구조와 유사\n",
    "*  대용량 빠른 조회, 태깅, 그룹핑에 적합\n",
    "*  Mission Critical 업무 프로그램에는 비추천"
   ]
  }
 ],
 "metadata": {
  "kernelspec": {
   "display_name": "Python 3",
   "language": "python",
   "name": "python3"
  },
  "language_info": {
   "codemirror_mode": {
    "name": "ipython",
    "version": 3
   },
   "file_extension": ".py",
   "mimetype": "text/x-python",
   "name": "python",
   "nbconvert_exporter": "python",
   "pygments_lexer": "ipython3",
   "version": "3.4.3"
  }
 },
 "nbformat": 4,
 "nbformat_minor": 0
}
