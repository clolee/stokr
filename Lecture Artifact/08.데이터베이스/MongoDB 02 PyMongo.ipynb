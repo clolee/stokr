{
 "cells": [
  {
   "cell_type": "markdown",
   "metadata": {
    "slideshow": {
     "slide_type": "slide"
    }
   },
   "source": [
    "# MongoDB 02 - 파이썬 MongoDB\n",
    "pyMongo는 MongoDB와 Python을 연동하기 위한 MongoDB API로 비교적 간편하다. \n"
   ]
  },
  {
   "cell_type": "markdown",
   "metadata": {
    "slideshow": {
     "slide_type": "slide"
    }
   },
   "source": [
    "# 데이터베이스, 컬렉션, 도큐먼트\n",
    "\n",
    "MongoDB는 기본적으로 하나의 JSON 객체를 단위로 사용한다. 읽고 쓰는 단위가 되는 JSON 객체를 도큐먼트라고 한다.\n",
    "여러 도큐먼트를 모아 놓은 것이 컬렉션이며, 컬렉션의 집합이 데이터베이스 이다.\n",
    "즉, 다음과 같은 포함 관계가 있다고 할 수 있다."
   ]
  },
  {
   "cell_type": "markdown",
   "metadata": {
    "slideshow": {
     "slide_type": "fragment"
    }
   },
   "source": [
    "$$데이터베이스 \\supset 컬렉션  \\supset  도큐먼트 $$"
   ]
  },
  {
   "cell_type": "markdown",
   "metadata": {
    "slideshow": {
     "slide_type": "slide"
    }
   },
   "source": [
    "기존의 오라클이나 MySQL 같은 관계형 데이터베이스와 MongoDB를 비교해(대응 시켜) 보자면, 데이터베이스는 동일하고, 테이블은 컬렉션에, 레코드는 도큐먼트에 대응 된다."
   ]
  },
  {
   "cell_type": "markdown",
   "metadata": {
    "slideshow": {
     "slide_type": "fragment"
    }
   },
   "source": [
    "관계형 DB | MongoDB\n",
    "--|--\n",
    "데이터베이스  | 데이터베이스 \n",
    "테이블 | 컬렉션 \n",
    "레코드 | 도큐먼트"
   ]
  },
  {
   "cell_type": "markdown",
   "metadata": {
    "slideshow": {
     "slide_type": "fragment"
    }
   },
   "source": [
    "데이터베이스는 데이터집합 전체를 의미한다는 점에서 유사하고, 관계형 DB의 테이블(레코드의 집합)과 컬렉션(도큐먼트의 집합)은 데이터의 집합이라는 점에서 대응된다.  \n",
    "\n",
    "MongoDB의 도큐먼트는 데이터를 추가/삭제하는 단위라는 점에서 관계형 DB의 레코드(record)에 대응되지만, 조금만 더 살펴보면 사실 완전히 다르다. 관계형 DB에서 하나의 테이블안에 있는 레코드들은 모드 같은 형태를 가지고 있지만, 도큐먼트는 JSON으로 표현되는 서로 다른 다양한 형태의 데이터를 저장할 수 있다. 이 점이 바로 기존의 관계형 DB와 가장 큰 차이점이다. "
   ]
  },
  {
   "cell_type": "markdown",
   "metadata": {
    "slideshow": {
     "slide_type": "slide"
    }
   },
   "source": [
    "\n",
    "## 기본 사용법\n",
    "pyMongo를 통해 MongoDB를 사용하는 과정은 대략 다음과 같은 단계를 거친다.\n",
    "\n",
    "1. 연결: MongoDB 서버에 접속하여 커넥션을 얻는다 (서버의 주소와 포트 등을 지정)\n",
    "1. 데이터베이스와 컬렉션에 연결: 커넥션을 통해 데이터베이와 컬랙션에 대한 핸들러를 얻는다.\n",
    "1. 도큐멘트 읽기/쓰기: 도큐멘트를 검색, 삭제, 생성 등의 조작을 수행한다.\n",
    "1. 커넥션 닫기: 필요한 작업이 완료되면 커넥션을 닫는다."
   ]
  },
  {
   "cell_type": "markdown",
   "metadata": {
    "slideshow": {
     "slide_type": "fragment"
    }
   },
   "source": [
    "우선, 위 과정 전체가 어떻게 진행되는지 간단한 예제를 통해 전체적인 흐름을 살펴보자."
   ]
  },
  {
   "cell_type": "code",
   "execution_count": 1,
   "metadata": {
    "collapsed": false,
    "slideshow": {
     "slide_type": "slide"
    }
   },
   "outputs": [
    {
     "name": "stdout",
     "output_type": "stream",
     "text": [
      "{'key': 'value', '_id': ObjectId('571c062d9974a856d8f2cb42')}\n",
      "{'key': 'value', '_id': ObjectId('571c13bb9974a856d8f2cb53')}\n",
      "{'key': 'value', '_id': ObjectId('571c13fa9974a8619974247e')}\n"
     ]
    }
   ],
   "source": [
    "from pymongo import MongoClient\n",
    "\n",
    "# 1. 커넥션(connection) 생성\n",
    "client = MongoClient()\n",
    "# 호스트와 포트를 지정\n",
    "# client = MongoClient('localhost', 27017)\n",
    "# client = MongoClient('mongodb://localhost:27017/')\n",
    "\n",
    "\n",
    "# 2. 데이터베이스에 연결하고, 컬렉션을 얻는다.\n",
    "db = client.test\n",
    "# 혹은, 딕셔너리 형식으로 데이터베이스를 지정할 수 도 있다.\n",
    "# db = client ['test]\n",
    "coll = db.simple # 콜렉션\n",
    "\n",
    "\n",
    "# 3. 도큐멘트를 추가하고 검색\n",
    "coll.insert_one({'key':'value'})\n",
    "\n",
    "# 4. 도큐멘트를 추가하고 검색\n",
    "for d in coll.find(): \n",
    "    print (d)\n",
    "\n",
    "# 4. 커넥션을 닫는다\n",
    "client.close()"
   ]
  },
  {
   "cell_type": "markdown",
   "metadata": {
    "slideshow": {
     "slide_type": "slide"
    }
   },
   "source": [
    "# MongoDB에 연결\n",
    "호스트 이름과 포트를 지정하여 MongoDB에 연결한다."
   ]
  },
  {
   "cell_type": "code",
   "execution_count": 2,
   "metadata": {
    "collapsed": false,
    "slideshow": {
     "slide_type": "fragment"
    }
   },
   "outputs": [],
   "source": [
    "import pymongo\n",
    "\n",
    "client = MongoClient('mongodb://localhost:27017/')"
   ]
  },
  {
   "cell_type": "markdown",
   "metadata": {
    "slideshow": {
     "slide_type": "fragment"
    }
   },
   "source": [
    "연결 실패에 대응하려면 다음과 같이 예외처리를 해주는 것이 좋다."
   ]
  },
  {
   "cell_type": "code",
   "execution_count": 3,
   "metadata": {
    "collapsed": false,
    "slideshow": {
     "slide_type": "fragment"
    }
   },
   "outputs": [],
   "source": [
    "try:\n",
    "    client = MongoClient('mongodb://localhost:27017/')\n",
    "except pymongo.errors.ConnectionFailure as e:\n",
    "    print (\"Connection Fail: %s\" % e)"
   ]
  },
  {
   "cell_type": "markdown",
   "metadata": {
    "slideshow": {
     "slide_type": "slide"
    }
   },
   "source": [
    "# 데이터베이스\n",
    "일단 연결을 얻으면 속성을 지정하는 형식으로 데이터베이를 지정할 수 있다. 만일 데이터베이스가 존재하지 않으면 자동으로 생성된다."
   ]
  },
  {
   "cell_type": "code",
   "execution_count": 4,
   "metadata": {
    "collapsed": false,
    "slideshow": {
     "slide_type": "fragment"
    }
   },
   "outputs": [],
   "source": [
    "# 'stocks' 데이터베이스 얻기\n",
    "db = client.stocks\n",
    "\n",
    "# 딕셔너리 형식 conn['stocks'] 으로 쓸 수 도 있다.\n",
    "db = client['stocks']"
   ]
  },
  {
   "cell_type": "markdown",
   "metadata": {
    "slideshow": {
     "slide_type": "fragment"
    }
   },
   "source": [
    "database_names() 메서드로 MongoDB 내에 데이터베이스 목록을 얻을 수 있다."
   ]
  },
  {
   "cell_type": "code",
   "execution_count": 5,
   "metadata": {
    "collapsed": false,
    "slideshow": {
     "slide_type": "fragment"
    }
   },
   "outputs": [
    {
     "data": {
      "text/plain": [
       "['stocks', 'local', 'test', 'admin']"
      ]
     },
     "execution_count": 5,
     "metadata": {},
     "output_type": "execute_result"
    }
   ],
   "source": [
    "client.database_names()"
   ]
  },
  {
   "cell_type": "markdown",
   "metadata": {
    "slideshow": {
     "slide_type": "slide"
    }
   },
   "source": [
    "## 컬렉션\n",
    "데이터베이스는 다수의 컬렉션을 포함할 수 있다. \n",
    "커넥션으로 부터 데이터베이스를 얻는 방법과 마찬가지로, 데이터베이스로 부터 컬렉션을 얻는다. 컬렉션이 존재하지 않으면 새로 생성된다. (데이터베이스나 컬렉션은 데이터를 최초 추가할 때 실제 생성된다)"
   ]
  },
  {
   "cell_type": "code",
   "execution_count": 6,
   "metadata": {
    "collapsed": false,
    "slideshow": {
     "slide_type": "fragment"
    }
   },
   "outputs": [
    {
     "data": {
      "text/plain": [
       "Collection(Database(MongoClient(host=['localhost:27017'], document_class=dict, tz_aware=False, connect=True), 'stocks'), 'mystocks')"
      ]
     },
     "execution_count": 6,
     "metadata": {},
     "output_type": "execute_result"
    }
   ],
   "source": [
    "coll = db.mystocks\n",
    "coll"
   ]
  },
  {
   "cell_type": "markdown",
   "metadata": {
    "slideshow": {
     "slide_type": "slide"
    }
   },
   "source": [
    "## 도큐먼트\n",
    "도큐먼트는 JOSN 문법으로 구성된 구조적 데이터를 말한다. 예를 들어 다음과 같은 형태의 JSON 데이터 구조가 하나의 도큐먼트가 될 수 있다."
   ]
  },
  {
   "cell_type": "markdown",
   "metadata": {
    "slideshow": {
     "slide_type": "fragment"
    }
   },
   "source": [
    "```javascript\n",
    "{ \"Ticker\": \"AAPL\", \"Company\":\"Apple Inc.\"}\n",
    "```"
   ]
  },
  {
   "cell_type": "markdown",
   "metadata": {
    "slideshow": {
     "slide_type": "fragment"
    }
   },
   "source": [
    "도큐먼트를 컬렉션에 저장하려면 insert_one() 혹은 replace_one() 메서드를 쓴다."
   ]
  },
  {
   "cell_type": "code",
   "execution_count": 7,
   "metadata": {
    "collapsed": false,
    "slideshow": {
     "slide_type": "fragment"
    }
   },
   "outputs": [
    {
     "data": {
      "text/plain": [
       "<pymongo.results.InsertOneResult at 0x7f1e5111d5a0>"
      ]
     },
     "execution_count": 7,
     "metadata": {},
     "output_type": "execute_result"
    }
   ],
   "source": [
    "coll.insert_one({\"Ticker\": \"AAPL\"})\n",
    "coll.insert_one({\"Ticker\": \"GOOG\"})"
   ]
  },
  {
   "cell_type": "markdown",
   "metadata": {
    "slideshow": {
     "slide_type": "slide"
    }
   },
   "source": [
    "# find(), find_one()\n",
    "\n",
    "저장된 내용을 확인해 보자. 저장된 내용을 검색하려면 find() 혹은 find_one()를 쓴다. 검색 결과로 다수의 도큐먼트를 얻으려면 find(), 단 한개의 도큐먼트를 얻으려면 find_one()을 사용한다. "
   ]
  },
  {
   "cell_type": "markdown",
   "metadata": {
    "slideshow": {
     "slide_type": "fragment"
    }
   },
   "source": [
    "find()의 인자로 아무도 지정하지 않으면 컬렉션의 도큐먼트 전체를 반환한다.\n",
    "컬렉션 내의 도큐먼트 전체를 출력해보려면 다음과 같이 한다."
   ]
  },
  {
   "cell_type": "code",
   "execution_count": 8,
   "metadata": {
    "collapsed": false,
    "slideshow": {
     "slide_type": "fragment"
    }
   },
   "outputs": [
    {
     "name": "stdout",
     "output_type": "stream",
     "text": [
      "{'_id': ObjectId('571c13fa9974a8619974247f'), 'Ticker': 'AAPL'}\n",
      "{'_id': ObjectId('571c13fa9974a86199742480'), 'Ticker': 'GOOG'}\n"
     ]
    }
   ],
   "source": [
    "for x in coll.find():\n",
    "    print(x)"
   ]
  },
  {
   "cell_type": "markdown",
   "metadata": {
    "slideshow": {
     "slide_type": "slide"
    }
   },
   "source": [
    "find_one()은 처음 도큐먼트 1개를 반환한다. (검색 조건을 지정하지 않았으므로 컬렉션에 저장된 첫 도큐먼트가 된다)"
   ]
  },
  {
   "cell_type": "code",
   "execution_count": 9,
   "metadata": {
    "collapsed": false,
    "slideshow": {
     "slide_type": "fragment"
    }
   },
   "outputs": [
    {
     "data": {
      "text/plain": [
       "{'Ticker': 'AAPL', '_id': ObjectId('571c13fa9974a8619974247f')}"
      ]
     },
     "execution_count": 9,
     "metadata": {},
     "output_type": "execute_result"
    }
   ],
   "source": [
    "x = coll.find_one() \n",
    "x"
   ]
  },
  {
   "cell_type": "code",
   "execution_count": 10,
   "metadata": {
    "collapsed": false,
    "slideshow": {
     "slide_type": "fragment"
    }
   },
   "outputs": [
    {
     "data": {
      "text/plain": [
       "{'Ticker': 'AAPL', '_id': ObjectId('571c13fa9974a8619974247f')}"
      ]
     },
     "execution_count": 10,
     "metadata": {},
     "output_type": "execute_result"
    }
   ],
   "source": [
    "x = coll.find_one({\"Ticker\":\"AAPL\"})\n",
    "x"
   ]
  },
  {
   "cell_type": "markdown",
   "metadata": {
    "slideshow": {
     "slide_type": "slide"
    }
   },
   "source": [
    "# _id 필드\n",
    "우리가 저장한 필드는 한 개(Ticker)였는데, \"_id\"라는 필드가 더 있는 것을 확인할 수 있다. 이 _id 필드는 새로 저장되는 시점에 생성되며 도큐먼트를 구분하는 도큐먼트 고유의 식별자이다 (컬렉션 내의 _id는 모두 고유한 값을 가진다)."
   ]
  },
  {
   "cell_type": "code",
   "execution_count": 11,
   "metadata": {
    "collapsed": false,
    "slideshow": {
     "slide_type": "fragment"
    }
   },
   "outputs": [],
   "source": [
    "# coll.insert_one(x) # DuplicateKeyError"
   ]
  },
  {
   "cell_type": "markdown",
   "metadata": {
    "slideshow": {
     "slide_type": "slide"
    }
   },
   "source": [
    "# insert_one(), replace_one()\n",
    "* https://docs.mongodb.org/getting-started/python/insert/\n",
    "* insert_one(), replace_one()의 차이를 구분해 두는 것이 좋다.\n"
   ]
  },
  {
   "cell_type": "markdown",
   "metadata": {
    "slideshow": {
     "slide_type": "slide"
    }
   },
   "source": [
    "# 데이터베이스와 컬렉션 삭제 "
   ]
  },
  {
   "cell_type": "code",
   "execution_count": 12,
   "metadata": {
    "collapsed": false,
    "slideshow": {
     "slide_type": "fragment"
    }
   },
   "outputs": [],
   "source": [
    "# collection내 모든 도큐먼트 삭제\n",
    "coll.drop()\n",
    "\n",
    "# collection 삭제\n",
    "db.drop_collection('mystocks')\n",
    "\n",
    "# database 삭제\n",
    "client.drop_database('stocks')\n"
   ]
  },
  {
   "cell_type": "code",
   "execution_count": 13,
   "metadata": {
    "collapsed": false,
    "slideshow": {
     "slide_type": "slide"
    }
   },
   "outputs": [],
   "source": [
    "db = client.stocks\n",
    "mystocks = db.mystocks"
   ]
  },
  {
   "cell_type": "markdown",
   "metadata": {
    "slideshow": {
     "slide_type": "slide"
    }
   },
   "source": [
    "# insert_one()"
   ]
  },
  {
   "cell_type": "code",
   "execution_count": 14,
   "metadata": {
    "collapsed": false,
    "slideshow": {
     "slide_type": "fragment"
    }
   },
   "outputs": [
    {
     "data": {
      "text/plain": [
       "<pymongo.results.InsertOneResult at 0x7f1e5111dc18>"
      ]
     },
     "execution_count": 14,
     "metadata": {},
     "output_type": "execute_result"
    }
   ],
   "source": [
    "mystocks.insert_one({\"Ticker\": \"AAPL\"})\n",
    "mystocks.insert_one({\"Ticker\": \"GOOG\"})\n",
    "mystocks.insert_one({\"Ticker\": \"XOM\"}) \n",
    "mystocks.insert_one({\"Ticker\": \"MSFT\"})"
   ]
  },
  {
   "cell_type": "markdown",
   "metadata": {
    "slideshow": {
     "slide_type": "slide"
    }
   },
   "source": [
    "# find()"
   ]
  },
  {
   "cell_type": "code",
   "execution_count": 15,
   "metadata": {
    "collapsed": false,
    "slideshow": {
     "slide_type": "fragment"
    }
   },
   "outputs": [
    {
     "data": {
      "text/plain": [
       "{'Ticker': 'AAPL', '_id': ObjectId('571c13fa9974a86199742481')}"
      ]
     },
     "execution_count": 15,
     "metadata": {},
     "output_type": "execute_result"
    }
   ],
   "source": [
    "mystocks.find_one()"
   ]
  },
  {
   "cell_type": "code",
   "execution_count": 16,
   "metadata": {
    "collapsed": false,
    "slideshow": {
     "slide_type": "fragment"
    }
   },
   "outputs": [
    {
     "name": "stdout",
     "output_type": "stream",
     "text": [
      "{'_id': ObjectId('571c13fa9974a86199742481'), 'Ticker': 'AAPL'}\n",
      "{'_id': ObjectId('571c13fa9974a86199742482'), 'Ticker': 'GOOG'}\n",
      "{'_id': ObjectId('571c13fa9974a86199742483'), 'Ticker': 'XOM'}\n",
      "{'_id': ObjectId('571c13fa9974a86199742484'), 'Ticker': 'MSFT'}\n"
     ]
    }
   ],
   "source": [
    "for x in mystocks.find():\n",
    "    print (x)"
   ]
  },
  {
   "cell_type": "code",
   "execution_count": 17,
   "metadata": {
    "collapsed": false,
    "slideshow": {
     "slide_type": "fragment"
    }
   },
   "outputs": [
    {
     "name": "stdout",
     "output_type": "stream",
     "text": [
      "{'_id': ObjectId('571c13fa9974a86199742481'), 'Ticker': 'AAPL'}\n",
      "{'_id': ObjectId('571c13fa9974a86199742482'), 'Ticker': 'GOOG'}\n"
     ]
    }
   ],
   "source": [
    "for x in mystocks.find()[:2]:\n",
    "    print (x)"
   ]
  },
  {
   "cell_type": "code",
   "execution_count": 18,
   "metadata": {
    "collapsed": false,
    "slideshow": {
     "slide_type": "fragment"
    }
   },
   "outputs": [
    {
     "name": "stdout",
     "output_type": "stream",
     "text": [
      "{'_id': ObjectId('571c13fa9974a86199742483'), 'Ticker': 'XOM'}\n",
      "{'_id': ObjectId('571c13fa9974a86199742484'), 'Ticker': 'MSFT'}\n"
     ]
    }
   ],
   "source": [
    "for x in mystocks.find()[2:]:\n",
    "    print (x)"
   ]
  },
  {
   "cell_type": "code",
   "execution_count": 19,
   "metadata": {
    "collapsed": false,
    "slideshow": {
     "slide_type": "fragment"
    }
   },
   "outputs": [
    {
     "data": {
      "text/plain": [
       "4"
      ]
     },
     "execution_count": 19,
     "metadata": {},
     "output_type": "execute_result"
    }
   ],
   "source": [
    "mystocks.count()"
   ]
  },
  {
   "cell_type": "code",
   "execution_count": 20,
   "metadata": {
    "collapsed": false,
    "slideshow": {
     "slide_type": "fragment"
    }
   },
   "outputs": [],
   "source": [
    "coll.drop()"
   ]
  }
 ],
 "metadata": {
  "kernelspec": {
   "display_name": "Python 3",
   "language": "python",
   "name": "python3"
  },
  "language_info": {
   "codemirror_mode": {
    "name": "ipython",
    "version": 3
   },
   "file_extension": ".py",
   "mimetype": "text/x-python",
   "name": "python",
   "nbconvert_exporter": "python",
   "pygments_lexer": "ipython3",
   "version": "3.4.3"
  }
 },
 "nbformat": 4,
 "nbformat_minor": 0
}
