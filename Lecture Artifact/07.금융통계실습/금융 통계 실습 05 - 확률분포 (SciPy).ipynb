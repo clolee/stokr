{
 "cells": [
  {
   "cell_type": "code",
   "execution_count": 2,
   "metadata": {
    "collapsed": true,
    "slideshow": {
     "slide_type": "skip"
    }
   },
   "outputs": [],
   "source": [
    "%matplotlib inline"
   ]
  },
  {
   "cell_type": "code",
   "execution_count": 3,
   "metadata": {
    "collapsed": true,
    "slideshow": {
     "slide_type": "slide"
    }
   },
   "outputs": [],
   "source": [
    "from scipy import stats\n",
    "\n",
    "import scipy as sp\n",
    "import numpy as np\n",
    "\n",
    "import matplotlib as mpl\n",
    "from matplotlib import pyplot as plt"
   ]
  },
  {
   "cell_type": "markdown",
   "metadata": {
    "slideshow": {
     "slide_type": "slide"
    }
   },
   "source": [
    "# 랜덤 값 추출\n",
    "* 정규분포(가우시안분포)에서 100개의 랜덤 값 추출"
   ]
  },
  {
   "cell_type": "code",
   "execution_count": null,
   "metadata": {
    "collapsed": true,
    "slideshow": {
     "slide_type": "fragment"
    }
   },
   "outputs": [],
   "source": [
    "s = sp.randn(100) "
   ]
  },
  {
   "cell_type": "markdown",
   "metadata": {
    "slideshow": {
     "slide_type": "slide"
    }
   },
   "source": [
    "# numpy 함수 사용"
   ]
  },
  {
   "cell_type": "code",
   "execution_count": 11,
   "metadata": {
    "collapsed": false,
    "slideshow": {
     "slide_type": "fragment"
    }
   },
   "outputs": [
    {
     "name": "stdout",
     "output_type": "stream",
     "text": [
      "Mean: -0.058692\n",
      "Min: -3.390240\n",
      "Max: 3.290234\n",
      "Variance : 1.331151\n",
      "Std. deviation : 1.153755\n"
     ]
    }
   ],
   "source": [
    "print(\"Mean: {0:.6f}\".format(s.mean()))\n",
    "print(\"Min: {0:.6f}\".format(s.min()))\n",
    "print(\"Max: {0:.6f}\".format(s.max()))\n",
    "print(\"Variance : {0:.6f}\".format(s.var()))\n",
    "print(\"Std. deviation : {0:.6f}\".format(s.std()))"
   ]
  },
  {
   "cell_type": "markdown",
   "metadata": {
    "slideshow": {
     "slide_type": "slide"
    }
   },
   "source": [
    "# (참고) 출력 포맷팅 \n",
    "%를 쓰는 방법과 format을 쓰는 방법\n",
    "* https://goo.gl/LhT97E C언어 스타일의 포맷팅\n",
    "* https://goo.gl/Zza91k 파이썬 스타일의 포맷팅"
   ]
  },
  {
   "cell_type": "code",
   "execution_count": 12,
   "metadata": {
    "collapsed": false,
    "slideshow": {
     "slide_type": "fragment"
    }
   },
   "outputs": [
    {
     "name": "stdout",
     "output_type": "stream",
     "text": [
      "Min: -3.390240, Max: 3.290234\n"
     ]
    }
   ],
   "source": [
    "print(\"Min: %8.6f, Max: %.6f\" %  (s.min(), s.max()) )"
   ]
  },
  {
   "cell_type": "markdown",
   "metadata": {
    "slideshow": {
     "slide_type": "slide"
    }
   },
   "source": [
    "# scipy 함수 사용"
   ]
  },
  {
   "cell_type": "code",
   "execution_count": 13,
   "metadata": {
    "collapsed": false,
    "slideshow": {
     "slide_type": "fragment"
    }
   },
   "outputs": [
    {
     "name": "stdout",
     "output_type": "stream",
     "text": [
      "Mean : -0.058692\n",
      "Variance : 1.331151\n",
      "Std. deviation : 1.153755\n",
      "Median : 0.120629\n"
     ]
    }
   ],
   "source": [
    "print(\"Mean : {0:.6f}\".format(sp.mean(s)))\n",
    "print(\"Variance : {0:.6f}\".format(sp.var(s)))\n",
    "print(\"Std. deviation : {0:.6f}\".format(sp.std(s)))\n",
    "print(\"Median : {0:.6f}\".format(sp.median(s)))"
   ]
  },
  {
   "cell_type": "markdown",
   "metadata": {
    "slideshow": {
     "slide_type": "slide"
    }
   },
   "source": [
    "# Unbiased variance (불편분산)"
   ]
  },
  {
   "cell_type": "code",
   "execution_count": 17,
   "metadata": {
    "collapsed": false,
    "slideshow": {
     "slide_type": "fragment"
    }
   },
   "outputs": [
    {
     "name": "stdout",
     "output_type": "stream",
     "text": [
      "Population variance = 1.331151\n",
      "Sample variance = 1.344597\n"
     ]
    }
   ],
   "source": [
    "print(\"Population variance = {0:8.6f}\".format(sp.var(s)))\n",
    "print(\"Sample variance = {0:8.6f}\".format(sp.var(s,ddof=1)))  # unbiased variance"
   ]
  },
  {
   "cell_type": "code",
   "execution_count": 23,
   "metadata": {
    "collapsed": false,
    "slideshow": {
     "slide_type": "slide"
    }
   },
   "outputs": [
    {
     "data": {
      "text/plain": [
       "(100,\n",
       " (-3.39024036026548, 3.2902338758334406),\n",
       " -0.058691853480778648,\n",
       " 1.3445967321119772,\n",
       " -0.037735168498288306,\n",
       " 0.31244736582057264)"
      ]
     },
     "execution_count": 23,
     "metadata": {},
     "output_type": "execute_result"
    }
   ],
   "source": [
    "from scipy import stats\n",
    "\n",
    "stats.describe(s)"
   ]
  },
  {
   "cell_type": "code",
   "execution_count": 26,
   "metadata": {
    "collapsed": false,
    "slideshow": {
     "slide_type": "slide"
    }
   },
   "outputs": [],
   "source": [
    "n, min_max, mean, var, skew, kurt = stats.describe(s)"
   ]
  },
  {
   "cell_type": "code",
   "execution_count": 27,
   "metadata": {
    "collapsed": false,
    "slideshow": {
     "slide_type": "fragment"
    }
   },
   "outputs": [
    {
     "name": "stdout",
     "output_type": "stream",
     "text": [
      "n : 100\n",
      "Min: -3.390240, Max: 3.290234\n",
      "Mean: -0.058692\n",
      "Var: 1.344597\n",
      "Skew : -0.037735\n",
      "Kurt: 0.312447\n"
     ]
    }
   ],
   "source": [
    "print(\"n : {0:d}\".format(n))\n",
    "print(\"Min: {0:.6f}, Max: {1:.6f}\".format(min_max[0], min_max[1]))\n",
    "print(\"Mean: {0:8.6f}\".format(mean))\n",
    "print(\"Var: {0:8.6f}\".format(var))\n",
    "print(\"Skew : {0:8.6f}\".format(skew))\n",
    "print(\"Kurt: {0:8.6f}\".format(kurt))"
   ]
  },
  {
   "cell_type": "markdown",
   "metadata": {
    "slideshow": {
     "slide_type": "slide"
    }
   },
   "source": [
    "# Probability distributions\n",
    "\n",
    "Scipy 의 주요 확률분포 패키지\n",
    "\n",
    "이산확률분포 discrete probability\n",
    "* binom : 이항분포 binomial\n",
    "* poisson : 포아송분포 Poisson\n",
    "\n",
    "연속확률분포 continuous probability distributions\n",
    "* norm : 정규분포 (Normal 혹은 Gaussian)\n",
    "* chi2 : 카이제곱분포 Chi-squared\n",
    "* t : t분포 Student’s T\n",
    "* uniform : 균등분포 Uniform\n",
    "\n",
    "주요 함수\n",
    "* mode : Modal value\n",
    "* moment : central moment\n",
    "* describe: descriptive statistics\n",
    "* histogram: histogram of data\n"
   ]
  },
  {
   "cell_type": "code",
   "execution_count": 28,
   "metadata": {
    "collapsed": false,
    "slideshow": {
     "slide_type": "slide"
    }
   },
   "outputs": [
    {
     "data": {
      "text/plain": [
       "[<matplotlib.lines.Line2D at 0x7f81c8fb3860>]"
      ]
     },
     "execution_count": 28,
     "metadata": {},
     "output_type": "execute_result"
    },
    {
     "data": {
      "image/png": "[encoded data removed]",
      "text/plain": [
       "<matplotlib.figure.Figure at 0x7f81c8fb3828>"
      ]
     },
     "metadata": {},
     "output_type": "display_data"
    }
   ],
   "source": [
    "mu, sigma = 0, 0.1 # 평균, 표준편차\n",
    "s = np.random.normal(mu, sigma, 1000)\n",
    "count, bins, ignored = plt.hist(s, 100, normed=True)\n",
    "\n",
    "plt.plot(bins, 1/(sigma * np.sqrt(2 * np.pi)) * np.exp( - (bins - mu)**2 / (2 * sigma**2) ), linewidth=2, color='r')"
   ]
  },
  {
   "cell_type": "code",
   "execution_count": 29,
   "metadata": {
    "collapsed": false,
    "slideshow": {
     "slide_type": "fragment"
    }
   },
   "outputs": [
    {
     "data": {
      "text/plain": [
       "(-0.33937685366393705, 0.33085431933806803)"
      ]
     },
     "execution_count": 29,
     "metadata": {},
     "output_type": "execute_result"
    }
   ],
   "source": [
    "s.min(), s.max()"
   ]
  },
  {
   "cell_type": "markdown",
   "metadata": {
    "slideshow": {
     "slide_type": "slide"
    }
   },
   "source": [
    "## 확률분포 함수 활용\n",
    "1. 분포객체를 생성하고, 랜덤 값을 얻는다\n",
    "1. 분포모델에 인자를 전달하여 랜덤 값을 얻는다 "
   ]
  },
  {
   "cell_type": "code",
   "execution_count": 30,
   "metadata": {
    "collapsed": false,
    "slideshow": {
     "slide_type": "fragment"
    }
   },
   "outputs": [
    {
     "data": {
      "text/plain": [
       "6.828876715313333"
      ]
     },
     "execution_count": 30,
     "metadata": {},
     "output_type": "execute_result"
    }
   ],
   "source": [
    "# 평균이 3.5, 표준편차가 2.0인 정규분포를 생성. 정규분포에서 loc=mean, scale=SD\n",
    "# 이 분포에서 랜덤값을 얻는다\n",
    "\n",
    "n = stats.norm(loc=3.5, scale=2.0)\n",
    "n.rvs()"
   ]
  },
  {
   "cell_type": "code",
   "execution_count": 31,
   "metadata": {
    "collapsed": false,
    "slideshow": {
     "slide_type": "slide"
    }
   },
   "outputs": [
    {
     "data": {
      "text/plain": [
       "-2.404196029740045"
      ]
     },
     "execution_count": 31,
     "metadata": {},
     "output_type": "execute_result"
    }
   ],
   "source": [
    "stats.norm.rvs(loc=3.5, scale=2.0)"
   ]
  },
  {
   "cell_type": "markdown",
   "metadata": {
    "slideshow": {
     "slide_type": "slide"
    }
   },
   "source": [
    "# 도움말\n",
    "* help(stats.poisson)\n",
    "* sp.info(stats.poisson)\n",
    "* stats.poisson?"
   ]
  },
  {
   "cell_type": "markdown",
   "metadata": {
    "slideshow": {
     "slide_type": "slide"
    }
   },
   "source": [
    "# 확률밀도함수 PDF, 확률질량함수 PMF\n",
    "* 확률밀도함수 Probability density function (PDF)\n",
    "* 확률질량함수 probability mass function (PMF)"
   ]
  },
  {
   "cell_type": "code",
   "execution_count": 32,
   "metadata": {
    "collapsed": false,
    "slideshow": {
     "slide_type": "slide"
    }
   },
   "outputs": [
    {
     "data": {
      "text/plain": [
       "0.3989422804014327"
      ]
     },
     "execution_count": 32,
     "metadata": {},
     "output_type": "execute_result"
    }
   ],
   "source": [
    "# PDF (Gaussian) mean = 0.0 std deviation = 1.0\n",
    "stats.norm.pdf(0, loc=0.0, scale=1.0)"
   ]
  },
  {
   "cell_type": "code",
   "execution_count": 33,
   "metadata": {
    "collapsed": false,
    "slideshow": {
     "slide_type": "slide"
    }
   },
   "outputs": [
    {
     "data": {
      "text/plain": [
       "array([ 0.39695255,  0.39894228,  0.39695255])"
      ]
     },
     "execution_count": 33,
     "metadata": {},
     "output_type": "execute_result"
    }
   ],
   "source": [
    "# 여러개의 값을 전달할 수 도 있다.\n",
    "stats.norm.pdf([-0.1, 0.0, 0.1], loc=0.0, scale=1.0)"
   ]
  },
  {
   "cell_type": "code",
   "execution_count": 34,
   "metadata": {
    "collapsed": false,
    "slideshow": {
     "slide_type": "slide"
    }
   },
   "outputs": [
    {
     "name": "stdout",
     "output_type": "stream",
     "text": [
      "[ 0.00097656  0.00976563  0.04394531  0.1171875   0.20507813  0.24609375\n",
      "  0.20507813  0.1171875   0.04394531  0.00976563  0.00097656]\n"
     ]
    }
   ],
   "source": [
    "#  이항분포 binomial distribution 확률 p = 0.5,  시도횟수 n = 0~10\n",
    "\n",
    "n = range(11) # 0 to 10\n",
    "print (stats.binom.pmf(n, 10, 0.5))"
   ]
  },
  {
   "cell_type": "code",
   "execution_count": 35,
   "metadata": {
    "collapsed": false,
    "slideshow": {
     "slide_type": "slide"
    }
   },
   "outputs": [
    {
     "data": {
      "image/png": "[encoded data removed]",
      "text/plain": [
       "<matplotlib.figure.Figure at 0x7f81c8f38dd8>"
      ]
     },
     "metadata": {},
     "output_type": "display_data"
    }
   ],
   "source": [
    "def binom_pmf(n=5, p=0.5):\n",
    "    # 시도 횟수 0~n\n",
    "    x = range(n+1) \n",
    "    y = stats.binom.pmf(x, n, p)\n",
    "    plt.plot(x,y,\"o\", color=\"black\")\n",
    "\n",
    "    # X축, Y축, 제목\n",
    "    #plt.axis([-(max(x)-min(x))*0.05, max(x)*1.05, -0.01, max(y)*1.10])\n",
    "    plt.xticks(x)\n",
    "    plt.title(\"Binomial distribution PMF (tries = {0} & p ={1})\".format(n,p))\n",
    "    plt.xlabel(\"Random variable\")\n",
    "    plt.ylabel(\"Probability\")\n",
    "    plt.grid()\n",
    "\n",
    "binom_pmf(10)"
   ]
  },
  {
   "cell_type": "markdown",
   "metadata": {
    "slideshow": {
     "slide_type": "slide"
    }
   },
   "source": [
    "# 누적분포함수 \n",
    "* Cumulative density function (CDF)"
   ]
  },
  {
   "cell_type": "code",
   "execution_count": 36,
   "metadata": {
    "collapsed": false,
    "slideshow": {
     "slide_type": "fragment"
    }
   },
   "outputs": [
    {
     "data": {
      "text/plain": [
       "0.5"
      ]
     },
     "execution_count": 36,
     "metadata": {},
     "output_type": "execute_result"
    }
   ],
   "source": [
    "stats.norm.cdf(0.0, loc=0.0, scale=1.0)"
   ]
  },
  {
   "cell_type": "code",
   "execution_count": 38,
   "metadata": {
    "collapsed": false,
    "slideshow": {
     "slide_type": "slide"
    }
   },
   "outputs": [
    {
     "data": {
      "image/png": "[encoded data removed]",
      "text/plain": [
       "<matplotlib.figure.Figure at 0x7f81c8f69320>"
      ]
     },
     "metadata": {},
     "output_type": "display_data"
    }
   ],
   "source": [
    "def norm_cdf(mean=0.0, std=1.0):\n",
    "    # -3σ 와 3σ 범위에, 50개 값에 대한 CDF 값을 얻는다.\n",
    "    x = sp.linspace(-3*std, 3*std, 50)\n",
    "    y = stats.norm.cdf(x, loc=mean, scale=std)\n",
    "\n",
    "    plt.plot(x,y, color=\"black\")\n",
    "    plt.xlabel(\"Random variable\")\n",
    "    plt.ylabel(\"Cumulative Probability\")\n",
    "    plt.title(\"CDF for Norm Dist mean = {0} & std = {1}\".format(mean, std))\n",
    "    \n",
    "norm_cdf()"
   ]
  }
 ],
 "metadata": {
  "celltoolbar": "Slideshow",
  "kernelspec": {
   "display_name": "Python 3",
   "language": "python",
   "name": "python3"
  },
  "language_info": {
   "codemirror_mode": {
    "name": "ipython",
    "version": 3
   },
   "file_extension": ".py",
   "mimetype": "text/x-python",
   "name": "python",
   "nbconvert_exporter": "python",
   "pygments_lexer": "ipython3",
   "version": "3.4.3"
  }
 },
 "nbformat": 4,
 "nbformat_minor": 0
}
