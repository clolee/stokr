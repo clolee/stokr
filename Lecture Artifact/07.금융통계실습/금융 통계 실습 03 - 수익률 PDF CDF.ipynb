{
 "cells": [
  {
   "cell_type": "code",
   "execution_count": 33,
   "metadata": {
    "collapsed": true,
    "slideshow": {
     "slide_type": "skip"
    }
   },
   "outputs": [],
   "source": [
    "%matplotlib inline\n",
    "\n",
    "import numpy as np\n",
    "import matplotlib.pyplot as plt"
   ]
  },
  {
   "cell_type": "markdown",
   "metadata": {
    "slideshow": {
     "slide_type": "slide"
    }
   },
   "source": [
    "# 로그 수익률"
   ]
  },
  {
   "cell_type": "code",
   "execution_count": 8,
   "metadata": {
    "collapsed": false,
    "slideshow": {
     "slide_type": "fragment"
    }
   },
   "outputs": [],
   "source": [
    "import pandas as pd\n",
    "import numpy as np\n",
    "\n",
    "from datetime import datetime\n",
    "from pandas_datareader import data, wb\n",
    "\n",
    "start = datetime(2015, 1, 1)\n",
    "end = datetime(2015, 12, 30)\n",
    "\n",
    "df = data.get_data_yahoo(\"005930.KS\", start, end)\n",
    "df['Ret'] = np.log( df['Adj Close'] / df ['Adj Close'].shift(1) )\n"
   ]
  },
  {
   "cell_type": "code",
   "execution_count": 9,
   "metadata": {
    "collapsed": false,
    "slideshow": {
     "slide_type": "slide"
    }
   },
   "outputs": [
    {
     "data": {
      "text/html": [
       "<div>\n",
       "<table border=\"1\" class=\"dataframe\">\n",
       "  <thead>\n",
       "    <tr style=\"text-align: right;\">\n",
       "      <th></th>\n",
       "      <th>Open</th>\n",
       "      <th>High</th>\n",
       "      <th>Low</th>\n",
       "      <th>Close</th>\n",
       "      <th>Volume</th>\n",
       "      <th>Adj Close</th>\n",
       "      <th>Ret</th>\n",
       "    </tr>\n",
       "    <tr>\n",
       "      <th>Date</th>\n",
       "      <th></th>\n",
       "      <th></th>\n",
       "      <th></th>\n",
       "      <th></th>\n",
       "      <th></th>\n",
       "      <th></th>\n",
       "      <th></th>\n",
       "    </tr>\n",
       "  </thead>\n",
       "  <tbody>\n",
       "    <tr>\n",
       "      <th>2015-01-01</th>\n",
       "      <td>1327000</td>\n",
       "      <td>1327000</td>\n",
       "      <td>1327000</td>\n",
       "      <td>1327000</td>\n",
       "      <td>0</td>\n",
       "      <td>1305014.42</td>\n",
       "      <td>NaN</td>\n",
       "    </tr>\n",
       "    <tr>\n",
       "      <th>2015-01-02</th>\n",
       "      <td>1340000</td>\n",
       "      <td>1340000</td>\n",
       "      <td>1327000</td>\n",
       "      <td>1330000</td>\n",
       "      <td>175400</td>\n",
       "      <td>1307964.71</td>\n",
       "      <td>0.002258</td>\n",
       "    </tr>\n",
       "    <tr>\n",
       "      <th>2015-01-05</th>\n",
       "      <td>1336000</td>\n",
       "      <td>1336000</td>\n",
       "      <td>1313000</td>\n",
       "      <td>1333000</td>\n",
       "      <td>202700</td>\n",
       "      <td>1310915.01</td>\n",
       "      <td>0.002253</td>\n",
       "    </tr>\n",
       "    <tr>\n",
       "      <th>2015-01-06</th>\n",
       "      <td>1315000</td>\n",
       "      <td>1317000</td>\n",
       "      <td>1288000</td>\n",
       "      <td>1295000</td>\n",
       "      <td>304700</td>\n",
       "      <td>1273544.59</td>\n",
       "      <td>-0.028921</td>\n",
       "    </tr>\n",
       "    <tr>\n",
       "      <th>2015-01-07</th>\n",
       "      <td>1294000</td>\n",
       "      <td>1311000</td>\n",
       "      <td>1282000</td>\n",
       "      <td>1307000</td>\n",
       "      <td>286400</td>\n",
       "      <td>1285345.77</td>\n",
       "      <td>0.009224</td>\n",
       "    </tr>\n",
       "    <tr>\n",
       "      <th>2015-01-08</th>\n",
       "      <td>1339000</td>\n",
       "      <td>1339000</td>\n",
       "      <td>1310000</td>\n",
       "      <td>1314000</td>\n",
       "      <td>289500</td>\n",
       "      <td>1292229.80</td>\n",
       "      <td>0.005341</td>\n",
       "    </tr>\n",
       "    <tr>\n",
       "      <th>2015-01-09</th>\n",
       "      <td>1314000</td>\n",
       "      <td>1322000</td>\n",
       "      <td>1314000</td>\n",
       "      <td>1314000</td>\n",
       "      <td>186200</td>\n",
       "      <td>1292229.80</td>\n",
       "      <td>0.000000</td>\n",
       "    </tr>\n",
       "    <tr>\n",
       "      <th>2015-01-12</th>\n",
       "      <td>1313000</td>\n",
       "      <td>1319000</td>\n",
       "      <td>1301000</td>\n",
       "      <td>1316000</td>\n",
       "      <td>166500</td>\n",
       "      <td>1294196.66</td>\n",
       "      <td>0.001521</td>\n",
       "    </tr>\n",
       "    <tr>\n",
       "      <th>2015-01-13</th>\n",
       "      <td>1314000</td>\n",
       "      <td>1340000</td>\n",
       "      <td>1300000</td>\n",
       "      <td>1339000</td>\n",
       "      <td>245800</td>\n",
       "      <td>1316815.60</td>\n",
       "      <td>0.017326</td>\n",
       "    </tr>\n",
       "    <tr>\n",
       "      <th>2015-01-14</th>\n",
       "      <td>1339000</td>\n",
       "      <td>1355000</td>\n",
       "      <td>1335000</td>\n",
       "      <td>1345000</td>\n",
       "      <td>286600</td>\n",
       "      <td>1322716.19</td>\n",
       "      <td>0.004471</td>\n",
       "    </tr>\n",
       "  </tbody>\n",
       "</table>\n",
       "</div>"
      ],
      "text/plain": [
       "               Open     High      Low    Close  Volume   Adj Close       Ret\n",
       "Date                                                                        \n",
       "2015-01-01  1327000  1327000  1327000  1327000       0  1305014.42       NaN\n",
       "2015-01-02  1340000  1340000  1327000  1330000  175400  1307964.71  0.002258\n",
       "2015-01-05  1336000  1336000  1313000  1333000  202700  1310915.01  0.002253\n",
       "2015-01-06  1315000  1317000  1288000  1295000  304700  1273544.59 -0.028921\n",
       "2015-01-07  1294000  1311000  1282000  1307000  286400  1285345.77  0.009224\n",
       "2015-01-08  1339000  1339000  1310000  1314000  289500  1292229.80  0.005341\n",
       "2015-01-09  1314000  1322000  1314000  1314000  186200  1292229.80  0.000000\n",
       "2015-01-12  1313000  1319000  1301000  1316000  166500  1294196.66  0.001521\n",
       "2015-01-13  1314000  1340000  1300000  1339000  245800  1316815.60  0.017326\n",
       "2015-01-14  1339000  1355000  1335000  1345000  286600  1322716.19  0.004471"
      ]
     },
     "execution_count": 9,
     "metadata": {},
     "output_type": "execute_result"
    }
   ],
   "source": [
    "df.head(10)"
   ]
  },
  {
   "cell_type": "markdown",
   "metadata": {
    "slideshow": {
     "slide_type": "slide"
    }
   },
   "source": [
    "## 기본통계 값\n",
    "- DataFrame.describe()\n",
    "- 자주 사용하는 통계 요약값들을 반환 - 개수, 평균, 표준편차, 최소, 최대, 사분위 값\n",
    "- 값을 각각 얻을 수 도 있다."
   ]
  },
  {
   "cell_type": "code",
   "execution_count": 10,
   "metadata": {
    "collapsed": false,
    "slideshow": {
     "slide_type": "slide"
    }
   },
   "outputs": [
    {
     "data": {
      "text/plain": [
       "count    259.000000\n",
       "mean      -0.000136\n",
       "std        0.016384\n",
       "min       -0.044054\n",
       "25%       -0.010398\n",
       "50%        0.000000\n",
       "75%        0.008377\n",
       "max        0.083312\n",
       "Name: Ret, dtype: float64"
      ]
     },
     "execution_count": 10,
     "metadata": {},
     "output_type": "execute_result"
    }
   ],
   "source": [
    "df['Ret'].describe()"
   ]
  },
  {
   "cell_type": "code",
   "execution_count": 11,
   "metadata": {
    "collapsed": false,
    "slideshow": {
     "slide_type": "slide"
    }
   },
   "outputs": [
    {
     "name": "stdout",
     "output_type": "stream",
     "text": [
      "[ 0  0  1  9 17 40 49 90 30 14  5  3  0  0]\n",
      "[-0.07 -0.06 -0.05 -0.04 -0.03 -0.02 -0.01  0.    0.01  0.02  0.03  0.04\n",
      "  0.05  0.06  0.07]\n"
     ]
    }
   ],
   "source": [
    "count, bins = np.histogram(df['Ret'], bins = np.arange(-0.07, +0.07, 0.01))\n",
    "\n",
    "print (count)\n",
    "print (bins)"
   ]
  },
  {
   "cell_type": "code",
   "execution_count": 12,
   "metadata": {
    "collapsed": false,
    "slideshow": {
     "slide_type": "slide"
    }
   },
   "outputs": [
    {
     "data": {
      "text/plain": [
       "[<matplotlib.lines.Line2D at 0x7fc2f47957f0>]"
      ]
     },
     "execution_count": 12,
     "metadata": {},
     "output_type": "execute_result"
    },
    {
     "data": {
      "image/png": "[encoded data removed]",
      "text/plain": [
       "<matplotlib.figure.Figure at 0x7fc2f4726518>"
      ]
     },
     "metadata": {},
     "output_type": "display_data"
    }
   ],
   "source": [
    "import matplotlib.pyplot as plt\n",
    "plt.plot(bins[1:], count, 'o--')"
   ]
  },
  {
   "cell_type": "markdown",
   "metadata": {
    "slideshow": {
     "slide_type": "slide"
    }
   },
   "source": [
    "# DataFrame.hist\n",
    "간단하게 DataFrame.hist()를 사용하여 그려볼 수 있다."
   ]
  },
  {
   "cell_type": "code",
   "execution_count": 13,
   "metadata": {
    "collapsed": false,
    "slideshow": {
     "slide_type": "fragment"
    }
   },
   "outputs": [
    {
     "data": {
      "text/plain": [
       "<matplotlib.axes._subplots.AxesSubplot at 0x7fc2f47468d0>"
      ]
     },
     "execution_count": 13,
     "metadata": {},
     "output_type": "execute_result"
    },
    {
     "data": {
      "image/png": "[encoded data removed]",
      "text/plain": [
       "<matplotlib.figure.Figure at 0x7fc2f46cf898>"
      ]
     },
     "metadata": {},
     "output_type": "display_data"
    }
   ],
   "source": [
    "df['Ret'].hist()"
   ]
  },
  {
   "cell_type": "code",
   "execution_count": 25,
   "metadata": {
    "collapsed": false,
    "slideshow": {
     "slide_type": "slide"
    }
   },
   "outputs": [
    {
     "data": {
      "text/plain": [
       "<matplotlib.axes._subplots.AxesSubplot at 0x7fc2d2468780>"
      ]
     },
     "execution_count": 25,
     "metadata": {},
     "output_type": "execute_result"
    },
    {
     "data": {
      "image/png": "[encoded data removed]",
      "text/plain": [
       "<matplotlib.figure.Figure at 0x7fc2d2551b38>"
      ]
     },
     "metadata": {},
     "output_type": "display_data"
    }
   ],
   "source": [
    "df['Ret'].hist(bins=20)"
   ]
  },
  {
   "cell_type": "markdown",
   "metadata": {
    "slideshow": {
     "slide_type": "slide"
    }
   },
   "source": [
    "## 정규분포\n",
    "- 정규분포(Normal Distribution, 가우스 분포)는 연속확률분포의 하나\n",
    "- 수집된 자료의 분포를 근사하는 데에 자주 사용 (중심극한정리, 독립적인 확률변수들의 평균은 정규분포에 가까워지는 성질)\n",
    "- 정규분포는 2개의 매개 변수 평균 $\\mu$과 표준편차 $\\sigma$에 대해 모양이 결정, 이때의 분포를 $\\mathrm{N}(\\mu, \\sigma^2)$로 표기\n",
    "- 표준정규분포: 평균이 0이고 표준편차가 1인 정규분포 $\\mathrm{N}(0, 1)$\n",
    "\n",
    "- 주식수익율은 셀수있는 이산확율분포, 하지만 범주가 많아지면 계산이 복잡, 연속확율분포에 근사하여 분석\n"
   ]
  },
  {
   "cell_type": "markdown",
   "metadata": {
    "slideshow": {
     "slide_type": "slide"
    }
   },
   "source": [
    "## 확률밀도함수\n",
    "- 확률밀도함수(PDF, Probalibity Distribution Function)\n",
    "\n",
    "$$ \\frac{1}{\\sqrt{2\\pi\\sigma^2}}\\operatorname{exp}\\left\\{-\\frac{\\left(x-\\mu\\right)^2}{2\\sigma^2}\\right\\} $$"
   ]
  },
  {
   "cell_type": "code",
   "execution_count": 16,
   "metadata": {
    "collapsed": false,
    "slideshow": {
     "slide_type": "slide"
    }
   },
   "outputs": [
    {
     "data": {
      "text/plain": [
       "<matplotlib.text.Annotation at 0x7fc2d93efe48>"
      ]
     },
     "execution_count": 16,
     "metadata": {},
     "output_type": "execute_result"
    },
    {
     "data": {
      "image/png": "[encoded data removed]",
      "text/plain": [
       "<matplotlib.figure.Figure at 0x7fc2d93efe10>"
      ]
     },
     "metadata": {},
     "output_type": "display_data"
    }
   ],
   "source": [
    "import math\n",
    "\n",
    "def prob_dist(x, mu, sigma):\n",
    "    denom = math.sqrt(2 * math.pi * sigma ** 2)\n",
    "    num = math.exp(-(float(x)-float(mu))**2/(2*sigma**2))\n",
    "    return num/denom\n",
    "\n",
    "mu = 0\n",
    "sigma = 1\n",
    "pdf = []\n",
    "\n",
    "r = np.arange(-5, 5, 0.01)\n",
    "for x in r:\n",
    "  pdf.append( prob_dist(x, mu, sigma) )\n",
    "plt.plot(r, pdf)\n",
    "\n",
    "plt.annotate(r'$\\sigma=1$',\n",
    "         xy=(1, prob_dist(1, mu, sigma)), xycoords='data',\n",
    "         xytext=(+10, +30), textcoords='offset points', fontsize=16,\n",
    "         arrowprops=dict(arrowstyle=\"->\"))"
   ]
  },
  {
   "cell_type": "markdown",
   "metadata": {
    "slideshow": {
     "slide_type": "slide"
    }
   },
   "source": [
    "## 정규분포\n",
    "- 정규분포(Normal Distribution Function)\n",
    "- mu, sigma의 값에 따른 모양\n",
    "\n",
    "<img width=400 src=\"https://upload.wikimedia.org/wikipedia/commons/thumb/7/74/Normal_Distribution_PDF.svg/720px-Normal_Distribution_PDF.svg.png\" >\n"
   ]
  },
  {
   "cell_type": "markdown",
   "metadata": {
    "slideshow": {
     "slide_type": "slide"
    }
   },
   "source": [
    "## 정규확율분포함수\n",
    "- Normal Probability Distribution Function, Normal PDF\n",
    "- y = stats.norm.pdf( bins, mu, sigma)"
   ]
  },
  {
   "cell_type": "markdown",
   "metadata": {
    "slideshow": {
     "slide_type": "slide"
    }
   },
   "source": [
    "## 표준정규분포\n",
    "- 평균 $ \\mu = 0 $ , 분산 $\\sigma^2 = 1 $ 인 정규분포"
   ]
  },
  {
   "cell_type": "code",
   "execution_count": 24,
   "metadata": {
    "collapsed": false,
    "slideshow": {
     "slide_type": "slide"
    }
   },
   "outputs": [
    {
     "data": {
      "text/plain": [
       "[<matplotlib.lines.Line2D at 0x7f1454a74438>]"
      ]
     },
     "execution_count": 24,
     "metadata": {},
     "output_type": "execute_result"
    },
    {
     "data": {
      "image/png": "[encoded data removed]",
      "text/plain": [
       "<matplotlib.figure.Figure at 0x7f1454ba1d68>"
      ]
     },
     "metadata": {},
     "output_type": "display_data"
    }
   ],
   "source": [
    "from scipy import stats\n",
    "r = np.arange(-5, 5, 0.01)\n",
    "\n",
    "mu = 0\n",
    "sigma = 1\n",
    "\n",
    "plt.plot(r, stats.norm.pdf(r, mu, sigma))\n"
   ]
  },
  {
   "cell_type": "code",
   "execution_count": 17,
   "metadata": {
    "collapsed": false,
    "slideshow": {
     "slide_type": "slide"
    }
   },
   "outputs": [
    {
     "data": {
      "text/plain": [
       "<matplotlib.text.Annotation at 0x7fc2d28cc160>"
      ]
     },
     "execution_count": 17,
     "metadata": {},
     "output_type": "execute_result"
    },
    {
     "data": {
      "image/png": "[encoded data removed]",
      "text/plain": [
       "<matplotlib.figure.Figure at 0x7fc2d93bfc50>"
      ]
     },
     "metadata": {},
     "output_type": "display_data"
    }
   ],
   "source": [
    "from scipy import stats\n",
    "\n",
    "r = np.arange(-5, 5, 0.01)\n",
    "\n",
    "mu = 0\n",
    "sigma = 1\n",
    "plt.plot(r, stats.norm.pdf(r, mu, sigma), color='b')\n",
    "\n",
    "plt.annotate(r'$\\sigma=1$', xy=(1, stats.norm.pdf(1, mu, sigma)), \n",
    "         xytext=(+10, +30), textcoords='offset points', fontsize=16,\n",
    "         arrowprops=dict(arrowstyle=\"->\"))\n",
    "\n",
    "sigma = 2\n",
    "plt.plot(r, stats.norm.pdf(r, mu, sigma), color='g')\n",
    "\n",
    "plt.annotate(r'$\\sigma=2$', xy=(1, stats.norm.pdf(1, mu, sigma)), \n",
    "         xytext=(+10, +30), textcoords='offset points', fontsize=16,\n",
    "         arrowprops=dict(arrowstyle=\"->\"))\n"
   ]
  },
  {
   "cell_type": "markdown",
   "metadata": {
    "slideshow": {
     "slide_type": "slide"
    }
   },
   "source": [
    "## scipy.stats\n",
    "- norm.pdf(x, mu, sigma)\n",
    "- norm.cdf(x, mu, sigma)"
   ]
  },
  {
   "cell_type": "code",
   "execution_count": 18,
   "metadata": {
    "collapsed": false,
    "slideshow": {
     "slide_type": "slide"
    }
   },
   "outputs": [
    {
     "data": {
      "text/plain": [
       "[<matplotlib.lines.Line2D at 0x7fc2d93837b8>]"
      ]
     },
     "execution_count": 18,
     "metadata": {},
     "output_type": "execute_result"
    },
    {
     "data": {
      "image/png": "[encoded data removed]",
      "text/plain": [
       "<matplotlib.figure.Figure at 0x7fc2d28a74e0>"
      ]
     },
     "metadata": {},
     "output_type": "display_data"
    }
   ],
   "source": [
    "from scipy.stats import norm\n",
    "\n",
    "x = np.arange(-5, 5, 0.01)\n",
    "\n",
    "mu, sigma = 0, 1\n",
    "\n",
    "plt.plot(x, norm.pdf(x, mu, sigma))\n",
    "plt.plot(x, norm.cdf(x, mu, sigma))\n"
   ]
  },
  {
   "cell_type": "markdown",
   "metadata": {
    "slideshow": {
     "slide_type": "slide"
    }
   },
   "source": [
    "# 히스토그램\n",
    " * ^KS11 \n",
    " * ^KQ11"
   ]
  },
  {
   "cell_type": "code",
   "execution_count": 40,
   "metadata": {
    "collapsed": false,
    "slideshow": {
     "slide_type": "slide"
    }
   },
   "outputs": [
    {
     "data": {
      "text/plain": [
       "<matplotlib.axes._subplots.AxesSubplot at 0x7fc2d0c88978>"
      ]
     },
     "execution_count": 40,
     "metadata": {},
     "output_type": "execute_result"
    },
    {
     "data": {
      "image/png": "[encoded data removed]",
      "text/plain": [
       "<matplotlib.figure.Figure at 0x7fc2d0bc3908>"
      ]
     },
     "metadata": {},
     "output_type": "display_data"
    }
   ],
   "source": [
    "start = datetime(2005, 1, 1)\n",
    "end = datetime(2015, 12, 30)\n",
    "\n",
    "df = data.get_data_yahoo(\"^KS11\", start, end)\n",
    "df['Ret'] = np.log( df['Adj Close'] / df ['Adj Close'].shift(1) )\n",
    "df['Ret'].hist(bins=100)"
   ]
  },
  {
   "cell_type": "code",
   "execution_count": 41,
   "metadata": {
    "collapsed": false,
    "slideshow": {
     "slide_type": "slide"
    }
   },
   "outputs": [
    {
     "data": {
      "text/plain": [
       "<matplotlib.axes._subplots.AxesSubplot at 0x7fc2d0b620f0>"
      ]
     },
     "execution_count": 41,
     "metadata": {},
     "output_type": "execute_result"
    },
    {
     "data": {
      "image/png": "[encoded data removed]",
      "text/plain": [
       "<matplotlib.figure.Figure at 0x7fc2d0ce6c50>"
      ]
     },
     "metadata": {},
     "output_type": "display_data"
    }
   ],
   "source": [
    "start = datetime(2005, 1, 1)\n",
    "end = datetime(2015, 12, 30)\n",
    "\n",
    "df = data.get_data_yahoo(\"^KQ11\", start, end)\n",
    "df['Ret'] = np.log( df['Adj Close'] / df ['Adj Close'].shift(1) )\n",
    "\n",
    "df['Ret'].hist(bins=100, color='green')"
   ]
  }
 ],
 "metadata": {
  "kernelspec": {
   "display_name": "Python 3",
   "language": "python",
   "name": "python3"
  },
  "language_info": {
   "codemirror_mode": {
    "name": "ipython",
    "version": 3
   },
   "file_extension": ".py",
   "mimetype": "text/x-python",
   "name": "python",
   "nbconvert_exporter": "python",
   "pygments_lexer": "ipython3",
   "version": "3.4.3"
  }
 },
 "nbformat": 4,
 "nbformat_minor": 0
}
