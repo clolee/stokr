{
 "cells": [
  {
   "cell_type": "code",
   "execution_count": 1,
   "metadata": {
    "collapsed": false,
    "slideshow": {
     "slide_type": "skip"
    }
   },
   "outputs": [],
   "source": [
    "%matplotlib inline"
   ]
  },
  {
   "cell_type": "code",
   "execution_count": 2,
   "metadata": {
    "collapsed": true,
    "slideshow": {
     "slide_type": "slide"
    }
   },
   "outputs": [],
   "source": [
    "from scipy import stats\n",
    "import numpy as np"
   ]
  },
  {
   "cell_type": "markdown",
   "metadata": {
    "slideshow": {
     "slide_type": "slide"
    }
   },
   "source": [
    "# 랜덤 넘버 생성"
   ]
  },
  {
   "cell_type": "code",
   "execution_count": 3,
   "metadata": {
    "collapsed": false,
    "slideshow": {
     "slide_type": "fragment"
    }
   },
   "outputs": [
    {
     "data": {
      "text/plain": [
       "array([69, 97, 77, 72, 22, 33, 89, 88, 99, 48])"
      ]
     },
     "execution_count": 3,
     "metadata": {},
     "output_type": "execute_result"
    }
   ],
   "source": [
    "s = np.random.randint(0, 100, 10)\n",
    "s"
   ]
  },
  {
   "cell_type": "markdown",
   "metadata": {
    "slideshow": {
     "slide_type": "slide"
    }
   },
   "source": [
    "## 평균, 가중평균"
   ]
  },
  {
   "cell_type": "code",
   "execution_count": 4,
   "metadata": {
    "collapsed": false,
    "slideshow": {
     "slide_type": "fragment"
    }
   },
   "outputs": [
    {
     "name": "stdout",
     "output_type": "stream",
     "text": [
      "69.4\n",
      "68.8727272727\n"
     ]
    }
   ],
   "source": [
    "print (np.average(s))\n",
    "print (np.average(s, weights=range(1,11)))"
   ]
  },
  {
   "cell_type": "markdown",
   "metadata": {
    "slideshow": {
     "slide_type": "slide"
    }
   },
   "source": [
    "## 기하평균, 조화평균"
   ]
  },
  {
   "cell_type": "code",
   "execution_count": 5,
   "metadata": {
    "collapsed": false,
    "slideshow": {
     "slide_type": "fragment"
    }
   },
   "outputs": [
    {
     "name": "stdout",
     "output_type": "stream",
     "text": [
      "55.2579471621\n",
      "63.1121503716\n"
     ]
    }
   ],
   "source": [
    "print (stats.hmean(s))\n",
    "print (stats.gmean(s))"
   ]
  },
  {
   "cell_type": "markdown",
   "metadata": {
    "slideshow": {
     "slide_type": "slide"
    }
   },
   "source": [
    "## 종목 읽기"
   ]
  },
  {
   "cell_type": "code",
   "execution_count": 34,
   "metadata": {
    "collapsed": false,
    "slideshow": {
     "slide_type": "fragment"
    }
   },
   "outputs": [
    {
     "data": {
      "text/html": [
       "<div>\n",
       "<table border=\"1\" class=\"dataframe\">\n",
       "  <thead>\n",
       "    <tr style=\"text-align: right;\">\n",
       "      <th></th>\n",
       "      <th>Open</th>\n",
       "      <th>High</th>\n",
       "      <th>Low</th>\n",
       "      <th>Close</th>\n",
       "      <th>Volume</th>\n",
       "      <th>Adj Close</th>\n",
       "    </tr>\n",
       "    <tr>\n",
       "      <th>Date</th>\n",
       "      <th></th>\n",
       "      <th></th>\n",
       "      <th></th>\n",
       "      <th></th>\n",
       "      <th></th>\n",
       "      <th></th>\n",
       "    </tr>\n",
       "  </thead>\n",
       "  <tbody>\n",
       "    <tr>\n",
       "      <th>2015-12-31</th>\n",
       "      <td>1260000</td>\n",
       "      <td>1260000</td>\n",
       "      <td>1260000</td>\n",
       "      <td>1260000</td>\n",
       "      <td>0</td>\n",
       "      <td>1260000.00</td>\n",
       "    </tr>\n",
       "    <tr>\n",
       "      <th>2015-12-30</th>\n",
       "      <td>1260000</td>\n",
       "      <td>1272000</td>\n",
       "      <td>1254000</td>\n",
       "      <td>1260000</td>\n",
       "      <td>203900</td>\n",
       "      <td>1260000.00</td>\n",
       "    </tr>\n",
       "    <tr>\n",
       "      <th>2015-12-29</th>\n",
       "      <td>1265000</td>\n",
       "      <td>1266000</td>\n",
       "      <td>1241000</td>\n",
       "      <td>1254000</td>\n",
       "      <td>232900</td>\n",
       "      <td>1254000.00</td>\n",
       "    </tr>\n",
       "    <tr>\n",
       "      <th>2015-12-28</th>\n",
       "      <td>1285000</td>\n",
       "      <td>1289000</td>\n",
       "      <td>1266000</td>\n",
       "      <td>1266000</td>\n",
       "      <td>227200</td>\n",
       "      <td>1245999.99</td>\n",
       "    </tr>\n",
       "    <tr>\n",
       "      <th>2015-12-25</th>\n",
       "      <td>1285000</td>\n",
       "      <td>1285000</td>\n",
       "      <td>1285000</td>\n",
       "      <td>1285000</td>\n",
       "      <td>0</td>\n",
       "      <td>1264699.83</td>\n",
       "    </tr>\n",
       "  </tbody>\n",
       "</table>\n",
       "</div>"
      ],
      "text/plain": [
       "               Open     High      Low    Close  Volume   Adj Close\n",
       "Date                                                              \n",
       "2015-12-31  1260000  1260000  1260000  1260000       0  1260000.00\n",
       "2015-12-30  1260000  1272000  1254000  1260000  203900  1260000.00\n",
       "2015-12-29  1265000  1266000  1241000  1254000  232900  1254000.00\n",
       "2015-12-28  1285000  1289000  1266000  1266000  227200  1245999.99\n",
       "2015-12-25  1285000  1285000  1285000  1285000       0  1264699.83"
      ]
     },
     "execution_count": 34,
     "metadata": {},
     "output_type": "execute_result"
    }
   ],
   "source": [
    "import pandas as pd\n",
    "\n",
    "url_tmp = \"http://real-chart.finance.yahoo.com/table.csv?\" \\\n",
    "      \"s=%s&a=0&b=1&c=2015&d=11&e=31&f=2015&g=d&ignore=.csv\"\n",
    "\n",
    "df_005930 = pd.read_csv(url_tmp % '005930.KS', index_col='Date', parse_dates={'Date'})\n",
    "df_005930.head()\n",
    "\n",
    "# Yahoo Finance, 거래량 0"
   ]
  },
  {
   "cell_type": "code",
   "execution_count": 35,
   "metadata": {
    "collapsed": false,
    "slideshow": {
     "slide_type": "slide"
    }
   },
   "outputs": [
    {
     "data": {
      "text/html": [
       "<div>\n",
       "<table border=\"1\" class=\"dataframe\">\n",
       "  <thead>\n",
       "    <tr style=\"text-align: right;\">\n",
       "      <th></th>\n",
       "      <th>Open</th>\n",
       "      <th>High</th>\n",
       "      <th>Low</th>\n",
       "      <th>Close</th>\n",
       "      <th>Volume</th>\n",
       "      <th>Adj Close</th>\n",
       "    </tr>\n",
       "    <tr>\n",
       "      <th>Date</th>\n",
       "      <th></th>\n",
       "      <th></th>\n",
       "      <th></th>\n",
       "      <th></th>\n",
       "      <th></th>\n",
       "      <th></th>\n",
       "    </tr>\n",
       "  </thead>\n",
       "  <tbody>\n",
       "    <tr>\n",
       "      <th>2015-12-30</th>\n",
       "      <td>1260000</td>\n",
       "      <td>1272000</td>\n",
       "      <td>1254000</td>\n",
       "      <td>1260000</td>\n",
       "      <td>203900</td>\n",
       "      <td>1260000.00</td>\n",
       "    </tr>\n",
       "    <tr>\n",
       "      <th>2015-12-29</th>\n",
       "      <td>1265000</td>\n",
       "      <td>1266000</td>\n",
       "      <td>1241000</td>\n",
       "      <td>1254000</td>\n",
       "      <td>232900</td>\n",
       "      <td>1254000.00</td>\n",
       "    </tr>\n",
       "    <tr>\n",
       "      <th>2015-12-28</th>\n",
       "      <td>1285000</td>\n",
       "      <td>1289000</td>\n",
       "      <td>1266000</td>\n",
       "      <td>1266000</td>\n",
       "      <td>227200</td>\n",
       "      <td>1245999.99</td>\n",
       "    </tr>\n",
       "    <tr>\n",
       "      <th>2015-12-24</th>\n",
       "      <td>1295000</td>\n",
       "      <td>1300000</td>\n",
       "      <td>1285000</td>\n",
       "      <td>1285000</td>\n",
       "      <td>156100</td>\n",
       "      <td>1264699.83</td>\n",
       "    </tr>\n",
       "    <tr>\n",
       "      <th>2015-12-23</th>\n",
       "      <td>1292000</td>\n",
       "      <td>1299000</td>\n",
       "      <td>1282000</td>\n",
       "      <td>1295000</td>\n",
       "      <td>207100</td>\n",
       "      <td>1274541.86</td>\n",
       "    </tr>\n",
       "  </tbody>\n",
       "</table>\n",
       "</div>"
      ],
      "text/plain": [
       "               Open     High      Low    Close  Volume   Adj Close\n",
       "Date                                                              \n",
       "2015-12-30  1260000  1272000  1254000  1260000  203900  1260000.00\n",
       "2015-12-29  1265000  1266000  1241000  1254000  232900  1254000.00\n",
       "2015-12-28  1285000  1289000  1266000  1266000  227200  1245999.99\n",
       "2015-12-24  1295000  1300000  1285000  1285000  156100  1264699.83\n",
       "2015-12-23  1292000  1299000  1282000  1295000  207100  1274541.86"
      ]
     },
     "execution_count": 35,
     "metadata": {},
     "output_type": "execute_result"
    }
   ],
   "source": [
    "# Yahoo Finance, 거래량 0 제거\n",
    "\n",
    "df_005930 = df_005930.ix[df_005930.Volume > 0]\n",
    "df_005930.head()"
   ]
  },
  {
   "cell_type": "code",
   "execution_count": 44,
   "metadata": {
    "collapsed": false,
    "slideshow": {
     "slide_type": "slide"
    }
   },
   "outputs": [
    {
     "data": {
      "text/plain": [
       "249"
      ]
     },
     "execution_count": 44,
     "metadata": {},
     "output_type": "execute_result"
    }
   ],
   "source": [
    "len(df_005930) # 개장일 (개래량 > 0)"
   ]
  },
  {
   "cell_type": "markdown",
   "metadata": {
    "slideshow": {
     "slide_type": "slide"
    }
   },
   "source": [
    "## KOSPI 지수 2015"
   ]
  },
  {
   "cell_type": "code",
   "execution_count": 48,
   "metadata": {
    "collapsed": false
   },
   "outputs": [
    {
     "data": {
      "text/html": [
       "<div>\n",
       "<table border=\"1\" class=\"dataframe\">\n",
       "  <thead>\n",
       "    <tr style=\"text-align: right;\">\n",
       "      <th></th>\n",
       "      <th>Open</th>\n",
       "      <th>High</th>\n",
       "      <th>Low</th>\n",
       "      <th>Close</th>\n",
       "      <th>Volume</th>\n",
       "      <th>Adj Close</th>\n",
       "    </tr>\n",
       "    <tr>\n",
       "      <th>Date</th>\n",
       "      <th></th>\n",
       "      <th></th>\n",
       "      <th></th>\n",
       "      <th></th>\n",
       "      <th></th>\n",
       "      <th></th>\n",
       "    </tr>\n",
       "  </thead>\n",
       "  <tbody>\n",
       "    <tr>\n",
       "      <th>2015-12-30</th>\n",
       "      <td>1973.030029</td>\n",
       "      <td>1974.670044</td>\n",
       "      <td>1958.780029</td>\n",
       "      <td>1961.310059</td>\n",
       "      <td>304500</td>\n",
       "      <td>1961.310059</td>\n",
       "    </tr>\n",
       "    <tr>\n",
       "      <th>2015-12-29</th>\n",
       "      <td>1956.489990</td>\n",
       "      <td>1968.569946</td>\n",
       "      <td>1946.209961</td>\n",
       "      <td>1966.310059</td>\n",
       "      <td>401400</td>\n",
       "      <td>1966.310059</td>\n",
       "    </tr>\n",
       "    <tr>\n",
       "      <th>2015-12-28</th>\n",
       "      <td>1990.589966</td>\n",
       "      <td>1991.189941</td>\n",
       "      <td>1964.060059</td>\n",
       "      <td>1964.060059</td>\n",
       "      <td>396600</td>\n",
       "      <td>1964.060059</td>\n",
       "    </tr>\n",
       "    <tr>\n",
       "      <th>2015-12-24</th>\n",
       "      <td>2009.339966</td>\n",
       "      <td>2009.989990</td>\n",
       "      <td>1990.650024</td>\n",
       "      <td>1990.650024</td>\n",
       "      <td>504600</td>\n",
       "      <td>1990.650024</td>\n",
       "    </tr>\n",
       "    <tr>\n",
       "      <th>2015-12-23</th>\n",
       "      <td>1994.199951</td>\n",
       "      <td>2007.420044</td>\n",
       "      <td>1989.300049</td>\n",
       "      <td>1999.219971</td>\n",
       "      <td>502400</td>\n",
       "      <td>1999.219971</td>\n",
       "    </tr>\n",
       "  </tbody>\n",
       "</table>\n",
       "</div>"
      ],
      "text/plain": [
       "                   Open         High          Low        Close  Volume  \\\n",
       "Date                                                                     \n",
       "2015-12-30  1973.030029  1974.670044  1958.780029  1961.310059  304500   \n",
       "2015-12-29  1956.489990  1968.569946  1946.209961  1966.310059  401400   \n",
       "2015-12-28  1990.589966  1991.189941  1964.060059  1964.060059  396600   \n",
       "2015-12-24  2009.339966  2009.989990  1990.650024  1990.650024  504600   \n",
       "2015-12-23  1994.199951  2007.420044  1989.300049  1999.219971  502400   \n",
       "\n",
       "              Adj Close  \n",
       "Date                     \n",
       "2015-12-30  1961.310059  \n",
       "2015-12-29  1966.310059  \n",
       "2015-12-28  1964.060059  \n",
       "2015-12-24  1990.650024  \n",
       "2015-12-23  1999.219971  "
      ]
     },
     "execution_count": 48,
     "metadata": {},
     "output_type": "execute_result"
    }
   ],
   "source": [
    "df_ks11 = pd.read_csv(url_tmp % '^KS11', index_col='Date', parse_dates={'Date'})\n",
    "df_ks11 = df_ks11.ix[df_ks11.Volume > 0]\n",
    "df_ks11.head()"
   ]
  },
  {
   "cell_type": "code",
   "execution_count": 49,
   "metadata": {
    "collapsed": false,
    "slideshow": {
     "slide_type": "slide"
    }
   },
   "outputs": [
    {
     "data": {
      "text/plain": [
       "248"
      ]
     },
     "execution_count": 49,
     "metadata": {},
     "output_type": "execute_result"
    }
   ],
   "source": [
    "len(df_ks11)"
   ]
  },
  {
   "cell_type": "markdown",
   "metadata": {
    "slideshow": {
     "slide_type": "slide"
    }
   },
   "source": [
    "# 기술 통계량 (요약 통계량)"
   ]
  },
  {
   "cell_type": "code",
   "execution_count": 50,
   "metadata": {
    "collapsed": false,
    "slideshow": {
     "slide_type": "fragment"
    }
   },
   "outputs": [
    {
     "data": {
      "text/html": [
       "<div>\n",
       "<table border=\"1\" class=\"dataframe\">\n",
       "  <thead>\n",
       "    <tr style=\"text-align: right;\">\n",
       "      <th></th>\n",
       "      <th>Open</th>\n",
       "      <th>High</th>\n",
       "      <th>Low</th>\n",
       "      <th>Close</th>\n",
       "      <th>Volume</th>\n",
       "      <th>Adj Close</th>\n",
       "    </tr>\n",
       "  </thead>\n",
       "  <tbody>\n",
       "    <tr>\n",
       "      <th>count</th>\n",
       "      <td>248.000000</td>\n",
       "      <td>248.000000</td>\n",
       "      <td>248.000000</td>\n",
       "      <td>248.000000</td>\n",
       "      <td>248.000000</td>\n",
       "      <td>248.000000</td>\n",
       "    </tr>\n",
       "    <tr>\n",
       "      <th>mean</th>\n",
       "      <td>2013.361249</td>\n",
       "      <td>2020.985361</td>\n",
       "      <td>2002.081292</td>\n",
       "      <td>2011.848749</td>\n",
       "      <td>455254.032258</td>\n",
       "      <td>2011.848749</td>\n",
       "    </tr>\n",
       "    <tr>\n",
       "      <th>std</th>\n",
       "      <td>69.687656</td>\n",
       "      <td>68.157473</td>\n",
       "      <td>69.269948</td>\n",
       "      <td>68.551742</td>\n",
       "      <td>138706.289989</td>\n",
       "      <td>68.551742</td>\n",
       "    </tr>\n",
       "    <tr>\n",
       "      <th>min</th>\n",
       "      <td>1840.939941</td>\n",
       "      <td>1864.300049</td>\n",
       "      <td>1800.750000</td>\n",
       "      <td>1829.810059</td>\n",
       "      <td>258800.000000</td>\n",
       "      <td>1829.810059</td>\n",
       "    </tr>\n",
       "    <tr>\n",
       "      <th>25%</th>\n",
       "      <td>1960.267456</td>\n",
       "      <td>1968.467468</td>\n",
       "      <td>1948.832519</td>\n",
       "      <td>1961.547455</td>\n",
       "      <td>366400.000000</td>\n",
       "      <td>1961.547455</td>\n",
       "    </tr>\n",
       "    <tr>\n",
       "      <th>50%</th>\n",
       "      <td>2014.674988</td>\n",
       "      <td>2023.440002</td>\n",
       "      <td>2002.845032</td>\n",
       "      <td>2013.114990</td>\n",
       "      <td>423300.000000</td>\n",
       "      <td>2013.114990</td>\n",
       "    </tr>\n",
       "    <tr>\n",
       "      <th>75%</th>\n",
       "      <td>2059.775086</td>\n",
       "      <td>2065.785034</td>\n",
       "      <td>2046.849945</td>\n",
       "      <td>2054.237427</td>\n",
       "      <td>509025.000000</td>\n",
       "      <td>2054.237427</td>\n",
       "    </tr>\n",
       "    <tr>\n",
       "      <th>max</th>\n",
       "      <td>2181.239990</td>\n",
       "      <td>2189.540039</td>\n",
       "      <td>2154.270020</td>\n",
       "      <td>2173.409912</td>\n",
       "      <td>1160800.000000</td>\n",
       "      <td>2173.409912</td>\n",
       "    </tr>\n",
       "  </tbody>\n",
       "</table>\n",
       "</div>"
      ],
      "text/plain": [
       "              Open         High          Low        Close          Volume  \\\n",
       "count   248.000000   248.000000   248.000000   248.000000      248.000000   \n",
       "mean   2013.361249  2020.985361  2002.081292  2011.848749   455254.032258   \n",
       "std      69.687656    68.157473    69.269948    68.551742   138706.289989   \n",
       "min    1840.939941  1864.300049  1800.750000  1829.810059   258800.000000   \n",
       "25%    1960.267456  1968.467468  1948.832519  1961.547455   366400.000000   \n",
       "50%    2014.674988  2023.440002  2002.845032  2013.114990   423300.000000   \n",
       "75%    2059.775086  2065.785034  2046.849945  2054.237427   509025.000000   \n",
       "max    2181.239990  2189.540039  2154.270020  2173.409912  1160800.000000   \n",
       "\n",
       "         Adj Close  \n",
       "count   248.000000  \n",
       "mean   2011.848749  \n",
       "std      68.551742  \n",
       "min    1829.810059  \n",
       "25%    1961.547455  \n",
       "50%    2013.114990  \n",
       "75%    2054.237427  \n",
       "max    2173.409912  "
      ]
     },
     "execution_count": 50,
     "metadata": {},
     "output_type": "execute_result"
    }
   ],
   "source": [
    "df_ks11.describe()"
   ]
  },
  {
   "cell_type": "markdown",
   "metadata": {
    "slideshow": {
     "slide_type": "slide"
    }
   },
   "source": [
    "# 로그 수익률"
   ]
  },
  {
   "cell_type": "code",
   "execution_count": 55,
   "metadata": {
    "collapsed": false,
    "slideshow": {
     "slide_type": "fragment"
    }
   },
   "outputs": [
    {
     "data": {
      "text/html": [
       "<div>\n",
       "<table border=\"1\" class=\"dataframe\">\n",
       "  <thead>\n",
       "    <tr style=\"text-align: right;\">\n",
       "      <th></th>\n",
       "      <th>Open</th>\n",
       "      <th>High</th>\n",
       "      <th>Low</th>\n",
       "      <th>Close</th>\n",
       "      <th>Volume</th>\n",
       "      <th>Adj Close</th>\n",
       "      <th>Ret</th>\n",
       "    </tr>\n",
       "    <tr>\n",
       "      <th>Date</th>\n",
       "      <th></th>\n",
       "      <th></th>\n",
       "      <th></th>\n",
       "      <th></th>\n",
       "      <th></th>\n",
       "      <th></th>\n",
       "      <th></th>\n",
       "    </tr>\n",
       "  </thead>\n",
       "  <tbody>\n",
       "    <tr>\n",
       "      <th>2015-12-30</th>\n",
       "      <td>1260000</td>\n",
       "      <td>1272000</td>\n",
       "      <td>1254000</td>\n",
       "      <td>1260000</td>\n",
       "      <td>203900</td>\n",
       "      <td>1260000.00</td>\n",
       "      <td>NaN</td>\n",
       "    </tr>\n",
       "    <tr>\n",
       "      <th>2015-12-29</th>\n",
       "      <td>1265000</td>\n",
       "      <td>1266000</td>\n",
       "      <td>1241000</td>\n",
       "      <td>1254000</td>\n",
       "      <td>232900</td>\n",
       "      <td>1254000.00</td>\n",
       "      <td>-0.004773</td>\n",
       "    </tr>\n",
       "    <tr>\n",
       "      <th>2015-12-28</th>\n",
       "      <td>1285000</td>\n",
       "      <td>1289000</td>\n",
       "      <td>1266000</td>\n",
       "      <td>1266000</td>\n",
       "      <td>227200</td>\n",
       "      <td>1245999.99</td>\n",
       "      <td>-0.006400</td>\n",
       "    </tr>\n",
       "    <tr>\n",
       "      <th>2015-12-24</th>\n",
       "      <td>1295000</td>\n",
       "      <td>1300000</td>\n",
       "      <td>1285000</td>\n",
       "      <td>1285000</td>\n",
       "      <td>156100</td>\n",
       "      <td>1264699.83</td>\n",
       "      <td>0.014896</td>\n",
       "    </tr>\n",
       "    <tr>\n",
       "      <th>2015-12-23</th>\n",
       "      <td>1292000</td>\n",
       "      <td>1299000</td>\n",
       "      <td>1282000</td>\n",
       "      <td>1295000</td>\n",
       "      <td>207100</td>\n",
       "      <td>1274541.86</td>\n",
       "      <td>0.007752</td>\n",
       "    </tr>\n",
       "  </tbody>\n",
       "</table>\n",
       "</div>"
      ],
      "text/plain": [
       "               Open     High      Low    Close  Volume   Adj Close       Ret\n",
       "Date                                                                        \n",
       "2015-12-30  1260000  1272000  1254000  1260000  203900  1260000.00       NaN\n",
       "2015-12-29  1265000  1266000  1241000  1254000  232900  1254000.00 -0.004773\n",
       "2015-12-28  1285000  1289000  1266000  1266000  227200  1245999.99 -0.006400\n",
       "2015-12-24  1295000  1300000  1285000  1285000  156100  1264699.83  0.014896\n",
       "2015-12-23  1292000  1299000  1282000  1295000  207100  1274541.86  0.007752"
      ]
     },
     "execution_count": 55,
     "metadata": {},
     "output_type": "execute_result"
    }
   ],
   "source": [
    "df_005930['Ret'] = np.log(df_005930['Adj Close'] / df_005930['Adj Close'].shift(1))\n",
    "df_005930.head()"
   ]
  },
  {
   "cell_type": "markdown",
   "metadata": {
    "slideshow": {
     "slide_type": "slide"
    }
   },
   "source": [
    "# 로그 수익률 (지수)"
   ]
  },
  {
   "cell_type": "code",
   "execution_count": 56,
   "metadata": {
    "collapsed": false,
    "slideshow": {
     "slide_type": "fragment"
    }
   },
   "outputs": [
    {
     "data": {
      "text/html": [
       "<div>\n",
       "<table border=\"1\" class=\"dataframe\">\n",
       "  <thead>\n",
       "    <tr style=\"text-align: right;\">\n",
       "      <th></th>\n",
       "      <th>Open</th>\n",
       "      <th>High</th>\n",
       "      <th>Low</th>\n",
       "      <th>Close</th>\n",
       "      <th>Volume</th>\n",
       "      <th>Adj Close</th>\n",
       "      <th>Ret</th>\n",
       "    </tr>\n",
       "    <tr>\n",
       "      <th>Date</th>\n",
       "      <th></th>\n",
       "      <th></th>\n",
       "      <th></th>\n",
       "      <th></th>\n",
       "      <th></th>\n",
       "      <th></th>\n",
       "      <th></th>\n",
       "    </tr>\n",
       "  </thead>\n",
       "  <tbody>\n",
       "    <tr>\n",
       "      <th>2015-12-30</th>\n",
       "      <td>1973.030029</td>\n",
       "      <td>1974.670044</td>\n",
       "      <td>1958.780029</td>\n",
       "      <td>1961.310059</td>\n",
       "      <td>304500</td>\n",
       "      <td>1961.310059</td>\n",
       "      <td>NaN</td>\n",
       "    </tr>\n",
       "    <tr>\n",
       "      <th>2015-12-29</th>\n",
       "      <td>1956.489990</td>\n",
       "      <td>1968.569946</td>\n",
       "      <td>1946.209961</td>\n",
       "      <td>1966.310059</td>\n",
       "      <td>401400</td>\n",
       "      <td>1966.310059</td>\n",
       "      <td>0.002546</td>\n",
       "    </tr>\n",
       "    <tr>\n",
       "      <th>2015-12-28</th>\n",
       "      <td>1990.589966</td>\n",
       "      <td>1991.189941</td>\n",
       "      <td>1964.060059</td>\n",
       "      <td>1964.060059</td>\n",
       "      <td>396600</td>\n",
       "      <td>1964.060059</td>\n",
       "      <td>-0.001145</td>\n",
       "    </tr>\n",
       "    <tr>\n",
       "      <th>2015-12-24</th>\n",
       "      <td>2009.339966</td>\n",
       "      <td>2009.989990</td>\n",
       "      <td>1990.650024</td>\n",
       "      <td>1990.650024</td>\n",
       "      <td>504600</td>\n",
       "      <td>1990.650024</td>\n",
       "      <td>0.013447</td>\n",
       "    </tr>\n",
       "    <tr>\n",
       "      <th>2015-12-23</th>\n",
       "      <td>1994.199951</td>\n",
       "      <td>2007.420044</td>\n",
       "      <td>1989.300049</td>\n",
       "      <td>1999.219971</td>\n",
       "      <td>502400</td>\n",
       "      <td>1999.219971</td>\n",
       "      <td>0.004296</td>\n",
       "    </tr>\n",
       "  </tbody>\n",
       "</table>\n",
       "</div>"
      ],
      "text/plain": [
       "                   Open         High          Low        Close  Volume  \\\n",
       "Date                                                                     \n",
       "2015-12-30  1973.030029  1974.670044  1958.780029  1961.310059  304500   \n",
       "2015-12-29  1956.489990  1968.569946  1946.209961  1966.310059  401400   \n",
       "2015-12-28  1990.589966  1991.189941  1964.060059  1964.060059  396600   \n",
       "2015-12-24  2009.339966  2009.989990  1990.650024  1990.650024  504600   \n",
       "2015-12-23  1994.199951  2007.420044  1989.300049  1999.219971  502400   \n",
       "\n",
       "              Adj Close       Ret  \n",
       "Date                               \n",
       "2015-12-30  1961.310059       NaN  \n",
       "2015-12-29  1966.310059  0.002546  \n",
       "2015-12-28  1964.060059 -0.001145  \n",
       "2015-12-24  1990.650024  0.013447  \n",
       "2015-12-23  1999.219971  0.004296  "
      ]
     },
     "execution_count": 56,
     "metadata": {},
     "output_type": "execute_result"
    }
   ],
   "source": [
    "df_ks11['Ret'] = np.log(df_ks11['Adj Close'] / df_ks11['Adj Close'].shift(1))\n",
    "df_ks11.head()"
   ]
  },
  {
   "cell_type": "markdown",
   "metadata": {
    "slideshow": {
     "slide_type": "slide"
    }
   },
   "source": [
    "# 로그 수익률 차트"
   ]
  },
  {
   "cell_type": "code",
   "execution_count": 59,
   "metadata": {
    "collapsed": false,
    "slideshow": {
     "slide_type": "fragment"
    }
   },
   "outputs": [
    {
     "data": {
      "text/plain": [
       "<matplotlib.axes._subplots.AxesSubplot at 0x7f67ebf2c3c8>"
      ]
     },
     "execution_count": 59,
     "metadata": {},
     "output_type": "execute_result"
    },
    {
     "data": {
      "image/png": "[encoded data removed]",
      "text/plain": [
       "<matplotlib.figure.Figure at 0x7f67eb96a160>"
      ]
     },
     "metadata": {},
     "output_type": "display_data"
    }
   ],
   "source": [
    "df_005930['Ret'].plot(figsize=(16,4))"
   ]
  },
  {
   "cell_type": "markdown",
   "metadata": {
    "slideshow": {
     "slide_type": "slide"
    }
   },
   "source": [
    "# 로그 수익률 누적 차트"
   ]
  },
  {
   "cell_type": "code",
   "execution_count": 60,
   "metadata": {
    "collapsed": false,
    "slideshow": {
     "slide_type": "fragment"
    }
   },
   "outputs": [
    {
     "data": {
      "text/plain": [
       "<matplotlib.axes._subplots.AxesSubplot at 0x7f67eb9905c0>"
      ]
     },
     "execution_count": 60,
     "metadata": {},
     "output_type": "execute_result"
    },
    {
     "data": {
      "image/png": "[encoded data removed]",
      "text/plain": [
       "<matplotlib.figure.Figure at 0x7f67eb946cc0>"
      ]
     },
     "metadata": {},
     "output_type": "display_data"
    }
   ],
   "source": [
    "df_005930['Ret'].cumsum().plot(figsize=(16,4))"
   ]
  },
  {
   "cell_type": "markdown",
   "metadata": {
    "slideshow": {
     "slide_type": "slide"
    }
   },
   "source": [
    "# 수정종가(Adj Close) 차트"
   ]
  },
  {
   "cell_type": "code",
   "execution_count": 65,
   "metadata": {
    "collapsed": false,
    "slideshow": {
     "slide_type": "fragment"
    }
   },
   "outputs": [
    {
     "data": {
      "text/plain": [
       "<matplotlib.axes._subplots.AxesSubplot at 0x7f67eb782da0>"
      ]
     },
     "execution_count": 65,
     "metadata": {},
     "output_type": "execute_result"
    },
    {
     "data": {
      "image/png": "[encoded data removed]",
      "text/plain": [
       "<matplotlib.figure.Figure at 0x7f67eb6dda90>"
      ]
     },
     "metadata": {},
     "output_type": "display_data"
    }
   ],
   "source": [
    "df_005930['Adj Close'].plot(figsize=(16,4))"
   ]
  },
  {
   "cell_type": "markdown",
   "metadata": {
    "slideshow": {
     "slide_type": "slide"
    }
   },
   "source": [
    "# 수익률의 기술 통계량"
   ]
  },
  {
   "cell_type": "code",
   "execution_count": 69,
   "metadata": {
    "collapsed": false,
    "slideshow": {
     "slide_type": "fragment"
    }
   },
   "outputs": [
    {
     "data": {
      "text/plain": [
       "count    248.000000\n",
       "mean       0.000151\n",
       "std        0.016526\n",
       "min       -0.083312\n",
       "25%       -0.008767\n",
       "50%        0.000000\n",
       "75%        0.010817\n",
       "max        0.044054\n",
       "Name: Ret, dtype: float64"
      ]
     },
     "execution_count": 69,
     "metadata": {},
     "output_type": "execute_result"
    }
   ],
   "source": [
    "df_005930['Ret'].describe()"
   ]
  },
  {
   "cell_type": "code",
   "execution_count": 70,
   "metadata": {
    "collapsed": false,
    "slideshow": {
     "slide_type": "slide"
    }
   },
   "outputs": [],
   "source": [
    "def full_describe(df):\n",
    "    print ('mean    %15.6f' % (df.mean()))\n",
    "    print ('std_err %15.6f' % (df.std() / np.sqrt(df.count())))\n",
    "    print ('median  %15.6f' % (df.median()))\n",
    "    print ('std     %15.6f' % (df.std()))\n",
    "    print ('var     %15.6f' % (df.var()))\n",
    "    print ('kurt    %15.6f' % (df.kurt()))\n",
    "    print ('skew    %15.6f' % (df.skew()))\n",
    "    print ('range   %15.6f' % (df.max() - df.min()))\n",
    "    print ('min     %15.6f' % (df.min()))\n",
    "    print ('max     %15.6f' % (df.max()))\n",
    "    print ('sum     %15.6f' % (df.sum()))\n",
    "    print ('count   %15.6f' % (df.count()))"
   ]
  },
  {
   "cell_type": "code",
   "execution_count": 71,
   "metadata": {
    "collapsed": false,
    "slideshow": {
     "slide_type": "fragment"
    }
   },
   "outputs": [
    {
     "name": "stdout",
     "output_type": "stream",
     "text": [
      "mean           0.000151\n",
      "std_err        0.001049\n",
      "median         0.000000\n",
      "std            0.016526\n",
      "var            0.000273\n",
      "kurt           2.457841\n",
      "skew          -0.486737\n",
      "range          0.127366\n",
      "min           -0.083312\n",
      "max            0.044054\n",
      "sum            0.037361\n",
      "count        248.000000\n"
     ]
    }
   ],
   "source": [
    "full_describe(df_005930['Ret'])"
   ]
  },
  {
   "cell_type": "code",
   "execution_count": 72,
   "metadata": {
    "collapsed": false,
    "slideshow": {
     "slide_type": "slide"
    }
   },
   "outputs": [
    {
     "name": "stdout",
     "output_type": "stream",
     "text": [
      "mean          -0.000073\n",
      "std_err        0.000509\n",
      "median        -0.000162\n",
      "std            0.008003\n",
      "var            0.000064\n",
      "kurt           1.183365\n",
      "skew           0.023153\n",
      "range          0.054091\n",
      "min           -0.029124\n",
      "max            0.024967\n",
      "sum           -0.017939\n",
      "count        247.000000\n"
     ]
    }
   ],
   "source": [
    "full_describe(df_ks11['Ret'])"
   ]
  },
  {
   "cell_type": "markdown",
   "metadata": {
    "slideshow": {
     "slide_type": "slide"
    }
   },
   "source": [
    "# 2015 코스피 지수 히스토그램"
   ]
  },
  {
   "cell_type": "code",
   "execution_count": 73,
   "metadata": {
    "collapsed": false,
    "slideshow": {
     "slide_type": "fragment"
    }
   },
   "outputs": [
    {
     "data": {
      "text/plain": [
       "<matplotlib.axes._subplots.AxesSubplot at 0x7f67eb6ddba8>"
      ]
     },
     "execution_count": 73,
     "metadata": {},
     "output_type": "execute_result"
    },
    {
     "data": {
      "image/png": "[encoded data removed]",
      "text/plain": [
       "<matplotlib.figure.Figure at 0x7f67eb6c6898>"
      ]
     },
     "metadata": {},
     "output_type": "display_data"
    }
   ],
   "source": [
    "df_ks11['Ret'].hist(bins=50)"
   ]
  },
  {
   "cell_type": "markdown",
   "metadata": {
    "slideshow": {
     "slide_type": "slide"
    }
   },
   "source": [
    "# 2015 삼성전자 수익률 히스토그램"
   ]
  },
  {
   "cell_type": "code",
   "execution_count": 74,
   "metadata": {
    "collapsed": false,
    "slideshow": {
     "slide_type": "fragment"
    }
   },
   "outputs": [
    {
     "data": {
      "text/plain": [
       "<matplotlib.axes._subplots.AxesSubplot at 0x7f67eb5e8550>"
      ]
     },
     "execution_count": 74,
     "metadata": {},
     "output_type": "execute_result"
    },
    {
     "data": {
      "image/png": "[encoded data removed]",
      "text/plain": [
       "<matplotlib.figure.Figure at 0x7f67eb6ddc50>"
      ]
     },
     "metadata": {},
     "output_type": "display_data"
    }
   ],
   "source": [
    "df_005930['Ret'].hist(bins=50)"
   ]
  }
 ],
 "metadata": {
  "kernelspec": {
   "display_name": "Python 3",
   "language": "python",
   "name": "python3"
  },
  "language_info": {
   "codemirror_mode": {
    "name": "ipython",
    "version": 3
   },
   "file_extension": ".py",
   "mimetype": "text/x-python",
   "name": "python",
   "nbconvert_exporter": "python",
   "pygments_lexer": "ipython3",
   "version": "3.4.3"
  }
 },
 "nbformat": 4,
 "nbformat_minor": 0
}
