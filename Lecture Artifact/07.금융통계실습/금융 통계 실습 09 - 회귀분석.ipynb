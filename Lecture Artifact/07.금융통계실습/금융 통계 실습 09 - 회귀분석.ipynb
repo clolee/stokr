{
 "cells": [
  {
   "cell_type": "code",
   "execution_count": 22,
   "metadata": {
    "collapsed": true,
    "slideshow": {
     "slide_type": "skip"
    }
   },
   "outputs": [],
   "source": [
    "%matplotlib inline\n",
    "from IPython.display import display, Image"
   ]
  },
  {
   "cell_type": "markdown",
   "metadata": {
    "slideshow": {
     "slide_type": "slide"
    }
   },
   "source": [
    "# 금융 통계 실습 09 - 회귀분석\n",
    "\n",
    "### [금융 데이터 분석 입문]\n",
    "\n",
    "#### 이승준 http://fb.com/plusjune"
   ]
  },
  {
   "cell_type": "markdown",
   "metadata": {
    "slideshow": {
     "slide_type": "fragment"
    }
   },
   "source": [
    "<img width=\"400\" src=\"https://goo.gl/oAeO3y\" style=\"float:left\"/>"
   ]
  },
  {
   "cell_type": "code",
   "execution_count": 23,
   "metadata": {
    "collapsed": true,
    "slideshow": {
     "slide_type": "slide"
    }
   },
   "outputs": [],
   "source": [
    "import numpy as np\n",
    "import pandas as pd\n",
    "from pandas_datareader import data\n",
    "import requests\n",
    "from datetime import datetime\n",
    "import matplotlib.pyplot as plt"
   ]
  },
  {
   "cell_type": "markdown",
   "metadata": {
    "slideshow": {
     "slide_type": "slide"
    }
   },
   "source": [
    "# 보편적 회귀법칙 (law of universal regression)\n",
    "* 영국 유전학자 프랜시스 골턴 (F. Galton, 1822 ~ 1891), 찰스 다윈의 사촌\n",
    "* [Family Likeness in Stature] (1886)\n",
    "* 일반적으로 키가 큰 부모에게서 키 큰 자녀가, 키가 작은 부모에게서 키 작은 자녀가 태어난다.\n",
    "* 그러나, 키가 크던 작던 자녀들의 평균 키는 전체 평균 키 수준에 접근하는 현상\n",
    "* 자녀들의 평균 키는 전체 인구의 평균 키로 회귀(regression)하는 경향이 있다."
   ]
  },
  {
   "cell_type": "markdown",
   "metadata": {
    "slideshow": {
     "slide_type": "slide"
    }
   },
   "source": [
    "# 단순회귀분석 (Simple Linear Regression)\n",
    "* https://en.wikipedia.org/wiki/Simple_linear_regression\n",
    "* 정의: 회귀분석이란 주어진 데이터를 가장 잘 나타낼 수 있는 수식을 찾아내는 방법\n",
    "\n",
    "### 기울기\n",
    "$$ b = \\frac {\\sum{(x - \\bar x})(y - \\bar y) }{ \\sum{(x - \\bar x)^2}} $$\n",
    "\n",
    "### 절편\n",
    "$$ a = \\bar y - b \\cdot \\bar x $$\n",
    "\n",
    "### 선형식\n",
    "$$ y = a + b \\cdot x $$"
   ]
  },
  {
   "cell_type": "code",
   "execution_count": 24,
   "metadata": {
    "collapsed": false,
    "slideshow": {
     "slide_type": "slide"
    }
   },
   "outputs": [
    {
     "name": "stdout",
     "output_type": "stream",
     "text": [
      "b = 1.48, a = 68.51\n"
     ]
    }
   ],
   "source": [
    "x = np.array([65, 68, 70, 71, 78])\n",
    "y = np.array([165, 167, 170, 178, 183])\n",
    "\n",
    "dff_x = x - x.mean()\n",
    "dff_y = y - y.mean()\n",
    "\n",
    "b = np.sum(dff_x * dff_y) / np.sum(dff_x ** 2)\n",
    "a =  y.mean() - b * x.mean()\n",
    "\n",
    "print (\"b = %.2f, a = %.2f\" % (b, a))"
   ]
  },
  {
   "cell_type": "code",
   "execution_count": 25,
   "metadata": {
    "collapsed": false,
    "slideshow": {
     "slide_type": "fragment"
    }
   },
   "outputs": [
    {
     "data": {
      "text/plain": [
       "<matplotlib.collections.PathCollection at 0x7ff157aa6c50>"
      ]
     },
     "execution_count": 25,
     "metadata": {},
     "output_type": "execute_result"
    },
    {
     "data": {
      "image/png": "[encoded data removed]",
      "text/plain": [
       "<matplotlib.figure.Figure at 0x7ff15781b358>"
      ]
     },
     "metadata": {},
     "output_type": "display_data"
    }
   ],
   "source": [
    "plt.scatter(x,y)"
   ]
  },
  {
   "cell_type": "markdown",
   "metadata": {
    "slideshow": {
     "slide_type": "slide"
    }
   },
   "source": [
    "# 구글 스프레드 시트와 CSV\n",
    "\n",
    "### 구글 스프레드 시트 공유 URL\n",
    "\n",
    "```\n",
    "https://docs.google.com/spreadsheets/d/1GWIfmPrWJZA4v7otl165Y0GD4OJTxg6QF6n6rejcwW4/view?usp=sharing\n",
    "```\n",
    "\n",
    "### 스프레드 시트의 CSV URL\n",
    "\n",
    "```python\n",
    "docs_key = \"1GWIfmPrWJZA4v7otl165Y0GD4OJTxg6QF6n6rejcwW4\"\n",
    "url = \"https://docs.google.com/feeds/download/spreadsheets/Export?key=%s&exportFormat=csv\" % docs_key\n",
    "```"
   ]
  },
  {
   "cell_type": "code",
   "execution_count": 26,
   "metadata": {
    "collapsed": false,
    "slideshow": {
     "slide_type": "slide"
    }
   },
   "outputs": [
    {
     "data": {
      "text/html": [
       "<div>\n",
       "<table border=\"1\" class=\"dataframe\">\n",
       "  <thead>\n",
       "    <tr style=\"text-align: right;\">\n",
       "      <th></th>\n",
       "      <th>코스피</th>\n",
       "      <th>삼성전자</th>\n",
       "      <th>LG화학</th>\n",
       "      <th>KB금융그룹</th>\n",
       "    </tr>\n",
       "    <tr>\n",
       "      <th>날짜</th>\n",
       "      <th></th>\n",
       "      <th></th>\n",
       "      <th></th>\n",
       "      <th></th>\n",
       "    </tr>\n",
       "  </thead>\n",
       "  <tbody>\n",
       "    <tr>\n",
       "      <th>2015-12-30</th>\n",
       "      <td>1961.31</td>\n",
       "      <td>1260000.00</td>\n",
       "      <td>328500.00</td>\n",
       "      <td>33150.00</td>\n",
       "    </tr>\n",
       "    <tr>\n",
       "      <th>2015-12-29</th>\n",
       "      <td>1966.31</td>\n",
       "      <td>1254000.00</td>\n",
       "      <td>332000.00</td>\n",
       "      <td>33350.00</td>\n",
       "    </tr>\n",
       "    <tr>\n",
       "      <th>2015-12-28</th>\n",
       "      <td>1964.06</td>\n",
       "      <td>1245999.99</td>\n",
       "      <td>329000.00</td>\n",
       "      <td>32920.00</td>\n",
       "    </tr>\n",
       "    <tr>\n",
       "      <th>2015-12-24</th>\n",
       "      <td>1990.65</td>\n",
       "      <td>1264699.83</td>\n",
       "      <td>333439.28</td>\n",
       "      <td>33065.66</td>\n",
       "    </tr>\n",
       "    <tr>\n",
       "      <th>2015-12-23</th>\n",
       "      <td>1999.22</td>\n",
       "      <td>1274541.86</td>\n",
       "      <td>334919.05</td>\n",
       "      <td>33211.33</td>\n",
       "    </tr>\n",
       "  </tbody>\n",
       "</table>\n",
       "</div>"
      ],
      "text/plain": [
       "                코스피        삼성전자       LG화학    KB금융그룹\n",
       "날짜                                                  \n",
       "2015-12-30  1961.31  1260000.00  328500.00  33150.00\n",
       "2015-12-29  1966.31  1254000.00  332000.00  33350.00\n",
       "2015-12-28  1964.06  1245999.99  329000.00  32920.00\n",
       "2015-12-24  1990.65  1264699.83  333439.28  33065.66\n",
       "2015-12-23  1999.22  1274541.86  334919.05  33211.33"
      ]
     },
     "execution_count": 26,
     "metadata": {},
     "output_type": "execute_result"
    }
   ],
   "source": [
    "docs_key = \"1GWIfmPrWJZA4v7otl165Y0GD4OJTxg6QF6n6rejcwW4\"\n",
    "url = \"https://docs.google.com/feeds/download/spreadsheets/Export?key=%s&exportFormat=csv\" % docs_key\n",
    "\n",
    "df_docs = pd.read_csv(url, index_col='날짜', parse_dates=True)\n",
    "df_docs.head()"
   ]
  },
  {
   "cell_type": "code",
   "execution_count": 27,
   "metadata": {
    "collapsed": false,
    "slideshow": {
     "slide_type": "fragment"
    }
   },
   "outputs": [
    {
     "data": {
      "text/plain": [
       "248"
      ]
     },
     "execution_count": 27,
     "metadata": {},
     "output_type": "execute_result"
    }
   ],
   "source": [
    "len(df_docs)"
   ]
  },
  {
   "cell_type": "code",
   "execution_count": 28,
   "metadata": {
    "collapsed": false,
    "slideshow": {
     "slide_type": "slide"
    }
   },
   "outputs": [
    {
     "data": {
      "text/plain": [
       "['051910.KS', '005930.KS', '^KS11', '105560.KS']"
      ]
     },
     "metadata": {},
     "output_type": "display_data"
    },
    {
     "data": {
      "text/html": [
       "<div>\n",
       "<table border=\"1\" class=\"dataframe\">\n",
       "  <thead>\n",
       "    <tr style=\"text-align: right;\">\n",
       "      <th></th>\n",
       "      <th>005930.KS</th>\n",
       "      <th>051910.KS</th>\n",
       "      <th>105560.KS</th>\n",
       "      <th>^KS11</th>\n",
       "    </tr>\n",
       "    <tr>\n",
       "      <th>Date</th>\n",
       "      <th></th>\n",
       "      <th></th>\n",
       "      <th></th>\n",
       "      <th></th>\n",
       "    </tr>\n",
       "  </thead>\n",
       "  <tbody>\n",
       "    <tr>\n",
       "      <th>2015-01-01</th>\n",
       "      <td>1305014.42</td>\n",
       "      <td>178557.72</td>\n",
       "      <td>35104.96</td>\n",
       "      <td>NaN</td>\n",
       "    </tr>\n",
       "    <tr>\n",
       "      <th>2015-01-02</th>\n",
       "      <td>1307964.71</td>\n",
       "      <td>177571.22</td>\n",
       "      <td>34959.29</td>\n",
       "      <td>1926.439941</td>\n",
       "    </tr>\n",
       "    <tr>\n",
       "      <th>2015-01-05</th>\n",
       "      <td>1310915.01</td>\n",
       "      <td>172145.43</td>\n",
       "      <td>34376.64</td>\n",
       "      <td>1915.750000</td>\n",
       "    </tr>\n",
       "    <tr>\n",
       "      <th>2015-01-06</th>\n",
       "      <td>1273544.59</td>\n",
       "      <td>163760.12</td>\n",
       "      <td>34279.53</td>\n",
       "      <td>1882.449951</td>\n",
       "    </tr>\n",
       "    <tr>\n",
       "      <th>2015-01-07</th>\n",
       "      <td>1285345.77</td>\n",
       "      <td>162280.36</td>\n",
       "      <td>33988.20</td>\n",
       "      <td>1883.829956</td>\n",
       "    </tr>\n",
       "  </tbody>\n",
       "</table>\n",
       "</div>"
      ],
      "text/plain": [
       "             005930.KS  051910.KS  105560.KS        ^KS11\n",
       "Date                                                     \n",
       "2015-01-01  1305014.42  178557.72   35104.96          NaN\n",
       "2015-01-02  1307964.71  177571.22   34959.29  1926.439941\n",
       "2015-01-05  1310915.01  172145.43   34376.64  1915.750000\n",
       "2015-01-06  1273544.59  163760.12   34279.53  1882.449951\n",
       "2015-01-07  1285345.77  162280.36   33988.20  1883.829956"
      ]
     },
     "metadata": {},
     "output_type": "display_data"
    }
   ],
   "source": [
    "start=datetime(2015, 1, 1)\n",
    "end=datetime(2015, 12, 31)\n",
    "\n",
    "code_names = {\n",
    "    '^KS11':'코스피',\n",
    "    '005930.KS':'삼성전자', \n",
    "    '051910.KS':'LG화학', \n",
    "    '105560.KS':'KB금융', \n",
    "}\n",
    "display( list(code_names.keys()) )\n",
    "\n",
    "p = data.get_data_yahoo(list(code_names.keys()), start=start, end=end)\n",
    "display( p['Adj Close'].head() )"
   ]
  },
  {
   "cell_type": "markdown",
   "metadata": {
    "slideshow": {
     "slide_type": "slide"
    }
   },
   "source": [
    "# 필터링\n",
    "불린 마스크(boolean mask)를 사용한 필터링(filtering) "
   ]
  },
  {
   "cell_type": "code",
   "execution_count": 29,
   "metadata": {
    "collapsed": false,
    "slideshow": {
     "slide_type": "fragment"
    }
   },
   "outputs": [
    {
     "data": {
      "text/plain": [
       "Date\n",
       "2015-01-01    False\n",
       "2015-01-02     True\n",
       "2015-01-05     True\n",
       "2015-01-06     True\n",
       "2015-01-07     True\n",
       "Freq: B, Name: ^KS11, dtype: bool"
      ]
     },
     "metadata": {},
     "output_type": "display_data"
    },
    {
     "data": {
      "text/html": [
       "<div>\n",
       "<table border=\"1\" class=\"dataframe\">\n",
       "  <thead>\n",
       "    <tr style=\"text-align: right;\">\n",
       "      <th></th>\n",
       "      <th>005930.KS</th>\n",
       "      <th>051910.KS</th>\n",
       "      <th>105560.KS</th>\n",
       "      <th>^KS11</th>\n",
       "    </tr>\n",
       "    <tr>\n",
       "      <th>Date</th>\n",
       "      <th></th>\n",
       "      <th></th>\n",
       "      <th></th>\n",
       "      <th></th>\n",
       "    </tr>\n",
       "  </thead>\n",
       "  <tbody>\n",
       "    <tr>\n",
       "      <th>2015-01-02</th>\n",
       "      <td>1307964.71</td>\n",
       "      <td>177571.22</td>\n",
       "      <td>34959.29</td>\n",
       "      <td>1926.439941</td>\n",
       "    </tr>\n",
       "    <tr>\n",
       "      <th>2015-01-05</th>\n",
       "      <td>1310915.01</td>\n",
       "      <td>172145.43</td>\n",
       "      <td>34376.64</td>\n",
       "      <td>1915.750000</td>\n",
       "    </tr>\n",
       "    <tr>\n",
       "      <th>2015-01-06</th>\n",
       "      <td>1273544.59</td>\n",
       "      <td>163760.12</td>\n",
       "      <td>34279.53</td>\n",
       "      <td>1882.449951</td>\n",
       "    </tr>\n",
       "    <tr>\n",
       "      <th>2015-01-07</th>\n",
       "      <td>1285345.77</td>\n",
       "      <td>162280.36</td>\n",
       "      <td>33988.20</td>\n",
       "      <td>1883.829956</td>\n",
       "    </tr>\n",
       "    <tr>\n",
       "      <th>2015-01-08</th>\n",
       "      <td>1292229.80</td>\n",
       "      <td>165733.14</td>\n",
       "      <td>35541.95</td>\n",
       "      <td>1904.650024</td>\n",
       "    </tr>\n",
       "  </tbody>\n",
       "</table>\n",
       "</div>"
      ],
      "text/plain": [
       "             005930.KS  051910.KS  105560.KS        ^KS11\n",
       "Date                                                     \n",
       "2015-01-02  1307964.71  177571.22   34959.29  1926.439941\n",
       "2015-01-05  1310915.01  172145.43   34376.64  1915.750000\n",
       "2015-01-06  1273544.59  163760.12   34279.53  1882.449951\n",
       "2015-01-07  1285345.77  162280.36   33988.20  1883.829956\n",
       "2015-01-08  1292229.80  165733.14   35541.95  1904.650024"
      ]
     },
     "metadata": {},
     "output_type": "display_data"
    }
   ],
   "source": [
    "# boolean mask\n",
    "mask = p['Volume']['^KS11'] > 0\n",
    "display(mask.head())\n",
    "\n",
    "# ix에서 boolan mask의 True인 row 추출\n",
    "df = p['Adj Close'].ix[mask]\n",
    "display( df.head() )"
   ]
  },
  {
   "cell_type": "code",
   "execution_count": 30,
   "metadata": {
    "collapsed": false,
    "slideshow": {
     "slide_type": "slide"
    }
   },
   "outputs": [
    {
     "data": {
      "text/html": [
       "<div>\n",
       "<table border=\"1\" class=\"dataframe\">\n",
       "  <thead>\n",
       "    <tr style=\"text-align: right;\">\n",
       "      <th></th>\n",
       "      <th>삼성전자</th>\n",
       "      <th>LG화학</th>\n",
       "      <th>KB금융</th>\n",
       "      <th>코스피</th>\n",
       "    </tr>\n",
       "    <tr>\n",
       "      <th>Date</th>\n",
       "      <th></th>\n",
       "      <th></th>\n",
       "      <th></th>\n",
       "      <th></th>\n",
       "    </tr>\n",
       "  </thead>\n",
       "  <tbody>\n",
       "    <tr>\n",
       "      <th>2015-01-02</th>\n",
       "      <td>1307964.71</td>\n",
       "      <td>177571.22</td>\n",
       "      <td>34959.29</td>\n",
       "      <td>1926.439941</td>\n",
       "    </tr>\n",
       "    <tr>\n",
       "      <th>2015-01-05</th>\n",
       "      <td>1310915.01</td>\n",
       "      <td>172145.43</td>\n",
       "      <td>34376.64</td>\n",
       "      <td>1915.750000</td>\n",
       "    </tr>\n",
       "    <tr>\n",
       "      <th>2015-01-06</th>\n",
       "      <td>1273544.59</td>\n",
       "      <td>163760.12</td>\n",
       "      <td>34279.53</td>\n",
       "      <td>1882.449951</td>\n",
       "    </tr>\n",
       "    <tr>\n",
       "      <th>2015-01-07</th>\n",
       "      <td>1285345.77</td>\n",
       "      <td>162280.36</td>\n",
       "      <td>33988.20</td>\n",
       "      <td>1883.829956</td>\n",
       "    </tr>\n",
       "    <tr>\n",
       "      <th>2015-01-08</th>\n",
       "      <td>1292229.80</td>\n",
       "      <td>165733.14</td>\n",
       "      <td>35541.95</td>\n",
       "      <td>1904.650024</td>\n",
       "    </tr>\n",
       "  </tbody>\n",
       "</table>\n",
       "</div>"
      ],
      "text/plain": [
       "                  삼성전자       LG화학      KB금융          코스피\n",
       "Date                                                    \n",
       "2015-01-02  1307964.71  177571.22  34959.29  1926.439941\n",
       "2015-01-05  1310915.01  172145.43  34376.64  1915.750000\n",
       "2015-01-06  1273544.59  163760.12  34279.53  1882.449951\n",
       "2015-01-07  1285345.77  162280.36  33988.20  1883.829956\n",
       "2015-01-08  1292229.80  165733.14  35541.95  1904.650024"
      ]
     },
     "execution_count": 30,
     "metadata": {},
     "output_type": "execute_result"
    }
   ],
   "source": [
    "# 컬럼 이름 바꾸기\n",
    "df = df.rename(columns=code_names)\n",
    "df.head()"
   ]
  },
  {
   "cell_type": "code",
   "execution_count": 31,
   "metadata": {
    "collapsed": false,
    "slideshow": {
     "slide_type": "slide"
    }
   },
   "outputs": [
    {
     "data": {
      "text/html": [
       "\n",
       "        <style  type=\"text/css\" >\n",
       "        \n",
       "        \n",
       "            #T_b82ed094_0986_11e6_8e4e_0242ac113fearow0_col0 {\n",
       "            \n",
       "                width:  10em;\n",
       "            \n",
       "                 height:  80%;\n",
       "            \n",
       "                background:  linear-gradient(90deg,#d65f5f 100.0%, transparent 0%);\n",
       "            \n",
       "            }\n",
       "        \n",
       "            #T_b82ed094_0986_11e6_8e4e_0242ac113fearow0_col1 {\n",
       "            \n",
       "                width:  10em;\n",
       "            \n",
       "                 height:  80%;\n",
       "            \n",
       "                background:  linear-gradient(90deg,#d65f5f 0.0%, transparent 0%);\n",
       "            \n",
       "            }\n",
       "        \n",
       "            #T_b82ed094_0986_11e6_8e4e_0242ac113fearow0_col2 {\n",
       "            \n",
       "                width:  10em;\n",
       "            \n",
       "                 height:  80%;\n",
       "            \n",
       "                background:  linear-gradient(90deg,#d65f5f 0.0%, transparent 0%);\n",
       "            \n",
       "            }\n",
       "        \n",
       "            #T_b82ed094_0986_11e6_8e4e_0242ac113fearow0_col3 {\n",
       "            \n",
       "                width:  10em;\n",
       "            \n",
       "                 height:  80%;\n",
       "            \n",
       "                background:  linear-gradient(90deg,#d65f5f 16.256400449681013%, transparent 0%);\n",
       "            \n",
       "            }\n",
       "        \n",
       "            #T_b82ed094_0986_11e6_8e4e_0242ac113fearow1_col0 {\n",
       "            \n",
       "                width:  10em;\n",
       "            \n",
       "                 height:  80%;\n",
       "            \n",
       "                background:  linear-gradient(90deg,#d65f5f 0.0%, transparent 0%);\n",
       "            \n",
       "            }\n",
       "        \n",
       "            #T_b82ed094_0986_11e6_8e4e_0242ac113fearow1_col1 {\n",
       "            \n",
       "                width:  10em;\n",
       "            \n",
       "                 height:  80%;\n",
       "            \n",
       "                background:  linear-gradient(90deg,#d65f5f 100.0%, transparent 0%);\n",
       "            \n",
       "            }\n",
       "        \n",
       "            #T_b82ed094_0986_11e6_8e4e_0242ac113fearow1_col2 {\n",
       "            \n",
       "                width:  10em;\n",
       "            \n",
       "                 height:  80%;\n",
       "            \n",
       "                background:  linear-gradient(90deg,#d65f5f 3.957882162299274%, transparent 0%);\n",
       "            \n",
       "            }\n",
       "        \n",
       "            #T_b82ed094_0986_11e6_8e4e_0242ac113fearow1_col3 {\n",
       "            \n",
       "                width:  10em;\n",
       "            \n",
       "                 height:  80%;\n",
       "            \n",
       "                background:  linear-gradient(90deg,#d65f5f 20.46702491674154%, transparent 0%);\n",
       "            \n",
       "            }\n",
       "        \n",
       "            #T_b82ed094_0986_11e6_8e4e_0242ac113fearow2_col0 {\n",
       "            \n",
       "                width:  10em;\n",
       "            \n",
       "                 height:  80%;\n",
       "            \n",
       "                background:  linear-gradient(90deg,#d65f5f 5.481546509467183%, transparent 0%);\n",
       "            \n",
       "            }\n",
       "        \n",
       "            #T_b82ed094_0986_11e6_8e4e_0242ac113fearow2_col1 {\n",
       "            \n",
       "                width:  10em;\n",
       "            \n",
       "                 height:  80%;\n",
       "            \n",
       "                background:  linear-gradient(90deg,#d65f5f 9.222475520250118%, transparent 0%);\n",
       "            \n",
       "            }\n",
       "        \n",
       "            #T_b82ed094_0986_11e6_8e4e_0242ac113fearow2_col2 {\n",
       "            \n",
       "                width:  10em;\n",
       "            \n",
       "                 height:  80%;\n",
       "            \n",
       "                background:  linear-gradient(90deg,#d65f5f 100.0%, transparent 0%);\n",
       "            \n",
       "            }\n",
       "        \n",
       "            #T_b82ed094_0986_11e6_8e4e_0242ac113fearow2_col3 {\n",
       "            \n",
       "                width:  10em;\n",
       "            \n",
       "                 height:  80%;\n",
       "            \n",
       "                background:  linear-gradient(90deg,#d65f5f 0.0%, transparent 0%);\n",
       "            \n",
       "            }\n",
       "        \n",
       "            #T_b82ed094_0986_11e6_8e4e_0242ac113fearow3_col0 {\n",
       "            \n",
       "                width:  10em;\n",
       "            \n",
       "                 height:  80%;\n",
       "            \n",
       "                background:  linear-gradient(90deg,#d65f5f 40.190654715404705%, transparent 0%);\n",
       "            \n",
       "            }\n",
       "        \n",
       "            #T_b82ed094_0986_11e6_8e4e_0242ac113fearow3_col1 {\n",
       "            \n",
       "                width:  10em;\n",
       "            \n",
       "                 height:  80%;\n",
       "            \n",
       "                background:  linear-gradient(90deg,#d65f5f 43.19786594069804%, transparent 0%);\n",
       "            \n",
       "            }\n",
       "        \n",
       "            #T_b82ed094_0986_11e6_8e4e_0242ac113fearow3_col2 {\n",
       "            \n",
       "                width:  10em;\n",
       "            \n",
       "                 height:  80%;\n",
       "            \n",
       "                background:  linear-gradient(90deg,#d65f5f 24.438457141328225%, transparent 0%);\n",
       "            \n",
       "            }\n",
       "        \n",
       "            #T_b82ed094_0986_11e6_8e4e_0242ac113fearow3_col3 {\n",
       "            \n",
       "                width:  10em;\n",
       "            \n",
       "                 height:  80%;\n",
       "            \n",
       "                background:  linear-gradient(90deg,#d65f5f 100.00000000000001%, transparent 0%);\n",
       "            \n",
       "            }\n",
       "        \n",
       "        </style>\n",
       "\n",
       "        <table id=\"T_b82ed094_0986_11e6_8e4e_0242ac113fea\" None>\n",
       "        \n",
       "\n",
       "        <thead>\n",
       "            \n",
       "            <tr>\n",
       "                \n",
       "                <th class=\"blank\">\n",
       "                \n",
       "                <th class=\"col_heading level0 col0\">삼성전자\n",
       "                \n",
       "                <th class=\"col_heading level0 col1\">LG화학\n",
       "                \n",
       "                <th class=\"col_heading level0 col2\">KB금융\n",
       "                \n",
       "                <th class=\"col_heading level0 col3\">코스피\n",
       "                \n",
       "            </tr>\n",
       "            \n",
       "        </thead>\n",
       "        <tbody>\n",
       "            \n",
       "            <tr>\n",
       "                \n",
       "                <th id=\"T_b82ed094_0986_11e6_8e4e_0242ac113fea\" class=\"row_heading level3 row0\">\n",
       "                    \n",
       "                        삼성전자\n",
       "                    \n",
       "                \n",
       "                <td id=\"T_b82ed094_0986_11e6_8e4e_0242ac113fearow0_col0\" class=\"data row0 col0\">\n",
       "                    \n",
       "                        1.0\n",
       "                    \n",
       "                \n",
       "                <td id=\"T_b82ed094_0986_11e6_8e4e_0242ac113fearow0_col1\" class=\"data row0 col1\">\n",
       "                    \n",
       "                        0.081974\n",
       "                    \n",
       "                \n",
       "                <td id=\"T_b82ed094_0986_11e6_8e4e_0242ac113fearow0_col2\" class=\"data row0 col2\">\n",
       "                    \n",
       "                        0.132296\n",
       "                    \n",
       "                \n",
       "                <td id=\"T_b82ed094_0986_11e6_8e4e_0242ac113fearow0_col3\" class=\"data row0 col3\">\n",
       "                    \n",
       "                        0.450935\n",
       "                    \n",
       "                \n",
       "            </tr>\n",
       "            \n",
       "            <tr>\n",
       "                \n",
       "                <th id=\"T_b82ed094_0986_11e6_8e4e_0242ac113fea\" class=\"row_heading level3 row1\">\n",
       "                    \n",
       "                        LG화학\n",
       "                    \n",
       "                \n",
       "                <td id=\"T_b82ed094_0986_11e6_8e4e_0242ac113fearow1_col0\" class=\"data row1 col0\">\n",
       "                    \n",
       "                        0.081974\n",
       "                    \n",
       "                \n",
       "                <td id=\"T_b82ed094_0986_11e6_8e4e_0242ac113fearow1_col1\" class=\"data row1 col1\">\n",
       "                    \n",
       "                        1.0\n",
       "                    \n",
       "                \n",
       "                <td id=\"T_b82ed094_0986_11e6_8e4e_0242ac113fearow1_col2\" class=\"data row1 col2\">\n",
       "                    \n",
       "                        0.166639\n",
       "                    \n",
       "                \n",
       "                <td id=\"T_b82ed094_0986_11e6_8e4e_0242ac113fearow1_col3\" class=\"data row1 col3\">\n",
       "                    \n",
       "                        0.478542\n",
       "                    \n",
       "                \n",
       "            </tr>\n",
       "            \n",
       "            <tr>\n",
       "                \n",
       "                <th id=\"T_b82ed094_0986_11e6_8e4e_0242ac113fea\" class=\"row_heading level3 row2\">\n",
       "                    \n",
       "                        KB금융\n",
       "                    \n",
       "                \n",
       "                <td id=\"T_b82ed094_0986_11e6_8e4e_0242ac113fearow2_col0\" class=\"data row2 col0\">\n",
       "                    \n",
       "                        0.132296\n",
       "                    \n",
       "                \n",
       "                <td id=\"T_b82ed094_0986_11e6_8e4e_0242ac113fearow2_col1\" class=\"data row2 col1\">\n",
       "                    \n",
       "                        0.166639\n",
       "                    \n",
       "                \n",
       "                <td id=\"T_b82ed094_0986_11e6_8e4e_0242ac113fearow2_col2\" class=\"data row2 col2\">\n",
       "                    \n",
       "                        1.0\n",
       "                    \n",
       "                \n",
       "                <td id=\"T_b82ed094_0986_11e6_8e4e_0242ac113fearow2_col3\" class=\"data row2 col3\">\n",
       "                    \n",
       "                        0.34435\n",
       "                    \n",
       "                \n",
       "            </tr>\n",
       "            \n",
       "            <tr>\n",
       "                \n",
       "                <th id=\"T_b82ed094_0986_11e6_8e4e_0242ac113fea\" class=\"row_heading level3 row3\">\n",
       "                    \n",
       "                        코스피\n",
       "                    \n",
       "                \n",
       "                <td id=\"T_b82ed094_0986_11e6_8e4e_0242ac113fearow3_col0\" class=\"data row3 col0\">\n",
       "                    \n",
       "                        0.450935\n",
       "                    \n",
       "                \n",
       "                <td id=\"T_b82ed094_0986_11e6_8e4e_0242ac113fearow3_col1\" class=\"data row3 col1\">\n",
       "                    \n",
       "                        0.478542\n",
       "                    \n",
       "                \n",
       "                <td id=\"T_b82ed094_0986_11e6_8e4e_0242ac113fearow3_col2\" class=\"data row3 col2\">\n",
       "                    \n",
       "                        0.34435\n",
       "                    \n",
       "                \n",
       "                <td id=\"T_b82ed094_0986_11e6_8e4e_0242ac113fearow3_col3\" class=\"data row3 col3\">\n",
       "                    \n",
       "                        1.0\n",
       "                    \n",
       "                \n",
       "            </tr>\n",
       "            \n",
       "        </tbody>\n",
       "        </table>\n",
       "        "
      ],
      "text/plain": [
       "<pandas.core.style.Styler at 0x7ff157830860>"
      ]
     },
     "execution_count": 31,
     "metadata": {},
     "output_type": "execute_result"
    }
   ],
   "source": [
    "# 상관계수\n",
    "chg = df.pct_change()\n",
    "chg_corr = chg.corr()\n",
    "chg_corr.style.bar(color='#d65f5f')"
   ]
  },
  {
   "cell_type": "code",
   "execution_count": 32,
   "metadata": {
    "collapsed": true,
    "slideshow": {
     "slide_type": "slide"
    }
   },
   "outputs": [],
   "source": [
    "def basic_linear_regression(x, y):\n",
    "    dff_x = x - x.mean()\n",
    "    dff_y = y - y.mean()\n",
    "\n",
    "    b = np.sum(dff_x * dff_y) / np.sum(dff_x ** 2)\n",
    "    a = y.mean() - b * x.mean()\n",
    "\n",
    "    return b, a"
   ]
  },
  {
   "cell_type": "code",
   "execution_count": 33,
   "metadata": {
    "collapsed": false,
    "slideshow": {
     "slide_type": "slide"
    }
   },
   "outputs": [
    {
     "data": {
      "text/plain": [
       "(617.2134304875525, 36771.070862195455)"
      ]
     },
     "execution_count": 33,
     "metadata": {},
     "output_type": "execute_result"
    }
   ],
   "source": [
    "basic_linear_regression(df['코스피'], df['삼성전자'])"
   ]
  },
  {
   "cell_type": "code",
   "execution_count": 34,
   "metadata": {
    "collapsed": false,
    "slideshow": {
     "slide_type": "skip"
    }
   },
   "outputs": [
    {
     "data": {
      "text/plain": [
       "248"
      ]
     },
     "execution_count": 34,
     "metadata": {},
     "output_type": "execute_result"
    }
   ],
   "source": [
    "len(df)"
   ]
  },
  {
   "cell_type": "markdown",
   "metadata": {
    "slideshow": {
     "slide_type": "slide"
    }
   },
   "source": [
    "# 베타계수 (beta coefficient)\n",
    "\n",
    "* 베타: 증권시장 전체의 변동에 대한 개별자산의 수익률의 민감도(sensitivity)\n",
    "* 예) 시장 수익률이 1% 증가하거나 감소할 때 주식 A의 수익률은 2% 증가하거나 감소한다면 주식 A의 베타계수는 2\n",
    "* 예) 주식의 베타가 1이면, 이 주식의 수익률 변동은 시장과 동일, 1보다 크면 시장수익 변동폭보다 크다"
   ]
  },
  {
   "cell_type": "markdown",
   "metadata": {
    "slideshow": {
     "slide_type": "slide"
    }
   },
   "source": [
    "# 엑셀 문서\n",
    "\n",
    "https://drive.google.com/file/d/0B2Op0f7i-jUEWjlJY1hKYURqYTA/view?usp=sharing"
   ]
  },
  {
   "cell_type": "code",
   "execution_count": 35,
   "metadata": {
    "collapsed": false,
    "slideshow": {
     "slide_type": "fragment"
    }
   },
   "outputs": [
    {
     "data": {
      "text/html": [
       "<img src=\"https://goo.gl/AtkBpe\"/>"
      ],
      "text/plain": [
       "<IPython.core.display.Image object>"
      ]
     },
     "execution_count": 35,
     "metadata": {},
     "output_type": "execute_result"
    }
   ],
   "source": [
    "Image(url=\"https://goo.gl/AtkBpe\")"
   ]
  },
  {
   "cell_type": "code",
   "execution_count": 36,
   "metadata": {
    "collapsed": false,
    "slideshow": {
     "slide_type": "slide"
    }
   },
   "outputs": [
    {
     "data": {
      "text/html": [
       "<div>\n",
       "<table border=\"1\" class=\"dataframe\">\n",
       "  <thead>\n",
       "    <tr style=\"text-align: right;\">\n",
       "      <th></th>\n",
       "      <th>삼성전자</th>\n",
       "      <th>LG화학</th>\n",
       "      <th>KB금융</th>\n",
       "      <th>코스피</th>\n",
       "    </tr>\n",
       "    <tr>\n",
       "      <th>Date</th>\n",
       "      <th></th>\n",
       "      <th></th>\n",
       "      <th></th>\n",
       "      <th></th>\n",
       "    </tr>\n",
       "  </thead>\n",
       "  <tbody>\n",
       "    <tr>\n",
       "      <th>2015-01-02</th>\n",
       "      <td>1307964.71</td>\n",
       "      <td>177571.22</td>\n",
       "      <td>34959.29</td>\n",
       "      <td>1926.439941</td>\n",
       "    </tr>\n",
       "    <tr>\n",
       "      <th>2015-01-05</th>\n",
       "      <td>1310915.01</td>\n",
       "      <td>172145.43</td>\n",
       "      <td>34376.64</td>\n",
       "      <td>1915.750000</td>\n",
       "    </tr>\n",
       "    <tr>\n",
       "      <th>2015-01-06</th>\n",
       "      <td>1273544.59</td>\n",
       "      <td>163760.12</td>\n",
       "      <td>34279.53</td>\n",
       "      <td>1882.449951</td>\n",
       "    </tr>\n",
       "    <tr>\n",
       "      <th>2015-01-07</th>\n",
       "      <td>1285345.77</td>\n",
       "      <td>162280.36</td>\n",
       "      <td>33988.20</td>\n",
       "      <td>1883.829956</td>\n",
       "    </tr>\n",
       "    <tr>\n",
       "      <th>2015-01-08</th>\n",
       "      <td>1292229.80</td>\n",
       "      <td>165733.14</td>\n",
       "      <td>35541.95</td>\n",
       "      <td>1904.650024</td>\n",
       "    </tr>\n",
       "  </tbody>\n",
       "</table>\n",
       "</div>"
      ],
      "text/plain": [
       "                  삼성전자       LG화학      KB금융          코스피\n",
       "Date                                                    \n",
       "2015-01-02  1307964.71  177571.22  34959.29  1926.439941\n",
       "2015-01-05  1310915.01  172145.43  34376.64  1915.750000\n",
       "2015-01-06  1273544.59  163760.12  34279.53  1882.449951\n",
       "2015-01-07  1285345.77  162280.36  33988.20  1883.829956\n",
       "2015-01-08  1292229.80  165733.14  35541.95  1904.650024"
      ]
     },
     "execution_count": 36,
     "metadata": {},
     "output_type": "execute_result"
    }
   ],
   "source": [
    "df.head()"
   ]
  },
  {
   "cell_type": "code",
   "execution_count": 37,
   "metadata": {
    "collapsed": false,
    "slideshow": {
     "slide_type": "fragment"
    }
   },
   "outputs": [
    {
     "data": {
      "text/html": [
       "<div>\n",
       "<table border=\"1\" class=\"dataframe\">\n",
       "  <thead>\n",
       "    <tr style=\"text-align: right;\">\n",
       "      <th></th>\n",
       "      <th>삼성전자</th>\n",
       "      <th>LG화학</th>\n",
       "      <th>KB금융</th>\n",
       "      <th>코스피</th>\n",
       "    </tr>\n",
       "    <tr>\n",
       "      <th>Date</th>\n",
       "      <th></th>\n",
       "      <th></th>\n",
       "      <th></th>\n",
       "      <th></th>\n",
       "    </tr>\n",
       "  </thead>\n",
       "  <tbody>\n",
       "    <tr>\n",
       "      <th>2015-01-02</th>\n",
       "      <td>NaN</td>\n",
       "      <td>NaN</td>\n",
       "      <td>NaN</td>\n",
       "      <td>NaN</td>\n",
       "    </tr>\n",
       "    <tr>\n",
       "      <th>2015-01-05</th>\n",
       "      <td>0.002256</td>\n",
       "      <td>-0.030556</td>\n",
       "      <td>-0.016667</td>\n",
       "      <td>-0.005549</td>\n",
       "    </tr>\n",
       "    <tr>\n",
       "      <th>2015-01-06</th>\n",
       "      <td>-0.028507</td>\n",
       "      <td>-0.048711</td>\n",
       "      <td>-0.002825</td>\n",
       "      <td>-0.017382</td>\n",
       "    </tr>\n",
       "    <tr>\n",
       "      <th>2015-01-07</th>\n",
       "      <td>0.009266</td>\n",
       "      <td>-0.009036</td>\n",
       "      <td>-0.008499</td>\n",
       "      <td>0.000733</td>\n",
       "    </tr>\n",
       "    <tr>\n",
       "      <th>2015-01-08</th>\n",
       "      <td>0.005356</td>\n",
       "      <td>0.021277</td>\n",
       "      <td>0.045714</td>\n",
       "      <td>0.011052</td>\n",
       "    </tr>\n",
       "  </tbody>\n",
       "</table>\n",
       "</div>"
      ],
      "text/plain": [
       "                삼성전자      LG화학      KB금융       코스피\n",
       "Date                                              \n",
       "2015-01-02       NaN       NaN       NaN       NaN\n",
       "2015-01-05  0.002256 -0.030556 -0.016667 -0.005549\n",
       "2015-01-06 -0.028507 -0.048711 -0.002825 -0.017382\n",
       "2015-01-07  0.009266 -0.009036 -0.008499  0.000733\n",
       "2015-01-08  0.005356  0.021277  0.045714  0.011052"
      ]
     },
     "execution_count": 37,
     "metadata": {},
     "output_type": "execute_result"
    }
   ],
   "source": [
    "rets = df.pct_change(1)\n",
    "rets.head()"
   ]
  },
  {
   "cell_type": "code",
   "execution_count": 38,
   "metadata": {
    "collapsed": false,
    "slideshow": {
     "slide_type": "slide"
    }
   },
   "outputs": [
    {
     "name": "stdout",
     "output_type": "stream",
     "text": [
      "beta = 0.949675, alpha =-0.000110\n"
     ]
    }
   ],
   "source": [
    "beta = rets['코스피'].cov(rets['삼성전자']) / rets['코스피'].var()\n",
    "alpha = rets['삼성전자'].mean() - beta * rets['코스피'].mean()\n",
    "\n",
    "print ('beta = %.6f, alpha =%.6f' % (beta, alpha))"
   ]
  },
  {
   "cell_type": "code",
   "execution_count": 39,
   "metadata": {
    "collapsed": false,
    "slideshow": {
     "slide_type": "slide"
    }
   },
   "outputs": [
    {
     "data": {
      "image/png": "[encoded data removed]",
      "text/plain": [
       "<matplotlib.figure.Figure at 0x7ff158653320>"
      ]
     },
     "metadata": {},
     "output_type": "display_data"
    }
   ],
   "source": [
    "trend_x = rets['코스피'] \n",
    "trend_y = rets['코스피'] * beta +  alpha\n",
    "\n",
    "plt.figure(figsize=(16,8))\n",
    "plt.scatter(rets['코스피'], rets['삼성전자'])\n",
    "plt.plot(trend_x,trend_y, 'r-')\n",
    "plt.grid()\n",
    "plt.show()"
   ]
  },
  {
   "cell_type": "code",
   "execution_count": 40,
   "metadata": {
    "collapsed": false,
    "slideshow": {
     "slide_type": "slide"
    }
   },
   "outputs": [
    {
     "name": "stdout",
     "output_type": "stream",
     "text": [
      "삼성전자 시장 베타 = 0.949675\n",
      "LG화학 시장 베타 = 1.621319\n",
      "KB금융 시장 베타 = 0.760768\n"
     ]
    }
   ],
   "source": [
    "def market_beta(market_returns, stock_returns):\n",
    "    beta = market_returns.cov(stock_returns) / market_returns.var()\n",
    "    return beta\n",
    "\n",
    "print ('삼성전자 시장 베타 = %.6f' % market_beta(rets['코스피'], rets['삼성전자']))\n",
    "print ('LG화학 시장 베타 = %.6f' % market_beta(rets['코스피'], rets['LG화학']))\n",
    "print ('KB금융 시장 베타 = %.6f' % market_beta(rets['코스피'], rets['KB금융']))"
   ]
  }
 ],
 "metadata": {
  "kernelspec": {
   "display_name": "Python 3",
   "language": "python",
   "name": "python3"
  },
  "language_info": {
   "codemirror_mode": {
    "name": "ipython",
    "version": 3
   },
   "file_extension": ".py",
   "mimetype": "text/x-python",
   "name": "python",
   "nbconvert_exporter": "python",
   "pygments_lexer": "ipython3",
   "version": "3.4.3"
  }
 },
 "nbformat": 4,
 "nbformat_minor": 0
}
