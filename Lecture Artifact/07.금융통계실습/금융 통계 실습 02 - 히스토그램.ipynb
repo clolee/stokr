{
 "cells": [
  {
   "cell_type": "code",
   "execution_count": 1,
   "metadata": {
    "collapsed": true,
    "slideshow": {
     "slide_type": "skip"
    }
   },
   "outputs": [],
   "source": [
    "%matplotlib inline"
   ]
  },
  {
   "cell_type": "markdown",
   "metadata": {
    "slideshow": {
     "slide_type": "slide"
    }
   },
   "source": [
    "# 히스토그램\n",
    "* 도수분포표(frequency distribution table): 전체자료를 몇 개의 계급으로 나누고 각 계급의 도수를 조사하여 만든 표\n",
    "* 히스토그램(histogram): 도수 분포표 정보 차트로 나타낸 것"
   ]
  },
  {
   "cell_type": "markdown",
   "metadata": {
    "slideshow": {
     "slide_type": "slide"
    }
   },
   "source": [
    "# 랜덤 생성\n",
    "0~9까지 임의의 정수 100개를 생성하여 data에 저장"
   ]
  },
  {
   "cell_type": "code",
   "execution_count": 2,
   "metadata": {
    "collapsed": false,
    "slideshow": {
     "slide_type": "fragment"
    }
   },
   "outputs": [
    {
     "data": {
      "text/plain": [
       "array([3, 2, 9, 0, 0, 8, 5, 5, 2, 4, 4, 0, 7, 9, 9, 0, 3, 8, 4, 7, 9, 5, 3,\n",
       "       1, 6, 7, 8, 1, 8, 8, 9, 0, 2, 1, 5, 2, 4, 3, 1, 6, 8, 7, 8, 1, 6, 2,\n",
       "       0, 5, 4, 2, 0, 7, 5, 0, 9, 8, 4, 6, 5, 6, 6, 9, 0, 5, 2, 8, 4, 2, 0,\n",
       "       3, 9, 2, 3, 4, 5, 3, 9, 6, 1, 6, 8, 1, 9, 8, 4, 6, 2, 3, 2, 7, 2, 0,\n",
       "       4, 0, 6, 7, 6, 5, 4, 9])"
      ]
     },
     "execution_count": 2,
     "metadata": {},
     "output_type": "execute_result"
    }
   ],
   "source": [
    "import numpy as np\n",
    "\n",
    "data = np.random.randint(0, 10, 100)\n",
    "data"
   ]
  },
  {
   "cell_type": "markdown",
   "metadata": {
    "slideshow": {
     "slide_type": "slide"
    }
   },
   "source": [
    "# 데이터의 개수 세기\n",
    "* 데이터의 개수를 세는 가장 간단한 방법은 딕셔너리를 사용하는 것\n",
    "* 딕셔너리의 get(x, n) 메소드는 키(key) x에 해당하는 값을 반환하며 키가 존재하지 않으면 n을 반환"
   ]
  },
  {
   "cell_type": "code",
   "execution_count": 3,
   "metadata": {
    "collapsed": false,
    "slideshow": {
     "slide_type": "fragment"
    }
   },
   "outputs": [
    {
     "name": "stdout",
     "output_type": "stream",
     "text": [
      "30\n",
      "0\n"
     ]
    }
   ],
   "source": [
    "d = { 'a': 30 }\n",
    "print (d.get('a', 0))\n",
    "print (d.get('b', 0))"
   ]
  },
  {
   "cell_type": "code",
   "execution_count": 4,
   "metadata": {
    "collapsed": false,
    "slideshow": {
     "slide_type": "fragment"
    }
   },
   "outputs": [
    {
     "data": {
      "text/plain": [
       "{0: 12, 1: 7, 2: 12, 3: 8, 4: 11, 5: 10, 6: 11, 7: 7, 8: 11, 9: 11}"
      ]
     },
     "execution_count": 4,
     "metadata": {},
     "output_type": "execute_result"
    }
   ],
   "source": [
    "h = {}\n",
    "for x in data:\n",
    "    h[x] = h.get(x, 0) + 1\n",
    "\n",
    "h"
   ]
  },
  {
   "cell_type": "markdown",
   "metadata": {
    "slideshow": {
     "slide_type": "slide"
    }
   },
   "source": [
    "# 빈도, 확률\n",
    "* 계산된 h 가 바로 히스토그램이다. \n",
    "* 0~9까지 각 값의 빈도(frequency)를 갖는다.\n",
    "* 각 빈도값을 전체 데이터 개수로 나누어 주면 각 값이 발생하는 확률을 구할 수 있다. \n",
    "* 확률값들은 모두 0~1사이의 값을 갖게된다. 이것을 정규화 normalization 라고 한다."
   ]
  },
  {
   "cell_type": "code",
   "execution_count": 5,
   "metadata": {
    "collapsed": false,
    "slideshow": {
     "slide_type": "slide"
    }
   },
   "outputs": [
    {
     "data": {
      "text/plain": [
       "{0: 0.12,\n",
       " 1: 0.07,\n",
       " 2: 0.12,\n",
       " 3: 0.08,\n",
       " 4: 0.11,\n",
       " 5: 0.1,\n",
       " 6: 0.11,\n",
       " 7: 0.07,\n",
       " 8: 0.11,\n",
       " 9: 0.11}"
      ]
     },
     "execution_count": 5,
     "metadata": {},
     "output_type": "execute_result"
    }
   ],
   "source": [
    "n = len(data) # 데이터의 개수\n",
    "p = {}\n",
    "for i, freq in h.items():\n",
    "    p[i] = freq / n\n",
    "\n",
    "p"
   ]
  },
  {
   "cell_type": "markdown",
   "metadata": {
    "slideshow": {
     "slide_type": "slide"
    }
   },
   "source": [
    "# 히스토그램 막대 그래프\n",
    "matplotlib.pyplot 의 bar()를 사용하여 간단하게 막대 그래프로 표현할 수 있다."
   ]
  },
  {
   "cell_type": "code",
   "execution_count": 6,
   "metadata": {
    "collapsed": false,
    "slideshow": {
     "slide_type": "fragment"
    }
   },
   "outputs": [
    {
     "data": {
      "text/plain": [
       "<Container object of 10 artists>"
      ]
     },
     "execution_count": 6,
     "metadata": {},
     "output_type": "execute_result"
    },
    {
     "data": {
      "image/png": "[encoded data removed]",
      "text/plain": [
       "<matplotlib.figure.Figure at 0x7f77cc043320>"
      ]
     },
     "metadata": {},
     "output_type": "display_data"
    }
   ],
   "source": [
    "import matplotlib.pyplot as plt\n",
    "plt.bar(p.keys(), p.values())"
   ]
  },
  {
   "cell_type": "markdown",
   "metadata": {
    "slideshow": {
     "slide_type": "slide"
    }
   },
   "source": [
    "## Numpy 히스토그램\n",
    "* histogram() 함수: 시리즈 데이터의 히스토그램을 계산해 주는 함수.\n",
    "* (hist, bins)을 반환, 히스토그램의 개수와 구간 배열 (각 구간을 cell 또는 bin 이라고 함)\n",
    "* 반환되는 bins의 길이는 hist 개수 + 1"
   ]
  },
  {
   "cell_type": "code",
   "execution_count": 7,
   "metadata": {
    "collapsed": false,
    "slideshow": {
     "slide_type": "slide"
    }
   },
   "outputs": [
    {
     "name": "stdout",
     "output_type": "stream",
     "text": [
      "[50 50]\n",
      "[ 0  5 10]\n"
     ]
    }
   ],
   "source": [
    "import numpy as np\n",
    "\n",
    "count, bins = np.histogram(data, bins = [0, 5, 10])\n",
    "\n",
    "print (count)\n",
    "print (bins)"
   ]
  },
  {
   "cell_type": "markdown",
   "metadata": {
    "slideshow": {
     "slide_type": "slide"
    }
   },
   "source": [
    "# matplotlib 히스토그램\n",
    "최소값과 최대값 사이를 일정한 구간으로 나누어 그림 bins를 지정"
   ]
  },
  {
   "cell_type": "code",
   "execution_count": 8,
   "metadata": {
    "collapsed": false,
    "slideshow": {
     "slide_type": "fragment"
    }
   },
   "outputs": [
    {
     "data": {
      "text/plain": [
       "(array([ 13.,   5.,   5.,   6.,   4.,   6.,   8.,   4.,   7.,   2.,   4.,\n",
       "          5.,   6.,   3.,   4.,   3.,   5.,   3.,   4.,   3.]),\n",
       " array([  0,   5,  10,  15,  20,  25,  30,  35,  40,  45,  50,  55,  60,\n",
       "         65,  70,  75,  80,  85,  90,  95, 100]),\n",
       " <a list of 20 Patch objects>)"
      ]
     },
     "execution_count": 8,
     "metadata": {},
     "output_type": "execute_result"
    },
    {
     "data": {
      "image/png": "[encoded data removed]",
      "text/plain": [
       "<matplotlib.figure.Figure at 0x7f77cc02e9b0>"
      ]
     },
     "metadata": {},
     "output_type": "display_data"
    }
   ],
   "source": [
    "data = np.random.randint(0, 101, 100)\n",
    "plt.hist(data, bins=range(0, 101, 5))"
   ]
  }
 ],
 "metadata": {
  "kernelspec": {
   "display_name": "Python 3",
   "language": "python",
   "name": "python3"
  },
  "language_info": {
   "codemirror_mode": {
    "name": "ipython",
    "version": 3
   },
   "file_extension": ".py",
   "mimetype": "text/x-python",
   "name": "python",
   "nbconvert_exporter": "python",
   "pygments_lexer": "ipython3",
   "version": "3.4.3"
  }
 },
 "nbformat": 4,
 "nbformat_minor": 0
}
